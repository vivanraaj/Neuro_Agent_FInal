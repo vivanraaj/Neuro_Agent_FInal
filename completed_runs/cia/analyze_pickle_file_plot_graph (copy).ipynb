{
 "cells": [
  {
   "cell_type": "markdown",
   "metadata": {},
   "source": [
    "## Neuroevolution Strategy"
   ]
  },
  {
   "cell_type": "code",
   "execution_count": 1,
   "metadata": {},
   "outputs": [],
   "source": [
    "import pickle\n",
    "import sys\n",
    "import pandas as pd\n",
    "import matplotlib.pyplot as plt\n",
    "import seaborn as sns"
   ]
  },
  {
   "cell_type": "markdown",
   "metadata": {},
   "source": [
    "# Game Chosen - Detective Game"
   ]
  },
  {
   "cell_type": "markdown",
   "metadata": {},
   "source": [
    "## Neuro Agent Strategy - We perform 5 runs of the game with settings of 50 population and 500 generations. Below are the results for each run "
   ]
  },
  {
   "cell_type": "markdown",
   "metadata": {},
   "source": [
    "## RUN 1"
   ]
  },
  {
   "cell_type": "code",
   "execution_count": 15,
   "metadata": {},
   "outputs": [],
   "source": [
    "with open('./finalruns/run_1/track_scores_ztuu_pop50gen500_190818.pkl', 'rb') as i:\n",
    "    x1 = pickle.load(i)"
   ]
  },
  {
   "cell_type": "code",
   "execution_count": 16,
   "metadata": {},
   "outputs": [],
   "source": [
    "df_1 = pd.DataFrame(x1, columns=['State','Population no.','Generation No.','Action','Reward to Game Agent','Game Reward','Accumulated Reward'])"
   ]
  },
  {
   "cell_type": "code",
   "execution_count": 17,
   "metadata": {
    "scrolled": false
   },
   "outputs": [
    {
     "data": {
      "text/html": [
       "<div>\n",
       "<style scoped>\n",
       "    .dataframe tbody tr th:only-of-type {\n",
       "        vertical-align: middle;\n",
       "    }\n",
       "\n",
       "    .dataframe tbody tr th {\n",
       "        vertical-align: top;\n",
       "    }\n",
       "\n",
       "    .dataframe thead th {\n",
       "        text-align: right;\n",
       "    }\n",
       "</style>\n",
       "<table border=\"1\" class=\"dataframe\">\n",
       "  <thead>\n",
       "    <tr style=\"text-align: right;\">\n",
       "      <th></th>\n",
       "      <th>State</th>\n",
       "      <th>Population no.</th>\n",
       "      <th>Generation No.</th>\n",
       "      <th>Action</th>\n",
       "      <th>Reward to Game Agent</th>\n",
       "      <th>Game Reward</th>\n",
       "      <th>Accumulated Reward</th>\n",
       "    </tr>\n",
       "  </thead>\n",
       "  <tbody>\n",
       "    <tr>\n",
       "      <th>0</th>\n",
       "      <td>Standard interpreter 1.0 New Excavation You ar...</td>\n",
       "      <td>0</td>\n",
       "      <td>0</td>\n",
       "      <td>get all</td>\n",
       "      <td>0.0</td>\n",
       "      <td>0</td>\n",
       "      <td>0</td>\n",
       "    </tr>\n",
       "    <tr>\n",
       "      <th>1</th>\n",
       "      <td>s . New Excavation You are standing at the ent...</td>\n",
       "      <td>1</td>\n",
       "      <td>0</td>\n",
       "      <td>look</td>\n",
       "      <td>0.0</td>\n",
       "      <td>0</td>\n",
       "      <td>0</td>\n",
       "    </tr>\n",
       "    <tr>\n",
       "      <th>2</th>\n",
       "      <td>s . You are carrying: a cheaply-made sword a b...</td>\n",
       "      <td>2</td>\n",
       "      <td>0</td>\n",
       "      <td>inventory</td>\n",
       "      <td>0.0</td>\n",
       "      <td>0</td>\n",
       "      <td>0</td>\n",
       "    </tr>\n",
       "    <tr>\n",
       "      <th>3</th>\n",
       "      <td>s . New Excavation You are standing at the ent...</td>\n",
       "      <td>3</td>\n",
       "      <td>0</td>\n",
       "      <td>look</td>\n",
       "      <td>0.0</td>\n",
       "      <td>0</td>\n",
       "      <td>0</td>\n",
       "    </tr>\n",
       "    <tr>\n",
       "      <th>4</th>\n",
       "      <td>s . (the tunnel) That's hardly portable.</td>\n",
       "      <td>4</td>\n",
       "      <td>0</td>\n",
       "      <td>get all</td>\n",
       "      <td>0.0</td>\n",
       "      <td>0</td>\n",
       "      <td>0</td>\n",
       "    </tr>\n",
       "    <tr>\n",
       "      <th>5</th>\n",
       "      <td>s . New Excavation You are standing at the ent...</td>\n",
       "      <td>5</td>\n",
       "      <td>0</td>\n",
       "      <td>look</td>\n",
       "      <td>0.0</td>\n",
       "      <td>0</td>\n",
       "      <td>0</td>\n",
       "    </tr>\n",
       "    <tr>\n",
       "      <th>6</th>\n",
       "      <td>s . You are carrying: a cheaply-made sword a b...</td>\n",
       "      <td>6</td>\n",
       "      <td>0</td>\n",
       "      <td>inventory</td>\n",
       "      <td>0.0</td>\n",
       "      <td>0</td>\n",
       "      <td>0</td>\n",
       "    </tr>\n",
       "    <tr>\n",
       "      <th>7</th>\n",
       "      <td>s . New Excavation You are standing at the ent...</td>\n",
       "      <td>7</td>\n",
       "      <td>0</td>\n",
       "      <td>look</td>\n",
       "      <td>0.0</td>\n",
       "      <td>0</td>\n",
       "      <td>0</td>\n",
       "    </tr>\n",
       "    <tr>\n",
       "      <th>8</th>\n",
       "      <td>s . That doesn't seem to be something you can ...</td>\n",
       "      <td>8</td>\n",
       "      <td>0</td>\n",
       "      <td>open s with cheaply-made sword</td>\n",
       "      <td>0.0</td>\n",
       "      <td>0</td>\n",
       "      <td>0</td>\n",
       "    </tr>\n",
       "    <tr>\n",
       "      <th>9</th>\n",
       "      <td>s . New Excavation You are standing at the en...</td>\n",
       "      <td>9</td>\n",
       "      <td>0</td>\n",
       "      <td>look</td>\n",
       "      <td>0.0</td>\n",
       "      <td>0</td>\n",
       "      <td>0</td>\n",
       "    </tr>\n",
       "    <tr>\n",
       "      <th>10</th>\n",
       "      <td>s . (the tunnel) That's hardly portable.</td>\n",
       "      <td>10</td>\n",
       "      <td>0</td>\n",
       "      <td>get all</td>\n",
       "      <td>0.0</td>\n",
       "      <td>0</td>\n",
       "      <td>0</td>\n",
       "    </tr>\n",
       "    <tr>\n",
       "      <th>11</th>\n",
       "      <td>s . New Excavation You are standing at the en...</td>\n",
       "      <td>11</td>\n",
       "      <td>0</td>\n",
       "      <td>look</td>\n",
       "      <td>0.0</td>\n",
       "      <td>0</td>\n",
       "      <td>0</td>\n",
       "    </tr>\n",
       "    <tr>\n",
       "      <th>12</th>\n",
       "      <td>s . You are carrying: a cheaply-made sword a ...</td>\n",
       "      <td>12</td>\n",
       "      <td>0</td>\n",
       "      <td>inventory</td>\n",
       "      <td>0.0</td>\n",
       "      <td>0</td>\n",
       "      <td>0</td>\n",
       "    </tr>\n",
       "    <tr>\n",
       "      <th>13</th>\n",
       "      <td>s . New Excavation You are standing at the en...</td>\n",
       "      <td>13</td>\n",
       "      <td>0</td>\n",
       "      <td>look</td>\n",
       "      <td>0.0</td>\n",
       "      <td>0</td>\n",
       "      <td>0</td>\n",
       "    </tr>\n",
       "    <tr>\n",
       "      <th>14</th>\n",
       "      <td>s . (the tunnel) That's not something you can...</td>\n",
       "      <td>14</td>\n",
       "      <td>0</td>\n",
       "      <td>open</td>\n",
       "      <td>0.0</td>\n",
       "      <td>0</td>\n",
       "      <td>0</td>\n",
       "    </tr>\n",
       "    <tr>\n",
       "      <th>15</th>\n",
       "      <td>s . New Excavation You are standing at the en...</td>\n",
       "      <td>15</td>\n",
       "      <td>0</td>\n",
       "      <td>look</td>\n",
       "      <td>0.0</td>\n",
       "      <td>0</td>\n",
       "      <td>0</td>\n",
       "    </tr>\n",
       "    <tr>\n",
       "      <th>16</th>\n",
       "      <td>s . I only understood you as far as wanting t...</td>\n",
       "      <td>16</td>\n",
       "      <td>0</td>\n",
       "      <td>get lantern at tunnel</td>\n",
       "      <td>0.0</td>\n",
       "      <td>0</td>\n",
       "      <td>0</td>\n",
       "    </tr>\n",
       "    <tr>\n",
       "      <th>17</th>\n",
       "      <td>s . New Excavation You are standing at the en...</td>\n",
       "      <td>17</td>\n",
       "      <td>0</td>\n",
       "      <td>look</td>\n",
       "      <td>0.0</td>\n",
       "      <td>0</td>\n",
       "      <td>0</td>\n",
       "    </tr>\n",
       "    <tr>\n",
       "      <th>18</th>\n",
       "      <td>s . You can't see any such thing.</td>\n",
       "      <td>18</td>\n",
       "      <td>0</td>\n",
       "      <td>get entrance</td>\n",
       "      <td>0.0</td>\n",
       "      <td>0</td>\n",
       "      <td>0</td>\n",
       "    </tr>\n",
       "    <tr>\n",
       "      <th>19</th>\n",
       "      <td>s . New Excavation You are standing at the en...</td>\n",
       "      <td>19</td>\n",
       "      <td>0</td>\n",
       "      <td>look</td>\n",
       "      <td>0.0</td>\n",
       "      <td>0</td>\n",
       "      <td>0</td>\n",
       "    </tr>\n",
       "    <tr>\n",
       "      <th>20</th>\n",
       "      <td>s . You are carrying: a cheaply-made sword a ...</td>\n",
       "      <td>20</td>\n",
       "      <td>0</td>\n",
       "      <td>inventory</td>\n",
       "      <td>0.0</td>\n",
       "      <td>0</td>\n",
       "      <td>0</td>\n",
       "    </tr>\n",
       "    <tr>\n",
       "      <th>21</th>\n",
       "      <td>s . New Excavation You are standing at the en...</td>\n",
       "      <td>21</td>\n",
       "      <td>0</td>\n",
       "      <td>look</td>\n",
       "      <td>0.0</td>\n",
       "      <td>0</td>\n",
       "      <td>0</td>\n",
       "    </tr>\n",
       "    <tr>\n",
       "      <th>22</th>\n",
       "      <td>s . You can't see any such thing.</td>\n",
       "      <td>22</td>\n",
       "      <td>0</td>\n",
       "      <td>put Excavation</td>\n",
       "      <td>0.0</td>\n",
       "      <td>0</td>\n",
       "      <td>0</td>\n",
       "    </tr>\n",
       "    <tr>\n",
       "      <th>23</th>\n",
       "      <td>s . New Excavation You are standing at the en...</td>\n",
       "      <td>23</td>\n",
       "      <td>0</td>\n",
       "      <td>look</td>\n",
       "      <td>0.0</td>\n",
       "      <td>0</td>\n",
       "      <td>0</td>\n",
       "    </tr>\n",
       "    <tr>\n",
       "      <th>24</th>\n",
       "      <td>s . (in the tunnel) You need to be holding it...</td>\n",
       "      <td>24</td>\n",
       "      <td>0</td>\n",
       "      <td>put s</td>\n",
       "      <td>0.0</td>\n",
       "      <td>0</td>\n",
       "      <td>0</td>\n",
       "    </tr>\n",
       "    <tr>\n",
       "      <th>25</th>\n",
       "      <td>s . New Excavation You are standing at the en...</td>\n",
       "      <td>25</td>\n",
       "      <td>0</td>\n",
       "      <td>look</td>\n",
       "      <td>0.0</td>\n",
       "      <td>0</td>\n",
       "      <td>0</td>\n",
       "    </tr>\n",
       "    <tr>\n",
       "      <th>26</th>\n",
       "      <td>s . That isn't available.</td>\n",
       "      <td>26</td>\n",
       "      <td>0</td>\n",
       "      <td>get s</td>\n",
       "      <td>0.0</td>\n",
       "      <td>0</td>\n",
       "      <td>0</td>\n",
       "    </tr>\n",
       "    <tr>\n",
       "      <th>27</th>\n",
       "      <td>s . New Excavation You are standing at the en...</td>\n",
       "      <td>27</td>\n",
       "      <td>0</td>\n",
       "      <td>look</td>\n",
       "      <td>0.0</td>\n",
       "      <td>0</td>\n",
       "      <td>0</td>\n",
       "    </tr>\n",
       "    <tr>\n",
       "      <th>28</th>\n",
       "      <td>s . You are carrying: a cheaply-made sword a ...</td>\n",
       "      <td>28</td>\n",
       "      <td>0</td>\n",
       "      <td>inventory</td>\n",
       "      <td>0.0</td>\n",
       "      <td>0</td>\n",
       "      <td>0</td>\n",
       "    </tr>\n",
       "    <tr>\n",
       "      <th>29</th>\n",
       "      <td>s . New Excavation You are standing at the en...</td>\n",
       "      <td>29</td>\n",
       "      <td>0</td>\n",
       "      <td>look</td>\n",
       "      <td>0.0</td>\n",
       "      <td>0</td>\n",
       "      <td>0</td>\n",
       "    </tr>\n",
       "    <tr>\n",
       "      <th>...</th>\n",
       "      <td>...</td>\n",
       "      <td>...</td>\n",
       "      <td>...</td>\n",
       "      <td>...</td>\n",
       "      <td>...</td>\n",
       "      <td>...</td>\n",
       "      <td>...</td>\n",
       "    </tr>\n",
       "    <tr>\n",
       "      <th>970</th>\n",
       "      <td>6 s . Please give one of the answers above.</td>\n",
       "      <td>20</td>\n",
       "      <td>19</td>\n",
       "      <td>pour s</td>\n",
       "      <td>-0.2</td>\n",
       "      <td>0</td>\n",
       "      <td>0</td>\n",
       "    </tr>\n",
       "    <tr>\n",
       "      <th>971</th>\n",
       "      <td>6 s . Please give one of the answers above.</td>\n",
       "      <td>21</td>\n",
       "      <td>19</td>\n",
       "      <td>look</td>\n",
       "      <td>-0.2</td>\n",
       "      <td>0</td>\n",
       "      <td>0</td>\n",
       "    </tr>\n",
       "    <tr>\n",
       "      <th>972</th>\n",
       "      <td>6 s . Please give one of the answers above.</td>\n",
       "      <td>22</td>\n",
       "      <td>19</td>\n",
       "      <td>sweep answers</td>\n",
       "      <td>-0.2</td>\n",
       "      <td>0</td>\n",
       "      <td>0</td>\n",
       "    </tr>\n",
       "    <tr>\n",
       "      <th>973</th>\n",
       "      <td>6 s . Please give one of the answers above.</td>\n",
       "      <td>23</td>\n",
       "      <td>19</td>\n",
       "      <td>look</td>\n",
       "      <td>-0.2</td>\n",
       "      <td>0</td>\n",
       "      <td>0</td>\n",
       "    </tr>\n",
       "    <tr>\n",
       "      <th>974</th>\n",
       "      <td>6 s . Please give one of the answers above.</td>\n",
       "      <td>24</td>\n",
       "      <td>19</td>\n",
       "      <td>west answers</td>\n",
       "      <td>-0.2</td>\n",
       "      <td>0</td>\n",
       "      <td>0</td>\n",
       "    </tr>\n",
       "    <tr>\n",
       "      <th>975</th>\n",
       "      <td>6 s . Please give one of the answers above.</td>\n",
       "      <td>25</td>\n",
       "      <td>19</td>\n",
       "      <td>look</td>\n",
       "      <td>-0.2</td>\n",
       "      <td>0</td>\n",
       "      <td>0</td>\n",
       "    </tr>\n",
       "    <tr>\n",
       "      <th>976</th>\n",
       "      <td>6 s . Please give one of the answers above.</td>\n",
       "      <td>26</td>\n",
       "      <td>19</td>\n",
       "      <td>watch s</td>\n",
       "      <td>-0.2</td>\n",
       "      <td>0</td>\n",
       "      <td>0</td>\n",
       "    </tr>\n",
       "    <tr>\n",
       "      <th>977</th>\n",
       "      <td>6 s . Please give one of the answers above.</td>\n",
       "      <td>27</td>\n",
       "      <td>19</td>\n",
       "      <td>look</td>\n",
       "      <td>-0.2</td>\n",
       "      <td>0</td>\n",
       "      <td>0</td>\n",
       "    </tr>\n",
       "    <tr>\n",
       "      <th>978</th>\n",
       "      <td>6 s . Please give one of the answers above.</td>\n",
       "      <td>28</td>\n",
       "      <td>19</td>\n",
       "      <td>cross Please</td>\n",
       "      <td>-0.2</td>\n",
       "      <td>0</td>\n",
       "      <td>0</td>\n",
       "    </tr>\n",
       "    <tr>\n",
       "      <th>979</th>\n",
       "      <td>6 s . Please give one of the answers above.</td>\n",
       "      <td>29</td>\n",
       "      <td>19</td>\n",
       "      <td>look</td>\n",
       "      <td>-0.2</td>\n",
       "      <td>0</td>\n",
       "      <td>0</td>\n",
       "    </tr>\n",
       "    <tr>\n",
       "      <th>980</th>\n",
       "      <td>6 s . Please give one of the answers above.</td>\n",
       "      <td>30</td>\n",
       "      <td>19</td>\n",
       "      <td>step</td>\n",
       "      <td>-0.2</td>\n",
       "      <td>0</td>\n",
       "      <td>0</td>\n",
       "    </tr>\n",
       "    <tr>\n",
       "      <th>981</th>\n",
       "      <td>6 s . Please give one of the answers above.</td>\n",
       "      <td>31</td>\n",
       "      <td>19</td>\n",
       "      <td>look</td>\n",
       "      <td>-0.2</td>\n",
       "      <td>0</td>\n",
       "      <td>0</td>\n",
       "    </tr>\n",
       "    <tr>\n",
       "      <th>982</th>\n",
       "      <td>6 s . Please give one of the answers above.</td>\n",
       "      <td>32</td>\n",
       "      <td>19</td>\n",
       "      <td>lock</td>\n",
       "      <td>-0.2</td>\n",
       "      <td>0</td>\n",
       "      <td>0</td>\n",
       "    </tr>\n",
       "    <tr>\n",
       "      <th>983</th>\n",
       "      <td>6 s . Please give one of the answers above.</td>\n",
       "      <td>33</td>\n",
       "      <td>19</td>\n",
       "      <td>look</td>\n",
       "      <td>-0.2</td>\n",
       "      <td>0</td>\n",
       "      <td>0</td>\n",
       "    </tr>\n",
       "    <tr>\n",
       "      <th>984</th>\n",
       "      <td>6 s . Please give one of the answers above.</td>\n",
       "      <td>34</td>\n",
       "      <td>19</td>\n",
       "      <td>burn answers</td>\n",
       "      <td>-0.2</td>\n",
       "      <td>0</td>\n",
       "      <td>0</td>\n",
       "    </tr>\n",
       "    <tr>\n",
       "      <th>985</th>\n",
       "      <td>6 s . Please give one of the answers above.</td>\n",
       "      <td>35</td>\n",
       "      <td>19</td>\n",
       "      <td>look</td>\n",
       "      <td>-0.2</td>\n",
       "      <td>0</td>\n",
       "      <td>0</td>\n",
       "    </tr>\n",
       "    <tr>\n",
       "      <th>986</th>\n",
       "      <td>6 s . Please give one of the answers above.</td>\n",
       "      <td>36</td>\n",
       "      <td>19</td>\n",
       "      <td>skip s above Please</td>\n",
       "      <td>-0.2</td>\n",
       "      <td>0</td>\n",
       "      <td>0</td>\n",
       "    </tr>\n",
       "    <tr>\n",
       "      <th>987</th>\n",
       "      <td>6 s . Please give one of the answers above.</td>\n",
       "      <td>37</td>\n",
       "      <td>19</td>\n",
       "      <td>look</td>\n",
       "      <td>-0.2</td>\n",
       "      <td>0</td>\n",
       "      <td>0</td>\n",
       "    </tr>\n",
       "    <tr>\n",
       "      <th>988</th>\n",
       "      <td>6 s . Please give one of the answers above.</td>\n",
       "      <td>38</td>\n",
       "      <td>19</td>\n",
       "      <td>in s</td>\n",
       "      <td>-0.2</td>\n",
       "      <td>0</td>\n",
       "      <td>0</td>\n",
       "    </tr>\n",
       "    <tr>\n",
       "      <th>989</th>\n",
       "      <td>6 s . Please give one of the answers above.</td>\n",
       "      <td>39</td>\n",
       "      <td>19</td>\n",
       "      <td>look</td>\n",
       "      <td>-0.2</td>\n",
       "      <td>0</td>\n",
       "      <td>0</td>\n",
       "    </tr>\n",
       "    <tr>\n",
       "      <th>990</th>\n",
       "      <td>6 s . Please give one of the answers above.</td>\n",
       "      <td>40</td>\n",
       "      <td>19</td>\n",
       "      <td>enter</td>\n",
       "      <td>-0.2</td>\n",
       "      <td>0</td>\n",
       "      <td>0</td>\n",
       "    </tr>\n",
       "    <tr>\n",
       "      <th>991</th>\n",
       "      <td>6 s . Please give one of the answers above.</td>\n",
       "      <td>41</td>\n",
       "      <td>19</td>\n",
       "      <td>look</td>\n",
       "      <td>-0.2</td>\n",
       "      <td>0</td>\n",
       "      <td>0</td>\n",
       "    </tr>\n",
       "    <tr>\n",
       "      <th>992</th>\n",
       "      <td>6 s . Please give one of the answers above.</td>\n",
       "      <td>42</td>\n",
       "      <td>19</td>\n",
       "      <td>northwest s</td>\n",
       "      <td>-0.2</td>\n",
       "      <td>0</td>\n",
       "      <td>0</td>\n",
       "    </tr>\n",
       "    <tr>\n",
       "      <th>993</th>\n",
       "      <td>6 s . Please give one of the answers above.</td>\n",
       "      <td>43</td>\n",
       "      <td>19</td>\n",
       "      <td>look</td>\n",
       "      <td>-0.2</td>\n",
       "      <td>0</td>\n",
       "      <td>0</td>\n",
       "    </tr>\n",
       "    <tr>\n",
       "      <th>994</th>\n",
       "      <td>6 s . Please give one of the answers above.</td>\n",
       "      <td>44</td>\n",
       "      <td>19</td>\n",
       "      <td>west answers</td>\n",
       "      <td>-0.2</td>\n",
       "      <td>0</td>\n",
       "      <td>0</td>\n",
       "    </tr>\n",
       "    <tr>\n",
       "      <th>995</th>\n",
       "      <td>6 s . Please give one of the answers above.</td>\n",
       "      <td>45</td>\n",
       "      <td>19</td>\n",
       "      <td>look</td>\n",
       "      <td>-0.2</td>\n",
       "      <td>0</td>\n",
       "      <td>0</td>\n",
       "    </tr>\n",
       "    <tr>\n",
       "      <th>996</th>\n",
       "      <td>6 s . Please give one of the answers above.</td>\n",
       "      <td>46</td>\n",
       "      <td>19</td>\n",
       "      <td>inventory</td>\n",
       "      <td>-0.2</td>\n",
       "      <td>0</td>\n",
       "      <td>0</td>\n",
       "    </tr>\n",
       "    <tr>\n",
       "      <th>997</th>\n",
       "      <td>6 s . Please give one of the answers above.</td>\n",
       "      <td>47</td>\n",
       "      <td>19</td>\n",
       "      <td>look</td>\n",
       "      <td>-0.2</td>\n",
       "      <td>0</td>\n",
       "      <td>0</td>\n",
       "    </tr>\n",
       "    <tr>\n",
       "      <th>998</th>\n",
       "      <td>6 s . Please give one of the answers above.</td>\n",
       "      <td>48</td>\n",
       "      <td>19</td>\n",
       "      <td>knock answers</td>\n",
       "      <td>-0.2</td>\n",
       "      <td>0</td>\n",
       "      <td>0</td>\n",
       "    </tr>\n",
       "    <tr>\n",
       "      <th>999</th>\n",
       "      <td>6 s . Please give one of the answers above.</td>\n",
       "      <td>49</td>\n",
       "      <td>19</td>\n",
       "      <td>look</td>\n",
       "      <td>-0.2</td>\n",
       "      <td>0</td>\n",
       "      <td>0</td>\n",
       "    </tr>\n",
       "  </tbody>\n",
       "</table>\n",
       "<p>1000 rows × 7 columns</p>\n",
       "</div>"
      ],
      "text/plain": [
       "                                                 State  Population no.  \\\n",
       "0    Standard interpreter 1.0 New Excavation You ar...               0   \n",
       "1    s . New Excavation You are standing at the ent...               1   \n",
       "2    s . You are carrying: a cheaply-made sword a b...               2   \n",
       "3    s . New Excavation You are standing at the ent...               3   \n",
       "4            s . (the tunnel) That's hardly portable.                4   \n",
       "5    s . New Excavation You are standing at the ent...               5   \n",
       "6    s . You are carrying: a cheaply-made sword a b...               6   \n",
       "7    s . New Excavation You are standing at the ent...               7   \n",
       "8    s . That doesn't seem to be something you can ...               8   \n",
       "9     s . New Excavation You are standing at the en...               9   \n",
       "10           s . (the tunnel) That's hardly portable.               10   \n",
       "11    s . New Excavation You are standing at the en...              11   \n",
       "12    s . You are carrying: a cheaply-made sword a ...              12   \n",
       "13    s . New Excavation You are standing at the en...              13   \n",
       "14    s . (the tunnel) That's not something you can...              14   \n",
       "15    s . New Excavation You are standing at the en...              15   \n",
       "16    s . I only understood you as far as wanting t...              16   \n",
       "17    s . New Excavation You are standing at the en...              17   \n",
       "18                  s . You can't see any such thing.               18   \n",
       "19    s . New Excavation You are standing at the en...              19   \n",
       "20    s . You are carrying: a cheaply-made sword a ...              20   \n",
       "21    s . New Excavation You are standing at the en...              21   \n",
       "22                  s . You can't see any such thing.               22   \n",
       "23    s . New Excavation You are standing at the en...              23   \n",
       "24    s . (in the tunnel) You need to be holding it...              24   \n",
       "25    s . New Excavation You are standing at the en...              25   \n",
       "26                          s . That isn't available.               26   \n",
       "27    s . New Excavation You are standing at the en...              27   \n",
       "28    s . You are carrying: a cheaply-made sword a ...              28   \n",
       "29    s . New Excavation You are standing at the en...              29   \n",
       "..                                                 ...             ...   \n",
       "970       6 s . Please give one of the answers above.               20   \n",
       "971       6 s . Please give one of the answers above.               21   \n",
       "972       6 s . Please give one of the answers above.               22   \n",
       "973       6 s . Please give one of the answers above.               23   \n",
       "974       6 s . Please give one of the answers above.               24   \n",
       "975       6 s . Please give one of the answers above.               25   \n",
       "976       6 s . Please give one of the answers above.               26   \n",
       "977       6 s . Please give one of the answers above.               27   \n",
       "978       6 s . Please give one of the answers above.               28   \n",
       "979       6 s . Please give one of the answers above.               29   \n",
       "980       6 s . Please give one of the answers above.               30   \n",
       "981       6 s . Please give one of the answers above.               31   \n",
       "982       6 s . Please give one of the answers above.               32   \n",
       "983       6 s . Please give one of the answers above.               33   \n",
       "984       6 s . Please give one of the answers above.               34   \n",
       "985       6 s . Please give one of the answers above.               35   \n",
       "986       6 s . Please give one of the answers above.               36   \n",
       "987       6 s . Please give one of the answers above.               37   \n",
       "988       6 s . Please give one of the answers above.               38   \n",
       "989       6 s . Please give one of the answers above.               39   \n",
       "990       6 s . Please give one of the answers above.               40   \n",
       "991       6 s . Please give one of the answers above.               41   \n",
       "992       6 s . Please give one of the answers above.               42   \n",
       "993       6 s . Please give one of the answers above.               43   \n",
       "994       6 s . Please give one of the answers above.               44   \n",
       "995       6 s . Please give one of the answers above.               45   \n",
       "996       6 s . Please give one of the answers above.               46   \n",
       "997       6 s . Please give one of the answers above.               47   \n",
       "998       6 s . Please give one of the answers above.               48   \n",
       "999       6 s . Please give one of the answers above.               49   \n",
       "\n",
       "     Generation No.                          Action  Reward to Game Agent  \\\n",
       "0                 0                         get all                   0.0   \n",
       "1                 0                            look                   0.0   \n",
       "2                 0                       inventory                   0.0   \n",
       "3                 0                            look                   0.0   \n",
       "4                 0                         get all                   0.0   \n",
       "5                 0                            look                   0.0   \n",
       "6                 0                       inventory                   0.0   \n",
       "7                 0                            look                   0.0   \n",
       "8                 0  open s with cheaply-made sword                   0.0   \n",
       "9                 0                            look                   0.0   \n",
       "10                0                         get all                   0.0   \n",
       "11                0                            look                   0.0   \n",
       "12                0                       inventory                   0.0   \n",
       "13                0                            look                   0.0   \n",
       "14                0                            open                   0.0   \n",
       "15                0                            look                   0.0   \n",
       "16                0           get lantern at tunnel                   0.0   \n",
       "17                0                            look                   0.0   \n",
       "18                0                    get entrance                   0.0   \n",
       "19                0                            look                   0.0   \n",
       "20                0                       inventory                   0.0   \n",
       "21                0                            look                   0.0   \n",
       "22                0                  put Excavation                   0.0   \n",
       "23                0                            look                   0.0   \n",
       "24                0                           put s                   0.0   \n",
       "25                0                            look                   0.0   \n",
       "26                0                           get s                   0.0   \n",
       "27                0                            look                   0.0   \n",
       "28                0                       inventory                   0.0   \n",
       "29                0                            look                   0.0   \n",
       "..              ...                             ...                   ...   \n",
       "970              19                          pour s                  -0.2   \n",
       "971              19                            look                  -0.2   \n",
       "972              19                   sweep answers                  -0.2   \n",
       "973              19                            look                  -0.2   \n",
       "974              19                    west answers                  -0.2   \n",
       "975              19                            look                  -0.2   \n",
       "976              19                         watch s                  -0.2   \n",
       "977              19                            look                  -0.2   \n",
       "978              19                    cross Please                  -0.2   \n",
       "979              19                            look                  -0.2   \n",
       "980              19                            step                  -0.2   \n",
       "981              19                            look                  -0.2   \n",
       "982              19                            lock                  -0.2   \n",
       "983              19                            look                  -0.2   \n",
       "984              19                    burn answers                  -0.2   \n",
       "985              19                            look                  -0.2   \n",
       "986              19             skip s above Please                  -0.2   \n",
       "987              19                            look                  -0.2   \n",
       "988              19                            in s                  -0.2   \n",
       "989              19                            look                  -0.2   \n",
       "990              19                           enter                  -0.2   \n",
       "991              19                            look                  -0.2   \n",
       "992              19                     northwest s                  -0.2   \n",
       "993              19                            look                  -0.2   \n",
       "994              19                    west answers                  -0.2   \n",
       "995              19                            look                  -0.2   \n",
       "996              19                       inventory                  -0.2   \n",
       "997              19                            look                  -0.2   \n",
       "998              19                   knock answers                  -0.2   \n",
       "999              19                            look                  -0.2   \n",
       "\n",
       "     Game Reward  Accumulated Reward  \n",
       "0              0                   0  \n",
       "1              0                   0  \n",
       "2              0                   0  \n",
       "3              0                   0  \n",
       "4              0                   0  \n",
       "5              0                   0  \n",
       "6              0                   0  \n",
       "7              0                   0  \n",
       "8              0                   0  \n",
       "9              0                   0  \n",
       "10             0                   0  \n",
       "11             0                   0  \n",
       "12             0                   0  \n",
       "13             0                   0  \n",
       "14             0                   0  \n",
       "15             0                   0  \n",
       "16             0                   0  \n",
       "17             0                   0  \n",
       "18             0                   0  \n",
       "19             0                   0  \n",
       "20             0                   0  \n",
       "21             0                   0  \n",
       "22             0                   0  \n",
       "23             0                   0  \n",
       "24             0                   0  \n",
       "25             0                   0  \n",
       "26             0                   0  \n",
       "27             0                   0  \n",
       "28             0                   0  \n",
       "29             0                   0  \n",
       "..           ...                 ...  \n",
       "970            0                   0  \n",
       "971            0                   0  \n",
       "972            0                   0  \n",
       "973            0                   0  \n",
       "974            0                   0  \n",
       "975            0                   0  \n",
       "976            0                   0  \n",
       "977            0                   0  \n",
       "978            0                   0  \n",
       "979            0                   0  \n",
       "980            0                   0  \n",
       "981            0                   0  \n",
       "982            0                   0  \n",
       "983            0                   0  \n",
       "984            0                   0  \n",
       "985            0                   0  \n",
       "986            0                   0  \n",
       "987            0                   0  \n",
       "988            0                   0  \n",
       "989            0                   0  \n",
       "990            0                   0  \n",
       "991            0                   0  \n",
       "992            0                   0  \n",
       "993            0                   0  \n",
       "994            0                   0  \n",
       "995            0                   0  \n",
       "996            0                   0  \n",
       "997            0                   0  \n",
       "998            0                   0  \n",
       "999            0                   0  \n",
       "\n",
       "[1000 rows x 7 columns]"
      ]
     },
     "execution_count": 17,
     "metadata": {},
     "output_type": "execute_result"
    }
   ],
   "source": [
    "df_1[:1000]"
   ]
  },
  {
   "cell_type": "code",
   "execution_count": 6,
   "metadata": {},
   "outputs": [
    {
     "data": {
      "text/plain": [
       "500"
      ]
     },
     "execution_count": 6,
     "metadata": {},
     "output_type": "execute_result"
    }
   ],
   "source": [
    "# check how many generations did it finish.\n",
    "df_1['Generation No.'].nunique()"
   ]
  },
  {
   "cell_type": "code",
   "execution_count": 7,
   "metadata": {},
   "outputs": [],
   "source": [
    "# try group by generation no and get max\n",
    "df_1_final = df_1.groupby('Generation No.',as_index=False).agg({'Reward to Game Agent' : 'max','Game Reward' : 'max','Accumulated Reward' : 'max'})"
   ]
  },
  {
   "cell_type": "code",
   "execution_count": 8,
   "metadata": {},
   "outputs": [],
   "source": [
    "## Create another column which says what type of data is this\n",
    "df_1_final['Type'] = 'Run_1'"
   ]
  },
  {
   "cell_type": "code",
   "execution_count": 9,
   "metadata": {},
   "outputs": [
    {
     "data": {
      "text/html": [
       "<div>\n",
       "<style scoped>\n",
       "    .dataframe tbody tr th:only-of-type {\n",
       "        vertical-align: middle;\n",
       "    }\n",
       "\n",
       "    .dataframe tbody tr th {\n",
       "        vertical-align: top;\n",
       "    }\n",
       "\n",
       "    .dataframe thead th {\n",
       "        text-align: right;\n",
       "    }\n",
       "</style>\n",
       "<table border=\"1\" class=\"dataframe\">\n",
       "  <thead>\n",
       "    <tr style=\"text-align: right;\">\n",
       "      <th></th>\n",
       "      <th>Generation No.</th>\n",
       "      <th>Game Reward</th>\n",
       "      <th>Reward to Game Agent</th>\n",
       "      <th>Accumulated Reward</th>\n",
       "      <th>Type</th>\n",
       "    </tr>\n",
       "  </thead>\n",
       "  <tbody>\n",
       "    <tr>\n",
       "      <th>0</th>\n",
       "      <td>0</td>\n",
       "      <td>0</td>\n",
       "      <td>0.0</td>\n",
       "      <td>0</td>\n",
       "      <td>Run_1</td>\n",
       "    </tr>\n",
       "    <tr>\n",
       "      <th>1</th>\n",
       "      <td>1</td>\n",
       "      <td>0</td>\n",
       "      <td>0.0</td>\n",
       "      <td>0</td>\n",
       "      <td>Run_1</td>\n",
       "    </tr>\n",
       "    <tr>\n",
       "      <th>2</th>\n",
       "      <td>2</td>\n",
       "      <td>0</td>\n",
       "      <td>0.0</td>\n",
       "      <td>0</td>\n",
       "      <td>Run_1</td>\n",
       "    </tr>\n",
       "    <tr>\n",
       "      <th>3</th>\n",
       "      <td>3</td>\n",
       "      <td>0</td>\n",
       "      <td>0.0</td>\n",
       "      <td>0</td>\n",
       "      <td>Run_1</td>\n",
       "    </tr>\n",
       "    <tr>\n",
       "      <th>4</th>\n",
       "      <td>4</td>\n",
       "      <td>0</td>\n",
       "      <td>0.0</td>\n",
       "      <td>0</td>\n",
       "      <td>Run_1</td>\n",
       "    </tr>\n",
       "  </tbody>\n",
       "</table>\n",
       "</div>"
      ],
      "text/plain": [
       "   Generation No.  Game Reward  Reward to Game Agent  Accumulated Reward  \\\n",
       "0               0            0                   0.0                   0   \n",
       "1               1            0                   0.0                   0   \n",
       "2               2            0                   0.0                   0   \n",
       "3               3            0                   0.0                   0   \n",
       "4               4            0                   0.0                   0   \n",
       "\n",
       "    Type  \n",
       "0  Run_1  \n",
       "1  Run_1  \n",
       "2  Run_1  \n",
       "3  Run_1  \n",
       "4  Run_1  "
      ]
     },
     "execution_count": 9,
     "metadata": {},
     "output_type": "execute_result"
    }
   ],
   "source": [
    "df_1_final[:5]"
   ]
  },
  {
   "cell_type": "code",
   "execution_count": 10,
   "metadata": {},
   "outputs": [
    {
     "data": {
      "text/plain": [
       "500"
      ]
     },
     "execution_count": 10,
     "metadata": {},
     "output_type": "execute_result"
    }
   ],
   "source": [
    "len(df_1_final)"
   ]
  },
  {
   "cell_type": "code",
   "execution_count": 11,
   "metadata": {},
   "outputs": [],
   "source": [
    "del df_1"
   ]
  },
  {
   "cell_type": "code",
   "execution_count": 12,
   "metadata": {},
   "outputs": [
    {
     "data": {
      "image/png": "[encoded data removed]",
      "text/plain": [
       "<Figure size 432x288 with 1 Axes>"
      ]
     },
     "metadata": {},
     "output_type": "display_data"
    }
   ],
   "source": [
    "plt.ylim(0,80)\n",
    "plt.plot(df_1_final['Generation No.'], df_1_final['Accumulated Reward'])\n",
    "plt.ylabel('Accumulated Reward')\n",
    "plt.xlabel('Generations')\n",
    "#plt.savefig('Evolution - Detective - Mean Accumulated Reward by Generations.png')\n",
    "plt.show()"
   ]
  },
  {
   "cell_type": "code",
   "execution_count": 13,
   "metadata": {},
   "outputs": [
    {
     "data": {
      "image/png": "[encoded data removed]",
      "text/plain": [
       "<Figure size 432x288 with 1 Axes>"
      ]
     },
     "metadata": {},
     "output_type": "display_data"
    }
   ],
   "source": [
    "#plt.ylim(0,80)\n",
    "plt.plot(df_1_final['Generation No.'], df_1_final['Reward to Game Agent'])\n",
    "plt.ylabel('Reward to Game Agent')\n",
    "plt.xlabel('Generations')\n",
    "#plt.savefig('Evolution - Detective - Mean Agent Accumulated Reward by Generations.png')\n",
    "plt.show()"
   ]
  },
  {
   "cell_type": "code",
   "execution_count": null,
   "metadata": {},
   "outputs": [],
   "source": [
    "#plt.ylim(0,80)\n",
    "plt.plot(df_1_final['Generation No.'], df_1_final['Game Reward'])\n",
    "plt.ylabel('Game Reward')\n",
    "plt.xlabel('Generations')\n",
    "#plt.savefig('Evolution - Detective - Mean Agent Accumulated Reward by Generations.png')\n",
    "plt.show()"
   ]
  },
  {
   "cell_type": "markdown",
   "metadata": {},
   "source": [
    "## RUN 2"
   ]
  },
  {
   "cell_type": "code",
   "execution_count": 17,
   "metadata": {},
   "outputs": [],
   "source": [
    "with open('./track_scores_cia_pop50gen500_040818.pkl', 'rb') as i:\n",
    "    x2 = pickle.load(i)"
   ]
  },
  {
   "cell_type": "code",
   "execution_count": 18,
   "metadata": {},
   "outputs": [],
   "source": [
    "df_2 = pd.DataFrame(x2, columns=['State','Population no.','Generation No.','Action','Reward to Game Agent','Game Reward','Accumulated Reward'])"
   ]
  },
  {
   "cell_type": "code",
   "execution_count": 21,
   "metadata": {},
   "outputs": [
    {
     "data": {
      "text/html": [
       "<div>\n",
       "<style scoped>\n",
       "    .dataframe tbody tr th:only-of-type {\n",
       "        vertical-align: middle;\n",
       "    }\n",
       "\n",
       "    .dataframe tbody tr th {\n",
       "        vertical-align: top;\n",
       "    }\n",
       "\n",
       "    .dataframe thead th {\n",
       "        text-align: right;\n",
       "    }\n",
       "</style>\n",
       "<table border=\"1\" class=\"dataframe\">\n",
       "  <thead>\n",
       "    <tr style=\"text-align: right;\">\n",
       "      <th></th>\n",
       "      <th>State</th>\n",
       "      <th>Population no.</th>\n",
       "      <th>Generation No.</th>\n",
       "      <th>Action</th>\n",
       "      <th>Reward to Game Agent</th>\n",
       "      <th>Game Reward</th>\n",
       "      <th>Accumulated Reward</th>\n",
       "    </tr>\n",
       "  </thead>\n",
       "  <tbody>\n",
       "    <tr>\n",
       "      <th>600</th>\n",
       "      <td>3 . You can't see any such thing.</td>\n",
       "      <td>0</td>\n",
       "      <td>12</td>\n",
       "      <td>put Exits</td>\n",
       "      <td>0.0</td>\n",
       "      <td>0</td>\n",
       "      <td>0</td>\n",
       "    </tr>\n",
       "    <tr>\n",
       "      <th>601</th>\n",
       "      <td>4 . Busy Street You are on a busy street. You ...</td>\n",
       "      <td>1</td>\n",
       "      <td>12</td>\n",
       "      <td>look</td>\n",
       "      <td>0.0</td>\n",
       "      <td>0</td>\n",
       "      <td>0</td>\n",
       "    </tr>\n",
       "    <tr>\n",
       "      <th>602</th>\n",
       "      <td>4 . You can't see any such thing.</td>\n",
       "      <td>2</td>\n",
       "      <td>12</td>\n",
       "      <td>get street</td>\n",
       "      <td>0.0</td>\n",
       "      <td>0</td>\n",
       "      <td>0</td>\n",
       "    </tr>\n",
       "    <tr>\n",
       "      <th>603</th>\n",
       "      <td>5 . Busy Street You are on a busy street. You ...</td>\n",
       "      <td>3</td>\n",
       "      <td>12</td>\n",
       "      <td>look</td>\n",
       "      <td>0.0</td>\n",
       "      <td>0</td>\n",
       "      <td>0</td>\n",
       "    </tr>\n",
       "    <tr>\n",
       "      <th>604</th>\n",
       "      <td>6 . You are carrying: a C.I.A identification b...</td>\n",
       "      <td>4</td>\n",
       "      <td>12</td>\n",
       "      <td>inventory</td>\n",
       "      <td>0.0</td>\n",
       "      <td>0</td>\n",
       "      <td>0</td>\n",
       "    </tr>\n",
       "    <tr>\n",
       "      <th>605</th>\n",
       "      <td>7 . Busy Street You are on a busy street. You ...</td>\n",
       "      <td>5</td>\n",
       "      <td>12</td>\n",
       "      <td>look</td>\n",
       "      <td>0.0</td>\n",
       "      <td>0</td>\n",
       "      <td>0</td>\n",
       "    </tr>\n",
       "    <tr>\n",
       "      <th>606</th>\n",
       "      <td>7 . What do you want to put the south wall in?</td>\n",
       "      <td>6</td>\n",
       "      <td>12</td>\n",
       "      <td>put South</td>\n",
       "      <td>0.0</td>\n",
       "      <td>0</td>\n",
       "      <td>0</td>\n",
       "    </tr>\n",
       "    <tr>\n",
       "      <th>607</th>\n",
       "      <td>8 . Busy Street You are on a busy street. You ...</td>\n",
       "      <td>7</td>\n",
       "      <td>12</td>\n",
       "      <td>look</td>\n",
       "      <td>0.0</td>\n",
       "      <td>0</td>\n",
       "      <td>0</td>\n",
       "    </tr>\n",
       "    <tr>\n",
       "      <th>608</th>\n",
       "      <td>9 . You already have that. You think that they...</td>\n",
       "      <td>8</td>\n",
       "      <td>12</td>\n",
       "      <td>get badge</td>\n",
       "      <td>0.0</td>\n",
       "      <td>0</td>\n",
       "      <td>0</td>\n",
       "    </tr>\n",
       "    <tr>\n",
       "      <th>609</th>\n",
       "      <td>0 . Busy Street You are on a busy street. You ...</td>\n",
       "      <td>9</td>\n",
       "      <td>12</td>\n",
       "      <td>look</td>\n",
       "      <td>0.0</td>\n",
       "      <td>0</td>\n",
       "      <td>0</td>\n",
       "    </tr>\n",
       "    <tr>\n",
       "      <th>610</th>\n",
       "      <td>1 . You are carrying: a C.I.A identification b...</td>\n",
       "      <td>10</td>\n",
       "      <td>12</td>\n",
       "      <td>inventory</td>\n",
       "      <td>0.0</td>\n",
       "      <td>0</td>\n",
       "      <td>0</td>\n",
       "    </tr>\n",
       "    <tr>\n",
       "      <th>611</th>\n",
       "      <td>2 . Busy Street You are on a busy street. You ...</td>\n",
       "      <td>11</td>\n",
       "      <td>12</td>\n",
       "      <td>look</td>\n",
       "      <td>0.0</td>\n",
       "      <td>0</td>\n",
       "      <td>0</td>\n",
       "    </tr>\n",
       "    <tr>\n",
       "      <th>612</th>\n",
       "      <td>2 . You can't see any such thing.</td>\n",
       "      <td>12</td>\n",
       "      <td>12</td>\n",
       "      <td>put Busy Street</td>\n",
       "      <td>0.0</td>\n",
       "      <td>0</td>\n",
       "      <td>0</td>\n",
       "    </tr>\n",
       "    <tr>\n",
       "      <th>613</th>\n",
       "      <td>3 . Busy Street You are on a busy street. You ...</td>\n",
       "      <td>13</td>\n",
       "      <td>12</td>\n",
       "      <td>look</td>\n",
       "      <td>0.0</td>\n",
       "      <td>0</td>\n",
       "      <td>0</td>\n",
       "    </tr>\n",
       "    <tr>\n",
       "      <th>614</th>\n",
       "      <td>3 . You can't see any such thing.</td>\n",
       "      <td>14</td>\n",
       "      <td>12</td>\n",
       "      <td>put noises</td>\n",
       "      <td>0.0</td>\n",
       "      <td>0</td>\n",
       "      <td>0</td>\n",
       "    </tr>\n",
       "    <tr>\n",
       "      <th>615</th>\n",
       "      <td>4 . Busy Street You are on a busy street. You ...</td>\n",
       "      <td>15</td>\n",
       "      <td>12</td>\n",
       "      <td>look</td>\n",
       "      <td>0.0</td>\n",
       "      <td>0</td>\n",
       "      <td>0</td>\n",
       "    </tr>\n",
       "    <tr>\n",
       "      <th>616</th>\n",
       "      <td>4 . You can't see any such thing.</td>\n",
       "      <td>16</td>\n",
       "      <td>12</td>\n",
       "      <td>get noises</td>\n",
       "      <td>0.0</td>\n",
       "      <td>0</td>\n",
       "      <td>0</td>\n",
       "    </tr>\n",
       "    <tr>\n",
       "      <th>617</th>\n",
       "      <td>5 . Busy Street You are on a busy street. You ...</td>\n",
       "      <td>17</td>\n",
       "      <td>12</td>\n",
       "      <td>look</td>\n",
       "      <td>0.0</td>\n",
       "      <td>0</td>\n",
       "      <td>0</td>\n",
       "    </tr>\n",
       "    <tr>\n",
       "      <th>618</th>\n",
       "      <td>6 . You are carrying: a C.I.A identification b...</td>\n",
       "      <td>18</td>\n",
       "      <td>12</td>\n",
       "      <td>inventory</td>\n",
       "      <td>0.0</td>\n",
       "      <td>0</td>\n",
       "      <td>0</td>\n",
       "    </tr>\n",
       "    <tr>\n",
       "      <th>619</th>\n",
       "      <td>7 . Busy Street You are on a busy street. You ...</td>\n",
       "      <td>19</td>\n",
       "      <td>12</td>\n",
       "      <td>look</td>\n",
       "      <td>0.0</td>\n",
       "      <td>0</td>\n",
       "      <td>0</td>\n",
       "    </tr>\n",
       "    <tr>\n",
       "      <th>620</th>\n",
       "      <td>7 . What do you want to put the C.I.A identifi...</td>\n",
       "      <td>20</td>\n",
       "      <td>12</td>\n",
       "      <td>put badge</td>\n",
       "      <td>0.0</td>\n",
       "      <td>0</td>\n",
       "      <td>0</td>\n",
       "    </tr>\n",
       "    <tr>\n",
       "      <th>621</th>\n",
       "      <td>8 . Busy Street You are on a busy street. You ...</td>\n",
       "      <td>21</td>\n",
       "      <td>12</td>\n",
       "      <td>look</td>\n",
       "      <td>0.0</td>\n",
       "      <td>0</td>\n",
       "      <td>0</td>\n",
       "    </tr>\n",
       "    <tr>\n",
       "      <th>622</th>\n",
       "      <td>9 . That's not something you can open. You thi...</td>\n",
       "      <td>22</td>\n",
       "      <td>12</td>\n",
       "      <td>open office</td>\n",
       "      <td>0.0</td>\n",
       "      <td>0</td>\n",
       "      <td>0</td>\n",
       "    </tr>\n",
       "    <tr>\n",
       "      <th>623</th>\n",
       "      <td>0 . Busy Street You are on a busy street. You ...</td>\n",
       "      <td>23</td>\n",
       "      <td>12</td>\n",
       "      <td>look</td>\n",
       "      <td>0.0</td>\n",
       "      <td>0</td>\n",
       "      <td>0</td>\n",
       "    </tr>\n",
       "    <tr>\n",
       "      <th>624</th>\n",
       "      <td>0 . Please give one of the answers above.</td>\n",
       "      <td>24</td>\n",
       "      <td>12</td>\n",
       "      <td>get all</td>\n",
       "      <td>0.0</td>\n",
       "      <td>0</td>\n",
       "      <td>0</td>\n",
       "    </tr>\n",
       "    <tr>\n",
       "      <th>625</th>\n",
       "      <td>0 . Please give one of the answers above.</td>\n",
       "      <td>25</td>\n",
       "      <td>12</td>\n",
       "      <td>look</td>\n",
       "      <td>-0.2</td>\n",
       "      <td>0</td>\n",
       "      <td>0</td>\n",
       "    </tr>\n",
       "    <tr>\n",
       "      <th>626</th>\n",
       "      <td>0 . Please give one of the answers above.</td>\n",
       "      <td>26</td>\n",
       "      <td>12</td>\n",
       "      <td>inventory</td>\n",
       "      <td>-0.2</td>\n",
       "      <td>0</td>\n",
       "      <td>0</td>\n",
       "    </tr>\n",
       "    <tr>\n",
       "      <th>627</th>\n",
       "      <td>0 . Please give one of the answers above.</td>\n",
       "      <td>27</td>\n",
       "      <td>12</td>\n",
       "      <td>look</td>\n",
       "      <td>-0.2</td>\n",
       "      <td>0</td>\n",
       "      <td>0</td>\n",
       "    </tr>\n",
       "    <tr>\n",
       "      <th>628</th>\n",
       "      <td>0 . Please give one of the answers above.</td>\n",
       "      <td>28</td>\n",
       "      <td>12</td>\n",
       "      <td>get all</td>\n",
       "      <td>-0.2</td>\n",
       "      <td>0</td>\n",
       "      <td>0</td>\n",
       "    </tr>\n",
       "    <tr>\n",
       "      <th>629</th>\n",
       "      <td>0 . Please give one of the answers above.</td>\n",
       "      <td>29</td>\n",
       "      <td>12</td>\n",
       "      <td>look</td>\n",
       "      <td>-0.2</td>\n",
       "      <td>0</td>\n",
       "      <td>0</td>\n",
       "    </tr>\n",
       "    <tr>\n",
       "      <th>630</th>\n",
       "      <td>0 . Please give one of the answers above.</td>\n",
       "      <td>30</td>\n",
       "      <td>12</td>\n",
       "      <td>inventory</td>\n",
       "      <td>-0.2</td>\n",
       "      <td>0</td>\n",
       "      <td>0</td>\n",
       "    </tr>\n",
       "    <tr>\n",
       "      <th>631</th>\n",
       "      <td>0 . Please give one of the answers above.</td>\n",
       "      <td>31</td>\n",
       "      <td>12</td>\n",
       "      <td>look</td>\n",
       "      <td>-0.2</td>\n",
       "      <td>0</td>\n",
       "      <td>0</td>\n",
       "    </tr>\n",
       "    <tr>\n",
       "      <th>632</th>\n",
       "      <td>0 . Please give one of the answers above.</td>\n",
       "      <td>32</td>\n",
       "      <td>12</td>\n",
       "      <td>get answers</td>\n",
       "      <td>-0.2</td>\n",
       "      <td>0</td>\n",
       "      <td>0</td>\n",
       "    </tr>\n",
       "    <tr>\n",
       "      <th>633</th>\n",
       "      <td>0 . Please give one of the answers above.</td>\n",
       "      <td>33</td>\n",
       "      <td>12</td>\n",
       "      <td>look</td>\n",
       "      <td>-0.2</td>\n",
       "      <td>0</td>\n",
       "      <td>0</td>\n",
       "    </tr>\n",
       "    <tr>\n",
       "      <th>634</th>\n",
       "      <td>0 . Please give one of the answers above.</td>\n",
       "      <td>34</td>\n",
       "      <td>12</td>\n",
       "      <td>inventory</td>\n",
       "      <td>-0.2</td>\n",
       "      <td>0</td>\n",
       "      <td>0</td>\n",
       "    </tr>\n",
       "    <tr>\n",
       "      <th>635</th>\n",
       "      <td>0 . Please give one of the answers above.</td>\n",
       "      <td>35</td>\n",
       "      <td>12</td>\n",
       "      <td>look</td>\n",
       "      <td>-0.2</td>\n",
       "      <td>0</td>\n",
       "      <td>0</td>\n",
       "    </tr>\n",
       "    <tr>\n",
       "      <th>636</th>\n",
       "      <td>0 . Please give one of the answers above.</td>\n",
       "      <td>36</td>\n",
       "      <td>12</td>\n",
       "      <td>put</td>\n",
       "      <td>-0.2</td>\n",
       "      <td>0</td>\n",
       "      <td>0</td>\n",
       "    </tr>\n",
       "    <tr>\n",
       "      <th>637</th>\n",
       "      <td>0 . Please give one of the answers above.</td>\n",
       "      <td>37</td>\n",
       "      <td>12</td>\n",
       "      <td>look</td>\n",
       "      <td>-0.2</td>\n",
       "      <td>0</td>\n",
       "      <td>0</td>\n",
       "    </tr>\n",
       "    <tr>\n",
       "      <th>638</th>\n",
       "      <td>0 . Please give one of the answers above.</td>\n",
       "      <td>38</td>\n",
       "      <td>12</td>\n",
       "      <td>get</td>\n",
       "      <td>-0.2</td>\n",
       "      <td>0</td>\n",
       "      <td>0</td>\n",
       "    </tr>\n",
       "    <tr>\n",
       "      <th>639</th>\n",
       "      <td>0 . Please give one of the answers above.</td>\n",
       "      <td>39</td>\n",
       "      <td>12</td>\n",
       "      <td>look</td>\n",
       "      <td>-0.2</td>\n",
       "      <td>0</td>\n",
       "      <td>0</td>\n",
       "    </tr>\n",
       "    <tr>\n",
       "      <th>640</th>\n",
       "      <td>0 . Please give one of the answers above.</td>\n",
       "      <td>40</td>\n",
       "      <td>12</td>\n",
       "      <td>inventory</td>\n",
       "      <td>-0.2</td>\n",
       "      <td>0</td>\n",
       "      <td>0</td>\n",
       "    </tr>\n",
       "    <tr>\n",
       "      <th>641</th>\n",
       "      <td>0 . Please give one of the answers above.</td>\n",
       "      <td>41</td>\n",
       "      <td>12</td>\n",
       "      <td>look</td>\n",
       "      <td>-0.2</td>\n",
       "      <td>0</td>\n",
       "      <td>0</td>\n",
       "    </tr>\n",
       "    <tr>\n",
       "      <th>642</th>\n",
       "      <td>0 . Please give one of the answers above.</td>\n",
       "      <td>42</td>\n",
       "      <td>12</td>\n",
       "      <td>open</td>\n",
       "      <td>-0.2</td>\n",
       "      <td>0</td>\n",
       "      <td>0</td>\n",
       "    </tr>\n",
       "    <tr>\n",
       "      <th>643</th>\n",
       "      <td>0 . Please give one of the answers above.</td>\n",
       "      <td>43</td>\n",
       "      <td>12</td>\n",
       "      <td>look</td>\n",
       "      <td>-0.2</td>\n",
       "      <td>0</td>\n",
       "      <td>0</td>\n",
       "    </tr>\n",
       "    <tr>\n",
       "      <th>644</th>\n",
       "      <td>0 . Please give one of the answers above.</td>\n",
       "      <td>44</td>\n",
       "      <td>12</td>\n",
       "      <td>put answers</td>\n",
       "      <td>-0.2</td>\n",
       "      <td>0</td>\n",
       "      <td>0</td>\n",
       "    </tr>\n",
       "    <tr>\n",
       "      <th>645</th>\n",
       "      <td>0 . Please give one of the answers above.</td>\n",
       "      <td>45</td>\n",
       "      <td>12</td>\n",
       "      <td>look</td>\n",
       "      <td>-0.2</td>\n",
       "      <td>0</td>\n",
       "      <td>0</td>\n",
       "    </tr>\n",
       "    <tr>\n",
       "      <th>646</th>\n",
       "      <td>0 . Please give one of the answers above.</td>\n",
       "      <td>46</td>\n",
       "      <td>12</td>\n",
       "      <td>open answers</td>\n",
       "      <td>-0.2</td>\n",
       "      <td>0</td>\n",
       "      <td>0</td>\n",
       "    </tr>\n",
       "    <tr>\n",
       "      <th>647</th>\n",
       "      <td>0 . Please give one of the answers above.</td>\n",
       "      <td>47</td>\n",
       "      <td>12</td>\n",
       "      <td>look</td>\n",
       "      <td>-0.2</td>\n",
       "      <td>0</td>\n",
       "      <td>0</td>\n",
       "    </tr>\n",
       "    <tr>\n",
       "      <th>648</th>\n",
       "      <td>0 . Please give one of the answers above.</td>\n",
       "      <td>48</td>\n",
       "      <td>12</td>\n",
       "      <td>consume answers</td>\n",
       "      <td>-0.2</td>\n",
       "      <td>0</td>\n",
       "      <td>0</td>\n",
       "    </tr>\n",
       "    <tr>\n",
       "      <th>649</th>\n",
       "      <td>0 . Please give one of the answers above.</td>\n",
       "      <td>49</td>\n",
       "      <td>12</td>\n",
       "      <td>look</td>\n",
       "      <td>-0.2</td>\n",
       "      <td>0</td>\n",
       "      <td>0</td>\n",
       "    </tr>\n",
       "  </tbody>\n",
       "</table>\n",
       "</div>"
      ],
      "text/plain": [
       "                                                 State  Population no.  \\\n",
       "600                 3 . You can't see any such thing.                0   \n",
       "601  4 . Busy Street You are on a busy street. You ...               1   \n",
       "602                 4 . You can't see any such thing.                2   \n",
       "603  5 . Busy Street You are on a busy street. You ...               3   \n",
       "604  6 . You are carrying: a C.I.A identification b...               4   \n",
       "605  7 . Busy Street You are on a busy street. You ...               5   \n",
       "606    7 . What do you want to put the south wall in?                6   \n",
       "607  8 . Busy Street You are on a busy street. You ...               7   \n",
       "608  9 . You already have that. You think that they...               8   \n",
       "609  0 . Busy Street You are on a busy street. You ...               9   \n",
       "610  1 . You are carrying: a C.I.A identification b...              10   \n",
       "611  2 . Busy Street You are on a busy street. You ...              11   \n",
       "612                 2 . You can't see any such thing.               12   \n",
       "613  3 . Busy Street You are on a busy street. You ...              13   \n",
       "614                 3 . You can't see any such thing.               14   \n",
       "615  4 . Busy Street You are on a busy street. You ...              15   \n",
       "616                 4 . You can't see any such thing.               16   \n",
       "617  5 . Busy Street You are on a busy street. You ...              17   \n",
       "618  6 . You are carrying: a C.I.A identification b...              18   \n",
       "619  7 . Busy Street You are on a busy street. You ...              19   \n",
       "620  7 . What do you want to put the C.I.A identifi...              20   \n",
       "621  8 . Busy Street You are on a busy street. You ...              21   \n",
       "622  9 . That's not something you can open. You thi...              22   \n",
       "623  0 . Busy Street You are on a busy street. You ...              23   \n",
       "624         0 . Please give one of the answers above.               24   \n",
       "625         0 . Please give one of the answers above.               25   \n",
       "626         0 . Please give one of the answers above.               26   \n",
       "627         0 . Please give one of the answers above.               27   \n",
       "628         0 . Please give one of the answers above.               28   \n",
       "629         0 . Please give one of the answers above.               29   \n",
       "630         0 . Please give one of the answers above.               30   \n",
       "631         0 . Please give one of the answers above.               31   \n",
       "632         0 . Please give one of the answers above.               32   \n",
       "633         0 . Please give one of the answers above.               33   \n",
       "634         0 . Please give one of the answers above.               34   \n",
       "635         0 . Please give one of the answers above.               35   \n",
       "636         0 . Please give one of the answers above.               36   \n",
       "637         0 . Please give one of the answers above.               37   \n",
       "638         0 . Please give one of the answers above.               38   \n",
       "639         0 . Please give one of the answers above.               39   \n",
       "640         0 . Please give one of the answers above.               40   \n",
       "641         0 . Please give one of the answers above.               41   \n",
       "642         0 . Please give one of the answers above.               42   \n",
       "643         0 . Please give one of the answers above.               43   \n",
       "644         0 . Please give one of the answers above.               44   \n",
       "645         0 . Please give one of the answers above.               45   \n",
       "646         0 . Please give one of the answers above.               46   \n",
       "647         0 . Please give one of the answers above.               47   \n",
       "648         0 . Please give one of the answers above.               48   \n",
       "649         0 . Please give one of the answers above.               49   \n",
       "\n",
       "     Generation No.           Action  Reward to Game Agent  Game Reward  \\\n",
       "600              12        put Exits                   0.0            0   \n",
       "601              12             look                   0.0            0   \n",
       "602              12       get street                   0.0            0   \n",
       "603              12             look                   0.0            0   \n",
       "604              12        inventory                   0.0            0   \n",
       "605              12             look                   0.0            0   \n",
       "606              12        put South                   0.0            0   \n",
       "607              12             look                   0.0            0   \n",
       "608              12        get badge                   0.0            0   \n",
       "609              12             look                   0.0            0   \n",
       "610              12        inventory                   0.0            0   \n",
       "611              12             look                   0.0            0   \n",
       "612              12  put Busy Street                   0.0            0   \n",
       "613              12             look                   0.0            0   \n",
       "614              12       put noises                   0.0            0   \n",
       "615              12             look                   0.0            0   \n",
       "616              12       get noises                   0.0            0   \n",
       "617              12             look                   0.0            0   \n",
       "618              12        inventory                   0.0            0   \n",
       "619              12             look                   0.0            0   \n",
       "620              12        put badge                   0.0            0   \n",
       "621              12             look                   0.0            0   \n",
       "622              12      open office                   0.0            0   \n",
       "623              12             look                   0.0            0   \n",
       "624              12          get all                   0.0            0   \n",
       "625              12             look                  -0.2            0   \n",
       "626              12        inventory                  -0.2            0   \n",
       "627              12             look                  -0.2            0   \n",
       "628              12          get all                  -0.2            0   \n",
       "629              12             look                  -0.2            0   \n",
       "630              12        inventory                  -0.2            0   \n",
       "631              12             look                  -0.2            0   \n",
       "632              12      get answers                  -0.2            0   \n",
       "633              12             look                  -0.2            0   \n",
       "634              12        inventory                  -0.2            0   \n",
       "635              12             look                  -0.2            0   \n",
       "636              12              put                  -0.2            0   \n",
       "637              12             look                  -0.2            0   \n",
       "638              12              get                  -0.2            0   \n",
       "639              12             look                  -0.2            0   \n",
       "640              12        inventory                  -0.2            0   \n",
       "641              12             look                  -0.2            0   \n",
       "642              12             open                  -0.2            0   \n",
       "643              12             look                  -0.2            0   \n",
       "644              12      put answers                  -0.2            0   \n",
       "645              12             look                  -0.2            0   \n",
       "646              12     open answers                  -0.2            0   \n",
       "647              12             look                  -0.2            0   \n",
       "648              12  consume answers                  -0.2            0   \n",
       "649              12             look                  -0.2            0   \n",
       "\n",
       "     Accumulated Reward  \n",
       "600                   0  \n",
       "601                   0  \n",
       "602                   0  \n",
       "603                   0  \n",
       "604                   0  \n",
       "605                   0  \n",
       "606                   0  \n",
       "607                   0  \n",
       "608                   0  \n",
       "609                   0  \n",
       "610                   0  \n",
       "611                   0  \n",
       "612                   0  \n",
       "613                   0  \n",
       "614                   0  \n",
       "615                   0  \n",
       "616                   0  \n",
       "617                   0  \n",
       "618                   0  \n",
       "619                   0  \n",
       "620                   0  \n",
       "621                   0  \n",
       "622                   0  \n",
       "623                   0  \n",
       "624                   0  \n",
       "625                   0  \n",
       "626                   0  \n",
       "627                   0  \n",
       "628                   0  \n",
       "629                   0  \n",
       "630                   0  \n",
       "631                   0  \n",
       "632                   0  \n",
       "633                   0  \n",
       "634                   0  \n",
       "635                   0  \n",
       "636                   0  \n",
       "637                   0  \n",
       "638                   0  \n",
       "639                   0  \n",
       "640                   0  \n",
       "641                   0  \n",
       "642                   0  \n",
       "643                   0  \n",
       "644                   0  \n",
       "645                   0  \n",
       "646                   0  \n",
       "647                   0  \n",
       "648                   0  \n",
       "649                   0  "
      ]
     },
     "execution_count": 21,
     "metadata": {},
     "output_type": "execute_result"
    }
   ],
   "source": [
    "#df_3[]\n",
    "df_2.loc[df_2['Generation No.'] == 12]"
   ]
  },
  {
   "cell_type": "code",
   "execution_count": 22,
   "metadata": {},
   "outputs": [
    {
     "data": {
      "text/plain": [
       "\"0 . Busy Street You are on a busy street. You can see a tall office building. Exits are: South. Oh No! They've caught up to you! They pull out guns! . *** You have died *** . In that game you scored 0 out of a possible 0, in 400 turns. Would you like to RESTART, RESTORE a saved game or QUIT? \""
      ]
     },
     "execution_count": 22,
     "metadata": {},
     "output_type": "execute_result"
    }
   ],
   "source": [
    "#df_3[]\n",
    "df_2.iloc[623]['State']"
   ]
  },
  {
   "cell_type": "code",
   "execution_count": 6,
   "metadata": {},
   "outputs": [
    {
     "data": {
      "text/plain": [
       "500"
      ]
     },
     "execution_count": 6,
     "metadata": {},
     "output_type": "execute_result"
    }
   ],
   "source": [
    "# check how many generations did it finish?\n",
    "df_2['Generation No.'].nunique()"
   ]
  },
  {
   "cell_type": "code",
   "execution_count": 7,
   "metadata": {},
   "outputs": [],
   "source": [
    "# try group by generation no and get max\n",
    "df_2_final = df_2.groupby('Generation No.',as_index=False).agg({'Reward to Game Agent' : 'max','Game Reward' : 'max','Accumulated Reward' : 'max'})"
   ]
  },
  {
   "cell_type": "code",
   "execution_count": 8,
   "metadata": {},
   "outputs": [],
   "source": [
    "## Create another column which says what type of data is this\n",
    "df_2_final['Type'] = 'Run_2'"
   ]
  },
  {
   "cell_type": "code",
   "execution_count": 16,
   "metadata": {},
   "outputs": [
    {
     "data": {
      "text/html": [
       "<div>\n",
       "<style scoped>\n",
       "    .dataframe tbody tr th:only-of-type {\n",
       "        vertical-align: middle;\n",
       "    }\n",
       "\n",
       "    .dataframe tbody tr th {\n",
       "        vertical-align: top;\n",
       "    }\n",
       "\n",
       "    .dataframe thead th {\n",
       "        text-align: right;\n",
       "    }\n",
       "</style>\n",
       "<table border=\"1\" class=\"dataframe\">\n",
       "  <thead>\n",
       "    <tr style=\"text-align: right;\">\n",
       "      <th></th>\n",
       "      <th>Generation No.</th>\n",
       "      <th>Game Reward</th>\n",
       "      <th>Reward to Game Agent</th>\n",
       "      <th>Accumulated Reward</th>\n",
       "      <th>Type</th>\n",
       "    </tr>\n",
       "  </thead>\n",
       "  <tbody>\n",
       "    <tr>\n",
       "      <th>0</th>\n",
       "      <td>0</td>\n",
       "      <td>0</td>\n",
       "      <td>0.0</td>\n",
       "      <td>0</td>\n",
       "      <td>Run_2</td>\n",
       "    </tr>\n",
       "    <tr>\n",
       "      <th>1</th>\n",
       "      <td>1</td>\n",
       "      <td>0</td>\n",
       "      <td>0.0</td>\n",
       "      <td>0</td>\n",
       "      <td>Run_2</td>\n",
       "    </tr>\n",
       "    <tr>\n",
       "      <th>2</th>\n",
       "      <td>2</td>\n",
       "      <td>0</td>\n",
       "      <td>0.0</td>\n",
       "      <td>0</td>\n",
       "      <td>Run_2</td>\n",
       "    </tr>\n",
       "    <tr>\n",
       "      <th>3</th>\n",
       "      <td>3</td>\n",
       "      <td>0</td>\n",
       "      <td>0.0</td>\n",
       "      <td>0</td>\n",
       "      <td>Run_2</td>\n",
       "    </tr>\n",
       "    <tr>\n",
       "      <th>4</th>\n",
       "      <td>4</td>\n",
       "      <td>0</td>\n",
       "      <td>0.0</td>\n",
       "      <td>0</td>\n",
       "      <td>Run_2</td>\n",
       "    </tr>\n",
       "    <tr>\n",
       "      <th>5</th>\n",
       "      <td>5</td>\n",
       "      <td>0</td>\n",
       "      <td>0.0</td>\n",
       "      <td>0</td>\n",
       "      <td>Run_2</td>\n",
       "    </tr>\n",
       "    <tr>\n",
       "      <th>6</th>\n",
       "      <td>6</td>\n",
       "      <td>0</td>\n",
       "      <td>0.0</td>\n",
       "      <td>0</td>\n",
       "      <td>Run_2</td>\n",
       "    </tr>\n",
       "    <tr>\n",
       "      <th>7</th>\n",
       "      <td>7</td>\n",
       "      <td>0</td>\n",
       "      <td>0.0</td>\n",
       "      <td>0</td>\n",
       "      <td>Run_2</td>\n",
       "    </tr>\n",
       "    <tr>\n",
       "      <th>8</th>\n",
       "      <td>8</td>\n",
       "      <td>0</td>\n",
       "      <td>0.0</td>\n",
       "      <td>0</td>\n",
       "      <td>Run_2</td>\n",
       "    </tr>\n",
       "    <tr>\n",
       "      <th>9</th>\n",
       "      <td>9</td>\n",
       "      <td>0</td>\n",
       "      <td>0.0</td>\n",
       "      <td>0</td>\n",
       "      <td>Run_2</td>\n",
       "    </tr>\n",
       "    <tr>\n",
       "      <th>10</th>\n",
       "      <td>10</td>\n",
       "      <td>0</td>\n",
       "      <td>0.0</td>\n",
       "      <td>0</td>\n",
       "      <td>Run_2</td>\n",
       "    </tr>\n",
       "    <tr>\n",
       "      <th>11</th>\n",
       "      <td>11</td>\n",
       "      <td>0</td>\n",
       "      <td>0.0</td>\n",
       "      <td>0</td>\n",
       "      <td>Run_2</td>\n",
       "    </tr>\n",
       "    <tr>\n",
       "      <th>12</th>\n",
       "      <td>12</td>\n",
       "      <td>0</td>\n",
       "      <td>0.0</td>\n",
       "      <td>0</td>\n",
       "      <td>Run_2</td>\n",
       "    </tr>\n",
       "    <tr>\n",
       "      <th>13</th>\n",
       "      <td>13</td>\n",
       "      <td>0</td>\n",
       "      <td>-0.2</td>\n",
       "      <td>0</td>\n",
       "      <td>Run_2</td>\n",
       "    </tr>\n",
       "    <tr>\n",
       "      <th>14</th>\n",
       "      <td>14</td>\n",
       "      <td>0</td>\n",
       "      <td>-0.2</td>\n",
       "      <td>0</td>\n",
       "      <td>Run_2</td>\n",
       "    </tr>\n",
       "    <tr>\n",
       "      <th>15</th>\n",
       "      <td>15</td>\n",
       "      <td>0</td>\n",
       "      <td>-0.2</td>\n",
       "      <td>0</td>\n",
       "      <td>Run_2</td>\n",
       "    </tr>\n",
       "    <tr>\n",
       "      <th>16</th>\n",
       "      <td>16</td>\n",
       "      <td>0</td>\n",
       "      <td>-0.2</td>\n",
       "      <td>0</td>\n",
       "      <td>Run_2</td>\n",
       "    </tr>\n",
       "    <tr>\n",
       "      <th>17</th>\n",
       "      <td>17</td>\n",
       "      <td>0</td>\n",
       "      <td>-0.2</td>\n",
       "      <td>0</td>\n",
       "      <td>Run_2</td>\n",
       "    </tr>\n",
       "    <tr>\n",
       "      <th>18</th>\n",
       "      <td>18</td>\n",
       "      <td>0</td>\n",
       "      <td>-0.2</td>\n",
       "      <td>0</td>\n",
       "      <td>Run_2</td>\n",
       "    </tr>\n",
       "    <tr>\n",
       "      <th>19</th>\n",
       "      <td>19</td>\n",
       "      <td>0</td>\n",
       "      <td>-0.2</td>\n",
       "      <td>0</td>\n",
       "      <td>Run_2</td>\n",
       "    </tr>\n",
       "    <tr>\n",
       "      <th>20</th>\n",
       "      <td>20</td>\n",
       "      <td>0</td>\n",
       "      <td>-0.2</td>\n",
       "      <td>0</td>\n",
       "      <td>Run_2</td>\n",
       "    </tr>\n",
       "    <tr>\n",
       "      <th>21</th>\n",
       "      <td>21</td>\n",
       "      <td>0</td>\n",
       "      <td>-0.2</td>\n",
       "      <td>0</td>\n",
       "      <td>Run_2</td>\n",
       "    </tr>\n",
       "    <tr>\n",
       "      <th>22</th>\n",
       "      <td>22</td>\n",
       "      <td>0</td>\n",
       "      <td>-0.2</td>\n",
       "      <td>0</td>\n",
       "      <td>Run_2</td>\n",
       "    </tr>\n",
       "    <tr>\n",
       "      <th>23</th>\n",
       "      <td>23</td>\n",
       "      <td>0</td>\n",
       "      <td>-0.2</td>\n",
       "      <td>0</td>\n",
       "      <td>Run_2</td>\n",
       "    </tr>\n",
       "    <tr>\n",
       "      <th>24</th>\n",
       "      <td>24</td>\n",
       "      <td>0</td>\n",
       "      <td>-0.2</td>\n",
       "      <td>0</td>\n",
       "      <td>Run_2</td>\n",
       "    </tr>\n",
       "    <tr>\n",
       "      <th>25</th>\n",
       "      <td>25</td>\n",
       "      <td>0</td>\n",
       "      <td>-0.2</td>\n",
       "      <td>0</td>\n",
       "      <td>Run_2</td>\n",
       "    </tr>\n",
       "    <tr>\n",
       "      <th>26</th>\n",
       "      <td>26</td>\n",
       "      <td>0</td>\n",
       "      <td>-0.2</td>\n",
       "      <td>0</td>\n",
       "      <td>Run_2</td>\n",
       "    </tr>\n",
       "    <tr>\n",
       "      <th>27</th>\n",
       "      <td>27</td>\n",
       "      <td>0</td>\n",
       "      <td>-0.2</td>\n",
       "      <td>0</td>\n",
       "      <td>Run_2</td>\n",
       "    </tr>\n",
       "    <tr>\n",
       "      <th>28</th>\n",
       "      <td>28</td>\n",
       "      <td>0</td>\n",
       "      <td>-0.2</td>\n",
       "      <td>0</td>\n",
       "      <td>Run_2</td>\n",
       "    </tr>\n",
       "    <tr>\n",
       "      <th>29</th>\n",
       "      <td>29</td>\n",
       "      <td>0</td>\n",
       "      <td>-0.2</td>\n",
       "      <td>0</td>\n",
       "      <td>Run_2</td>\n",
       "    </tr>\n",
       "  </tbody>\n",
       "</table>\n",
       "</div>"
      ],
      "text/plain": [
       "    Generation No.  Game Reward  Reward to Game Agent  Accumulated Reward  \\\n",
       "0                0            0                   0.0                   0   \n",
       "1                1            0                   0.0                   0   \n",
       "2                2            0                   0.0                   0   \n",
       "3                3            0                   0.0                   0   \n",
       "4                4            0                   0.0                   0   \n",
       "5                5            0                   0.0                   0   \n",
       "6                6            0                   0.0                   0   \n",
       "7                7            0                   0.0                   0   \n",
       "8                8            0                   0.0                   0   \n",
       "9                9            0                   0.0                   0   \n",
       "10              10            0                   0.0                   0   \n",
       "11              11            0                   0.0                   0   \n",
       "12              12            0                   0.0                   0   \n",
       "13              13            0                  -0.2                   0   \n",
       "14              14            0                  -0.2                   0   \n",
       "15              15            0                  -0.2                   0   \n",
       "16              16            0                  -0.2                   0   \n",
       "17              17            0                  -0.2                   0   \n",
       "18              18            0                  -0.2                   0   \n",
       "19              19            0                  -0.2                   0   \n",
       "20              20            0                  -0.2                   0   \n",
       "21              21            0                  -0.2                   0   \n",
       "22              22            0                  -0.2                   0   \n",
       "23              23            0                  -0.2                   0   \n",
       "24              24            0                  -0.2                   0   \n",
       "25              25            0                  -0.2                   0   \n",
       "26              26            0                  -0.2                   0   \n",
       "27              27            0                  -0.2                   0   \n",
       "28              28            0                  -0.2                   0   \n",
       "29              29            0                  -0.2                   0   \n",
       "\n",
       "     Type  \n",
       "0   Run_2  \n",
       "1   Run_2  \n",
       "2   Run_2  \n",
       "3   Run_2  \n",
       "4   Run_2  \n",
       "5   Run_2  \n",
       "6   Run_2  \n",
       "7   Run_2  \n",
       "8   Run_2  \n",
       "9   Run_2  \n",
       "10  Run_2  \n",
       "11  Run_2  \n",
       "12  Run_2  \n",
       "13  Run_2  \n",
       "14  Run_2  \n",
       "15  Run_2  \n",
       "16  Run_2  \n",
       "17  Run_2  \n",
       "18  Run_2  \n",
       "19  Run_2  \n",
       "20  Run_2  \n",
       "21  Run_2  \n",
       "22  Run_2  \n",
       "23  Run_2  \n",
       "24  Run_2  \n",
       "25  Run_2  \n",
       "26  Run_2  \n",
       "27  Run_2  \n",
       "28  Run_2  \n",
       "29  Run_2  "
      ]
     },
     "execution_count": 16,
     "metadata": {},
     "output_type": "execute_result"
    }
   ],
   "source": [
    "df_2_final[:30]"
   ]
  },
  {
   "cell_type": "code",
   "execution_count": 10,
   "metadata": {},
   "outputs": [
    {
     "data": {
      "text/plain": [
       "array(['Generation No.', 'Game Reward', 'Reward to Game Agent',\n",
       "       'Accumulated Reward', 'Type'], dtype=object)"
      ]
     },
     "execution_count": 10,
     "metadata": {},
     "output_type": "execute_result"
    }
   ],
   "source": [
    "df_2_final.columns.values"
   ]
  },
  {
   "cell_type": "code",
   "execution_count": 11,
   "metadata": {},
   "outputs": [
    {
     "data": {
      "text/plain": [
       "500"
      ]
     },
     "execution_count": 11,
     "metadata": {},
     "output_type": "execute_result"
    }
   ],
   "source": [
    "len(df_2_final)"
   ]
  },
  {
   "cell_type": "code",
   "execution_count": 12,
   "metadata": {},
   "outputs": [],
   "source": [
    "del df_2"
   ]
  },
  {
   "cell_type": "code",
   "execution_count": 13,
   "metadata": {},
   "outputs": [
    {
     "data": {
      "image/png": "[encoded data removed]",
      "text/plain": [
       "<Figure size 432x288 with 1 Axes>"
      ]
     },
     "metadata": {},
     "output_type": "display_data"
    }
   ],
   "source": [
    "plt.ylim(0,80)\n",
    "plt.plot(df_2_final['Generation No.'], df_2_final['Accumulated Reward'])\n",
    "plt.ylabel('Accumulated Reward')\n",
    "plt.xlabel('Generations')\n",
    "#plt.savefig('Evolution - Detective - Mean Accumulated Reward by Generations.png')\n",
    "plt.show()"
   ]
  },
  {
   "cell_type": "code",
   "execution_count": 14,
   "metadata": {},
   "outputs": [
    {
     "data": {
      "image/png": "[encoded data removed]",
      "text/plain": [
       "<Figure size 432x288 with 1 Axes>"
      ]
     },
     "metadata": {},
     "output_type": "display_data"
    }
   ],
   "source": [
    "#plt.ylim(0,80)\n",
    "plt.plot(df_2_final['Generation No.'], df_2_final['Reward to Game Agent'])\n",
    "plt.ylabel('Reward to Game Agent')\n",
    "plt.xlabel('Generations')\n",
    "#plt.savefig('Evolution - Detective - Mean Agent Accumulated Reward by Generations.png')\n",
    "\n",
    "plt.show()"
   ]
  },
  {
   "cell_type": "code",
   "execution_count": 15,
   "metadata": {},
   "outputs": [
    {
     "data": {
      "image/png": "[encoded data removed]",
      "text/plain": [
       "<Figure size 432x288 with 1 Axes>"
      ]
     },
     "metadata": {},
     "output_type": "display_data"
    }
   ],
   "source": [
    "#plt.ylim(0,80)\n",
    "plt.plot(df_2_final['Generation No.'], df_2_final['Game Reward'])\n",
    "plt.ylabel('Game Reward')\n",
    "plt.xlabel('Generations')\n",
    "#plt.savefig('Evolution - Detective - Mean Agent Accumulated Reward by Generations.png')\n",
    "\n",
    "plt.show()"
   ]
  },
  {
   "cell_type": "markdown",
   "metadata": {},
   "source": [
    "## RUN 3"
   ]
  },
  {
   "cell_type": "code",
   "execution_count": null,
   "metadata": {},
   "outputs": [],
   "source": [
    "with open('./finalruns/run_3/track_scores_detective_pop50gen500_210818.pkl', 'rb') as i:\n",
    "    x3 = pickle.load(i)"
   ]
  },
  {
   "cell_type": "code",
   "execution_count": null,
   "metadata": {},
   "outputs": [],
   "source": [
    "df_3 = pd.DataFrame(x3, columns=['State','Population no.','Generation No.','Action','Reward to Game Agent','Game Reward','Accumulated Reward'])"
   ]
  },
  {
   "cell_type": "code",
   "execution_count": null,
   "metadata": {
    "scrolled": true
   },
   "outputs": [],
   "source": [
    "#df_3[]\n",
    "df_3.loc[df_3['Generation No.'] == 152]"
   ]
  },
  {
   "cell_type": "code",
   "execution_count": null,
   "metadata": {},
   "outputs": [],
   "source": [
    "# check how many generations did it finish?\n",
    "df_3['Generation No.'].nunique()"
   ]
  },
  {
   "cell_type": "code",
   "execution_count": null,
   "metadata": {},
   "outputs": [],
   "source": [
    "# try group by generation no and get max\n",
    "df_3_final = df_3.groupby('Generation No.',as_index=False).agg({'Reward to Game Agent' : 'max','Game Reward' : 'max','Accumulated Reward' : 'max'})"
   ]
  },
  {
   "cell_type": "code",
   "execution_count": null,
   "metadata": {},
   "outputs": [],
   "source": [
    "## Create another column which says what type of data is this\n",
    "df_3_final['Type'] = 'Run_3'"
   ]
  },
  {
   "cell_type": "code",
   "execution_count": null,
   "metadata": {},
   "outputs": [],
   "source": [
    "df_3_final[150:160]"
   ]
  },
  {
   "cell_type": "code",
   "execution_count": null,
   "metadata": {},
   "outputs": [],
   "source": [
    "df_3_final.columns.values"
   ]
  },
  {
   "cell_type": "code",
   "execution_count": null,
   "metadata": {},
   "outputs": [],
   "source": [
    "len(df_3_final)"
   ]
  },
  {
   "cell_type": "code",
   "execution_count": null,
   "metadata": {},
   "outputs": [],
   "source": [
    "del df_3"
   ]
  },
  {
   "cell_type": "code",
   "execution_count": null,
   "metadata": {},
   "outputs": [],
   "source": [
    "plt.ylim(0,80)\n",
    "plt.plot(df_3_final['Generation No.'], df_3_final['Accumulated Reward'])\n",
    "plt.ylabel('Accumulated Reward')\n",
    "plt.xlabel('Generations')\n",
    "#plt.savefig('Evolution - Detective - Mean Accumulated Reward by Generations.png')\n",
    "\n",
    "plt.show()"
   ]
  },
  {
   "cell_type": "code",
   "execution_count": null,
   "metadata": {},
   "outputs": [],
   "source": [
    "#plt.ylim(0,80)\n",
    "plt.plot(df_3_final['Generation No.'], df_3_final['Reward to Game Agent'])\n",
    "plt.ylabel('Reward to Game Agent')\n",
    "plt.xlabel('Generations')\n",
    "#plt.savefig('Evolution - Detective - Mean Agent Accumulated Reward by Generations.png')\n",
    "\n",
    "plt.show()"
   ]
  },
  {
   "cell_type": "code",
   "execution_count": null,
   "metadata": {},
   "outputs": [],
   "source": [
    "#plt.ylim(0,80)\n",
    "plt.plot(df_3_final['Generation No.'], df_3_final['Game Reward'])\n",
    "plt.ylabel('Game Reward')\n",
    "plt.xlabel('Generations')\n",
    "#plt.savefig('Evolution - Detective - Mean Agent Accumulated Reward by Generations.png')\n",
    "\n",
    "plt.show()"
   ]
  },
  {
   "cell_type": "markdown",
   "metadata": {},
   "source": [
    "## RUN 4 "
   ]
  },
  {
   "cell_type": "code",
   "execution_count": null,
   "metadata": {},
   "outputs": [],
   "source": [
    "with open('./finalruns/run_4/track_scores_detective_pop50gen500_170818.pkl', 'rb') as i:\n",
    "    x4 = pickle.load(i)"
   ]
  },
  {
   "cell_type": "code",
   "execution_count": null,
   "metadata": {},
   "outputs": [],
   "source": [
    "df_4 = pd.DataFrame(x4, columns=['State','Population no.','Generation No.','Action','Reward to Game Agent','Game Reward','Accumulated Reward'])"
   ]
  },
  {
   "cell_type": "code",
   "execution_count": null,
   "metadata": {
    "scrolled": true
   },
   "outputs": [],
   "source": [
    "df_4[:5]"
   ]
  },
  {
   "cell_type": "code",
   "execution_count": null,
   "metadata": {},
   "outputs": [],
   "source": [
    "# check how many generations did it finish?\n",
    "df_4['Generation No.'].nunique()"
   ]
  },
  {
   "cell_type": "code",
   "execution_count": null,
   "metadata": {},
   "outputs": [],
   "source": [
    "# try group by generation no and get max\n",
    "df_4_final = df_4.groupby('Generation No.',as_index=False).agg({'Reward to Game Agent' : 'max','Game Reward' : 'max','Accumulated Reward' : 'max'})"
   ]
  },
  {
   "cell_type": "code",
   "execution_count": null,
   "metadata": {},
   "outputs": [],
   "source": [
    "## Create another column which says what type of data is this\n",
    "df_4_final['Type'] = 'Run_4'"
   ]
  },
  {
   "cell_type": "code",
   "execution_count": null,
   "metadata": {},
   "outputs": [],
   "source": [
    "df_4_final[:5]"
   ]
  },
  {
   "cell_type": "code",
   "execution_count": null,
   "metadata": {},
   "outputs": [],
   "source": [
    "df_4_final.columns.values"
   ]
  },
  {
   "cell_type": "code",
   "execution_count": null,
   "metadata": {},
   "outputs": [],
   "source": [
    "len(df_4_final)"
   ]
  },
  {
   "cell_type": "code",
   "execution_count": null,
   "metadata": {},
   "outputs": [],
   "source": [
    "del df_4"
   ]
  },
  {
   "cell_type": "code",
   "execution_count": null,
   "metadata": {},
   "outputs": [],
   "source": [
    "plt.ylim(0,80)\n",
    "plt.plot(df_4_final['Generation No.'], df_4_final['Accumulated Reward'])\n",
    "plt.ylabel('Accumulated Reward')\n",
    "plt.xlabel('Generations')\n",
    "#plt.savefig('Evolution - Detective - Mean Accumulated Reward by Generations.png')\n",
    "\n",
    "plt.show()"
   ]
  },
  {
   "cell_type": "code",
   "execution_count": null,
   "metadata": {},
   "outputs": [],
   "source": [
    "#plt.ylim(0,80)\n",
    "plt.plot(df_4_final['Generation No.'], df_4_final['Reward to Game Agent'])\n",
    "plt.ylabel('Reward to Game Agent')\n",
    "plt.xlabel('Generations')\n",
    "#plt.savefig('Evolution - Detective - Mean Agent Accumulated Reward by Generations.png')\n",
    "\n",
    "plt.show()"
   ]
  },
  {
   "cell_type": "code",
   "execution_count": null,
   "metadata": {},
   "outputs": [],
   "source": [
    "#plt.ylim(0,80)\n",
    "plt.plot(df_4_final['Generation No.'], df_4_final['Game Reward'])\n",
    "plt.ylabel('Game Reward')\n",
    "plt.xlabel('Generations')\n",
    "#plt.savefig('Evolution - Detective - Mean Agent Accumulated Reward by Generations.png')\n",
    "\n",
    "plt.show()"
   ]
  },
  {
   "cell_type": "markdown",
   "metadata": {},
   "source": [
    "## RUN 5 "
   ]
  },
  {
   "cell_type": "code",
   "execution_count": null,
   "metadata": {},
   "outputs": [],
   "source": [
    "with open('./finalruns/run_5/track_scores_detective_pop50gen500_170818.pkl', 'rb') as i:\n",
    "    x5 = pickle.load(i)"
   ]
  },
  {
   "cell_type": "code",
   "execution_count": null,
   "metadata": {},
   "outputs": [],
   "source": [
    "df_5 = pd.DataFrame(x5, columns=['State','Population no.','Generation No.','Action','Reward to Game Agent','Game Reward','Accumulated Reward'])"
   ]
  },
  {
   "cell_type": "code",
   "execution_count": null,
   "metadata": {
    "scrolled": true
   },
   "outputs": [],
   "source": [
    "df_5[:5]"
   ]
  },
  {
   "cell_type": "code",
   "execution_count": null,
   "metadata": {},
   "outputs": [],
   "source": [
    "# check how many generations did it finish?\n",
    "df_5['Generation No.'].nunique()"
   ]
  },
  {
   "cell_type": "code",
   "execution_count": null,
   "metadata": {},
   "outputs": [],
   "source": [
    "# try group by generation no and get mean\n",
    "df_5_final = df_5.groupby('Generation No.',as_index=False).agg({'Reward to Game Agent' : 'max','Game Reward' : 'max','Accumulated Reward' : 'max'})"
   ]
  },
  {
   "cell_type": "code",
   "execution_count": null,
   "metadata": {},
   "outputs": [],
   "source": [
    "## Create another column which says what type of data is this\n",
    "df_5_final['Type'] = 'Run_5'"
   ]
  },
  {
   "cell_type": "code",
   "execution_count": null,
   "metadata": {},
   "outputs": [],
   "source": [
    "df_5_final[:5]"
   ]
  },
  {
   "cell_type": "code",
   "execution_count": null,
   "metadata": {},
   "outputs": [],
   "source": [
    "df_5_final.columns.values"
   ]
  },
  {
   "cell_type": "code",
   "execution_count": null,
   "metadata": {},
   "outputs": [],
   "source": [
    "len(df_5_final)"
   ]
  },
  {
   "cell_type": "code",
   "execution_count": null,
   "metadata": {},
   "outputs": [],
   "source": [
    "del df_5"
   ]
  },
  {
   "cell_type": "code",
   "execution_count": null,
   "metadata": {},
   "outputs": [],
   "source": [
    "plt.ylim(0,80)\n",
    "plt.plot(df_5_final['Generation No.'], df_5_final['Accumulated Reward'])\n",
    "plt.ylabel('Accumulated Reward')\n",
    "plt.xlabel('Generations')\n",
    "#plt.savefig('Evolution - Detective - Mean Accumulated Reward by Generations.png')\n",
    "\n",
    "plt.show()"
   ]
  },
  {
   "cell_type": "code",
   "execution_count": null,
   "metadata": {},
   "outputs": [],
   "source": [
    "#plt.ylim(0,80)\n",
    "plt.plot(df_5_final['Generation No.'], df_5_final['Reward to Game Agent'])\n",
    "plt.ylabel('Reward to Game Agent')\n",
    "plt.xlabel('Generations')\n",
    "#plt.savefig('Evolution - Detective - Mean Agent Accumulated Reward by Generations.png')\n",
    "\n",
    "plt.show()"
   ]
  },
  {
   "cell_type": "code",
   "execution_count": null,
   "metadata": {},
   "outputs": [],
   "source": [
    "#plt.ylim(0,80)\n",
    "plt.plot(df_5_final['Generation No.'], df_5_final['Game Reward'])\n",
    "plt.ylabel('Game Reward')\n",
    "plt.xlabel('Generations')\n",
    "#plt.savefig('Evolution - Detective - Mean Agent Accumulated Reward by Generations.png')\n",
    "\n",
    "plt.show()"
   ]
  },
  {
   "cell_type": "markdown",
   "metadata": {},
   "source": [
    "# Merge All Statistics for the Runs"
   ]
  },
  {
   "cell_type": "code",
   "execution_count": null,
   "metadata": {},
   "outputs": [],
   "source": [
    "dfs = [df_1_final, df_2_final,df_3_final,df_4_final,df_5_final]"
   ]
  },
  {
   "cell_type": "code",
   "execution_count": null,
   "metadata": {},
   "outputs": [],
   "source": [
    "df_merged = pd.concat(dfs, ignore_index=True)"
   ]
  },
  {
   "cell_type": "code",
   "execution_count": null,
   "metadata": {},
   "outputs": [],
   "source": [
    "df_merged[:5]"
   ]
  },
  {
   "cell_type": "markdown",
   "metadata": {},
   "source": [
    "# Analyzing Results for the runs by neuroagents"
   ]
  },
  {
   "cell_type": "markdown",
   "metadata": {},
   "source": [
    "## plot of accumulated reward by runs - no confidence interval"
   ]
  },
  {
   "cell_type": "code",
   "execution_count": null,
   "metadata": {},
   "outputs": [],
   "source": [
    "## Without confidence interval\n",
    "\n",
    "# Plot the responses for different events and regions\n",
    "sns_plot = sns.lineplot(x=\"Generation No.\", y=\"Accumulated Reward\",\n",
    "           #  hue=\"Type\",\n",
    "             data=df_merged).set_title(\"Scores by NeuroAgent - Errorband Plot by Runs\")\n",
    "fig = sns_plot.get_figure()\n",
    "fig.savefig('Scores by NeuroAgent - Errorband Plot by Runs.png',bbox_inches='tight')\n",
    "#sns_plot.savefig(\"detective_plot_seaborn_neuro.png\",bbox_inches='tight')"
   ]
  },
  {
   "cell_type": "markdown",
   "metadata": {},
   "source": [
    "## plot of accumulated reward by runs - with confidence interval"
   ]
  },
  {
   "cell_type": "code",
   "execution_count": null,
   "metadata": {},
   "outputs": [],
   "source": [
    "#sns.set(style=\"darkgrid\")\n",
    "\n",
    "# With confidence interval\n",
    "# Plot the responses for different events and regions\n",
    "sns_plot = sns.lineplot(x=\"Generation No.\", y=\"Accumulated Reward\",\n",
    "             hue=\"Type\",ci=99.5,\n",
    "             data=df_merged).set_title(\"Scores by NeuroAgent - Errorband Plot by Runs with 99.5 confidence interval\")\n",
    "fig = sns_plot.get_figure()\n",
    "fig.savefig('Scores by NeuroAgent - Errorband Plot by Runs with 99.5 confidence interval.png',bbox_inches='tight')\n",
    "#sns_plot.savefig(\"detective_plot_seaborn_neuro.png\",bbox_inches='tight')"
   ]
  },
  {
   "cell_type": "markdown",
   "metadata": {},
   "source": [
    "## plot of reward to game agent by runs"
   ]
  },
  {
   "cell_type": "code",
   "execution_count": null,
   "metadata": {},
   "outputs": [],
   "source": [
    "#sns.set(style=\"darkgrid\")\n",
    "# Plot the responses for different events and regions\n",
    "sns_plot = sns.lineplot(x=\"Generation No.\", y=\"Reward to Game Agent\",\n",
    "             hue=\"Type\",\n",
    "             data=df_merged).set_title(\"Game Agent Reward by NeuroAgent\")\n",
    "fig = sns_plot.get_figure()\n",
    "#fig.savefig('Detective - Errorband Plot by Population.png',bbox_inches='tight')\n",
    "#sns_plot.savefig(\"detective_plot_seaborn_neuro.png\",bbox_inches='tight')"
   ]
  },
  {
   "cell_type": "markdown",
   "metadata": {},
   "source": [
    "# Baseline Result  - We perform 3 runs of the game with baseline agent using settings of 25,000 generations."
   ]
  },
  {
   "cell_type": "code",
   "execution_count": null,
   "metadata": {},
   "outputs": [],
   "source": [
    "with open('./Baseline/baseline_track_scores_computer_play_110818_run_1_detective.pkl', 'rb') as j:\n",
    "    y_1 = pickle.load(j)"
   ]
  },
  {
   "cell_type": "code",
   "execution_count": null,
   "metadata": {},
   "outputs": [],
   "source": [
    "with open('./Baseline/baseline_track_scores_computer_play_110818_run_2_detective.pkl', 'rb') as j:\n",
    "    y_2 = pickle.load(j)"
   ]
  },
  {
   "cell_type": "code",
   "execution_count": null,
   "metadata": {},
   "outputs": [],
   "source": [
    "with open('./Baseline/baseline_track_scores_computer_play_110818_run_3_detective.pkl', 'rb') as j:\n",
    "    y_3 = pickle.load(j)"
   ]
  },
  {
   "cell_type": "code",
   "execution_count": null,
   "metadata": {
    "scrolled": true
   },
   "outputs": [],
   "source": [
    "y_1[:2]"
   ]
  },
  {
   "cell_type": "code",
   "execution_count": null,
   "metadata": {},
   "outputs": [],
   "source": [
    "columns=['Counter','Game State','Action','Game Reward','Accumulated Reward']"
   ]
  },
  {
   "cell_type": "code",
   "execution_count": null,
   "metadata": {},
   "outputs": [],
   "source": [
    "df_baseline_run_1 = pd.DataFrame(y_1, columns=columns)"
   ]
  },
  {
   "cell_type": "code",
   "execution_count": null,
   "metadata": {},
   "outputs": [],
   "source": [
    "## Create another column which says what type of data is this\n",
    "df_baseline_run_1['Type'] = 'Run_1'"
   ]
  },
  {
   "cell_type": "code",
   "execution_count": null,
   "metadata": {},
   "outputs": [],
   "source": [
    "df_baseline_run_2 = pd.DataFrame(y_2, columns=columns)"
   ]
  },
  {
   "cell_type": "code",
   "execution_count": null,
   "metadata": {},
   "outputs": [],
   "source": [
    "## Create another column which says what type of data is this\n",
    "df_baseline_run_2['Type'] = 'Run_2'"
   ]
  },
  {
   "cell_type": "code",
   "execution_count": null,
   "metadata": {},
   "outputs": [],
   "source": [
    "df_baseline_run_3 = pd.DataFrame(y_3, columns=columns)"
   ]
  },
  {
   "cell_type": "code",
   "execution_count": null,
   "metadata": {},
   "outputs": [],
   "source": [
    "## Create another column which says what type of data is this\n",
    "df_baseline_run_3['Type'] = 'Run_3'"
   ]
  },
  {
   "cell_type": "code",
   "execution_count": null,
   "metadata": {},
   "outputs": [],
   "source": [
    "len(df_baseline_run_1)"
   ]
  },
  {
   "cell_type": "code",
   "execution_count": null,
   "metadata": {},
   "outputs": [],
   "source": [
    "len(df_baseline_run_2)"
   ]
  },
  {
   "cell_type": "code",
   "execution_count": null,
   "metadata": {},
   "outputs": [],
   "source": [
    "len(df_baseline_run_3)"
   ]
  },
  {
   "cell_type": "code",
   "execution_count": null,
   "metadata": {},
   "outputs": [],
   "source": [
    "df_baseline_run_1[:3]"
   ]
  },
  {
   "cell_type": "markdown",
   "metadata": {},
   "source": [
    "# Merge all results for baseline agent runs"
   ]
  },
  {
   "cell_type": "code",
   "execution_count": null,
   "metadata": {},
   "outputs": [],
   "source": [
    "dfs_baseline = [df_baseline_run_1,df_baseline_run_2,df_baseline_run_3]"
   ]
  },
  {
   "cell_type": "code",
   "execution_count": null,
   "metadata": {},
   "outputs": [],
   "source": [
    "df_baseline_merged = pd.concat(dfs_baseline, ignore_index=True)"
   ]
  },
  {
   "cell_type": "code",
   "execution_count": null,
   "metadata": {},
   "outputs": [],
   "source": [
    "len(df_baseline_merged)"
   ]
  },
  {
   "cell_type": "markdown",
   "metadata": {},
   "source": [
    "## Groupby counter and get the max of the column values for each run"
   ]
  },
  {
   "cell_type": "code",
   "execution_count": null,
   "metadata": {},
   "outputs": [],
   "source": [
    "# try group by generation no and get max\n",
    "df_baseline_merged_final = df_baseline_merged.groupby('Counter',as_index=False).agg({'Game Reward' : 'max','Accumulated Reward' : 'max'})"
   ]
  },
  {
   "cell_type": "code",
   "execution_count": null,
   "metadata": {},
   "outputs": [],
   "source": [
    "len(df_baseline_merged_final)"
   ]
  },
  {
   "cell_type": "code",
   "execution_count": null,
   "metadata": {},
   "outputs": [],
   "source": [
    "df_baseline_merged_final[:11]"
   ]
  },
  {
   "cell_type": "code",
   "execution_count": null,
   "metadata": {},
   "outputs": [],
   "source": [
    "# new column to group by intervals of 50\n",
    "df_baseline_merged_final['Generation No.'] = df_baseline_merged_final['Counter'] // 50"
   ]
  },
  {
   "cell_type": "code",
   "execution_count": null,
   "metadata": {},
   "outputs": [],
   "source": [
    "df_baseline_merged_final[35:55]"
   ]
  },
  {
   "cell_type": "code",
   "execution_count": null,
   "metadata": {},
   "outputs": [],
   "source": [
    "# try group by generation no and get max\n",
    "df_baseline_merged_final_final = df_baseline_merged_final.groupby('Generation No.',as_index=False).agg({'Game Reward' : 'max','Accumulated Reward' : 'max'})"
   ]
  },
  {
   "cell_type": "code",
   "execution_count": null,
   "metadata": {},
   "outputs": [],
   "source": [
    "df_baseline_merged_final_final[:10]"
   ]
  },
  {
   "cell_type": "code",
   "execution_count": null,
   "metadata": {},
   "outputs": [],
   "source": [
    "len(df_baseline_merged_final_final)"
   ]
  },
  {
   "cell_type": "markdown",
   "metadata": {},
   "source": [
    "## Plot scores for baseline agents"
   ]
  },
  {
   "cell_type": "code",
   "execution_count": null,
   "metadata": {},
   "outputs": [],
   "source": [
    "#sns.set(style=\"darkgrid\")\n",
    "\n",
    "## Without confidence interval\n",
    "\n",
    "# Plot the responses for different events and regions\n",
    "sns_plot = sns.lineplot(x=\"Generation No.\", y=\"Accumulated Reward\",\n",
    "             data=df_baseline_merged_final_final).set_title(\"Scores by Baseline\")\n",
    "fig = sns_plot.get_figure()\n",
    "#fig.savefig('Detective - Errorband Plot by Population.png',bbox_inches='tight')\n",
    "#sns_plot.savefig(\"detective_plot_seaborn_neuro.png\",bbox_inches='tight')"
   ]
  },
  {
   "cell_type": "markdown",
   "metadata": {},
   "source": [
    "# Compare scores to baselines and neuro evolution"
   ]
  },
  {
   "cell_type": "code",
   "execution_count": null,
   "metadata": {},
   "outputs": [],
   "source": [
    "df_merged[:5]"
   ]
  },
  {
   "cell_type": "code",
   "execution_count": null,
   "metadata": {},
   "outputs": [],
   "source": [
    "len(df_merged)"
   ]
  },
  {
   "cell_type": "code",
   "execution_count": null,
   "metadata": {},
   "outputs": [],
   "source": [
    "df_baseline_merged_final_final[:5]"
   ]
  },
  {
   "cell_type": "code",
   "execution_count": null,
   "metadata": {},
   "outputs": [],
   "source": [
    "len(df_baseline_merged_final_final)"
   ]
  },
  {
   "cell_type": "markdown",
   "metadata": {},
   "source": [
    "# add type to baselines merged"
   ]
  },
  {
   "cell_type": "code",
   "execution_count": null,
   "metadata": {},
   "outputs": [],
   "source": [
    "## Create another column which says what type of data is this\n",
    "df_baseline_merged_final_final['Type'] = 'Baseline'"
   ]
  },
  {
   "cell_type": "code",
   "execution_count": null,
   "metadata": {},
   "outputs": [],
   "source": [
    "df_baseline_merged_final_final[:5]"
   ]
  },
  {
   "cell_type": "markdown",
   "metadata": {},
   "source": [
    "# merging both baseline and neuro agent results"
   ]
  },
  {
   "cell_type": "code",
   "execution_count": null,
   "metadata": {},
   "outputs": [],
   "source": [
    "#df_combined_merged = pd.concat([df_merged, df_baseline_merged_final_final]).fillna(0)\n",
    "df_combined_merged = pd.concat([df_merged, df_baseline_merged_final_final])"
   ]
  },
  {
   "cell_type": "code",
   "execution_count": null,
   "metadata": {},
   "outputs": [],
   "source": [
    "len(df_combined_merged)"
   ]
  },
  {
   "cell_type": "code",
   "execution_count": null,
   "metadata": {},
   "outputs": [],
   "source": [
    "df_combined_merged[:10]"
   ]
  },
  {
   "cell_type": "code",
   "execution_count": null,
   "metadata": {},
   "outputs": [],
   "source": [
    "#sns.set(style=\"darkgrid\")\n",
    "\n",
    "## Without confidence interval\n",
    "\n",
    "# Plot the responses for different events and regions\n",
    "sns_plot = sns.lineplot(x=\"Generation No.\", y=\"Accumulated Reward\",\n",
    "             hue=\"Type\",\n",
    "             data=df_combined_merged).set_title(\"Comparison of scores by NeuroAgenty by runs and Baseline\")\n",
    "fig = sns_plot.get_figure()\n",
    "fig.savefig('Comparison of scores by NeuroAgenty by runs and Baseline.png',bbox_inches='tight')\n",
    "#sns_plot.savefig(\"detective_plot_seaborn_neuro.png\",bbox_inches='tight')"
   ]
  },
  {
   "cell_type": "markdown",
   "metadata": {},
   "source": [
    "## Try grouping by all the scores of the neuro agents"
   ]
  },
  {
   "cell_type": "code",
   "execution_count": null,
   "metadata": {},
   "outputs": [],
   "source": [
    "# try group by generation no and get mean\n",
    "df_agents_merged = df_merged.groupby('Generation No.',as_index=False).agg({'Game Reward' : 'max','Accumulated Reward' : 'max'})"
   ]
  },
  {
   "cell_type": "code",
   "execution_count": null,
   "metadata": {},
   "outputs": [],
   "source": [
    "len(df_agents_merged)"
   ]
  },
  {
   "cell_type": "code",
   "execution_count": null,
   "metadata": {},
   "outputs": [],
   "source": [
    "## Create another column which says what type of data is this\n",
    "df_agents_merged['Type'] = 'SNS'"
   ]
  },
  {
   "cell_type": "code",
   "execution_count": null,
   "metadata": {},
   "outputs": [],
   "source": [
    "df_agents_merged[:5]"
   ]
  },
  {
   "cell_type": "markdown",
   "metadata": {},
   "source": [
    "# Concate with baseline"
   ]
  },
  {
   "cell_type": "code",
   "execution_count": null,
   "metadata": {},
   "outputs": [],
   "source": [
    "df_combined_agents_merged = pd.concat([df_agents_merged, df_baseline_merged_final_final])"
   ]
  },
  {
   "cell_type": "code",
   "execution_count": null,
   "metadata": {},
   "outputs": [],
   "source": [
    "len(df_combined_agents_merged)"
   ]
  },
  {
   "cell_type": "code",
   "execution_count": null,
   "metadata": {},
   "outputs": [],
   "source": [
    "#sns.set(style=\"darkgrid\")\n",
    "\n",
    "## Without confidence interval\n",
    "\n",
    "# Plot the responses for different events and regions\n",
    "sns_plot = sns.lineplot(x=\"Generation No.\", y=\"Accumulated Reward\",\n",
    "             hue=\"Type\",\n",
    "             data=df_combined_agents_merged).set_title(\"Comparison of scores by NeuroAgent and Baseline\")\n",
    "fig = sns_plot.get_figure()\n",
    "fig.savefig('Comparison of scores by NeuroAgent and Baseline.png')\n",
    "#sns_plot.savefig(\"detective_plot_seaborn_neuro.png\",bbox_inches='tight')"
   ]
  }
 ],
 "metadata": {
  "kernelspec": {
   "display_name": "Python 2",
   "language": "python",
   "name": "python2"
  },
  "language_info": {
   "codemirror_mode": {
    "name": "ipython",
    "version": 2
   },
   "file_extension": ".py",
   "mimetype": "text/x-python",
   "name": "python",
   "nbconvert_exporter": "python",
   "pygments_lexer": "ipython2",
   "version": "2.7.15"
  }
 },
 "nbformat": 4,
 "nbformat_minor": 2
}
