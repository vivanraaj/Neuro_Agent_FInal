{
 "cells": [
  {
   "cell_type": "markdown",
   "metadata": {},
   "source": [
    "## Neuroevolution Strategy"
   ]
  },
  {
   "cell_type": "code",
   "execution_count": 1,
   "metadata": {},
   "outputs": [],
   "source": [
    "import pickle\n",
    "import sys\n",
    "import pandas as pd\n",
    "import matplotlib.pyplot as plt\n",
    "import seaborn as sns"
   ]
  },
  {
   "cell_type": "markdown",
   "metadata": {},
   "source": [
    "# Game Chosen - Balances Game"
   ]
  },
  {
   "cell_type": "markdown",
   "metadata": {},
   "source": [
    "## Neuro Agent Strategy - We perform 5 runs of the game with settings of 50 population and 500 generations. Below are the results for each run "
   ]
  },
  {
   "cell_type": "markdown",
   "metadata": {},
   "source": [
    "## RUN 1"
   ]
  },
  {
   "cell_type": "code",
   "execution_count": 2,
   "metadata": {},
   "outputs": [],
   "source": [
    "with open('./finalruns/run_1/track_scores_Murdac_pop50gen500_230818.pkl', 'rb') as i:\n",
    "    x1 = pickle.load(i)"
   ]
  },
  {
   "cell_type": "code",
   "execution_count": 3,
   "metadata": {},
   "outputs": [],
   "source": [
    "df_1 = pd.DataFrame(x1, columns=['State','Population no.','Generation No.','Action','Agent Reward','Game Reward','Score'])"
   ]
  },
  {
   "cell_type": "code",
   "execution_count": 4,
   "metadata": {
    "scrolled": false
   },
   "outputs": [
    {
     "data": {
      "text/html": [
       "<div>\n",
       "<style scoped>\n",
       "    .dataframe tbody tr th:only-of-type {\n",
       "        vertical-align: middle;\n",
       "    }\n",
       "\n",
       "    .dataframe tbody tr th {\n",
       "        vertical-align: top;\n",
       "    }\n",
       "\n",
       "    .dataframe thead th {\n",
       "        text-align: right;\n",
       "    }\n",
       "</style>\n",
       "<table border=\"1\" class=\"dataframe\">\n",
       "  <thead>\n",
       "    <tr style=\"text-align: right;\">\n",
       "      <th></th>\n",
       "      <th>State</th>\n",
       "      <th>Population no.</th>\n",
       "      <th>Generation No.</th>\n",
       "      <th>Action</th>\n",
       "      <th>Agent Reward</th>\n",
       "      <th>Game Reward</th>\n",
       "      <th>Score</th>\n",
       "    </tr>\n",
       "  </thead>\n",
       "  <tbody>\n",
       "    <tr>\n",
       "      <th>0</th>\n",
       "      <td></td>\n",
       "      <td>0</td>\n",
       "      <td>0</td>\n",
       "      <td>get all</td>\n",
       "      <td>-0.2</td>\n",
       "      <td>0</td>\n",
       "      <td>0</td>\n",
       "    </tr>\n",
       "    <tr>\n",
       "      <th>1</th>\n",
       "      <td></td>\n",
       "      <td>1</td>\n",
       "      <td>0</td>\n",
       "      <td>look</td>\n",
       "      <td>-0.2</td>\n",
       "      <td>0</td>\n",
       "      <td>0</td>\n",
       "    </tr>\n",
       "    <tr>\n",
       "      <th>2</th>\n",
       "      <td></td>\n",
       "      <td>2</td>\n",
       "      <td>0</td>\n",
       "      <td>inventory</td>\n",
       "      <td>-0.2</td>\n",
       "      <td>0</td>\n",
       "      <td>0</td>\n",
       "    </tr>\n",
       "    <tr>\n",
       "      <th>3</th>\n",
       "      <td></td>\n",
       "      <td>3</td>\n",
       "      <td>0</td>\n",
       "      <td>look</td>\n",
       "      <td>-0.2</td>\n",
       "      <td>0</td>\n",
       "      <td>0</td>\n",
       "    </tr>\n",
       "    <tr>\n",
       "      <th>4</th>\n",
       "      <td></td>\n",
       "      <td>4</td>\n",
       "      <td>0</td>\n",
       "      <td>get</td>\n",
       "      <td>-0.2</td>\n",
       "      <td>0</td>\n",
       "      <td>0</td>\n",
       "    </tr>\n",
       "  </tbody>\n",
       "</table>\n",
       "</div>"
      ],
      "text/plain": [
       "  State  Population no.  Generation No.     Action  Agent Reward  Game Reward  \\\n",
       "0                     0               0    get all          -0.2            0   \n",
       "1                     1               0       look          -0.2            0   \n",
       "2                     2               0  inventory          -0.2            0   \n",
       "3                     3               0       look          -0.2            0   \n",
       "4                     4               0        get          -0.2            0   \n",
       "\n",
       "   Score  \n",
       "0      0  \n",
       "1      0  \n",
       "2      0  \n",
       "3      0  \n",
       "4      0  "
      ]
     },
     "execution_count": 4,
     "metadata": {},
     "output_type": "execute_result"
    }
   ],
   "source": [
    "df_1[:5]"
   ]
  },
  {
   "cell_type": "code",
   "execution_count": 5,
   "metadata": {},
   "outputs": [
    {
     "data": {
      "text/plain": [
       "400"
      ]
     },
     "execution_count": 5,
     "metadata": {},
     "output_type": "execute_result"
    }
   ],
   "source": [
    "# check how many generations did it finish.\n",
    "df_1['Generation No.'].nunique()"
   ]
  },
  {
   "cell_type": "code",
   "execution_count": 6,
   "metadata": {},
   "outputs": [
    {
     "data": {
      "text/plain": [
       "3"
      ]
     },
     "execution_count": 6,
     "metadata": {},
     "output_type": "execute_result"
    }
   ],
   "source": [
    "df_1['Game Reward'].nunique()"
   ]
  },
  {
   "cell_type": "code",
   "execution_count": 7,
   "metadata": {},
   "outputs": [
    {
     "data": {
      "text/html": [
       "<div>\n",
       "<style scoped>\n",
       "    .dataframe tbody tr th:only-of-type {\n",
       "        vertical-align: middle;\n",
       "    }\n",
       "\n",
       "    .dataframe tbody tr th {\n",
       "        vertical-align: top;\n",
       "    }\n",
       "\n",
       "    .dataframe thead th {\n",
       "        text-align: right;\n",
       "    }\n",
       "</style>\n",
       "<table border=\"1\" class=\"dataframe\">\n",
       "  <thead>\n",
       "    <tr style=\"text-align: right;\">\n",
       "      <th></th>\n",
       "      <th>State</th>\n",
       "      <th>Population no.</th>\n",
       "      <th>Generation No.</th>\n",
       "      <th>Action</th>\n",
       "      <th>Agent Reward</th>\n",
       "      <th>Game Reward</th>\n",
       "      <th>Score</th>\n",
       "    </tr>\n",
       "  </thead>\n",
       "  <tbody>\n",
       "    <tr>\n",
       "      <th>50</th>\n",
       "      <td>Welcome to Adventure! Murdac An adventure gam...</td>\n",
       "      <td>0</td>\n",
       "      <td>1</td>\n",
       "      <td>switch</td>\n",
       "      <td>12.0</td>\n",
       "      <td>10</td>\n",
       "      <td>10</td>\n",
       "    </tr>\n",
       "    <tr>\n",
       "      <th>105</th>\n",
       "      <td>You are in a small well-maintained sandpit. T...</td>\n",
       "      <td>5</td>\n",
       "      <td>2</td>\n",
       "      <td>look</td>\n",
       "      <td>12.0</td>\n",
       "      <td>10</td>\n",
       "      <td>10</td>\n",
       "    </tr>\n",
       "    <tr>\n",
       "      <th>203</th>\n",
       "      <td>You are in a small well-maintained sandpit. T...</td>\n",
       "      <td>3</td>\n",
       "      <td>4</td>\n",
       "      <td>look</td>\n",
       "      <td>12.0</td>\n",
       "      <td>10</td>\n",
       "      <td>10</td>\n",
       "    </tr>\n",
       "    <tr>\n",
       "      <th>253</th>\n",
       "      <td>You are in a small well-maintained sandpit. T...</td>\n",
       "      <td>3</td>\n",
       "      <td>5</td>\n",
       "      <td>look</td>\n",
       "      <td>12.0</td>\n",
       "      <td>10</td>\n",
       "      <td>10</td>\n",
       "    </tr>\n",
       "    <tr>\n",
       "      <th>269</th>\n",
       "      <td>You are in a small well-maintained sandpit. T...</td>\n",
       "      <td>19</td>\n",
       "      <td>5</td>\n",
       "      <td>look</td>\n",
       "      <td>12.0</td>\n",
       "      <td>10</td>\n",
       "      <td>10</td>\n",
       "    </tr>\n",
       "    <tr>\n",
       "      <th>453</th>\n",
       "      <td>You are in a small well-maintained sandpit. T...</td>\n",
       "      <td>3</td>\n",
       "      <td>9</td>\n",
       "      <td>look</td>\n",
       "      <td>12.0</td>\n",
       "      <td>10</td>\n",
       "      <td>10</td>\n",
       "    </tr>\n",
       "    <tr>\n",
       "      <th>531</th>\n",
       "      <td>You are in a small well-maintained sandpit. T...</td>\n",
       "      <td>31</td>\n",
       "      <td>10</td>\n",
       "      <td>look</td>\n",
       "      <td>12.0</td>\n",
       "      <td>10</td>\n",
       "      <td>10</td>\n",
       "    </tr>\n",
       "    <tr>\n",
       "      <th>645</th>\n",
       "      <td>You are at an old, untended grave. The tombst...</td>\n",
       "      <td>45</td>\n",
       "      <td>12</td>\n",
       "      <td>look</td>\n",
       "      <td>12.0</td>\n",
       "      <td>10</td>\n",
       "      <td>10</td>\n",
       "    </tr>\n",
       "    <tr>\n",
       "      <th>875</th>\n",
       "      <td>You are in a small well-maintained sandpit. T...</td>\n",
       "      <td>25</td>\n",
       "      <td>17</td>\n",
       "      <td>look</td>\n",
       "      <td>12.0</td>\n",
       "      <td>10</td>\n",
       "      <td>10</td>\n",
       "    </tr>\n",
       "    <tr>\n",
       "      <th>909</th>\n",
       "      <td>You are in a small well-maintained sandpit. T...</td>\n",
       "      <td>9</td>\n",
       "      <td>18</td>\n",
       "      <td>look</td>\n",
       "      <td>12.0</td>\n",
       "      <td>10</td>\n",
       "      <td>10</td>\n",
       "    </tr>\n",
       "    <tr>\n",
       "      <th>1001</th>\n",
       "      <td>You are in a small well-maintained sandpit. T...</td>\n",
       "      <td>1</td>\n",
       "      <td>20</td>\n",
       "      <td>look</td>\n",
       "      <td>12.0</td>\n",
       "      <td>10</td>\n",
       "      <td>10</td>\n",
       "    </tr>\n",
       "    <tr>\n",
       "      <th>1049</th>\n",
       "      <td>You are in a small well-maintained sandpit. T...</td>\n",
       "      <td>49</td>\n",
       "      <td>20</td>\n",
       "      <td>look</td>\n",
       "      <td>12.0</td>\n",
       "      <td>10</td>\n",
       "      <td>10</td>\n",
       "    </tr>\n",
       "    <tr>\n",
       "      <th>1249</th>\n",
       "      <td>You are at an old, untended grave. The tombst...</td>\n",
       "      <td>49</td>\n",
       "      <td>24</td>\n",
       "      <td>look</td>\n",
       "      <td>12.0</td>\n",
       "      <td>10</td>\n",
       "      <td>10</td>\n",
       "    </tr>\n",
       "    <tr>\n",
       "      <th>1405</th>\n",
       "      <td>You are at an old, untended grave. The tombst...</td>\n",
       "      <td>5</td>\n",
       "      <td>28</td>\n",
       "      <td>look</td>\n",
       "      <td>12.0</td>\n",
       "      <td>10</td>\n",
       "      <td>10</td>\n",
       "    </tr>\n",
       "    <tr>\n",
       "      <th>1533</th>\n",
       "      <td>You are standing outside the door of a small ...</td>\n",
       "      <td>33</td>\n",
       "      <td>30</td>\n",
       "      <td>look</td>\n",
       "      <td>12.0</td>\n",
       "      <td>10</td>\n",
       "      <td>10</td>\n",
       "    </tr>\n",
       "    <tr>\n",
       "      <th>1561</th>\n",
       "      <td>You are standing outside the door of a small ...</td>\n",
       "      <td>11</td>\n",
       "      <td>31</td>\n",
       "      <td>look</td>\n",
       "      <td>12.0</td>\n",
       "      <td>10</td>\n",
       "      <td>10</td>\n",
       "    </tr>\n",
       "    <tr>\n",
       "      <th>1573</th>\n",
       "      <td>You are standing outside the door of a small ...</td>\n",
       "      <td>23</td>\n",
       "      <td>31</td>\n",
       "      <td>look</td>\n",
       "      <td>12.0</td>\n",
       "      <td>10</td>\n",
       "      <td>10</td>\n",
       "    </tr>\n",
       "    <tr>\n",
       "      <th>1645</th>\n",
       "      <td>You are in a garden of luxurious flowers. The...</td>\n",
       "      <td>45</td>\n",
       "      <td>32</td>\n",
       "      <td>look</td>\n",
       "      <td>12.0</td>\n",
       "      <td>10</td>\n",
       "      <td>10</td>\n",
       "    </tr>\n",
       "    <tr>\n",
       "      <th>1709</th>\n",
       "      <td>You are in a garden of luxurious flowers. The...</td>\n",
       "      <td>9</td>\n",
       "      <td>34</td>\n",
       "      <td>look</td>\n",
       "      <td>12.0</td>\n",
       "      <td>10</td>\n",
       "      <td>10</td>\n",
       "    </tr>\n",
       "    <tr>\n",
       "      <th>1767</th>\n",
       "      <td>You are in a garden of luxurious flowers. The...</td>\n",
       "      <td>17</td>\n",
       "      <td>35</td>\n",
       "      <td>look</td>\n",
       "      <td>12.0</td>\n",
       "      <td>10</td>\n",
       "      <td>10</td>\n",
       "    </tr>\n",
       "    <tr>\n",
       "      <th>1883</th>\n",
       "      <td>You are in a garden of luxurious flowers. The...</td>\n",
       "      <td>33</td>\n",
       "      <td>37</td>\n",
       "      <td>look</td>\n",
       "      <td>12.0</td>\n",
       "      <td>10</td>\n",
       "      <td>10</td>\n",
       "    </tr>\n",
       "    <tr>\n",
       "      <th>1923</th>\n",
       "      <td>You are in a garden of luxurious flowers. The...</td>\n",
       "      <td>23</td>\n",
       "      <td>38</td>\n",
       "      <td>look</td>\n",
       "      <td>12.0</td>\n",
       "      <td>10</td>\n",
       "      <td>10</td>\n",
       "    </tr>\n",
       "    <tr>\n",
       "      <th>2031</th>\n",
       "      <td>You are in the garden at the remnants of a bo...</td>\n",
       "      <td>31</td>\n",
       "      <td>40</td>\n",
       "      <td>look</td>\n",
       "      <td>12.0</td>\n",
       "      <td>10</td>\n",
       "      <td>10</td>\n",
       "    </tr>\n",
       "    <tr>\n",
       "      <th>2479</th>\n",
       "      <td>You are in the garden at the remnants of a bo...</td>\n",
       "      <td>29</td>\n",
       "      <td>49</td>\n",
       "      <td>look</td>\n",
       "      <td>12.0</td>\n",
       "      <td>10</td>\n",
       "      <td>10</td>\n",
       "    </tr>\n",
       "    <tr>\n",
       "      <th>2581</th>\n",
       "      <td>You are in a garden of luxurious flowers. The...</td>\n",
       "      <td>31</td>\n",
       "      <td>51</td>\n",
       "      <td>look</td>\n",
       "      <td>12.0</td>\n",
       "      <td>10</td>\n",
       "      <td>10</td>\n",
       "    </tr>\n",
       "    <tr>\n",
       "      <th>2663</th>\n",
       "      <td>You are in a garden of luxurious flowers. The...</td>\n",
       "      <td>13</td>\n",
       "      <td>53</td>\n",
       "      <td>look</td>\n",
       "      <td>12.0</td>\n",
       "      <td>10</td>\n",
       "      <td>10</td>\n",
       "    </tr>\n",
       "    <tr>\n",
       "      <th>2671</th>\n",
       "      <td>You are in a garden of luxurious flowers. The...</td>\n",
       "      <td>21</td>\n",
       "      <td>53</td>\n",
       "      <td>look</td>\n",
       "      <td>12.0</td>\n",
       "      <td>10</td>\n",
       "      <td>10</td>\n",
       "    </tr>\n",
       "    <tr>\n",
       "      <th>2769</th>\n",
       "      <td>You are in a garden of luxurious flowers. The...</td>\n",
       "      <td>19</td>\n",
       "      <td>55</td>\n",
       "      <td>look</td>\n",
       "      <td>12.0</td>\n",
       "      <td>10</td>\n",
       "      <td>10</td>\n",
       "    </tr>\n",
       "    <tr>\n",
       "      <th>2869</th>\n",
       "      <td>You are in a garden of luxurious flowers. The...</td>\n",
       "      <td>19</td>\n",
       "      <td>57</td>\n",
       "      <td>look</td>\n",
       "      <td>12.0</td>\n",
       "      <td>10</td>\n",
       "      <td>10</td>\n",
       "    </tr>\n",
       "    <tr>\n",
       "      <th>2943</th>\n",
       "      <td>You are in a rock garden. There are paths to ...</td>\n",
       "      <td>43</td>\n",
       "      <td>58</td>\n",
       "      <td>look</td>\n",
       "      <td>12.0</td>\n",
       "      <td>10</td>\n",
       "      <td>10</td>\n",
       "    </tr>\n",
       "    <tr>\n",
       "      <th>...</th>\n",
       "      <td>...</td>\n",
       "      <td>...</td>\n",
       "      <td>...</td>\n",
       "      <td>...</td>\n",
       "      <td>...</td>\n",
       "      <td>...</td>\n",
       "      <td>...</td>\n",
       "    </tr>\n",
       "    <tr>\n",
       "      <th>16385</th>\n",
       "      <td>You are in a garden of exotic vegetables. The...</td>\n",
       "      <td>35</td>\n",
       "      <td>327</td>\n",
       "      <td>look</td>\n",
       "      <td>12.0</td>\n",
       "      <td>10</td>\n",
       "      <td>10</td>\n",
       "    </tr>\n",
       "    <tr>\n",
       "      <th>16453</th>\n",
       "      <td>You are in a garden of exotic vegetables. The...</td>\n",
       "      <td>3</td>\n",
       "      <td>329</td>\n",
       "      <td>look</td>\n",
       "      <td>12.0</td>\n",
       "      <td>10</td>\n",
       "      <td>10</td>\n",
       "    </tr>\n",
       "    <tr>\n",
       "      <th>16467</th>\n",
       "      <td>You are in a garden of exotic vegetables. The...</td>\n",
       "      <td>17</td>\n",
       "      <td>329</td>\n",
       "      <td>look</td>\n",
       "      <td>12.0</td>\n",
       "      <td>10</td>\n",
       "      <td>10</td>\n",
       "    </tr>\n",
       "    <tr>\n",
       "      <th>16565</th>\n",
       "      <td>You are in a garden of exotic vegetables. The...</td>\n",
       "      <td>15</td>\n",
       "      <td>331</td>\n",
       "      <td>look</td>\n",
       "      <td>12.0</td>\n",
       "      <td>10</td>\n",
       "      <td>10</td>\n",
       "    </tr>\n",
       "    <tr>\n",
       "      <th>16693</th>\n",
       "      <td>You are in a garden of exotic vegetables. The...</td>\n",
       "      <td>43</td>\n",
       "      <td>333</td>\n",
       "      <td>look</td>\n",
       "      <td>12.0</td>\n",
       "      <td>10</td>\n",
       "      <td>10</td>\n",
       "    </tr>\n",
       "    <tr>\n",
       "      <th>16775</th>\n",
       "      <td>You are in a garden of exotic vegetables. The...</td>\n",
       "      <td>25</td>\n",
       "      <td>335</td>\n",
       "      <td>look</td>\n",
       "      <td>12.0</td>\n",
       "      <td>10</td>\n",
       "      <td>10</td>\n",
       "    </tr>\n",
       "    <tr>\n",
       "      <th>16795</th>\n",
       "      <td>You are in a garden of exotic vegetables. The...</td>\n",
       "      <td>45</td>\n",
       "      <td>335</td>\n",
       "      <td>look</td>\n",
       "      <td>12.0</td>\n",
       "      <td>10</td>\n",
       "      <td>10</td>\n",
       "    </tr>\n",
       "    <tr>\n",
       "      <th>16937</th>\n",
       "      <td>You are in a shrubbery. There are paths to th...</td>\n",
       "      <td>37</td>\n",
       "      <td>338</td>\n",
       "      <td>look</td>\n",
       "      <td>12.0</td>\n",
       "      <td>10</td>\n",
       "      <td>10</td>\n",
       "    </tr>\n",
       "    <tr>\n",
       "      <th>17085</th>\n",
       "      <td>You are in a shrubbery. There are paths to th...</td>\n",
       "      <td>35</td>\n",
       "      <td>341</td>\n",
       "      <td>look</td>\n",
       "      <td>12.0</td>\n",
       "      <td>10</td>\n",
       "      <td>10</td>\n",
       "    </tr>\n",
       "    <tr>\n",
       "      <th>17113</th>\n",
       "      <td>You are in a shrubbery. There are paths to th...</td>\n",
       "      <td>13</td>\n",
       "      <td>342</td>\n",
       "      <td>look</td>\n",
       "      <td>12.0</td>\n",
       "      <td>10</td>\n",
       "      <td>10</td>\n",
       "    </tr>\n",
       "    <tr>\n",
       "      <th>17153</th>\n",
       "      <td>You are in a shrubbery. There are paths to th...</td>\n",
       "      <td>3</td>\n",
       "      <td>343</td>\n",
       "      <td>look</td>\n",
       "      <td>12.0</td>\n",
       "      <td>10</td>\n",
       "      <td>10</td>\n",
       "    </tr>\n",
       "    <tr>\n",
       "      <th>17239</th>\n",
       "      <td>You are in a shrubbery. There are paths to th...</td>\n",
       "      <td>39</td>\n",
       "      <td>344</td>\n",
       "      <td>look</td>\n",
       "      <td>12.0</td>\n",
       "      <td>10</td>\n",
       "      <td>10</td>\n",
       "    </tr>\n",
       "    <tr>\n",
       "      <th>17403</th>\n",
       "      <td>You are in a shrubbery. There are paths to th...</td>\n",
       "      <td>3</td>\n",
       "      <td>348</td>\n",
       "      <td>look</td>\n",
       "      <td>12.0</td>\n",
       "      <td>10</td>\n",
       "      <td>10</td>\n",
       "    </tr>\n",
       "    <tr>\n",
       "      <th>17737</th>\n",
       "      <td>You are in a shrubbery. There are paths to th...</td>\n",
       "      <td>37</td>\n",
       "      <td>354</td>\n",
       "      <td>look</td>\n",
       "      <td>12.0</td>\n",
       "      <td>10</td>\n",
       "      <td>10</td>\n",
       "    </tr>\n",
       "    <tr>\n",
       "      <th>17885</th>\n",
       "      <td>You are in a shrubbery. There are paths to th...</td>\n",
       "      <td>35</td>\n",
       "      <td>357</td>\n",
       "      <td>look</td>\n",
       "      <td>12.0</td>\n",
       "      <td>10</td>\n",
       "      <td>10</td>\n",
       "    </tr>\n",
       "    <tr>\n",
       "      <th>17981</th>\n",
       "      <td>You are in a garden of exotic vegetables. The...</td>\n",
       "      <td>31</td>\n",
       "      <td>359</td>\n",
       "      <td>look</td>\n",
       "      <td>12.0</td>\n",
       "      <td>10</td>\n",
       "      <td>10</td>\n",
       "    </tr>\n",
       "    <tr>\n",
       "      <th>18159</th>\n",
       "      <td>You are in a garden of exotic vegetables. The...</td>\n",
       "      <td>9</td>\n",
       "      <td>363</td>\n",
       "      <td>look</td>\n",
       "      <td>12.0</td>\n",
       "      <td>10</td>\n",
       "      <td>10</td>\n",
       "    </tr>\n",
       "    <tr>\n",
       "      <th>18219</th>\n",
       "      <td>You are in a garden of exotic vegetables. The...</td>\n",
       "      <td>19</td>\n",
       "      <td>364</td>\n",
       "      <td>look</td>\n",
       "      <td>12.0</td>\n",
       "      <td>10</td>\n",
       "      <td>10</td>\n",
       "    </tr>\n",
       "    <tr>\n",
       "      <th>18249</th>\n",
       "      <td>You are in a garden of exotic vegetables. The...</td>\n",
       "      <td>49</td>\n",
       "      <td>364</td>\n",
       "      <td>look</td>\n",
       "      <td>12.0</td>\n",
       "      <td>10</td>\n",
       "      <td>10</td>\n",
       "    </tr>\n",
       "    <tr>\n",
       "      <th>18419</th>\n",
       "      <td>You are in a garden of exotic vegetables. The...</td>\n",
       "      <td>19</td>\n",
       "      <td>368</td>\n",
       "      <td>look</td>\n",
       "      <td>12.0</td>\n",
       "      <td>10</td>\n",
       "      <td>10</td>\n",
       "    </tr>\n",
       "    <tr>\n",
       "      <th>18433</th>\n",
       "      <td>You are in a garden of exotic vegetables. The...</td>\n",
       "      <td>33</td>\n",
       "      <td>368</td>\n",
       "      <td>look</td>\n",
       "      <td>12.0</td>\n",
       "      <td>10</td>\n",
       "      <td>10</td>\n",
       "    </tr>\n",
       "    <tr>\n",
       "      <th>18687</th>\n",
       "      <td>You are in a garden of exotic vegetables. The...</td>\n",
       "      <td>37</td>\n",
       "      <td>373</td>\n",
       "      <td>look</td>\n",
       "      <td>12.0</td>\n",
       "      <td>10</td>\n",
       "      <td>10</td>\n",
       "    </tr>\n",
       "    <tr>\n",
       "      <th>18691</th>\n",
       "      <td>You are in a garden of exotic vegetables. The...</td>\n",
       "      <td>41</td>\n",
       "      <td>373</td>\n",
       "      <td>look</td>\n",
       "      <td>12.0</td>\n",
       "      <td>10</td>\n",
       "      <td>10</td>\n",
       "    </tr>\n",
       "    <tr>\n",
       "      <th>18887</th>\n",
       "      <td>You are in a garden of exotic vegetables. The...</td>\n",
       "      <td>37</td>\n",
       "      <td>377</td>\n",
       "      <td>look</td>\n",
       "      <td>12.0</td>\n",
       "      <td>10</td>\n",
       "      <td>10</td>\n",
       "    </tr>\n",
       "    <tr>\n",
       "      <th>19081</th>\n",
       "      <td>You are in a garden of exotic vegetables. The...</td>\n",
       "      <td>31</td>\n",
       "      <td>381</td>\n",
       "      <td>look</td>\n",
       "      <td>12.0</td>\n",
       "      <td>10</td>\n",
       "      <td>10</td>\n",
       "    </tr>\n",
       "    <tr>\n",
       "      <th>19355</th>\n",
       "      <td>You are in a garden of exotic vegetables. The...</td>\n",
       "      <td>5</td>\n",
       "      <td>387</td>\n",
       "      <td>look</td>\n",
       "      <td>12.0</td>\n",
       "      <td>10</td>\n",
       "      <td>10</td>\n",
       "    </tr>\n",
       "    <tr>\n",
       "      <th>19365</th>\n",
       "      <td>You are in a garden of exotic vegetables. The...</td>\n",
       "      <td>15</td>\n",
       "      <td>387</td>\n",
       "      <td>look</td>\n",
       "      <td>12.0</td>\n",
       "      <td>10</td>\n",
       "      <td>10</td>\n",
       "    </tr>\n",
       "    <tr>\n",
       "      <th>19551</th>\n",
       "      <td>You are in a shrubbery. There are paths to th...</td>\n",
       "      <td>1</td>\n",
       "      <td>391</td>\n",
       "      <td>look</td>\n",
       "      <td>12.0</td>\n",
       "      <td>10</td>\n",
       "      <td>10</td>\n",
       "    </tr>\n",
       "    <tr>\n",
       "      <th>19679</th>\n",
       "      <td>You are in a shrubbery. There are paths to th...</td>\n",
       "      <td>29</td>\n",
       "      <td>393</td>\n",
       "      <td>look</td>\n",
       "      <td>12.0</td>\n",
       "      <td>10</td>\n",
       "      <td>10</td>\n",
       "    </tr>\n",
       "    <tr>\n",
       "      <th>19947</th>\n",
       "      <td>You are in a garden of exotic vegetables. The...</td>\n",
       "      <td>47</td>\n",
       "      <td>398</td>\n",
       "      <td>look</td>\n",
       "      <td>12.0</td>\n",
       "      <td>10</td>\n",
       "      <td>10</td>\n",
       "    </tr>\n",
       "  </tbody>\n",
       "</table>\n",
       "<p>163 rows × 7 columns</p>\n",
       "</div>"
      ],
      "text/plain": [
       "                                                   State  Population no.  \\\n",
       "50      Welcome to Adventure! Murdac An adventure gam...               0   \n",
       "105     You are in a small well-maintained sandpit. T...               5   \n",
       "203     You are in a small well-maintained sandpit. T...               3   \n",
       "253     You are in a small well-maintained sandpit. T...               3   \n",
       "269     You are in a small well-maintained sandpit. T...              19   \n",
       "453     You are in a small well-maintained sandpit. T...               3   \n",
       "531     You are in a small well-maintained sandpit. T...              31   \n",
       "645     You are at an old, untended grave. The tombst...              45   \n",
       "875     You are in a small well-maintained sandpit. T...              25   \n",
       "909     You are in a small well-maintained sandpit. T...               9   \n",
       "1001    You are in a small well-maintained sandpit. T...               1   \n",
       "1049    You are in a small well-maintained sandpit. T...              49   \n",
       "1249    You are at an old, untended grave. The tombst...              49   \n",
       "1405    You are at an old, untended grave. The tombst...               5   \n",
       "1533    You are standing outside the door of a small ...              33   \n",
       "1561    You are standing outside the door of a small ...              11   \n",
       "1573    You are standing outside the door of a small ...              23   \n",
       "1645    You are in a garden of luxurious flowers. The...              45   \n",
       "1709    You are in a garden of luxurious flowers. The...               9   \n",
       "1767    You are in a garden of luxurious flowers. The...              17   \n",
       "1883    You are in a garden of luxurious flowers. The...              33   \n",
       "1923    You are in a garden of luxurious flowers. The...              23   \n",
       "2031    You are in the garden at the remnants of a bo...              31   \n",
       "2479    You are in the garden at the remnants of a bo...              29   \n",
       "2581    You are in a garden of luxurious flowers. The...              31   \n",
       "2663    You are in a garden of luxurious flowers. The...              13   \n",
       "2671    You are in a garden of luxurious flowers. The...              21   \n",
       "2769    You are in a garden of luxurious flowers. The...              19   \n",
       "2869    You are in a garden of luxurious flowers. The...              19   \n",
       "2943    You are in a rock garden. There are paths to ...              43   \n",
       "...                                                  ...             ...   \n",
       "16385   You are in a garden of exotic vegetables. The...              35   \n",
       "16453   You are in a garden of exotic vegetables. The...               3   \n",
       "16467   You are in a garden of exotic vegetables. The...              17   \n",
       "16565   You are in a garden of exotic vegetables. The...              15   \n",
       "16693   You are in a garden of exotic vegetables. The...              43   \n",
       "16775   You are in a garden of exotic vegetables. The...              25   \n",
       "16795   You are in a garden of exotic vegetables. The...              45   \n",
       "16937   You are in a shrubbery. There are paths to th...              37   \n",
       "17085   You are in a shrubbery. There are paths to th...              35   \n",
       "17113   You are in a shrubbery. There are paths to th...              13   \n",
       "17153   You are in a shrubbery. There are paths to th...               3   \n",
       "17239   You are in a shrubbery. There are paths to th...              39   \n",
       "17403   You are in a shrubbery. There are paths to th...               3   \n",
       "17737   You are in a shrubbery. There are paths to th...              37   \n",
       "17885   You are in a shrubbery. There are paths to th...              35   \n",
       "17981   You are in a garden of exotic vegetables. The...              31   \n",
       "18159   You are in a garden of exotic vegetables. The...               9   \n",
       "18219   You are in a garden of exotic vegetables. The...              19   \n",
       "18249   You are in a garden of exotic vegetables. The...              49   \n",
       "18419   You are in a garden of exotic vegetables. The...              19   \n",
       "18433   You are in a garden of exotic vegetables. The...              33   \n",
       "18687   You are in a garden of exotic vegetables. The...              37   \n",
       "18691   You are in a garden of exotic vegetables. The...              41   \n",
       "18887   You are in a garden of exotic vegetables. The...              37   \n",
       "19081   You are in a garden of exotic vegetables. The...              31   \n",
       "19355   You are in a garden of exotic vegetables. The...               5   \n",
       "19365   You are in a garden of exotic vegetables. The...              15   \n",
       "19551   You are in a shrubbery. There are paths to th...               1   \n",
       "19679   You are in a shrubbery. There are paths to th...              29   \n",
       "19947   You are in a garden of exotic vegetables. The...              47   \n",
       "\n",
       "       Generation No.  Action  Agent Reward  Game Reward  Score  \n",
       "50                  1  switch          12.0           10     10  \n",
       "105                 2    look          12.0           10     10  \n",
       "203                 4    look          12.0           10     10  \n",
       "253                 5    look          12.0           10     10  \n",
       "269                 5    look          12.0           10     10  \n",
       "453                 9    look          12.0           10     10  \n",
       "531                10    look          12.0           10     10  \n",
       "645                12    look          12.0           10     10  \n",
       "875                17    look          12.0           10     10  \n",
       "909                18    look          12.0           10     10  \n",
       "1001               20    look          12.0           10     10  \n",
       "1049               20    look          12.0           10     10  \n",
       "1249               24    look          12.0           10     10  \n",
       "1405               28    look          12.0           10     10  \n",
       "1533               30    look          12.0           10     10  \n",
       "1561               31    look          12.0           10     10  \n",
       "1573               31    look          12.0           10     10  \n",
       "1645               32    look          12.0           10     10  \n",
       "1709               34    look          12.0           10     10  \n",
       "1767               35    look          12.0           10     10  \n",
       "1883               37    look          12.0           10     10  \n",
       "1923               38    look          12.0           10     10  \n",
       "2031               40    look          12.0           10     10  \n",
       "2479               49    look          12.0           10     10  \n",
       "2581               51    look          12.0           10     10  \n",
       "2663               53    look          12.0           10     10  \n",
       "2671               53    look          12.0           10     10  \n",
       "2769               55    look          12.0           10     10  \n",
       "2869               57    look          12.0           10     10  \n",
       "2943               58    look          12.0           10     10  \n",
       "...               ...     ...           ...          ...    ...  \n",
       "16385             327    look          12.0           10     10  \n",
       "16453             329    look          12.0           10     10  \n",
       "16467             329    look          12.0           10     10  \n",
       "16565             331    look          12.0           10     10  \n",
       "16693             333    look          12.0           10     10  \n",
       "16775             335    look          12.0           10     10  \n",
       "16795             335    look          12.0           10     10  \n",
       "16937             338    look          12.0           10     10  \n",
       "17085             341    look          12.0           10     10  \n",
       "17113             342    look          12.0           10     10  \n",
       "17153             343    look          12.0           10     10  \n",
       "17239             344    look          12.0           10     10  \n",
       "17403             348    look          12.0           10     10  \n",
       "17737             354    look          12.0           10     10  \n",
       "17885             357    look          12.0           10     10  \n",
       "17981             359    look          12.0           10     10  \n",
       "18159             363    look          12.0           10     10  \n",
       "18219             364    look          12.0           10     10  \n",
       "18249             364    look          12.0           10     10  \n",
       "18419             368    look          12.0           10     10  \n",
       "18433             368    look          12.0           10     10  \n",
       "18687             373    look          12.0           10     10  \n",
       "18691             373    look          12.0           10     10  \n",
       "18887             377    look          12.0           10     10  \n",
       "19081             381    look          12.0           10     10  \n",
       "19355             387    look          12.0           10     10  \n",
       "19365             387    look          12.0           10     10  \n",
       "19551             391    look          12.0           10     10  \n",
       "19679             393    look          12.0           10     10  \n",
       "19947             398    look          12.0           10     10  \n",
       "\n",
       "[163 rows x 7 columns]"
      ]
     },
     "execution_count": 7,
     "metadata": {},
     "output_type": "execute_result"
    }
   ],
   "source": [
    "df_1.loc[df_1['Game Reward'] == 10]"
   ]
  },
  {
   "cell_type": "code",
   "execution_count": 8,
   "metadata": {},
   "outputs": [
    {
     "data": {
      "text/plain": [
       "\" I don't understand that! \""
      ]
     },
     "execution_count": 8,
     "metadata": {},
     "output_type": "execute_result"
    }
   ],
   "source": [
    "df_1.loc[18160]['State']"
   ]
  },
  {
   "cell_type": "code",
   "execution_count": null,
   "metadata": {},
   "outputs": [],
   "source": []
  },
  {
   "cell_type": "code",
   "execution_count": 9,
   "metadata": {},
   "outputs": [],
   "source": [
    "# try group by generation no and get max\n",
    "#df_1_final = df_1.groupby('Generation No.',as_index=False).agg({'Reward to Game Agent' : 'max','Game Reward' : 'max','Accumulated Reward' : 'max'})"
   ]
  },
  {
   "cell_type": "code",
   "execution_count": 10,
   "metadata": {},
   "outputs": [],
   "source": [
    "## Create another column which says what type of data is this\n",
    "#df_1_final['Type'] = 'Run_1'"
   ]
  },
  {
   "cell_type": "code",
   "execution_count": null,
   "metadata": {},
   "outputs": [],
   "source": [
    "#df_1_final[:5]"
   ]
  },
  {
   "cell_type": "code",
   "execution_count": null,
   "metadata": {},
   "outputs": [],
   "source": [
    "#len(df_1_final)"
   ]
  },
  {
   "cell_type": "code",
   "execution_count": null,
   "metadata": {},
   "outputs": [],
   "source": [
    "'''plt.ylim(0,80)\n",
    "plt.plot(df_1_final['Generation No.'], df_1_final['Accumulated Reward'])\n",
    "plt.ylabel('Accumulated Reward')\n",
    "plt.xlabel('Generations')\n",
    "#plt.savefig('Evolution - Detective - Mean Accumulated Reward by Generations.png')\n",
    "plt.show()'''"
   ]
  },
  {
   "cell_type": "code",
   "execution_count": null,
   "metadata": {},
   "outputs": [],
   "source": [
    "'''#plt.ylim(0,80)\n",
    "plt.plot(df_1_final['Generation No.'], df_1_final['Reward to Game Agent'])\n",
    "plt.ylabel('Reward to Game Agent')\n",
    "plt.xlabel('Generations')\n",
    "#plt.savefig('Evolution - Detective - Mean Agent Accumulated Reward by Generations.png')\n",
    "plt.show()'''"
   ]
  },
  {
   "cell_type": "code",
   "execution_count": null,
   "metadata": {},
   "outputs": [],
   "source": [
    "'''#plt.ylim(0,80)\n",
    "plt.plot(df_1_final['Generation No.'], df_1_final['Game Reward'])\n",
    "plt.ylabel('Game Reward')\n",
    "plt.xlabel('Generations')\n",
    "#plt.savefig('Evolution - Detective - Mean Agent Accumulated Reward by Generations.png')\n",
    "plt.show()'''"
   ]
  },
  {
   "cell_type": "markdown",
   "metadata": {},
   "source": [
    "## RUN 2"
   ]
  },
  {
   "cell_type": "code",
   "execution_count": 9,
   "metadata": {},
   "outputs": [],
   "source": [
    "with open('./finalruns/run_2/track_scores_Murdac_pop50gen500_230818.pkl', 'rb') as i:\n",
    "    x2 = pickle.load(i)"
   ]
  },
  {
   "cell_type": "code",
   "execution_count": 10,
   "metadata": {},
   "outputs": [],
   "source": [
    "df_2 = pd.DataFrame(x2, columns=['State','Population no.','Generation No.','Action','Agent Reward','Game Reward','Score'])"
   ]
  },
  {
   "cell_type": "code",
   "execution_count": 11,
   "metadata": {},
   "outputs": [
    {
     "data": {
      "text/html": [
       "<div>\n",
       "<style scoped>\n",
       "    .dataframe tbody tr th:only-of-type {\n",
       "        vertical-align: middle;\n",
       "    }\n",
       "\n",
       "    .dataframe tbody tr th {\n",
       "        vertical-align: top;\n",
       "    }\n",
       "\n",
       "    .dataframe thead th {\n",
       "        text-align: right;\n",
       "    }\n",
       "</style>\n",
       "<table border=\"1\" class=\"dataframe\">\n",
       "  <thead>\n",
       "    <tr style=\"text-align: right;\">\n",
       "      <th></th>\n",
       "      <th>State</th>\n",
       "      <th>Population no.</th>\n",
       "      <th>Generation No.</th>\n",
       "      <th>Action</th>\n",
       "      <th>Agent Reward</th>\n",
       "      <th>Game Reward</th>\n",
       "      <th>Score</th>\n",
       "    </tr>\n",
       "  </thead>\n",
       "  <tbody>\n",
       "    <tr>\n",
       "      <th>0</th>\n",
       "      <td>There's nothing here you can take easily.</td>\n",
       "      <td>0</td>\n",
       "      <td>0</td>\n",
       "      <td>get all</td>\n",
       "      <td>12.0</td>\n",
       "      <td>10</td>\n",
       "      <td>10</td>\n",
       "    </tr>\n",
       "    <tr>\n",
       "      <th>1</th>\n",
       "      <td>You are standing outside the door of a small ...</td>\n",
       "      <td>1</td>\n",
       "      <td>0</td>\n",
       "      <td>look</td>\n",
       "      <td>0.0</td>\n",
       "      <td>0</td>\n",
       "      <td>10</td>\n",
       "    </tr>\n",
       "    <tr>\n",
       "      <th>2</th>\n",
       "      <td>You are holding: Nothing.</td>\n",
       "      <td>2</td>\n",
       "      <td>0</td>\n",
       "      <td>inventory</td>\n",
       "      <td>0.0</td>\n",
       "      <td>0</td>\n",
       "      <td>10</td>\n",
       "    </tr>\n",
       "    <tr>\n",
       "      <th>3</th>\n",
       "      <td>You are standing outside the door of a small ...</td>\n",
       "      <td>3</td>\n",
       "      <td>0</td>\n",
       "      <td>look</td>\n",
       "      <td>0.0</td>\n",
       "      <td>0</td>\n",
       "      <td>10</td>\n",
       "    </tr>\n",
       "    <tr>\n",
       "      <th>4</th>\n",
       "      <td>There's nothing here you can take easily.</td>\n",
       "      <td>4</td>\n",
       "      <td>0</td>\n",
       "      <td>get all</td>\n",
       "      <td>0.0</td>\n",
       "      <td>0</td>\n",
       "      <td>10</td>\n",
       "    </tr>\n",
       "  </tbody>\n",
       "</table>\n",
       "</div>"
      ],
      "text/plain": [
       "                                               State  Population no.  \\\n",
       "0         There's nothing here you can take easily.                0   \n",
       "1   You are standing outside the door of a small ...               1   \n",
       "2                         You are holding: Nothing.                2   \n",
       "3   You are standing outside the door of a small ...               3   \n",
       "4         There's nothing here you can take easily.                4   \n",
       "\n",
       "   Generation No.     Action  Agent Reward  Game Reward  Score  \n",
       "0               0    get all          12.0           10     10  \n",
       "1               0       look           0.0            0     10  \n",
       "2               0  inventory           0.0            0     10  \n",
       "3               0       look           0.0            0     10  \n",
       "4               0    get all           0.0            0     10  "
      ]
     },
     "execution_count": 11,
     "metadata": {},
     "output_type": "execute_result"
    }
   ],
   "source": [
    "df_2[:5]"
   ]
  },
  {
   "cell_type": "code",
   "execution_count": 12,
   "metadata": {},
   "outputs": [
    {
     "data": {
      "text/plain": [
       "300"
      ]
     },
     "execution_count": 12,
     "metadata": {},
     "output_type": "execute_result"
    }
   ],
   "source": [
    "# check how many generations did it finish?\n",
    "df_2['Generation No.'].nunique()"
   ]
  },
  {
   "cell_type": "code",
   "execution_count": 13,
   "metadata": {},
   "outputs": [
    {
     "data": {
      "text/html": [
       "<div>\n",
       "<style scoped>\n",
       "    .dataframe tbody tr th:only-of-type {\n",
       "        vertical-align: middle;\n",
       "    }\n",
       "\n",
       "    .dataframe tbody tr th {\n",
       "        vertical-align: top;\n",
       "    }\n",
       "\n",
       "    .dataframe thead th {\n",
       "        text-align: right;\n",
       "    }\n",
       "</style>\n",
       "<table border=\"1\" class=\"dataframe\">\n",
       "  <thead>\n",
       "    <tr style=\"text-align: right;\">\n",
       "      <th></th>\n",
       "      <th>State</th>\n",
       "      <th>Population no.</th>\n",
       "      <th>Generation No.</th>\n",
       "      <th>Action</th>\n",
       "      <th>Agent Reward</th>\n",
       "      <th>Game Reward</th>\n",
       "      <th>Score</th>\n",
       "    </tr>\n",
       "  </thead>\n",
       "  <tbody>\n",
       "  </tbody>\n",
       "</table>\n",
       "</div>"
      ],
      "text/plain": [
       "Empty DataFrame\n",
       "Columns: [State, Population no., Generation No., Action, Agent Reward, Game Reward, Score]\n",
       "Index: []"
      ]
     },
     "execution_count": 13,
     "metadata": {},
     "output_type": "execute_result"
    }
   ],
   "source": [
    "df_2.loc[df_2['Game Reward'] == -40]"
   ]
  },
  {
   "cell_type": "code",
   "execution_count": 14,
   "metadata": {},
   "outputs": [
    {
     "data": {
      "text/plain": [
       "''"
      ]
     },
     "execution_count": 14,
     "metadata": {},
     "output_type": "execute_result"
    }
   ],
   "source": [
    "df_2.loc[3897]['State']"
   ]
  },
  {
   "cell_type": "code",
   "execution_count": null,
   "metadata": {},
   "outputs": [],
   "source": []
  },
  {
   "cell_type": "code",
   "execution_count": null,
   "metadata": {},
   "outputs": [],
   "source": []
  },
  {
   "cell_type": "code",
   "execution_count": null,
   "metadata": {},
   "outputs": [],
   "source": []
  },
  {
   "cell_type": "code",
   "execution_count": null,
   "metadata": {},
   "outputs": [],
   "source": [
    "# try group by generation no and get max\n",
    "#df_2_final = df_2.groupby('Generation No.',as_index=False).agg({'Reward to Game Agent' : 'max','Game Reward' : 'max','Accumulated Reward' : 'max'})"
   ]
  },
  {
   "cell_type": "code",
   "execution_count": null,
   "metadata": {},
   "outputs": [],
   "source": []
  },
  {
   "cell_type": "code",
   "execution_count": null,
   "metadata": {},
   "outputs": [],
   "source": []
  },
  {
   "cell_type": "code",
   "execution_count": null,
   "metadata": {},
   "outputs": [],
   "source": []
  },
  {
   "cell_type": "code",
   "execution_count": null,
   "metadata": {},
   "outputs": [],
   "source": []
  },
  {
   "cell_type": "code",
   "execution_count": null,
   "metadata": {},
   "outputs": [],
   "source": [
    "## Create another column which says what type of data is this\n",
    "#df_2_final['Type'] = 'Run_2'"
   ]
  },
  {
   "cell_type": "code",
   "execution_count": null,
   "metadata": {},
   "outputs": [],
   "source": [
    "#df_2_final[:5]"
   ]
  },
  {
   "cell_type": "code",
   "execution_count": null,
   "metadata": {},
   "outputs": [],
   "source": [
    "#df_2_final.columns.values"
   ]
  },
  {
   "cell_type": "code",
   "execution_count": null,
   "metadata": {},
   "outputs": [],
   "source": [
    "#len(df_2_final)"
   ]
  },
  {
   "cell_type": "code",
   "execution_count": null,
   "metadata": {},
   "outputs": [],
   "source": [
    "'''plt.ylim(0,80)\n",
    "plt.plot(df_2_final['Generation No.'], df_2_final['Accumulated Reward'])\n",
    "plt.ylabel('Accumulated Reward')\n",
    "plt.xlabel('Generations')\n",
    "#plt.savefig('Evolution - Detective - Mean Accumulated Reward by Generations.png')\n",
    "plt.show()'''"
   ]
  },
  {
   "cell_type": "code",
   "execution_count": null,
   "metadata": {},
   "outputs": [],
   "source": [
    "'''#plt.ylim(0,80)\n",
    "plt.plot(df_2_final['Generation No.'], df_2_final['Reward to Game Agent'])\n",
    "plt.ylabel('Reward to Game Agent')\n",
    "plt.xlabel('Generations')\n",
    "#plt.savefig('Evolution - Detective - Mean Agent Accumulated Reward by Generations.png')\n",
    "\n",
    "plt.show()'''"
   ]
  },
  {
   "cell_type": "code",
   "execution_count": null,
   "metadata": {},
   "outputs": [],
   "source": [
    "'''#plt.ylim(0,80)\n",
    "plt.plot(df_2_final['Generation No.'], df_2_final['Game Reward'])\n",
    "plt.ylabel('Game Reward')\n",
    "plt.xlabel('Generations')\n",
    "#plt.savefig('Evolution - Detective - Mean Agent Accumulated Reward by Generations.png')\n",
    "\n",
    "plt.show()'''"
   ]
  },
  {
   "cell_type": "markdown",
   "metadata": {},
   "source": [
    "## RUN 3"
   ]
  },
  {
   "cell_type": "code",
   "execution_count": 15,
   "metadata": {},
   "outputs": [
    {
     "ename": "EOFError",
     "evalue": "",
     "output_type": "error",
     "traceback": [
      "\u001b[0;31m---------------------------------------------------------------------------\u001b[0m",
      "\u001b[0;31mEOFError\u001b[0m                                  Traceback (most recent call last)",
      "\u001b[0;32m<ipython-input-15-65319d30fd25>\u001b[0m in \u001b[0;36m<module>\u001b[0;34m()\u001b[0m\n\u001b[1;32m      1\u001b[0m \u001b[0;32mwith\u001b[0m \u001b[0mopen\u001b[0m\u001b[0;34m(\u001b[0m\u001b[0;34m'./finalruns/run_3/track_scores_Murdac_pop50gen500_230818.pkl'\u001b[0m\u001b[0;34m,\u001b[0m \u001b[0;34m'rb'\u001b[0m\u001b[0;34m)\u001b[0m \u001b[0;32mas\u001b[0m \u001b[0mi\u001b[0m\u001b[0;34m:\u001b[0m\u001b[0;34m\u001b[0m\u001b[0m\n\u001b[0;32m----> 2\u001b[0;31m     \u001b[0mx3\u001b[0m \u001b[0;34m=\u001b[0m \u001b[0mpickle\u001b[0m\u001b[0;34m.\u001b[0m\u001b[0mload\u001b[0m\u001b[0;34m(\u001b[0m\u001b[0mi\u001b[0m\u001b[0;34m)\u001b[0m\u001b[0;34m\u001b[0m\u001b[0m\n\u001b[0m",
      "\u001b[0;32m/home/mrmad/anaconda3/envs/ori_autoplay/lib/python2.7/pickle.pyc\u001b[0m in \u001b[0;36mload\u001b[0;34m(file)\u001b[0m\n\u001b[1;32m   1382\u001b[0m \u001b[0;34m\u001b[0m\u001b[0m\n\u001b[1;32m   1383\u001b[0m \u001b[0;32mdef\u001b[0m \u001b[0mload\u001b[0m\u001b[0;34m(\u001b[0m\u001b[0mfile\u001b[0m\u001b[0;34m)\u001b[0m\u001b[0;34m:\u001b[0m\u001b[0;34m\u001b[0m\u001b[0m\n\u001b[0;32m-> 1384\u001b[0;31m     \u001b[0;32mreturn\u001b[0m \u001b[0mUnpickler\u001b[0m\u001b[0;34m(\u001b[0m\u001b[0mfile\u001b[0m\u001b[0;34m)\u001b[0m\u001b[0;34m.\u001b[0m\u001b[0mload\u001b[0m\u001b[0;34m(\u001b[0m\u001b[0;34m)\u001b[0m\u001b[0;34m\u001b[0m\u001b[0m\n\u001b[0m\u001b[1;32m   1385\u001b[0m \u001b[0;34m\u001b[0m\u001b[0m\n\u001b[1;32m   1386\u001b[0m \u001b[0;32mdef\u001b[0m \u001b[0mloads\u001b[0m\u001b[0;34m(\u001b[0m\u001b[0mstr\u001b[0m\u001b[0;34m)\u001b[0m\u001b[0;34m:\u001b[0m\u001b[0;34m\u001b[0m\u001b[0m\n",
      "\u001b[0;32m/home/mrmad/anaconda3/envs/ori_autoplay/lib/python2.7/pickle.pyc\u001b[0m in \u001b[0;36mload\u001b[0;34m(self)\u001b[0m\n\u001b[1;32m    862\u001b[0m             \u001b[0;32mwhile\u001b[0m \u001b[0;36m1\u001b[0m\u001b[0;34m:\u001b[0m\u001b[0;34m\u001b[0m\u001b[0m\n\u001b[1;32m    863\u001b[0m                 \u001b[0mkey\u001b[0m \u001b[0;34m=\u001b[0m \u001b[0mread\u001b[0m\u001b[0;34m(\u001b[0m\u001b[0;36m1\u001b[0m\u001b[0;34m)\u001b[0m\u001b[0;34m\u001b[0m\u001b[0m\n\u001b[0;32m--> 864\u001b[0;31m                 \u001b[0mdispatch\u001b[0m\u001b[0;34m[\u001b[0m\u001b[0mkey\u001b[0m\u001b[0;34m]\u001b[0m\u001b[0;34m(\u001b[0m\u001b[0mself\u001b[0m\u001b[0;34m)\u001b[0m\u001b[0;34m\u001b[0m\u001b[0m\n\u001b[0m\u001b[1;32m    865\u001b[0m         \u001b[0;32mexcept\u001b[0m \u001b[0m_Stop\u001b[0m\u001b[0;34m,\u001b[0m \u001b[0mstopinst\u001b[0m\u001b[0;34m:\u001b[0m\u001b[0;34m\u001b[0m\u001b[0m\n\u001b[1;32m    866\u001b[0m             \u001b[0;32mreturn\u001b[0m \u001b[0mstopinst\u001b[0m\u001b[0;34m.\u001b[0m\u001b[0mvalue\u001b[0m\u001b[0;34m\u001b[0m\u001b[0m\n",
      "\u001b[0;32m/home/mrmad/anaconda3/envs/ori_autoplay/lib/python2.7/pickle.pyc\u001b[0m in \u001b[0;36mload_eof\u001b[0;34m(self)\u001b[0m\n\u001b[1;32m    884\u001b[0m \u001b[0;34m\u001b[0m\u001b[0m\n\u001b[1;32m    885\u001b[0m     \u001b[0;32mdef\u001b[0m \u001b[0mload_eof\u001b[0m\u001b[0;34m(\u001b[0m\u001b[0mself\u001b[0m\u001b[0;34m)\u001b[0m\u001b[0;34m:\u001b[0m\u001b[0;34m\u001b[0m\u001b[0m\n\u001b[0;32m--> 886\u001b[0;31m         \u001b[0;32mraise\u001b[0m \u001b[0mEOFError\u001b[0m\u001b[0;34m\u001b[0m\u001b[0m\n\u001b[0m\u001b[1;32m    887\u001b[0m     \u001b[0mdispatch\u001b[0m\u001b[0;34m[\u001b[0m\u001b[0;34m''\u001b[0m\u001b[0;34m]\u001b[0m \u001b[0;34m=\u001b[0m \u001b[0mload_eof\u001b[0m\u001b[0;34m\u001b[0m\u001b[0m\n\u001b[1;32m    888\u001b[0m \u001b[0;34m\u001b[0m\u001b[0m\n",
      "\u001b[0;31mEOFError\u001b[0m: "
     ]
    }
   ],
   "source": [
    "with open('./finalruns/run_3/track_scores_Murdac_pop50gen500_230818.pkl', 'rb') as i:\n",
    "    x3 = pickle.load(i)"
   ]
  },
  {
   "cell_type": "code",
   "execution_count": 18,
   "metadata": {},
   "outputs": [
    {
     "ename": "NameError",
     "evalue": "name 'x3' is not defined",
     "output_type": "error",
     "traceback": [
      "\u001b[0;31m---------------------------------------------------------------------------\u001b[0m",
      "\u001b[0;31mNameError\u001b[0m                                 Traceback (most recent call last)",
      "\u001b[0;32m<ipython-input-18-402e4346451a>\u001b[0m in \u001b[0;36m<module>\u001b[0;34m()\u001b[0m\n\u001b[0;32m----> 1\u001b[0;31m \u001b[0mdf_3\u001b[0m \u001b[0;34m=\u001b[0m \u001b[0mpd\u001b[0m\u001b[0;34m.\u001b[0m\u001b[0mDataFrame\u001b[0m\u001b[0;34m(\u001b[0m\u001b[0mx3\u001b[0m\u001b[0;34m,\u001b[0m \u001b[0mcolumns\u001b[0m\u001b[0;34m=\u001b[0m\u001b[0;34m[\u001b[0m\u001b[0;34m'State'\u001b[0m\u001b[0;34m,\u001b[0m\u001b[0;34m'Population no.'\u001b[0m\u001b[0;34m,\u001b[0m\u001b[0;34m'Generation No.'\u001b[0m\u001b[0;34m,\u001b[0m\u001b[0;34m'Action'\u001b[0m\u001b[0;34m,\u001b[0m\u001b[0;34m'Agent Reward'\u001b[0m\u001b[0;34m,\u001b[0m\u001b[0;34m'Game Reward'\u001b[0m\u001b[0;34m,\u001b[0m\u001b[0;34m'Score'\u001b[0m\u001b[0;34m]\u001b[0m\u001b[0;34m)\u001b[0m\u001b[0;34m\u001b[0m\u001b[0m\n\u001b[0m",
      "\u001b[0;31mNameError\u001b[0m: name 'x3' is not defined"
     ]
    }
   ],
   "source": [
    "df_3 = pd.DataFrame(x3, columns=['State','Population no.','Generation No.','Action','Agent Reward','Game Reward','Score'])"
   ]
  },
  {
   "cell_type": "code",
   "execution_count": null,
   "metadata": {
    "scrolled": true
   },
   "outputs": [],
   "source": [
    "df_3[:5]"
   ]
  },
  {
   "cell_type": "code",
   "execution_count": null,
   "metadata": {},
   "outputs": [],
   "source": [
    "# check how many generations did it finish?\n",
    "df_3['Generation No.'].nunique()"
   ]
  },
  {
   "cell_type": "code",
   "execution_count": null,
   "metadata": {},
   "outputs": [],
   "source": [
    "# try group by generation no and get max\n",
    "#df_3_final = df_3.groupby('Generation No.',as_index=False).agg({'Reward to Game Agent' : 'max','Game Reward' : 'max','Accumulated Reward' : 'max'})"
   ]
  },
  {
   "cell_type": "code",
   "execution_count": null,
   "metadata": {},
   "outputs": [],
   "source": [
    "## Create another column which says what type of data is this\n",
    "#df_3_final['Type'] = 'Run_3'"
   ]
  },
  {
   "cell_type": "code",
   "execution_count": null,
   "metadata": {},
   "outputs": [],
   "source": [
    "#df_3_final[:5]"
   ]
  },
  {
   "cell_type": "code",
   "execution_count": null,
   "metadata": {},
   "outputs": [],
   "source": [
    "#df_3_final.columns.values"
   ]
  },
  {
   "cell_type": "code",
   "execution_count": null,
   "metadata": {},
   "outputs": [],
   "source": [
    "#len(df_3_final)"
   ]
  },
  {
   "cell_type": "code",
   "execution_count": null,
   "metadata": {},
   "outputs": [],
   "source": [
    "'''plt.ylim(0,80)\n",
    "plt.plot(df_3_final['Generation No.'], df_3_final['Accumulated Reward'])\n",
    "plt.ylabel('Accumulated Reward')\n",
    "plt.xlabel('Generations')\n",
    "#plt.savefig('Evolution - Detective - Mean Accumulated Reward by Generations.png')\n",
    "\n",
    "plt.show()'''"
   ]
  },
  {
   "cell_type": "code",
   "execution_count": null,
   "metadata": {},
   "outputs": [],
   "source": [
    "'''#plt.ylim(0,80)\n",
    "plt.plot(df_3_final['Generation No.'], df_3_final['Reward to Game Agent'])\n",
    "plt.ylabel('Reward to Game Agent')\n",
    "plt.xlabel('Generations')\n",
    "#plt.savefig('Evolution - Detective - Mean Agent Accumulated Reward by Generations.png')\n",
    "\n",
    "plt.show()'''"
   ]
  },
  {
   "cell_type": "code",
   "execution_count": null,
   "metadata": {},
   "outputs": [],
   "source": [
    "'''#plt.ylim(0,80)\n",
    "plt.plot(df_3_final['Generation No.'], df_3_final['Game Reward'])\n",
    "plt.ylabel('Game Reward')\n",
    "plt.xlabel('Generations')\n",
    "#plt.savefig('Evolution - Detective - Mean Agent Accumulated Reward by Generations.png')\n",
    "\n",
    "plt.show()'''"
   ]
  },
  {
   "cell_type": "markdown",
   "metadata": {},
   "source": [
    "## RUN 4 "
   ]
  },
  {
   "cell_type": "code",
   "execution_count": 16,
   "metadata": {},
   "outputs": [],
   "source": [
    "with open('./finalruns/run_4/track_scores_Murdac_pop50gen500_230818.pkl', 'rb') as i:\n",
    "    x4 = pickle.load(i)"
   ]
  },
  {
   "cell_type": "code",
   "execution_count": 17,
   "metadata": {},
   "outputs": [],
   "source": [
    "df_4 = pd.DataFrame(x4, columns=['State','Population no.','Generation No.','Action','Agent Reward','Game Reward','Score'])"
   ]
  },
  {
   "cell_type": "code",
   "execution_count": 18,
   "metadata": {
    "scrolled": true
   },
   "outputs": [
    {
     "data": {
      "text/html": [
       "<div>\n",
       "<style scoped>\n",
       "    .dataframe tbody tr th:only-of-type {\n",
       "        vertical-align: middle;\n",
       "    }\n",
       "\n",
       "    .dataframe tbody tr th {\n",
       "        vertical-align: top;\n",
       "    }\n",
       "\n",
       "    .dataframe thead th {\n",
       "        text-align: right;\n",
       "    }\n",
       "</style>\n",
       "<table border=\"1\" class=\"dataframe\">\n",
       "  <thead>\n",
       "    <tr style=\"text-align: right;\">\n",
       "      <th></th>\n",
       "      <th>State</th>\n",
       "      <th>Population no.</th>\n",
       "      <th>Generation No.</th>\n",
       "      <th>Action</th>\n",
       "      <th>Agent Reward</th>\n",
       "      <th>Game Reward</th>\n",
       "      <th>Score</th>\n",
       "    </tr>\n",
       "  </thead>\n",
       "  <tbody>\n",
       "    <tr>\n",
       "      <th>0</th>\n",
       "      <td>There's nothing here you can take easily.</td>\n",
       "      <td>0</td>\n",
       "      <td>0</td>\n",
       "      <td>get all</td>\n",
       "      <td>12.0</td>\n",
       "      <td>10</td>\n",
       "      <td>10</td>\n",
       "    </tr>\n",
       "    <tr>\n",
       "      <th>1</th>\n",
       "      <td>You are standing outside the door of a small ...</td>\n",
       "      <td>1</td>\n",
       "      <td>0</td>\n",
       "      <td>look</td>\n",
       "      <td>0.0</td>\n",
       "      <td>0</td>\n",
       "      <td>10</td>\n",
       "    </tr>\n",
       "    <tr>\n",
       "      <th>2</th>\n",
       "      <td>You are holding: Nothing.</td>\n",
       "      <td>2</td>\n",
       "      <td>0</td>\n",
       "      <td>inventory</td>\n",
       "      <td>0.0</td>\n",
       "      <td>0</td>\n",
       "      <td>10</td>\n",
       "    </tr>\n",
       "    <tr>\n",
       "      <th>3</th>\n",
       "      <td>You are standing outside the door of a small ...</td>\n",
       "      <td>3</td>\n",
       "      <td>0</td>\n",
       "      <td>look</td>\n",
       "      <td>0.0</td>\n",
       "      <td>0</td>\n",
       "      <td>10</td>\n",
       "    </tr>\n",
       "    <tr>\n",
       "      <th>4</th>\n",
       "      <td>There's nothing here you can take easily.</td>\n",
       "      <td>4</td>\n",
       "      <td>0</td>\n",
       "      <td>get all</td>\n",
       "      <td>0.0</td>\n",
       "      <td>0</td>\n",
       "      <td>10</td>\n",
       "    </tr>\n",
       "  </tbody>\n",
       "</table>\n",
       "</div>"
      ],
      "text/plain": [
       "                                               State  Population no.  \\\n",
       "0         There's nothing here you can take easily.                0   \n",
       "1   You are standing outside the door of a small ...               1   \n",
       "2                         You are holding: Nothing.                2   \n",
       "3   You are standing outside the door of a small ...               3   \n",
       "4         There's nothing here you can take easily.                4   \n",
       "\n",
       "   Generation No.     Action  Agent Reward  Game Reward  Score  \n",
       "0               0    get all          12.0           10     10  \n",
       "1               0       look           0.0            0     10  \n",
       "2               0  inventory           0.0            0     10  \n",
       "3               0       look           0.0            0     10  \n",
       "4               0    get all           0.0            0     10  "
      ]
     },
     "execution_count": 18,
     "metadata": {},
     "output_type": "execute_result"
    }
   ],
   "source": [
    "df_4[:5]"
   ]
  },
  {
   "cell_type": "code",
   "execution_count": 19,
   "metadata": {},
   "outputs": [
    {
     "data": {
      "text/plain": [
       "150"
      ]
     },
     "execution_count": 19,
     "metadata": {},
     "output_type": "execute_result"
    }
   ],
   "source": [
    "# check how many generations did it finish?\n",
    "df_4['Generation No.'].nunique()"
   ]
  },
  {
   "cell_type": "markdown",
   "metadata": {},
   "source": [
    "## RUN 5 "
   ]
  },
  {
   "cell_type": "code",
   "execution_count": 20,
   "metadata": {},
   "outputs": [
    {
     "ename": "IOError",
     "evalue": "[Errno 2] No such file or directory: './finalruns/run_5/track_scores_deephome_pop50gen500_230818.pkl'",
     "output_type": "error",
     "traceback": [
      "\u001b[0;31m---------------------------------------------------------------------------\u001b[0m",
      "\u001b[0;31mIOError\u001b[0m                                   Traceback (most recent call last)",
      "\u001b[0;32m<ipython-input-20-975b6b7cb829>\u001b[0m in \u001b[0;36m<module>\u001b[0;34m()\u001b[0m\n\u001b[0;32m----> 1\u001b[0;31m \u001b[0;32mwith\u001b[0m \u001b[0mopen\u001b[0m\u001b[0;34m(\u001b[0m\u001b[0;34m'./finalruns/run_5/track_scores_deephome_pop50gen500_230818.pkl'\u001b[0m\u001b[0;34m,\u001b[0m \u001b[0;34m'rb'\u001b[0m\u001b[0;34m)\u001b[0m \u001b[0;32mas\u001b[0m \u001b[0mi\u001b[0m\u001b[0;34m:\u001b[0m\u001b[0;34m\u001b[0m\u001b[0m\n\u001b[0m\u001b[1;32m      2\u001b[0m     \u001b[0mx5\u001b[0m \u001b[0;34m=\u001b[0m \u001b[0mpickle\u001b[0m\u001b[0;34m.\u001b[0m\u001b[0mload\u001b[0m\u001b[0;34m(\u001b[0m\u001b[0mi\u001b[0m\u001b[0;34m)\u001b[0m\u001b[0;34m\u001b[0m\u001b[0m\n",
      "\u001b[0;31mIOError\u001b[0m: [Errno 2] No such file or directory: './finalruns/run_5/track_scores_deephome_pop50gen500_230818.pkl'"
     ]
    }
   ],
   "source": [
    "with open('./finalruns/run_5/track_scores_deephome_pop50gen500_230818.pkl', 'rb') as i:\n",
    "    x5 = pickle.load(i)"
   ]
  },
  {
   "cell_type": "code",
   "execution_count": 21,
   "metadata": {},
   "outputs": [
    {
     "ename": "NameError",
     "evalue": "name 'x5' is not defined",
     "output_type": "error",
     "traceback": [
      "\u001b[0;31m---------------------------------------------------------------------------\u001b[0m",
      "\u001b[0;31mNameError\u001b[0m                                 Traceback (most recent call last)",
      "\u001b[0;32m<ipython-input-21-16d2c1f912ee>\u001b[0m in \u001b[0;36m<module>\u001b[0;34m()\u001b[0m\n\u001b[0;32m----> 1\u001b[0;31m \u001b[0mdf_5\u001b[0m \u001b[0;34m=\u001b[0m \u001b[0mpd\u001b[0m\u001b[0;34m.\u001b[0m\u001b[0mDataFrame\u001b[0m\u001b[0;34m(\u001b[0m\u001b[0mx5\u001b[0m\u001b[0;34m,\u001b[0m \u001b[0mcolumns\u001b[0m\u001b[0;34m=\u001b[0m\u001b[0;34m[\u001b[0m\u001b[0;34m'State'\u001b[0m\u001b[0;34m,\u001b[0m\u001b[0;34m'Population no.'\u001b[0m\u001b[0;34m,\u001b[0m\u001b[0;34m'Generation No.'\u001b[0m\u001b[0;34m,\u001b[0m\u001b[0;34m'Action'\u001b[0m\u001b[0;34m,\u001b[0m\u001b[0;34m'Agent Reward'\u001b[0m\u001b[0;34m,\u001b[0m\u001b[0;34m'Game Reward'\u001b[0m\u001b[0;34m,\u001b[0m\u001b[0;34m'Score'\u001b[0m\u001b[0;34m]\u001b[0m\u001b[0;34m)\u001b[0m\u001b[0;34m\u001b[0m\u001b[0m\n\u001b[0m",
      "\u001b[0;31mNameError\u001b[0m: name 'x5' is not defined"
     ]
    }
   ],
   "source": [
    "df_5 = pd.DataFrame(x5, columns=['State','Population no.','Generation No.','Action','Agent Reward','Game Reward','Score'])"
   ]
  },
  {
   "cell_type": "code",
   "execution_count": 22,
   "metadata": {
    "scrolled": true
   },
   "outputs": [
    {
     "ename": "NameError",
     "evalue": "name 'df_5' is not defined",
     "output_type": "error",
     "traceback": [
      "\u001b[0;31m---------------------------------------------------------------------------\u001b[0m",
      "\u001b[0;31mNameError\u001b[0m                                 Traceback (most recent call last)",
      "\u001b[0;32m<ipython-input-22-0bb8c440d8a9>\u001b[0m in \u001b[0;36m<module>\u001b[0;34m()\u001b[0m\n\u001b[0;32m----> 1\u001b[0;31m \u001b[0mdf_5\u001b[0m\u001b[0;34m[\u001b[0m\u001b[0;34m:\u001b[0m\u001b[0;36m5\u001b[0m\u001b[0;34m]\u001b[0m\u001b[0;34m\u001b[0m\u001b[0m\n\u001b[0m",
      "\u001b[0;31mNameError\u001b[0m: name 'df_5' is not defined"
     ]
    }
   ],
   "source": [
    "df_5[:5]"
   ]
  },
  {
   "cell_type": "code",
   "execution_count": null,
   "metadata": {},
   "outputs": [],
   "source": [
    "# check how many generations did it finish?\n",
    "df_5['Generation No.'].nunique()"
   ]
  },
  {
   "cell_type": "code",
   "execution_count": null,
   "metadata": {},
   "outputs": [],
   "source": [
    "# try group by generation no and get mean\n",
    "#df_5_final = df_5.groupby('Generation No.',as_index=False).agg({'Reward to Game Agent' : 'max','Game Reward' : 'max','Accumulated Reward' : 'max'})"
   ]
  },
  {
   "cell_type": "code",
   "execution_count": null,
   "metadata": {},
   "outputs": [],
   "source": [
    "## Create another column which says what type of data is this\n",
    "#df_5_final['Type'] = 'Run_5'"
   ]
  },
  {
   "cell_type": "code",
   "execution_count": null,
   "metadata": {},
   "outputs": [],
   "source": [
    "#df_5_final[:5]"
   ]
  },
  {
   "cell_type": "code",
   "execution_count": null,
   "metadata": {},
   "outputs": [],
   "source": [
    "#df_5_final.columns.values"
   ]
  },
  {
   "cell_type": "code",
   "execution_count": null,
   "metadata": {},
   "outputs": [],
   "source": [
    "#len(df_5_final)"
   ]
  },
  {
   "cell_type": "code",
   "execution_count": null,
   "metadata": {},
   "outputs": [],
   "source": [
    "'''plt.ylim(0,80)\n",
    "plt.plot(df_5_final['Generation No.'], df_5_final['Accumulated Reward'])\n",
    "plt.ylabel('Accumulated Reward')\n",
    "plt.xlabel('Generations')\n",
    "#plt.savefig('Evolution - Detective - Mean Accumulated Reward by Generations.png')\n",
    "\n",
    "plt.show()'''"
   ]
  },
  {
   "cell_type": "code",
   "execution_count": null,
   "metadata": {},
   "outputs": [],
   "source": [
    "'''#plt.ylim(0,80)\n",
    "plt.plot(df_5_final['Generation No.'], df_5_final['Reward to Game Agent'])\n",
    "plt.ylabel('Reward to Game Agent')\n",
    "plt.xlabel('Generations')\n",
    "#plt.savefig('Evolution - Detective - Mean Agent Accumulated Reward by Generations.png')\n",
    "\n",
    "plt.show()'''"
   ]
  },
  {
   "cell_type": "code",
   "execution_count": null,
   "metadata": {},
   "outputs": [],
   "source": [
    "'''#plt.ylim(0,80)\n",
    "plt.plot(df_5_final['Generation No.'], df_5_final['Game Reward'])\n",
    "plt.ylabel('Game Reward')\n",
    "plt.xlabel('Generations')\n",
    "#plt.savefig('Evolution - Detective - Mean Agent Accumulated Reward by Generations.png')\n",
    "\n",
    "plt.show()'''"
   ]
  },
  {
   "cell_type": "markdown",
   "metadata": {},
   "source": [
    "# USE BELOW FOR STATISTICS"
   ]
  },
  {
   "cell_type": "code",
   "execution_count": null,
   "metadata": {},
   "outputs": [],
   "source": [
    "dfs_ci = [df_1, df_2,df_3,df_4,df_5]"
   ]
  },
  {
   "cell_type": "code",
   "execution_count": 23,
   "metadata": {},
   "outputs": [],
   "source": [
    "dfs_ci = [df_1, df_2,df_4]"
   ]
  },
  {
   "cell_type": "code",
   "execution_count": 24,
   "metadata": {},
   "outputs": [],
   "source": [
    "df_merged_ci= pd.concat(dfs_ci, ignore_index=True)"
   ]
  },
  {
   "cell_type": "code",
   "execution_count": 25,
   "metadata": {},
   "outputs": [
    {
     "data": {
      "text/html": [
       "<div>\n",
       "<style scoped>\n",
       "    .dataframe tbody tr th:only-of-type {\n",
       "        vertical-align: middle;\n",
       "    }\n",
       "\n",
       "    .dataframe tbody tr th {\n",
       "        vertical-align: top;\n",
       "    }\n",
       "\n",
       "    .dataframe thead th {\n",
       "        text-align: right;\n",
       "    }\n",
       "</style>\n",
       "<table border=\"1\" class=\"dataframe\">\n",
       "  <thead>\n",
       "    <tr style=\"text-align: right;\">\n",
       "      <th></th>\n",
       "      <th>State</th>\n",
       "      <th>Population no.</th>\n",
       "      <th>Generation No.</th>\n",
       "      <th>Action</th>\n",
       "      <th>Agent Reward</th>\n",
       "      <th>Game Reward</th>\n",
       "      <th>Score</th>\n",
       "    </tr>\n",
       "  </thead>\n",
       "  <tbody>\n",
       "    <tr>\n",
       "      <th>0</th>\n",
       "      <td></td>\n",
       "      <td>0</td>\n",
       "      <td>0</td>\n",
       "      <td>get all</td>\n",
       "      <td>-0.2</td>\n",
       "      <td>0</td>\n",
       "      <td>0</td>\n",
       "    </tr>\n",
       "    <tr>\n",
       "      <th>1</th>\n",
       "      <td></td>\n",
       "      <td>1</td>\n",
       "      <td>0</td>\n",
       "      <td>look</td>\n",
       "      <td>-0.2</td>\n",
       "      <td>0</td>\n",
       "      <td>0</td>\n",
       "    </tr>\n",
       "    <tr>\n",
       "      <th>2</th>\n",
       "      <td></td>\n",
       "      <td>2</td>\n",
       "      <td>0</td>\n",
       "      <td>inventory</td>\n",
       "      <td>-0.2</td>\n",
       "      <td>0</td>\n",
       "      <td>0</td>\n",
       "    </tr>\n",
       "    <tr>\n",
       "      <th>3</th>\n",
       "      <td></td>\n",
       "      <td>3</td>\n",
       "      <td>0</td>\n",
       "      <td>look</td>\n",
       "      <td>-0.2</td>\n",
       "      <td>0</td>\n",
       "      <td>0</td>\n",
       "    </tr>\n",
       "    <tr>\n",
       "      <th>4</th>\n",
       "      <td></td>\n",
       "      <td>4</td>\n",
       "      <td>0</td>\n",
       "      <td>get</td>\n",
       "      <td>-0.2</td>\n",
       "      <td>0</td>\n",
       "      <td>0</td>\n",
       "    </tr>\n",
       "    <tr>\n",
       "      <th>5</th>\n",
       "      <td></td>\n",
       "      <td>5</td>\n",
       "      <td>0</td>\n",
       "      <td>look</td>\n",
       "      <td>-0.2</td>\n",
       "      <td>0</td>\n",
       "      <td>0</td>\n",
       "    </tr>\n",
       "    <tr>\n",
       "      <th>6</th>\n",
       "      <td></td>\n",
       "      <td>6</td>\n",
       "      <td>0</td>\n",
       "      <td>inventory</td>\n",
       "      <td>-0.2</td>\n",
       "      <td>0</td>\n",
       "      <td>0</td>\n",
       "    </tr>\n",
       "    <tr>\n",
       "      <th>7</th>\n",
       "      <td></td>\n",
       "      <td>7</td>\n",
       "      <td>0</td>\n",
       "      <td>look</td>\n",
       "      <td>-0.2</td>\n",
       "      <td>0</td>\n",
       "      <td>0</td>\n",
       "    </tr>\n",
       "    <tr>\n",
       "      <th>8</th>\n",
       "      <td></td>\n",
       "      <td>8</td>\n",
       "      <td>0</td>\n",
       "      <td>put</td>\n",
       "      <td>-0.2</td>\n",
       "      <td>0</td>\n",
       "      <td>0</td>\n",
       "    </tr>\n",
       "    <tr>\n",
       "      <th>9</th>\n",
       "      <td></td>\n",
       "      <td>9</td>\n",
       "      <td>0</td>\n",
       "      <td>look</td>\n",
       "      <td>-0.2</td>\n",
       "      <td>0</td>\n",
       "      <td>0</td>\n",
       "    </tr>\n",
       "  </tbody>\n",
       "</table>\n",
       "</div>"
      ],
      "text/plain": [
       "  State  Population no.  Generation No.     Action  Agent Reward  Game Reward  \\\n",
       "0                     0               0    get all          -0.2            0   \n",
       "1                     1               0       look          -0.2            0   \n",
       "2                     2               0  inventory          -0.2            0   \n",
       "3                     3               0       look          -0.2            0   \n",
       "4                     4               0        get          -0.2            0   \n",
       "5                     5               0       look          -0.2            0   \n",
       "6                     6               0  inventory          -0.2            0   \n",
       "7                     7               0       look          -0.2            0   \n",
       "8                     8               0        put          -0.2            0   \n",
       "9                     9               0       look          -0.2            0   \n",
       "\n",
       "   Score  \n",
       "0      0  \n",
       "1      0  \n",
       "2      0  \n",
       "3      0  \n",
       "4      0  \n",
       "5      0  \n",
       "6      0  \n",
       "7      0  \n",
       "8      0  \n",
       "9      0  "
      ]
     },
     "execution_count": 25,
     "metadata": {},
     "output_type": "execute_result"
    }
   ],
   "source": [
    "df_merged_ci[:10]"
   ]
  },
  {
   "cell_type": "code",
   "execution_count": 26,
   "metadata": {},
   "outputs": [
    {
     "data": {
      "text/plain": [
       "State              Welcome to Adventure! Murdac An adventure gam...\n",
       "Population no.                                                    0\n",
       "Generation No.                                                    1\n",
       "Action                                                       switch\n",
       "Agent Reward                                                     12\n",
       "Game Reward                                                      10\n",
       "Score                                                            10\n",
       "Name: 50, dtype: object"
      ]
     },
     "execution_count": 26,
     "metadata": {},
     "output_type": "execute_result"
    }
   ],
   "source": [
    "# Max Accumulated Reward\n",
    "df_merged_ci.loc[df_merged_ci['Score'].idxmax()]"
   ]
  },
  {
   "cell_type": "markdown",
   "metadata": {},
   "source": [
    "# Analyzing Results for the runs by neuroagents"
   ]
  },
  {
   "cell_type": "markdown",
   "metadata": {},
   "source": [
    "## plot of accumulated reward by runs - no confidence interval"
   ]
  },
  {
   "cell_type": "code",
   "execution_count": null,
   "metadata": {},
   "outputs": [],
   "source": [
    "'''## Without confidence interval\n",
    "\n",
    "# Plot the responses for different events and regions\n",
    "sns_plot = sns.lineplot(x=\"Generation No.\", y=\"Accumulated Reward\",\n",
    "             hue=\"Type\",\n",
    "             data=df_merged).set_title(\"Scores by NeuroAgent - Errorband Plot by Runs\")\n",
    "fig = sns_plot.get_figure()\n",
    "fig.savefig('Scores by NeuroAgent - Errorband Plot by Runs.png',bbox_inches='tight')\n",
    "#sns_plot.savefig(\"detective_plot_seaborn_neuro.png\",bbox_inches='tight')'''"
   ]
  },
  {
   "cell_type": "markdown",
   "metadata": {},
   "source": [
    "# plot of accumulated reward by runs - with confidence interval"
   ]
  },
  {
   "cell_type": "code",
   "execution_count": 27,
   "metadata": {
    "scrolled": false
   },
   "outputs": [
    {
     "data": {
      "image/png": "[encoded data removed]",
      "text/plain": [
       "<Figure size 432x288 with 1 Axes>"
      ]
     },
     "metadata": {},
     "output_type": "display_data"
    }
   ],
   "source": [
    "#sns.set(style=\"darkgrid\")\n",
    "\n",
    "# With confidence interval\n",
    "# Plot the responses for different events and regions\n",
    "sns_plot = sns.lineplot(x=\"Generation No.\", y=\"Score\",\n",
    "             #hue=\"Type\",\n",
    "            ci=99.5,\n",
    "             data=df_merged_ci).set_title(\"Neuroagent: Generation No. vs Score\")\n",
    "fig = sns_plot.get_figure()\n",
    "fig.savefig('Neuroagent- Generation No. vs Score.png',bbox_inches='tight')\n",
    "#sns_plot.savefig(\"detective_plot_seaborn_neuro.png\",bbox_inches='tight')"
   ]
  },
  {
   "cell_type": "markdown",
   "metadata": {},
   "source": [
    "## plot of REWARD TO AGENT by runs - with confidence interval"
   ]
  },
  {
   "cell_type": "code",
   "execution_count": 28,
   "metadata": {},
   "outputs": [
    {
     "data": {
      "image/png": "[encoded data removed]",
      "text/plain": [
       "<Figure size 432x288 with 1 Axes>"
      ]
     },
     "metadata": {},
     "output_type": "display_data"
    }
   ],
   "source": [
    "#sns.set(style=\"darkgrid\")\n",
    "\n",
    "# With confidence interval\n",
    "# Plot the responses for different events and regions\n",
    "sns_plot = sns.lineplot(x=\"Generation No.\", y=\"Agent Reward\",\n",
    "             #hue=\"Type\",\n",
    "            ci=99.5,\n",
    "             data=df_merged_ci).set_title(\"Neuroagent: Generation No. vs Agent Reward\")\n",
    "fig = sns_plot.get_figure()\n",
    "fig.savefig('Neuroagent- Generation No. vs Agent Reward.png',bbox_inches='tight')\n",
    "#sns_plot.savefig(\"detective_plot_seaborn_neuro.png\",bbox_inches='tight')"
   ]
  },
  {
   "cell_type": "markdown",
   "metadata": {},
   "source": [
    "# Baseline Result  - We perform 3 runs of the game with baseline agent using settings of 25,000 generations."
   ]
  },
  {
   "cell_type": "code",
   "execution_count": 29,
   "metadata": {},
   "outputs": [],
   "source": [
    "with open('./Baseline/baseline_track_scores_computer_play_250818_run_1_Murdac.pkl', 'rb') as j:\n",
    "    y_1 = pickle.load(j)"
   ]
  },
  {
   "cell_type": "code",
   "execution_count": 30,
   "metadata": {},
   "outputs": [
    {
     "ename": "IOError",
     "evalue": "[Errno 2] No such file or directory: './Baseline/baseline_track_scores_computer_play_240818_run_2_Balances.pkl'",
     "output_type": "error",
     "traceback": [
      "\u001b[0;31m---------------------------------------------------------------------------\u001b[0m",
      "\u001b[0;31mIOError\u001b[0m                                   Traceback (most recent call last)",
      "\u001b[0;32m<ipython-input-30-77e89df3d318>\u001b[0m in \u001b[0;36m<module>\u001b[0;34m()\u001b[0m\n\u001b[0;32m----> 1\u001b[0;31m \u001b[0;32mwith\u001b[0m \u001b[0mopen\u001b[0m\u001b[0;34m(\u001b[0m\u001b[0;34m'./Baseline/baseline_track_scores_computer_play_240818_run_2_Balances.pkl'\u001b[0m\u001b[0;34m,\u001b[0m \u001b[0;34m'rb'\u001b[0m\u001b[0;34m)\u001b[0m \u001b[0;32mas\u001b[0m \u001b[0mj\u001b[0m\u001b[0;34m:\u001b[0m\u001b[0;34m\u001b[0m\u001b[0m\n\u001b[0m\u001b[1;32m      2\u001b[0m     \u001b[0my_2\u001b[0m \u001b[0;34m=\u001b[0m \u001b[0mpickle\u001b[0m\u001b[0;34m.\u001b[0m\u001b[0mload\u001b[0m\u001b[0;34m(\u001b[0m\u001b[0mj\u001b[0m\u001b[0;34m)\u001b[0m\u001b[0;34m\u001b[0m\u001b[0m\n",
      "\u001b[0;31mIOError\u001b[0m: [Errno 2] No such file or directory: './Baseline/baseline_track_scores_computer_play_240818_run_2_Balances.pkl'"
     ]
    }
   ],
   "source": [
    "with open('./Baseline/baseline_track_scores_computer_play_240818_run_2_Balances.pkl', 'rb') as j:\n",
    "    y_2 = pickle.load(j)"
   ]
  },
  {
   "cell_type": "code",
   "execution_count": null,
   "metadata": {},
   "outputs": [],
   "source": [
    "with open('./Baseline/baseline_track_scores_computer_play_240818_run_4_Balances.pkl', 'rb') as j:\n",
    "    y_4 = pickle.load(j)"
   ]
  },
  {
   "cell_type": "code",
   "execution_count": null,
   "metadata": {},
   "outputs": [],
   "source": [
    "with open('./Baseline/baseline_track_scores_computer_play_240818_run_5_Balances.pkl', 'rb') as j:\n",
    "    y_5 = pickle.load(j)"
   ]
  },
  {
   "cell_type": "code",
   "execution_count": null,
   "metadata": {
    "scrolled": true
   },
   "outputs": [],
   "source": [
    "y_1[:2]"
   ]
  },
  {
   "cell_type": "code",
   "execution_count": 31,
   "metadata": {},
   "outputs": [],
   "source": [
    "columns=['Counter','Game State','Action','Game Reward','Score']"
   ]
  },
  {
   "cell_type": "code",
   "execution_count": 32,
   "metadata": {},
   "outputs": [],
   "source": [
    "df_baseline_run_1 = pd.DataFrame(y_1, columns=columns)"
   ]
  },
  {
   "cell_type": "code",
   "execution_count": 33,
   "metadata": {},
   "outputs": [],
   "source": [
    "## Create another column which says what type of data is this\n",
    "#df_baseline_run_1['Type'] = 'Baseline_Run_1'"
   ]
  },
  {
   "cell_type": "code",
   "execution_count": 34,
   "metadata": {},
   "outputs": [
    {
     "data": {
      "text/plain": [
       "3"
      ]
     },
     "execution_count": 34,
     "metadata": {},
     "output_type": "execute_result"
    }
   ],
   "source": [
    "# check how many generations did it finish.\n",
    "df_baseline_run_1['Game Reward'].nunique()"
   ]
  },
  {
   "cell_type": "code",
   "execution_count": 35,
   "metadata": {},
   "outputs": [
    {
     "data": {
      "text/html": [
       "<div>\n",
       "<style scoped>\n",
       "    .dataframe tbody tr th:only-of-type {\n",
       "        vertical-align: middle;\n",
       "    }\n",
       "\n",
       "    .dataframe tbody tr th {\n",
       "        vertical-align: top;\n",
       "    }\n",
       "\n",
       "    .dataframe thead th {\n",
       "        text-align: right;\n",
       "    }\n",
       "</style>\n",
       "<table border=\"1\" class=\"dataframe\">\n",
       "  <thead>\n",
       "    <tr style=\"text-align: right;\">\n",
       "      <th></th>\n",
       "      <th>Counter</th>\n",
       "      <th>Game State</th>\n",
       "      <th>Action</th>\n",
       "      <th>Game Reward</th>\n",
       "      <th>Score</th>\n",
       "    </tr>\n",
       "  </thead>\n",
       "  <tbody>\n",
       "  </tbody>\n",
       "</table>\n",
       "</div>"
      ],
      "text/plain": [
       "Empty DataFrame\n",
       "Columns: [Counter, Game State, Action, Game Reward, Score]\n",
       "Index: []"
      ]
     },
     "execution_count": 35,
     "metadata": {},
     "output_type": "execute_result"
    }
   ],
   "source": [
    "df_baseline_run_1.loc[df_baseline_run_1['Game Reward'] == -40]"
   ]
  },
  {
   "cell_type": "code",
   "execution_count": 36,
   "metadata": {
    "scrolled": true
   },
   "outputs": [
    {
     "data": {
      "text/plain": [
       "''"
      ]
     },
     "execution_count": 36,
     "metadata": {},
     "output_type": "execute_result"
    }
   ],
   "source": [
    "df_baseline_run_1.loc[20770]['Game State']"
   ]
  },
  {
   "cell_type": "code",
   "execution_count": null,
   "metadata": {},
   "outputs": [],
   "source": [
    "plt.ylim(0,80)\n",
    "plt.plot(df_baseline_run_1['Counter'],df_baseline_run_1['Score'])\n",
    "plt.ylabel('Score')\n",
    "plt.xlabel('Counter')\n",
    "#plt.savefig('Evolution - Detective - Mean Accumulated Reward by Generations.png')\n",
    "plt.show()"
   ]
  },
  {
   "cell_type": "code",
   "execution_count": null,
   "metadata": {},
   "outputs": [],
   "source": [
    "df_baseline_run_2 = pd.DataFrame(y_2, columns=columns)"
   ]
  },
  {
   "cell_type": "code",
   "execution_count": null,
   "metadata": {},
   "outputs": [],
   "source": [
    "## Create another column which says what type of data is this\n",
    "#df_baseline_run_2['Type'] = 'Baseline_Run_2'"
   ]
  },
  {
   "cell_type": "code",
   "execution_count": null,
   "metadata": {},
   "outputs": [],
   "source": [
    "df_baseline_run_2['Game Reward'].nunique()"
   ]
  },
  {
   "cell_type": "code",
   "execution_count": null,
   "metadata": {},
   "outputs": [],
   "source": [
    "df_baseline_run_2.loc[df_baseline_run_2['Game Reward'] == 20]"
   ]
  },
  {
   "cell_type": "code",
   "execution_count": null,
   "metadata": {},
   "outputs": [],
   "source": [
    "df_baseline_run_2.loc[2814]['Game State']"
   ]
  },
  {
   "cell_type": "code",
   "execution_count": null,
   "metadata": {},
   "outputs": [],
   "source": [
    "#plt.ylim(0,80)\n",
    "plt.plot(df_baseline_run_2['Counter'],df_baseline_run_2['Score'])\n",
    "plt.ylabel('Accumulated Reward')\n",
    "plt.xlabel('Counter')\n",
    "#plt.savefig('Evolution - Detective - Mean Accumulated Reward by Generations.png')\n",
    "plt.show()"
   ]
  },
  {
   "cell_type": "code",
   "execution_count": null,
   "metadata": {},
   "outputs": [],
   "source": []
  },
  {
   "cell_type": "code",
   "execution_count": null,
   "metadata": {},
   "outputs": [],
   "source": []
  },
  {
   "cell_type": "code",
   "execution_count": null,
   "metadata": {},
   "outputs": [],
   "source": []
  },
  {
   "cell_type": "code",
   "execution_count": null,
   "metadata": {},
   "outputs": [],
   "source": []
  },
  {
   "cell_type": "code",
   "execution_count": null,
   "metadata": {},
   "outputs": [],
   "source": [
    "df_baseline_run_4 = pd.DataFrame(y_4, columns=columns)"
   ]
  },
  {
   "cell_type": "code",
   "execution_count": null,
   "metadata": {},
   "outputs": [],
   "source": [
    "## Create another column which says what type of data is this\n",
    "#df_baseline_run_3['Type'] = 'Baseline_Run_3'"
   ]
  },
  {
   "cell_type": "code",
   "execution_count": null,
   "metadata": {},
   "outputs": [],
   "source": [
    "df_baseline_run_4['Game Reward'].nunique()"
   ]
  },
  {
   "cell_type": "code",
   "execution_count": null,
   "metadata": {},
   "outputs": [],
   "source": [
    "df_baseline_run_5 = pd.DataFrame(y_5, columns=columns)"
   ]
  },
  {
   "cell_type": "code",
   "execution_count": null,
   "metadata": {},
   "outputs": [],
   "source": []
  },
  {
   "cell_type": "code",
   "execution_count": null,
   "metadata": {},
   "outputs": [],
   "source": [
    "#plt.ylim(0,80)\n",
    "plt.plot(df_baseline_run_3['Counter'],df_baseline_run_3['Score'])\n",
    "plt.ylabel('Accumulated Reward')\n",
    "plt.xlabel('Counter')\n",
    "#plt.savefig('Evolution - Detective - Mean Accumulated Reward by Generations.png')\n",
    "plt.show()"
   ]
  },
  {
   "cell_type": "code",
   "execution_count": null,
   "metadata": {},
   "outputs": [],
   "source": [
    "df_baseline_run_3.loc[df_baseline_run_3['Game Reward'] == -30]"
   ]
  },
  {
   "cell_type": "code",
   "execution_count": null,
   "metadata": {},
   "outputs": [],
   "source": [
    "df_baseline_run_3.loc[2618]['Game State']"
   ]
  },
  {
   "cell_type": "code",
   "execution_count": null,
   "metadata": {},
   "outputs": [],
   "source": []
  },
  {
   "cell_type": "code",
   "execution_count": null,
   "metadata": {},
   "outputs": [],
   "source": []
  },
  {
   "cell_type": "code",
   "execution_count": null,
   "metadata": {},
   "outputs": [],
   "source": []
  },
  {
   "cell_type": "code",
   "execution_count": null,
   "metadata": {},
   "outputs": [],
   "source": [
    "len(df_baseline_run_1)"
   ]
  },
  {
   "cell_type": "code",
   "execution_count": null,
   "metadata": {},
   "outputs": [],
   "source": [
    "len(df_baseline_run_2)"
   ]
  },
  {
   "cell_type": "code",
   "execution_count": null,
   "metadata": {},
   "outputs": [],
   "source": [
    "len(df_baseline_run_4)"
   ]
  },
  {
   "cell_type": "code",
   "execution_count": null,
   "metadata": {},
   "outputs": [],
   "source": [
    "len(df_baseline_run_5)"
   ]
  },
  {
   "cell_type": "code",
   "execution_count": null,
   "metadata": {},
   "outputs": [],
   "source": [
    "df_baseline_run_1[:3]"
   ]
  },
  {
   "cell_type": "markdown",
   "metadata": {},
   "source": [
    "# Merge all results for baseline agent runs"
   ]
  },
  {
   "cell_type": "code",
   "execution_count": null,
   "metadata": {},
   "outputs": [],
   "source": [
    "dfs_baseline = [df_baseline_run_1,df_baseline_run_2,df_baseline_run_4,df_baseline_run_5]"
   ]
  },
  {
   "cell_type": "code",
   "execution_count": 36,
   "metadata": {},
   "outputs": [],
   "source": [
    "df_baseline_merged = df_baseline_run_1"
   ]
  },
  {
   "cell_type": "code",
   "execution_count": null,
   "metadata": {},
   "outputs": [],
   "source": [
    "df_baseline_merged = pd.concat(dfs_baseline, ignore_index=True)"
   ]
  },
  {
   "cell_type": "code",
   "execution_count": 37,
   "metadata": {},
   "outputs": [
    {
     "data": {
      "text/plain": [
       "25000"
      ]
     },
     "execution_count": 37,
     "metadata": {},
     "output_type": "execute_result"
    }
   ],
   "source": [
    "len(df_baseline_merged)"
   ]
  },
  {
   "cell_type": "code",
   "execution_count": 38,
   "metadata": {},
   "outputs": [
    {
     "data": {
      "text/html": [
       "<div>\n",
       "<style scoped>\n",
       "    .dataframe tbody tr th:only-of-type {\n",
       "        vertical-align: middle;\n",
       "    }\n",
       "\n",
       "    .dataframe tbody tr th {\n",
       "        vertical-align: top;\n",
       "    }\n",
       "\n",
       "    .dataframe thead th {\n",
       "        text-align: right;\n",
       "    }\n",
       "</style>\n",
       "<table border=\"1\" class=\"dataframe\">\n",
       "  <thead>\n",
       "    <tr style=\"text-align: right;\">\n",
       "      <th></th>\n",
       "      <th>Counter</th>\n",
       "      <th>Game State</th>\n",
       "      <th>Action</th>\n",
       "      <th>Game Reward</th>\n",
       "      <th>Score</th>\n",
       "    </tr>\n",
       "  </thead>\n",
       "  <tbody>\n",
       "    <tr>\n",
       "      <th>0</th>\n",
       "      <td>0</td>\n",
       "      <td></td>\n",
       "      <td>get all</td>\n",
       "      <td>10</td>\n",
       "      <td>10</td>\n",
       "    </tr>\n",
       "    <tr>\n",
       "      <th>1</th>\n",
       "      <td>1</td>\n",
       "      <td>You are standing outside the door of a small ...</td>\n",
       "      <td>look</td>\n",
       "      <td>0</td>\n",
       "      <td>10</td>\n",
       "    </tr>\n",
       "    <tr>\n",
       "      <th>2</th>\n",
       "      <td>2</td>\n",
       "      <td>You are holding: Nothing.</td>\n",
       "      <td>inventory</td>\n",
       "      <td>0</td>\n",
       "      <td>10</td>\n",
       "    </tr>\n",
       "    <tr>\n",
       "      <th>3</th>\n",
       "      <td>3</td>\n",
       "      <td>You are standing outside the door of a small ...</td>\n",
       "      <td>look</td>\n",
       "      <td>0</td>\n",
       "      <td>10</td>\n",
       "    </tr>\n",
       "    <tr>\n",
       "      <th>4</th>\n",
       "      <td>4</td>\n",
       "      <td>There's nothing here you can take easily.</td>\n",
       "      <td>get all</td>\n",
       "      <td>0</td>\n",
       "      <td>10</td>\n",
       "    </tr>\n",
       "  </tbody>\n",
       "</table>\n",
       "</div>"
      ],
      "text/plain": [
       "   Counter                                         Game State     Action  \\\n",
       "0        0                                                       get all   \n",
       "1        1   You are standing outside the door of a small ...       look   \n",
       "2        2                         You are holding: Nothing.   inventory   \n",
       "3        3   You are standing outside the door of a small ...       look   \n",
       "4        4         There's nothing here you can take easily.     get all   \n",
       "\n",
       "   Game Reward  Score  \n",
       "0           10     10  \n",
       "1            0     10  \n",
       "2            0     10  \n",
       "3            0     10  \n",
       "4            0     10  "
      ]
     },
     "execution_count": 38,
     "metadata": {},
     "output_type": "execute_result"
    }
   ],
   "source": [
    "df_baseline_merged[:5]"
   ]
  },
  {
   "cell_type": "code",
   "execution_count": 39,
   "metadata": {},
   "outputs": [
    {
     "data": {
      "text/plain": [
       "Counter              0\n",
       "Game State            \n",
       "Action         get all\n",
       "Game Reward         10\n",
       "Score               10\n",
       "Name: 0, dtype: object"
      ]
     },
     "execution_count": 39,
     "metadata": {},
     "output_type": "execute_result"
    }
   ],
   "source": [
    "df_baseline_merged.loc[df_baseline_merged['Score'].idxmax()]"
   ]
  },
  {
   "cell_type": "markdown",
   "metadata": {},
   "source": [
    "## DONT USE"
   ]
  },
  {
   "cell_type": "code",
   "execution_count": null,
   "metadata": {},
   "outputs": [],
   "source": [
    "# try group by generation no and get max\n",
    "#df_baseline_merged_final = df_baseline_merged.groupby('Counter',as_index=False).agg({'Game Reward' : 'max','Accumulated Reward' : 'max'})"
   ]
  },
  {
   "cell_type": "code",
   "execution_count": null,
   "metadata": {},
   "outputs": [],
   "source": [
    "len(df_baseline_merged_final)"
   ]
  },
  {
   "cell_type": "code",
   "execution_count": null,
   "metadata": {},
   "outputs": [],
   "source": [
    "df_baseline_merged_final[:11]"
   ]
  },
  {
   "cell_type": "code",
   "execution_count": null,
   "metadata": {},
   "outputs": [],
   "source": [
    "df_baseline_merged_final.loc[df_baseline_merged_final['Counter']==986]"
   ]
  },
  {
   "cell_type": "markdown",
   "metadata": {},
   "source": [
    "# USE THIS "
   ]
  },
  {
   "cell_type": "code",
   "execution_count": null,
   "metadata": {},
   "outputs": [],
   "source": [
    "# new column to group by intervals of 50\n",
    "#df_baseline_merged_final['Generation No.'] = df_baseline_merged_final['Counter'] // 50"
   ]
  },
  {
   "cell_type": "code",
   "execution_count": 40,
   "metadata": {},
   "outputs": [],
   "source": [
    "df_baseline_merged['Generation No.'] = df_baseline_merged['Counter'] // 50"
   ]
  },
  {
   "cell_type": "code",
   "execution_count": 41,
   "metadata": {},
   "outputs": [
    {
     "data": {
      "text/html": [
       "<div>\n",
       "<style scoped>\n",
       "    .dataframe tbody tr th:only-of-type {\n",
       "        vertical-align: middle;\n",
       "    }\n",
       "\n",
       "    .dataframe tbody tr th {\n",
       "        vertical-align: top;\n",
       "    }\n",
       "\n",
       "    .dataframe thead th {\n",
       "        text-align: right;\n",
       "    }\n",
       "</style>\n",
       "<table border=\"1\" class=\"dataframe\">\n",
       "  <thead>\n",
       "    <tr style=\"text-align: right;\">\n",
       "      <th></th>\n",
       "      <th>Counter</th>\n",
       "      <th>Game State</th>\n",
       "      <th>Action</th>\n",
       "      <th>Game Reward</th>\n",
       "      <th>Score</th>\n",
       "      <th>Generation No.</th>\n",
       "    </tr>\n",
       "  </thead>\n",
       "  <tbody>\n",
       "    <tr>\n",
       "      <th>0</th>\n",
       "      <td>0</td>\n",
       "      <td></td>\n",
       "      <td>get all</td>\n",
       "      <td>10</td>\n",
       "      <td>10</td>\n",
       "      <td>0</td>\n",
       "    </tr>\n",
       "    <tr>\n",
       "      <th>1</th>\n",
       "      <td>1</td>\n",
       "      <td>You are standing outside the door of a small ...</td>\n",
       "      <td>look</td>\n",
       "      <td>0</td>\n",
       "      <td>10</td>\n",
       "      <td>0</td>\n",
       "    </tr>\n",
       "    <tr>\n",
       "      <th>2</th>\n",
       "      <td>2</td>\n",
       "      <td>You are holding: Nothing.</td>\n",
       "      <td>inventory</td>\n",
       "      <td>0</td>\n",
       "      <td>10</td>\n",
       "      <td>0</td>\n",
       "    </tr>\n",
       "  </tbody>\n",
       "</table>\n",
       "</div>"
      ],
      "text/plain": [
       "   Counter                                         Game State     Action  \\\n",
       "0        0                                                       get all   \n",
       "1        1   You are standing outside the door of a small ...       look   \n",
       "2        2                         You are holding: Nothing.   inventory   \n",
       "\n",
       "   Game Reward  Score  Generation No.  \n",
       "0           10     10               0  \n",
       "1            0     10               0  \n",
       "2            0     10               0  "
      ]
     },
     "execution_count": 41,
     "metadata": {},
     "output_type": "execute_result"
    }
   ],
   "source": [
    "df_baseline_merged[:3]"
   ]
  },
  {
   "cell_type": "code",
   "execution_count": null,
   "metadata": {},
   "outputs": [],
   "source": []
  },
  {
   "cell_type": "code",
   "execution_count": null,
   "metadata": {},
   "outputs": [],
   "source": []
  },
  {
   "cell_type": "markdown",
   "metadata": {},
   "source": [
    "# DONT USE THIS"
   ]
  },
  {
   "cell_type": "code",
   "execution_count": null,
   "metadata": {},
   "outputs": [],
   "source": [
    "# try group by generation no and get max\n",
    "df_baseline_merged_final_final = df_baseline_merged_final.groupby('Generation No.',as_index=False).agg({'Game Reward' : 'max','Accumulated Reward' : 'max'})"
   ]
  },
  {
   "cell_type": "code",
   "execution_count": null,
   "metadata": {},
   "outputs": [],
   "source": [
    "df_baseline_merged_final_final[:30]"
   ]
  },
  {
   "cell_type": "code",
   "execution_count": null,
   "metadata": {},
   "outputs": [],
   "source": [
    "len(df_baseline_merged_final_final)"
   ]
  },
  {
   "cell_type": "markdown",
   "metadata": {},
   "source": [
    "## Plot scores for baseline agents"
   ]
  },
  {
   "cell_type": "code",
   "execution_count": 42,
   "metadata": {},
   "outputs": [
    {
     "data": {
      "image/png": "[encoded data removed]",
      "text/plain": [
       "<Figure size 432x288 with 1 Axes>"
      ]
     },
     "metadata": {},
     "output_type": "display_data"
    }
   ],
   "source": [
    "#sns.set(style=\"darkgrid\")\n",
    "\n",
    "# With confidence interval\n",
    "# Plot the responses for different events and regions\n",
    "sns_plot = sns.lineplot(x=\"Generation No.\", y=\"Score\",\n",
    "             #hue=\"Type\",\n",
    "            ci=99.5,\n",
    "             data=df_baseline_merged).set_title(\"Baseline: Generation No. vs Score\")\n",
    "fig = sns_plot.get_figure()\n",
    "fig.savefig('Baseline- Generation No. vs Score.png',bbox_inches='tight')\n",
    "#sns_plot.savefig(\"detective_plot_seaborn_neuro.png\",bbox_inches='tight')"
   ]
  },
  {
   "cell_type": "code",
   "execution_count": 43,
   "metadata": {},
   "outputs": [
    {
     "data": {
      "image/png": "[encoded data removed]",
      "text/plain": [
       "<Figure size 432x288 with 1 Axes>"
      ]
     },
     "metadata": {},
     "output_type": "display_data"
    }
   ],
   "source": [
    "#sns.set(style=\"darkgrid\")\n",
    "\n",
    "# With confidence interval\n",
    "# Plot the responses for different events and regions\n",
    "sns_plot = sns.lineplot(x=\"Generation No.\", y=\"Game Reward\",\n",
    "             #hue=\"Type\",\n",
    "            ci=99.5,\n",
    "             data=df_baseline_merged).set_title(\"Baseline: Generation No. vs Game Reward\")\n",
    "fig = sns_plot.get_figure()\n",
    "fig.savefig('Baseline- Generation No. vs Game Reward.png',bbox_inches='tight')\n",
    "#sns_plot.savefig(\"detective_plot_seaborn_neuro.png\",bbox_inches='tight')"
   ]
  },
  {
   "cell_type": "markdown",
   "metadata": {},
   "source": [
    "# Compare scores to baselines and neuro evolution"
   ]
  },
  {
   "cell_type": "code",
   "execution_count": 44,
   "metadata": {},
   "outputs": [
    {
     "data": {
      "text/html": [
       "<div>\n",
       "<style scoped>\n",
       "    .dataframe tbody tr th:only-of-type {\n",
       "        vertical-align: middle;\n",
       "    }\n",
       "\n",
       "    .dataframe tbody tr th {\n",
       "        vertical-align: top;\n",
       "    }\n",
       "\n",
       "    .dataframe thead th {\n",
       "        text-align: right;\n",
       "    }\n",
       "</style>\n",
       "<table border=\"1\" class=\"dataframe\">\n",
       "  <thead>\n",
       "    <tr style=\"text-align: right;\">\n",
       "      <th></th>\n",
       "      <th>State</th>\n",
       "      <th>Population no.</th>\n",
       "      <th>Generation No.</th>\n",
       "      <th>Action</th>\n",
       "      <th>Agent Reward</th>\n",
       "      <th>Game Reward</th>\n",
       "      <th>Score</th>\n",
       "    </tr>\n",
       "  </thead>\n",
       "  <tbody>\n",
       "    <tr>\n",
       "      <th>0</th>\n",
       "      <td></td>\n",
       "      <td>0</td>\n",
       "      <td>0</td>\n",
       "      <td>get all</td>\n",
       "      <td>-0.2</td>\n",
       "      <td>0</td>\n",
       "      <td>0</td>\n",
       "    </tr>\n",
       "    <tr>\n",
       "      <th>1</th>\n",
       "      <td></td>\n",
       "      <td>1</td>\n",
       "      <td>0</td>\n",
       "      <td>look</td>\n",
       "      <td>-0.2</td>\n",
       "      <td>0</td>\n",
       "      <td>0</td>\n",
       "    </tr>\n",
       "    <tr>\n",
       "      <th>2</th>\n",
       "      <td></td>\n",
       "      <td>2</td>\n",
       "      <td>0</td>\n",
       "      <td>inventory</td>\n",
       "      <td>-0.2</td>\n",
       "      <td>0</td>\n",
       "      <td>0</td>\n",
       "    </tr>\n",
       "    <tr>\n",
       "      <th>3</th>\n",
       "      <td></td>\n",
       "      <td>3</td>\n",
       "      <td>0</td>\n",
       "      <td>look</td>\n",
       "      <td>-0.2</td>\n",
       "      <td>0</td>\n",
       "      <td>0</td>\n",
       "    </tr>\n",
       "    <tr>\n",
       "      <th>4</th>\n",
       "      <td></td>\n",
       "      <td>4</td>\n",
       "      <td>0</td>\n",
       "      <td>get</td>\n",
       "      <td>-0.2</td>\n",
       "      <td>0</td>\n",
       "      <td>0</td>\n",
       "    </tr>\n",
       "  </tbody>\n",
       "</table>\n",
       "</div>"
      ],
      "text/plain": [
       "  State  Population no.  Generation No.     Action  Agent Reward  Game Reward  \\\n",
       "0                     0               0    get all          -0.2            0   \n",
       "1                     1               0       look          -0.2            0   \n",
       "2                     2               0  inventory          -0.2            0   \n",
       "3                     3               0       look          -0.2            0   \n",
       "4                     4               0        get          -0.2            0   \n",
       "\n",
       "   Score  \n",
       "0      0  \n",
       "1      0  \n",
       "2      0  \n",
       "3      0  \n",
       "4      0  "
      ]
     },
     "execution_count": 44,
     "metadata": {},
     "output_type": "execute_result"
    }
   ],
   "source": [
    "df_merged_ci[:5]"
   ]
  },
  {
   "cell_type": "code",
   "execution_count": 45,
   "metadata": {},
   "outputs": [
    {
     "data": {
      "text/plain": [
       "42500"
      ]
     },
     "execution_count": 45,
     "metadata": {},
     "output_type": "execute_result"
    }
   ],
   "source": [
    "len(df_merged_ci)"
   ]
  },
  {
   "cell_type": "code",
   "execution_count": 46,
   "metadata": {},
   "outputs": [
    {
     "data": {
      "text/html": [
       "<div>\n",
       "<style scoped>\n",
       "    .dataframe tbody tr th:only-of-type {\n",
       "        vertical-align: middle;\n",
       "    }\n",
       "\n",
       "    .dataframe tbody tr th {\n",
       "        vertical-align: top;\n",
       "    }\n",
       "\n",
       "    .dataframe thead th {\n",
       "        text-align: right;\n",
       "    }\n",
       "</style>\n",
       "<table border=\"1\" class=\"dataframe\">\n",
       "  <thead>\n",
       "    <tr style=\"text-align: right;\">\n",
       "      <th></th>\n",
       "      <th>Counter</th>\n",
       "      <th>Game State</th>\n",
       "      <th>Action</th>\n",
       "      <th>Game Reward</th>\n",
       "      <th>Score</th>\n",
       "      <th>Generation No.</th>\n",
       "    </tr>\n",
       "  </thead>\n",
       "  <tbody>\n",
       "    <tr>\n",
       "      <th>0</th>\n",
       "      <td>0</td>\n",
       "      <td></td>\n",
       "      <td>get all</td>\n",
       "      <td>10</td>\n",
       "      <td>10</td>\n",
       "      <td>0</td>\n",
       "    </tr>\n",
       "    <tr>\n",
       "      <th>1</th>\n",
       "      <td>1</td>\n",
       "      <td>You are standing outside the door of a small ...</td>\n",
       "      <td>look</td>\n",
       "      <td>0</td>\n",
       "      <td>10</td>\n",
       "      <td>0</td>\n",
       "    </tr>\n",
       "    <tr>\n",
       "      <th>2</th>\n",
       "      <td>2</td>\n",
       "      <td>You are holding: Nothing.</td>\n",
       "      <td>inventory</td>\n",
       "      <td>0</td>\n",
       "      <td>10</td>\n",
       "      <td>0</td>\n",
       "    </tr>\n",
       "    <tr>\n",
       "      <th>3</th>\n",
       "      <td>3</td>\n",
       "      <td>You are standing outside the door of a small ...</td>\n",
       "      <td>look</td>\n",
       "      <td>0</td>\n",
       "      <td>10</td>\n",
       "      <td>0</td>\n",
       "    </tr>\n",
       "    <tr>\n",
       "      <th>4</th>\n",
       "      <td>4</td>\n",
       "      <td>There's nothing here you can take easily.</td>\n",
       "      <td>get all</td>\n",
       "      <td>0</td>\n",
       "      <td>10</td>\n",
       "      <td>0</td>\n",
       "    </tr>\n",
       "  </tbody>\n",
       "</table>\n",
       "</div>"
      ],
      "text/plain": [
       "   Counter                                         Game State     Action  \\\n",
       "0        0                                                       get all   \n",
       "1        1   You are standing outside the door of a small ...       look   \n",
       "2        2                         You are holding: Nothing.   inventory   \n",
       "3        3   You are standing outside the door of a small ...       look   \n",
       "4        4         There's nothing here you can take easily.     get all   \n",
       "\n",
       "   Game Reward  Score  Generation No.  \n",
       "0           10     10               0  \n",
       "1            0     10               0  \n",
       "2            0     10               0  \n",
       "3            0     10               0  \n",
       "4            0     10               0  "
      ]
     },
     "execution_count": 46,
     "metadata": {},
     "output_type": "execute_result"
    }
   ],
   "source": [
    "df_baseline_merged[:5]"
   ]
  },
  {
   "cell_type": "code",
   "execution_count": 47,
   "metadata": {},
   "outputs": [
    {
     "data": {
      "text/plain": [
       "25000"
      ]
     },
     "execution_count": 47,
     "metadata": {},
     "output_type": "execute_result"
    }
   ],
   "source": [
    "len(df_baseline_merged)"
   ]
  },
  {
   "cell_type": "markdown",
   "metadata": {},
   "source": [
    "# add type to baselines merged"
   ]
  },
  {
   "cell_type": "code",
   "execution_count": 48,
   "metadata": {},
   "outputs": [],
   "source": [
    "## Create another column which says what type of data is this\n",
    "df_baseline_merged['Type'] = 'Baseline'"
   ]
  },
  {
   "cell_type": "code",
   "execution_count": 49,
   "metadata": {},
   "outputs": [
    {
     "data": {
      "text/html": [
       "<div>\n",
       "<style scoped>\n",
       "    .dataframe tbody tr th:only-of-type {\n",
       "        vertical-align: middle;\n",
       "    }\n",
       "\n",
       "    .dataframe tbody tr th {\n",
       "        vertical-align: top;\n",
       "    }\n",
       "\n",
       "    .dataframe thead th {\n",
       "        text-align: right;\n",
       "    }\n",
       "</style>\n",
       "<table border=\"1\" class=\"dataframe\">\n",
       "  <thead>\n",
       "    <tr style=\"text-align: right;\">\n",
       "      <th></th>\n",
       "      <th>Counter</th>\n",
       "      <th>Game State</th>\n",
       "      <th>Action</th>\n",
       "      <th>Game Reward</th>\n",
       "      <th>Score</th>\n",
       "      <th>Generation No.</th>\n",
       "      <th>Type</th>\n",
       "    </tr>\n",
       "  </thead>\n",
       "  <tbody>\n",
       "    <tr>\n",
       "      <th>0</th>\n",
       "      <td>0</td>\n",
       "      <td></td>\n",
       "      <td>get all</td>\n",
       "      <td>10</td>\n",
       "      <td>10</td>\n",
       "      <td>0</td>\n",
       "      <td>Baseline</td>\n",
       "    </tr>\n",
       "    <tr>\n",
       "      <th>1</th>\n",
       "      <td>1</td>\n",
       "      <td>You are standing outside the door of a small ...</td>\n",
       "      <td>look</td>\n",
       "      <td>0</td>\n",
       "      <td>10</td>\n",
       "      <td>0</td>\n",
       "      <td>Baseline</td>\n",
       "    </tr>\n",
       "    <tr>\n",
       "      <th>2</th>\n",
       "      <td>2</td>\n",
       "      <td>You are holding: Nothing.</td>\n",
       "      <td>inventory</td>\n",
       "      <td>0</td>\n",
       "      <td>10</td>\n",
       "      <td>0</td>\n",
       "      <td>Baseline</td>\n",
       "    </tr>\n",
       "    <tr>\n",
       "      <th>3</th>\n",
       "      <td>3</td>\n",
       "      <td>You are standing outside the door of a small ...</td>\n",
       "      <td>look</td>\n",
       "      <td>0</td>\n",
       "      <td>10</td>\n",
       "      <td>0</td>\n",
       "      <td>Baseline</td>\n",
       "    </tr>\n",
       "    <tr>\n",
       "      <th>4</th>\n",
       "      <td>4</td>\n",
       "      <td>There's nothing here you can take easily.</td>\n",
       "      <td>get all</td>\n",
       "      <td>0</td>\n",
       "      <td>10</td>\n",
       "      <td>0</td>\n",
       "      <td>Baseline</td>\n",
       "    </tr>\n",
       "  </tbody>\n",
       "</table>\n",
       "</div>"
      ],
      "text/plain": [
       "   Counter                                         Game State     Action  \\\n",
       "0        0                                                       get all   \n",
       "1        1   You are standing outside the door of a small ...       look   \n",
       "2        2                         You are holding: Nothing.   inventory   \n",
       "3        3   You are standing outside the door of a small ...       look   \n",
       "4        4         There's nothing here you can take easily.     get all   \n",
       "\n",
       "   Game Reward  Score  Generation No.      Type  \n",
       "0           10     10               0  Baseline  \n",
       "1            0     10               0  Baseline  \n",
       "2            0     10               0  Baseline  \n",
       "3            0     10               0  Baseline  \n",
       "4            0     10               0  Baseline  "
      ]
     },
     "execution_count": 49,
     "metadata": {},
     "output_type": "execute_result"
    }
   ],
   "source": [
    "df_baseline_merged[:5]"
   ]
  },
  {
   "cell_type": "code",
   "execution_count": 50,
   "metadata": {},
   "outputs": [],
   "source": [
    "df_merged_ci['Type'] = 'Neuroagent'"
   ]
  },
  {
   "cell_type": "code",
   "execution_count": 51,
   "metadata": {},
   "outputs": [
    {
     "data": {
      "text/html": [
       "<div>\n",
       "<style scoped>\n",
       "    .dataframe tbody tr th:only-of-type {\n",
       "        vertical-align: middle;\n",
       "    }\n",
       "\n",
       "    .dataframe tbody tr th {\n",
       "        vertical-align: top;\n",
       "    }\n",
       "\n",
       "    .dataframe thead th {\n",
       "        text-align: right;\n",
       "    }\n",
       "</style>\n",
       "<table border=\"1\" class=\"dataframe\">\n",
       "  <thead>\n",
       "    <tr style=\"text-align: right;\">\n",
       "      <th></th>\n",
       "      <th>State</th>\n",
       "      <th>Population no.</th>\n",
       "      <th>Generation No.</th>\n",
       "      <th>Action</th>\n",
       "      <th>Agent Reward</th>\n",
       "      <th>Game Reward</th>\n",
       "      <th>Score</th>\n",
       "      <th>Type</th>\n",
       "    </tr>\n",
       "  </thead>\n",
       "  <tbody>\n",
       "    <tr>\n",
       "      <th>0</th>\n",
       "      <td></td>\n",
       "      <td>0</td>\n",
       "      <td>0</td>\n",
       "      <td>get all</td>\n",
       "      <td>-0.2</td>\n",
       "      <td>0</td>\n",
       "      <td>0</td>\n",
       "      <td>Neuroagent</td>\n",
       "    </tr>\n",
       "    <tr>\n",
       "      <th>1</th>\n",
       "      <td></td>\n",
       "      <td>1</td>\n",
       "      <td>0</td>\n",
       "      <td>look</td>\n",
       "      <td>-0.2</td>\n",
       "      <td>0</td>\n",
       "      <td>0</td>\n",
       "      <td>Neuroagent</td>\n",
       "    </tr>\n",
       "    <tr>\n",
       "      <th>2</th>\n",
       "      <td></td>\n",
       "      <td>2</td>\n",
       "      <td>0</td>\n",
       "      <td>inventory</td>\n",
       "      <td>-0.2</td>\n",
       "      <td>0</td>\n",
       "      <td>0</td>\n",
       "      <td>Neuroagent</td>\n",
       "    </tr>\n",
       "    <tr>\n",
       "      <th>3</th>\n",
       "      <td></td>\n",
       "      <td>3</td>\n",
       "      <td>0</td>\n",
       "      <td>look</td>\n",
       "      <td>-0.2</td>\n",
       "      <td>0</td>\n",
       "      <td>0</td>\n",
       "      <td>Neuroagent</td>\n",
       "    </tr>\n",
       "    <tr>\n",
       "      <th>4</th>\n",
       "      <td></td>\n",
       "      <td>4</td>\n",
       "      <td>0</td>\n",
       "      <td>get</td>\n",
       "      <td>-0.2</td>\n",
       "      <td>0</td>\n",
       "      <td>0</td>\n",
       "      <td>Neuroagent</td>\n",
       "    </tr>\n",
       "  </tbody>\n",
       "</table>\n",
       "</div>"
      ],
      "text/plain": [
       "  State  Population no.  Generation No.     Action  Agent Reward  Game Reward  \\\n",
       "0                     0               0    get all          -0.2            0   \n",
       "1                     1               0       look          -0.2            0   \n",
       "2                     2               0  inventory          -0.2            0   \n",
       "3                     3               0       look          -0.2            0   \n",
       "4                     4               0        get          -0.2            0   \n",
       "\n",
       "   Score        Type  \n",
       "0      0  Neuroagent  \n",
       "1      0  Neuroagent  \n",
       "2      0  Neuroagent  \n",
       "3      0  Neuroagent  \n",
       "4      0  Neuroagent  "
      ]
     },
     "execution_count": 51,
     "metadata": {},
     "output_type": "execute_result"
    }
   ],
   "source": [
    "df_merged_ci[:5]"
   ]
  },
  {
   "cell_type": "markdown",
   "metadata": {},
   "source": [
    "# merging both baseline and neuro agent results"
   ]
  },
  {
   "cell_type": "code",
   "execution_count": 52,
   "metadata": {},
   "outputs": [
    {
     "name": "stderr",
     "output_type": "stream",
     "text": [
      "/home/mrmad/anaconda3/envs/ori_autoplay/lib/python2.7/site-packages/ipykernel_launcher.py:2: FutureWarning: Sorting because non-concatenation axis is not aligned. A future version\n",
      "of pandas will change to not sort by default.\n",
      "\n",
      "To accept the future behavior, pass 'sort=False'.\n",
      "\n",
      "To retain the current behavior and silence the warning, pass 'sort=True'.\n",
      "\n",
      "  \n"
     ]
    }
   ],
   "source": [
    "#df_combined_merged = pd.concat([df_merged, df_baseline_merged_final_final]).fillna(0)\n",
    "df_combined_merged = pd.concat([df_merged_ci, df_baseline_merged])"
   ]
  },
  {
   "cell_type": "code",
   "execution_count": 53,
   "metadata": {},
   "outputs": [
    {
     "data": {
      "text/plain": [
       "67500"
      ]
     },
     "execution_count": 53,
     "metadata": {},
     "output_type": "execute_result"
    }
   ],
   "source": [
    "len(df_combined_merged)"
   ]
  },
  {
   "cell_type": "code",
   "execution_count": 54,
   "metadata": {},
   "outputs": [
    {
     "data": {
      "text/html": [
       "<div>\n",
       "<style scoped>\n",
       "    .dataframe tbody tr th:only-of-type {\n",
       "        vertical-align: middle;\n",
       "    }\n",
       "\n",
       "    .dataframe tbody tr th {\n",
       "        vertical-align: top;\n",
       "    }\n",
       "\n",
       "    .dataframe thead th {\n",
       "        text-align: right;\n",
       "    }\n",
       "</style>\n",
       "<table border=\"1\" class=\"dataframe\">\n",
       "  <thead>\n",
       "    <tr style=\"text-align: right;\">\n",
       "      <th></th>\n",
       "      <th>Action</th>\n",
       "      <th>Agent Reward</th>\n",
       "      <th>Counter</th>\n",
       "      <th>Game Reward</th>\n",
       "      <th>Game State</th>\n",
       "      <th>Generation No.</th>\n",
       "      <th>Population no.</th>\n",
       "      <th>Score</th>\n",
       "      <th>State</th>\n",
       "      <th>Type</th>\n",
       "    </tr>\n",
       "  </thead>\n",
       "  <tbody>\n",
       "    <tr>\n",
       "      <th>0</th>\n",
       "      <td>get all</td>\n",
       "      <td>-0.2</td>\n",
       "      <td>NaN</td>\n",
       "      <td>0</td>\n",
       "      <td>NaN</td>\n",
       "      <td>0</td>\n",
       "      <td>0.0</td>\n",
       "      <td>0</td>\n",
       "      <td></td>\n",
       "      <td>Neuroagent</td>\n",
       "    </tr>\n",
       "    <tr>\n",
       "      <th>1</th>\n",
       "      <td>look</td>\n",
       "      <td>-0.2</td>\n",
       "      <td>NaN</td>\n",
       "      <td>0</td>\n",
       "      <td>NaN</td>\n",
       "      <td>0</td>\n",
       "      <td>1.0</td>\n",
       "      <td>0</td>\n",
       "      <td></td>\n",
       "      <td>Neuroagent</td>\n",
       "    </tr>\n",
       "    <tr>\n",
       "      <th>2</th>\n",
       "      <td>inventory</td>\n",
       "      <td>-0.2</td>\n",
       "      <td>NaN</td>\n",
       "      <td>0</td>\n",
       "      <td>NaN</td>\n",
       "      <td>0</td>\n",
       "      <td>2.0</td>\n",
       "      <td>0</td>\n",
       "      <td></td>\n",
       "      <td>Neuroagent</td>\n",
       "    </tr>\n",
       "    <tr>\n",
       "      <th>3</th>\n",
       "      <td>look</td>\n",
       "      <td>-0.2</td>\n",
       "      <td>NaN</td>\n",
       "      <td>0</td>\n",
       "      <td>NaN</td>\n",
       "      <td>0</td>\n",
       "      <td>3.0</td>\n",
       "      <td>0</td>\n",
       "      <td></td>\n",
       "      <td>Neuroagent</td>\n",
       "    </tr>\n",
       "    <tr>\n",
       "      <th>4</th>\n",
       "      <td>get</td>\n",
       "      <td>-0.2</td>\n",
       "      <td>NaN</td>\n",
       "      <td>0</td>\n",
       "      <td>NaN</td>\n",
       "      <td>0</td>\n",
       "      <td>4.0</td>\n",
       "      <td>0</td>\n",
       "      <td></td>\n",
       "      <td>Neuroagent</td>\n",
       "    </tr>\n",
       "    <tr>\n",
       "      <th>5</th>\n",
       "      <td>look</td>\n",
       "      <td>-0.2</td>\n",
       "      <td>NaN</td>\n",
       "      <td>0</td>\n",
       "      <td>NaN</td>\n",
       "      <td>0</td>\n",
       "      <td>5.0</td>\n",
       "      <td>0</td>\n",
       "      <td></td>\n",
       "      <td>Neuroagent</td>\n",
       "    </tr>\n",
       "    <tr>\n",
       "      <th>6</th>\n",
       "      <td>inventory</td>\n",
       "      <td>-0.2</td>\n",
       "      <td>NaN</td>\n",
       "      <td>0</td>\n",
       "      <td>NaN</td>\n",
       "      <td>0</td>\n",
       "      <td>6.0</td>\n",
       "      <td>0</td>\n",
       "      <td></td>\n",
       "      <td>Neuroagent</td>\n",
       "    </tr>\n",
       "    <tr>\n",
       "      <th>7</th>\n",
       "      <td>look</td>\n",
       "      <td>-0.2</td>\n",
       "      <td>NaN</td>\n",
       "      <td>0</td>\n",
       "      <td>NaN</td>\n",
       "      <td>0</td>\n",
       "      <td>7.0</td>\n",
       "      <td>0</td>\n",
       "      <td></td>\n",
       "      <td>Neuroagent</td>\n",
       "    </tr>\n",
       "    <tr>\n",
       "      <th>8</th>\n",
       "      <td>put</td>\n",
       "      <td>-0.2</td>\n",
       "      <td>NaN</td>\n",
       "      <td>0</td>\n",
       "      <td>NaN</td>\n",
       "      <td>0</td>\n",
       "      <td>8.0</td>\n",
       "      <td>0</td>\n",
       "      <td></td>\n",
       "      <td>Neuroagent</td>\n",
       "    </tr>\n",
       "    <tr>\n",
       "      <th>9</th>\n",
       "      <td>look</td>\n",
       "      <td>-0.2</td>\n",
       "      <td>NaN</td>\n",
       "      <td>0</td>\n",
       "      <td>NaN</td>\n",
       "      <td>0</td>\n",
       "      <td>9.0</td>\n",
       "      <td>0</td>\n",
       "      <td></td>\n",
       "      <td>Neuroagent</td>\n",
       "    </tr>\n",
       "  </tbody>\n",
       "</table>\n",
       "</div>"
      ],
      "text/plain": [
       "      Action  Agent Reward  Counter  Game Reward Game State  Generation No.  \\\n",
       "0    get all          -0.2      NaN            0        NaN               0   \n",
       "1       look          -0.2      NaN            0        NaN               0   \n",
       "2  inventory          -0.2      NaN            0        NaN               0   \n",
       "3       look          -0.2      NaN            0        NaN               0   \n",
       "4        get          -0.2      NaN            0        NaN               0   \n",
       "5       look          -0.2      NaN            0        NaN               0   \n",
       "6  inventory          -0.2      NaN            0        NaN               0   \n",
       "7       look          -0.2      NaN            0        NaN               0   \n",
       "8        put          -0.2      NaN            0        NaN               0   \n",
       "9       look          -0.2      NaN            0        NaN               0   \n",
       "\n",
       "   Population no.  Score State        Type  \n",
       "0             0.0      0        Neuroagent  \n",
       "1             1.0      0        Neuroagent  \n",
       "2             2.0      0        Neuroagent  \n",
       "3             3.0      0        Neuroagent  \n",
       "4             4.0      0        Neuroagent  \n",
       "5             5.0      0        Neuroagent  \n",
       "6             6.0      0        Neuroagent  \n",
       "7             7.0      0        Neuroagent  \n",
       "8             8.0      0        Neuroagent  \n",
       "9             9.0      0        Neuroagent  "
      ]
     },
     "execution_count": 54,
     "metadata": {},
     "output_type": "execute_result"
    }
   ],
   "source": [
    "df_combined_merged[:10]"
   ]
  },
  {
   "cell_type": "code",
   "execution_count": 56,
   "metadata": {},
   "outputs": [
    {
     "data": {
      "image/png": "[encoded data removed]",
      "text/plain": [
       "<Figure size 432x288 with 1 Axes>"
      ]
     },
     "metadata": {},
     "output_type": "display_data"
    }
   ],
   "source": [
    "#sns.set(style=\"darkgrid\")\n",
    "\n",
    "# With confidence interval\n",
    "# Plot the responses for different events and regions\n",
    "sns_plot = sns.lineplot(x=\"Generation No.\", y=\"Score\",\n",
    "             hue=\"Type\",\n",
    "            ci=99.5,\n",
    "             data=df_combined_merged).set_title(\"Generation No. vs Score\")\n",
    "fig = sns_plot.get_figure()\n",
    "fig.savefig('Comparison of scores- Generation No. vs Score.png')\n",
    "#sns_plot.savefig(\"detective_plot_seaborn_neuro.png\",bbox_inches='tight')"
   ]
  },
  {
   "cell_type": "code",
   "execution_count": 57,
   "metadata": {},
   "outputs": [
    {
     "data": {
      "image/png": "[encoded data removed]",
      "text/plain": [
       "<Figure size 432x288 with 1 Axes>"
      ]
     },
     "metadata": {},
     "output_type": "display_data"
    }
   ],
   "source": [
    "#sns.set(style=\"darkgrid\")\n",
    "\n",
    "# With confidence interval\n",
    "# Plot the responses for different events and regions\n",
    "sns_plot = sns.lineplot(x=\"Generation No.\", y=\"Game Reward\",\n",
    "             hue=\"Type\",\n",
    "            ci=99.5,\n",
    "             data=df_combined_merged).set_title(\"Generation No. vs Game Reward\")\n",
    "fig = sns_plot.get_figure()\n",
    "fig.savefig('Comparison of scores- Generation No. vs Game Reward.png')\n",
    "#sns_plot.savefig(\"detective_plot_seaborn_neuro.png\",bbox_inches='tight')"
   ]
  },
  {
   "cell_type": "markdown",
   "metadata": {},
   "source": [
    "## Try grouping by all the scores of the neuro agents"
   ]
  },
  {
   "cell_type": "code",
   "execution_count": null,
   "metadata": {},
   "outputs": [],
   "source": [
    "# try group by generation no and get mean\n",
    "#df_agents_merged = df_merged.groupby('Generation No.',as_index=False).agg({'Game Reward' : 'max','Accumulated Reward' : 'max'})"
   ]
  },
  {
   "cell_type": "code",
   "execution_count": null,
   "metadata": {},
   "outputs": [],
   "source": [
    "#len(df_agents_merged)"
   ]
  },
  {
   "cell_type": "code",
   "execution_count": null,
   "metadata": {},
   "outputs": [],
   "source": [
    "## Create another column which says what type of data is this\n",
    "#df_agents_merged['Type'] = 'SNS'"
   ]
  },
  {
   "cell_type": "code",
   "execution_count": null,
   "metadata": {},
   "outputs": [],
   "source": [
    "#df_agents_merged[:5]"
   ]
  },
  {
   "cell_type": "markdown",
   "metadata": {},
   "source": [
    "# Concate with baseline"
   ]
  },
  {
   "cell_type": "code",
   "execution_count": null,
   "metadata": {},
   "outputs": [],
   "source": [
    "#df_combined_agents_merged = pd.concat([df_agents_merged, df_baseline_merged_final_final])"
   ]
  },
  {
   "cell_type": "code",
   "execution_count": null,
   "metadata": {},
   "outputs": [],
   "source": [
    "#len(df_combined_agents_merged)"
   ]
  },
  {
   "cell_type": "code",
   "execution_count": null,
   "metadata": {},
   "outputs": [],
   "source": [
    "#sns.set(style=\"darkgrid\")\n",
    "\n",
    "## Without confidence interval\n",
    "\n",
    "# Plot the responses for different events and regions\n",
    "#sns_plot = sns.lineplot(x=\"Generation No.\", y=\"Accumulated Reward\",\n",
    "#             hue=\"Type\",\n",
    "#             data=df_combined_agents_merged).set_title(\"Comparison of scores by NeuroAgent and Baseline\")\n",
    "#fig = sns_plot.get_figure()\n",
    "#fig.savefig('Comparison of scores by NeuroAgent and Baseline.png')\n",
    "#sns_plot.savefig(\"detective_plot_seaborn_neuro.png\",bbox_inches='tight')"
   ]
  }
 ],
 "metadata": {
  "kernelspec": {
   "display_name": "Python 2",
   "language": "python",
   "name": "python2"
  },
  "language_info": {
   "codemirror_mode": {
    "name": "ipython",
    "version": 2
   },
   "file_extension": ".py",
   "mimetype": "text/x-python",
   "name": "python",
   "nbconvert_exporter": "python",
   "pygments_lexer": "ipython2",
   "version": "2.7.15"
  }
 },
 "nbformat": 4,
 "nbformat_minor": 2
}
