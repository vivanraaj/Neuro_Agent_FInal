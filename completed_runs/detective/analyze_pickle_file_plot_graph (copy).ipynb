{
 "cells": [
  {
   "cell_type": "markdown",
   "metadata": {},
   "source": [
    "## Neuroevolution Strategy"
   ]
  },
  {
   "cell_type": "code",
   "execution_count": 1,
   "metadata": {},
   "outputs": [],
   "source": [
    "import pickle\n",
    "import sys\n",
    "import pandas as pd\n",
    "import matplotlib.pyplot as plt\n",
    "import seaborn as sns"
   ]
  },
  {
   "cell_type": "markdown",
   "metadata": {},
   "source": [
    "# Game Chosen - Detective Game"
   ]
  },
  {
   "cell_type": "markdown",
   "metadata": {},
   "source": [
    "## Neuro Agent Strategy - We perform 5 runs of the game with settings of 50 population and 500 generations. Below are the results for each run "
   ]
  },
  {
   "cell_type": "markdown",
   "metadata": {},
   "source": [
    "## RUN 1"
   ]
  },
  {
   "cell_type": "code",
   "execution_count": 33,
   "metadata": {},
   "outputs": [
    {
     "ename": "IOError",
     "evalue": "[Errno 2] No such file or directory: './finalruns/run_1/track_scores_detective_pop50gen500_210818.pkl'",
     "output_type": "error",
     "traceback": [
      "\u001b[0;31m---------------------------------------------------------------------------\u001b[0m",
      "\u001b[0;31mIOError\u001b[0m                                   Traceback (most recent call last)",
      "\u001b[0;32m<ipython-input-33-da422fb640a3>\u001b[0m in \u001b[0;36m<module>\u001b[0;34m()\u001b[0m\n\u001b[0;32m----> 1\u001b[0;31m \u001b[0;32mwith\u001b[0m \u001b[0mopen\u001b[0m\u001b[0;34m(\u001b[0m\u001b[0;34m'./finalruns/run_1/track_scores_detective_pop50gen500_210818.pkl'\u001b[0m\u001b[0;34m,\u001b[0m \u001b[0;34m'rb'\u001b[0m\u001b[0;34m)\u001b[0m \u001b[0;32mas\u001b[0m \u001b[0mi\u001b[0m\u001b[0;34m:\u001b[0m\u001b[0;34m\u001b[0m\u001b[0m\n\u001b[0m\u001b[1;32m      2\u001b[0m     \u001b[0mx1\u001b[0m \u001b[0;34m=\u001b[0m \u001b[0mpickle\u001b[0m\u001b[0;34m.\u001b[0m\u001b[0mload\u001b[0m\u001b[0;34m(\u001b[0m\u001b[0mi\u001b[0m\u001b[0;34m)\u001b[0m\u001b[0;34m\u001b[0m\u001b[0m\n",
      "\u001b[0;31mIOError\u001b[0m: [Errno 2] No such file or directory: './finalruns/run_1/track_scores_detective_pop50gen500_210818.pkl'"
     ]
    }
   ],
   "source": [
    "with open('./finalruns/run_1/track_scores_detective_pop50gen500_170818.pkl', 'rb') as i:\n",
    "    x1 = pickle.load(i)"
   ]
  },
  {
   "cell_type": "code",
   "execution_count": null,
   "metadata": {},
   "outputs": [],
   "source": [
    "df_1 = pd.DataFrame(x1, columns=['State','Population no.','Generation No.','Action','Reward to Game Agent','Game Reward','Accumulated Reward'])"
   ]
  },
  {
   "cell_type": "code",
   "execution_count": null,
   "metadata": {
    "scrolled": false
   },
   "outputs": [],
   "source": [
    "df_1[:10]"
   ]
  },
  {
   "cell_type": "code",
   "execution_count": null,
   "metadata": {},
   "outputs": [],
   "source": [
    "# check how many generations did it finish.\n",
    "df_1['Generation No.'].nunique()"
   ]
  },
  {
   "cell_type": "code",
   "execution_count": null,
   "metadata": {},
   "outputs": [],
   "source": [
    "# try group by generation no and get max\n",
    "df_1_final = df_1.groupby('Generation No.',as_index=False).agg({'Reward to Game Agent' : 'max','Game Reward' : 'max','Accumulated Reward' : 'max'})"
   ]
  },
  {
   "cell_type": "code",
   "execution_count": null,
   "metadata": {},
   "outputs": [],
   "source": [
    "## Create another column which says what type of data is this\n",
    "df_1_final['Type'] = 'Run_1'"
   ]
  },
  {
   "cell_type": "code",
   "execution_count": null,
   "metadata": {},
   "outputs": [],
   "source": [
    "df_1_final[:5]"
   ]
  },
  {
   "cell_type": "code",
   "execution_count": null,
   "metadata": {},
   "outputs": [],
   "source": [
    "len(df_1_final)"
   ]
  },
  {
   "cell_type": "code",
   "execution_count": null,
   "metadata": {},
   "outputs": [],
   "source": [
    "del df_1"
   ]
  },
  {
   "cell_type": "code",
   "execution_count": null,
   "metadata": {},
   "outputs": [],
   "source": [
    "plt.ylim(0,80)\n",
    "plt.plot(df_1_final['Generation No.'], df_1_final['Accumulated Reward'])\n",
    "plt.ylabel('Accumulated Reward')\n",
    "plt.xlabel('Generations')\n",
    "#plt.savefig('Evolution - Detective - Mean Accumulated Reward by Generations.png')\n",
    "plt.show()"
   ]
  },
  {
   "cell_type": "code",
   "execution_count": null,
   "metadata": {},
   "outputs": [],
   "source": [
    "#plt.ylim(0,80)\n",
    "plt.plot(df_1_final['Generation No.'], df_1_final['Reward to Game Agent'])\n",
    "plt.ylabel('Reward to Game Agent')\n",
    "plt.xlabel('Generations')\n",
    "#plt.savefig('Evolution - Detective - Mean Agent Accumulated Reward by Generations.png')\n",
    "plt.show()"
   ]
  },
  {
   "cell_type": "code",
   "execution_count": null,
   "metadata": {},
   "outputs": [],
   "source": [
    "#plt.ylim(0,80)\n",
    "plt.plot(df_1_final['Generation No.'], df_1_final['Game Reward'])\n",
    "plt.ylabel('Game Reward')\n",
    "plt.xlabel('Generations')\n",
    "#plt.savefig('Evolution - Detective - Mean Agent Accumulated Reward by Generations.png')\n",
    "plt.show()"
   ]
  },
  {
   "cell_type": "markdown",
   "metadata": {},
   "source": [
    "## RUN 2"
   ]
  },
  {
   "cell_type": "code",
   "execution_count": 48,
   "metadata": {},
   "outputs": [],
   "source": [
    "with open('./finalruns/run_2/track_scores_detective_pop50gen500_210818.pkl', 'rb') as i:\n",
    "    x2 = pickle.load(i)"
   ]
  },
  {
   "cell_type": "code",
   "execution_count": 49,
   "metadata": {},
   "outputs": [],
   "source": [
    "df_2 = pd.DataFrame(x2, columns=['State','Population no.','Generation No.','Action','Reward to Game Agent','Game Reward','Accumulated Reward'])"
   ]
  },
  {
   "cell_type": "code",
   "execution_count": 50,
   "metadata": {},
   "outputs": [
    {
     "data": {
      "text/html": [
       "<div>\n",
       "<style scoped>\n",
       "    .dataframe tbody tr th:only-of-type {\n",
       "        vertical-align: middle;\n",
       "    }\n",
       "\n",
       "    .dataframe tbody tr th {\n",
       "        vertical-align: top;\n",
       "    }\n",
       "\n",
       "    .dataframe thead th {\n",
       "        text-align: right;\n",
       "    }\n",
       "</style>\n",
       "<table border=\"1\" class=\"dataframe\">\n",
       "  <thead>\n",
       "    <tr style=\"text-align: right;\">\n",
       "      <th></th>\n",
       "      <th>State</th>\n",
       "      <th>Population no.</th>\n",
       "      <th>Generation No.</th>\n",
       "      <th>Action</th>\n",
       "      <th>Reward to Game Agent</th>\n",
       "      <th>Game Reward</th>\n",
       "      <th>Accumulated Reward</th>\n",
       "    </tr>\n",
       "  </thead>\n",
       "  <tbody>\n",
       "    <tr>\n",
       "      <th>3850</th>\n",
       "      <td>70 . I only understood you as far as wanting t...</td>\n",
       "      <td>0</td>\n",
       "      <td>77</td>\n",
       "      <td>get north in white paper</td>\n",
       "      <td>0.0</td>\n",
       "      <td>0</td>\n",
       "      <td>40</td>\n",
       "    </tr>\n",
       "    <tr>\n",
       "      <th>3851</th>\n",
       "      <td>71 . Outside You are still on the streets. To ...</td>\n",
       "      <td>1</td>\n",
       "      <td>77</td>\n",
       "      <td>look</td>\n",
       "      <td>0.0</td>\n",
       "      <td>0</td>\n",
       "      <td>40</td>\n",
       "    </tr>\n",
       "    <tr>\n",
       "      <th>3852</th>\n",
       "      <td>72 . That isn't available.</td>\n",
       "      <td>2</td>\n",
       "      <td>77</td>\n",
       "      <td>get north</td>\n",
       "      <td>0.0</td>\n",
       "      <td>0</td>\n",
       "      <td>40</td>\n",
       "    </tr>\n",
       "    <tr>\n",
       "      <th>3853</th>\n",
       "      <td>73 . Outside You are still on the streets. To ...</td>\n",
       "      <td>3</td>\n",
       "      <td>77</td>\n",
       "      <td>look</td>\n",
       "      <td>0.0</td>\n",
       "      <td>0</td>\n",
       "      <td>40</td>\n",
       "    </tr>\n",
       "    <tr>\n",
       "      <th>3854</th>\n",
       "      <td>74 . You are carrying: a small black pistol a ...</td>\n",
       "      <td>4</td>\n",
       "      <td>77</td>\n",
       "      <td>inventory</td>\n",
       "      <td>0.0</td>\n",
       "      <td>0</td>\n",
       "      <td>40</td>\n",
       "    </tr>\n",
       "    <tr>\n",
       "      <th>3855</th>\n",
       "      <td>75 . Outside You are still on the streets. To ...</td>\n",
       "      <td>5</td>\n",
       "      <td>77</td>\n",
       "      <td>look</td>\n",
       "      <td>0.0</td>\n",
       "      <td>0</td>\n",
       "      <td>40</td>\n",
       "    </tr>\n",
       "    <tr>\n",
       "      <th>3856</th>\n",
       "      <td>76 . You already have that.</td>\n",
       "      <td>6</td>\n",
       "      <td>77</td>\n",
       "      <td>get black pistol</td>\n",
       "      <td>0.0</td>\n",
       "      <td>0</td>\n",
       "      <td>40</td>\n",
       "    </tr>\n",
       "    <tr>\n",
       "      <th>3857</th>\n",
       "      <td>77 . Outside You are still on the streets. To ...</td>\n",
       "      <td>7</td>\n",
       "      <td>77</td>\n",
       "      <td>look</td>\n",
       "      <td>0.0</td>\n",
       "      <td>0</td>\n",
       "      <td>40</td>\n",
       "    </tr>\n",
       "    <tr>\n",
       "      <th>3858</th>\n",
       "      <td>78 . You are carrying: a small black pistol a ...</td>\n",
       "      <td>8</td>\n",
       "      <td>77</td>\n",
       "      <td>inventory</td>\n",
       "      <td>0.0</td>\n",
       "      <td>0</td>\n",
       "      <td>40</td>\n",
       "    </tr>\n",
       "    <tr>\n",
       "      <th>3859</th>\n",
       "      <td>79 . Outside You are still on the streets. To ...</td>\n",
       "      <td>9</td>\n",
       "      <td>77</td>\n",
       "      <td>look</td>\n",
       "      <td>0.0</td>\n",
       "      <td>0</td>\n",
       "      <td>40</td>\n",
       "    </tr>\n",
       "    <tr>\n",
       "      <th>3860</th>\n",
       "      <td>80 . Violence isn't the answer to this one.</td>\n",
       "      <td>10</td>\n",
       "      <td>77</td>\n",
       "      <td>fight black pistol</td>\n",
       "      <td>0.0</td>\n",
       "      <td>0</td>\n",
       "      <td>40</td>\n",
       "    </tr>\n",
       "    <tr>\n",
       "      <th>3861</th>\n",
       "      <td>81 . Outside You are still on the streets. To ...</td>\n",
       "      <td>11</td>\n",
       "      <td>77</td>\n",
       "      <td>look</td>\n",
       "      <td>0.0</td>\n",
       "      <td>0</td>\n",
       "      <td>40</td>\n",
       "    </tr>\n",
       "    <tr>\n",
       "      <th>3862</th>\n",
       "      <td>81 . That's not a verb I recognise.</td>\n",
       "      <td>12</td>\n",
       "      <td>77</td>\n",
       "      <td>do</td>\n",
       "      <td>0.0</td>\n",
       "      <td>0</td>\n",
       "      <td>40</td>\n",
       "    </tr>\n",
       "    <tr>\n",
       "      <th>3863</th>\n",
       "      <td>82 . Outside You are still on the streets. To ...</td>\n",
       "      <td>13</td>\n",
       "      <td>77</td>\n",
       "      <td>look</td>\n",
       "      <td>0.0</td>\n",
       "      <td>0</td>\n",
       "      <td>40</td>\n",
       "    </tr>\n",
       "    <tr>\n",
       "      <th>3864</th>\n",
       "      <td>82 . You can't see any such thing.</td>\n",
       "      <td>14</td>\n",
       "      <td>77</td>\n",
       "      <td>get Mayor</td>\n",
       "      <td>0.0</td>\n",
       "      <td>0</td>\n",
       "      <td>40</td>\n",
       "    </tr>\n",
       "    <tr>\n",
       "      <th>3865</th>\n",
       "      <td>83 . Outside You are still on the streets. To ...</td>\n",
       "      <td>15</td>\n",
       "      <td>77</td>\n",
       "      <td>look</td>\n",
       "      <td>0.0</td>\n",
       "      <td>0</td>\n",
       "      <td>40</td>\n",
       "    </tr>\n",
       "    <tr>\n",
       "      <th>3866</th>\n",
       "      <td>84 . You are carrying: a small black pistol a ...</td>\n",
       "      <td>16</td>\n",
       "      <td>77</td>\n",
       "      <td>inventory</td>\n",
       "      <td>0.0</td>\n",
       "      <td>0</td>\n",
       "      <td>40</td>\n",
       "    </tr>\n",
       "    <tr>\n",
       "      <th>3867</th>\n",
       "      <td>85 . Outside You are still on the streets. To ...</td>\n",
       "      <td>17</td>\n",
       "      <td>77</td>\n",
       "      <td>look</td>\n",
       "      <td>0.0</td>\n",
       "      <td>0</td>\n",
       "      <td>40</td>\n",
       "    </tr>\n",
       "    <tr>\n",
       "      <th>3868</th>\n",
       "      <td>85 . I only understood you as far as wanting t...</td>\n",
       "      <td>18</td>\n",
       "      <td>77</td>\n",
       "      <td>think home</td>\n",
       "      <td>0.0</td>\n",
       "      <td>0</td>\n",
       "      <td>40</td>\n",
       "    </tr>\n",
       "    <tr>\n",
       "      <th>3869</th>\n",
       "      <td>86 . Outside You are still on the streets. To ...</td>\n",
       "      <td>19</td>\n",
       "      <td>77</td>\n",
       "      <td>look</td>\n",
       "      <td>0.0</td>\n",
       "      <td>0</td>\n",
       "      <td>40</td>\n",
       "    </tr>\n",
       "    <tr>\n",
       "      <th>3870</th>\n",
       "      <td>87 . That's not something you can open.</td>\n",
       "      <td>20</td>\n",
       "      <td>77</td>\n",
       "      <td>open pistol</td>\n",
       "      <td>0.0</td>\n",
       "      <td>0</td>\n",
       "      <td>40</td>\n",
       "    </tr>\n",
       "    <tr>\n",
       "      <th>3871</th>\n",
       "      <td>88 . Outside You are still on the streets. To ...</td>\n",
       "      <td>21</td>\n",
       "      <td>77</td>\n",
       "      <td>look</td>\n",
       "      <td>0.0</td>\n",
       "      <td>0</td>\n",
       "      <td>40</td>\n",
       "    </tr>\n",
       "    <tr>\n",
       "      <th>3872</th>\n",
       "      <td>88 . I only understood you as far as wanting t...</td>\n",
       "      <td>22</td>\n",
       "      <td>77</td>\n",
       "      <td>get white paper at piece</td>\n",
       "      <td>0.0</td>\n",
       "      <td>0</td>\n",
       "      <td>40</td>\n",
       "    </tr>\n",
       "    <tr>\n",
       "      <th>3873</th>\n",
       "      <td>89 . Outside You are still on the streets. To ...</td>\n",
       "      <td>23</td>\n",
       "      <td>77</td>\n",
       "      <td>look</td>\n",
       "      <td>0.0</td>\n",
       "      <td>0</td>\n",
       "      <td>40</td>\n",
       "    </tr>\n",
       "    <tr>\n",
       "      <th>3874</th>\n",
       "      <td>90 . That's not something you can open.</td>\n",
       "      <td>24</td>\n",
       "      <td>77</td>\n",
       "      <td>open north</td>\n",
       "      <td>0.0</td>\n",
       "      <td>0</td>\n",
       "      <td>40</td>\n",
       "    </tr>\n",
       "    <tr>\n",
       "      <th>3875</th>\n",
       "      <td>91 . Outside You are still on the streets. To ...</td>\n",
       "      <td>25</td>\n",
       "      <td>77</td>\n",
       "      <td>look</td>\n",
       "      <td>0.0</td>\n",
       "      <td>0</td>\n",
       "      <td>40</td>\n",
       "    </tr>\n",
       "    <tr>\n",
       "      <th>3876</th>\n",
       "      <td>91 . I only understood you as far as wanting t...</td>\n",
       "      <td>26</td>\n",
       "      <td>77</td>\n",
       "      <td>down black pistol</td>\n",
       "      <td>0.0</td>\n",
       "      <td>0</td>\n",
       "      <td>40</td>\n",
       "    </tr>\n",
       "    <tr>\n",
       "      <th>3877</th>\n",
       "      <td>92 . Outside You are still on the streets. To ...</td>\n",
       "      <td>27</td>\n",
       "      <td>77</td>\n",
       "      <td>look</td>\n",
       "      <td>0.0</td>\n",
       "      <td>0</td>\n",
       "      <td>40</td>\n",
       "    </tr>\n",
       "    <tr>\n",
       "      <th>3878</th>\n",
       "      <td>92 . You can't see any such thing.</td>\n",
       "      <td>28</td>\n",
       "      <td>77</td>\n",
       "      <td>put mayor</td>\n",
       "      <td>0.0</td>\n",
       "      <td>0</td>\n",
       "      <td>40</td>\n",
       "    </tr>\n",
       "    <tr>\n",
       "      <th>3879</th>\n",
       "      <td>93 . Outside You are still on the streets. To ...</td>\n",
       "      <td>29</td>\n",
       "      <td>77</td>\n",
       "      <td>look</td>\n",
       "      <td>0.0</td>\n",
       "      <td>0</td>\n",
       "      <td>40</td>\n",
       "    </tr>\n",
       "    <tr>\n",
       "      <th>3880</th>\n",
       "      <td>94 . (yourself) If you think that'll help.</td>\n",
       "      <td>30</td>\n",
       "      <td>77</td>\n",
       "      <td>kiss</td>\n",
       "      <td>0.0</td>\n",
       "      <td>0</td>\n",
       "      <td>40</td>\n",
       "    </tr>\n",
       "    <tr>\n",
       "      <th>3881</th>\n",
       "      <td>95 . Outside You are still on the streets. To ...</td>\n",
       "      <td>31</td>\n",
       "      <td>77</td>\n",
       "      <td>look</td>\n",
       "      <td>0.0</td>\n",
       "      <td>0</td>\n",
       "      <td>40</td>\n",
       "    </tr>\n",
       "    <tr>\n",
       "      <th>3882</th>\n",
       "      <td>95 . You can't see any such thing.</td>\n",
       "      <td>32</td>\n",
       "      <td>77</td>\n",
       "      <td>open ate</td>\n",
       "      <td>0.0</td>\n",
       "      <td>0</td>\n",
       "      <td>40</td>\n",
       "    </tr>\n",
       "    <tr>\n",
       "      <th>3883</th>\n",
       "      <td>96 . Outside You are still on the streets. To ...</td>\n",
       "      <td>33</td>\n",
       "      <td>77</td>\n",
       "      <td>look</td>\n",
       "      <td>0.0</td>\n",
       "      <td>0</td>\n",
       "      <td>40</td>\n",
       "    </tr>\n",
       "    <tr>\n",
       "      <th>3884</th>\n",
       "      <td>96 . You can't see any such thing.</td>\n",
       "      <td>34</td>\n",
       "      <td>77</td>\n",
       "      <td>open mayor</td>\n",
       "      <td>0.0</td>\n",
       "      <td>0</td>\n",
       "      <td>40</td>\n",
       "    </tr>\n",
       "    <tr>\n",
       "      <th>3885</th>\n",
       "      <td>97 . Outside You are still on the streets. To ...</td>\n",
       "      <td>35</td>\n",
       "      <td>77</td>\n",
       "      <td>look</td>\n",
       "      <td>0.0</td>\n",
       "      <td>0</td>\n",
       "      <td>40</td>\n",
       "    </tr>\n",
       "    <tr>\n",
       "      <th>3886</th>\n",
       "      <td>97 . I only understood you as far as wanting t...</td>\n",
       "      <td>36</td>\n",
       "      <td>77</td>\n",
       "      <td>south black pistol</td>\n",
       "      <td>0.0</td>\n",
       "      <td>0</td>\n",
       "      <td>40</td>\n",
       "    </tr>\n",
       "    <tr>\n",
       "      <th>3887</th>\n",
       "      <td>98 . Outside You are still on the streets. To ...</td>\n",
       "      <td>37</td>\n",
       "      <td>77</td>\n",
       "      <td>look</td>\n",
       "      <td>0.0</td>\n",
       "      <td>0</td>\n",
       "      <td>40</td>\n",
       "    </tr>\n",
       "    <tr>\n",
       "      <th>3888</th>\n",
       "      <td>98 . What do you want to put the north wall in?</td>\n",
       "      <td>38</td>\n",
       "      <td>77</td>\n",
       "      <td>put north</td>\n",
       "      <td>0.0</td>\n",
       "      <td>0</td>\n",
       "      <td>40</td>\n",
       "    </tr>\n",
       "    <tr>\n",
       "      <th>3889</th>\n",
       "      <td>99 . Outside You are still on the streets. To ...</td>\n",
       "      <td>39</td>\n",
       "      <td>77</td>\n",
       "      <td>look</td>\n",
       "      <td>0.0</td>\n",
       "      <td>0</td>\n",
       "      <td>40</td>\n",
       "    </tr>\n",
       "    <tr>\n",
       "      <th>3890</th>\n",
       "      <td>99 . You can't see any such thing.</td>\n",
       "      <td>40</td>\n",
       "      <td>77</td>\n",
       "      <td>get streets</td>\n",
       "      <td>0.0</td>\n",
       "      <td>0</td>\n",
       "      <td>40</td>\n",
       "    </tr>\n",
       "    <tr>\n",
       "      <th>3891</th>\n",
       "      <td>00 . Outside You are still on the streets. To ...</td>\n",
       "      <td>41</td>\n",
       "      <td>77</td>\n",
       "      <td>look</td>\n",
       "      <td>0.0</td>\n",
       "      <td>0</td>\n",
       "      <td>40</td>\n",
       "    </tr>\n",
       "    <tr>\n",
       "      <th>3892</th>\n",
       "      <td>01 . You are carrying: a small black pistol a ...</td>\n",
       "      <td>42</td>\n",
       "      <td>77</td>\n",
       "      <td>inventory</td>\n",
       "      <td>0.0</td>\n",
       "      <td>0</td>\n",
       "      <td>40</td>\n",
       "    </tr>\n",
       "    <tr>\n",
       "      <th>3893</th>\n",
       "      <td>02 . Outside You are still on the streets. To ...</td>\n",
       "      <td>43</td>\n",
       "      <td>77</td>\n",
       "      <td>look</td>\n",
       "      <td>0.0</td>\n",
       "      <td>0</td>\n",
       "      <td>40</td>\n",
       "    </tr>\n",
       "    <tr>\n",
       "      <th>3894</th>\n",
       "      <td>02 . You can't see any such thing.</td>\n",
       "      <td>44</td>\n",
       "      <td>77</td>\n",
       "      <td>crack ate</td>\n",
       "      <td>0.0</td>\n",
       "      <td>0</td>\n",
       "      <td>40</td>\n",
       "    </tr>\n",
       "    <tr>\n",
       "      <th>3895</th>\n",
       "      <td>03 . Outside You are still on the streets. To ...</td>\n",
       "      <td>45</td>\n",
       "      <td>77</td>\n",
       "      <td>look</td>\n",
       "      <td>0.0</td>\n",
       "      <td>0</td>\n",
       "      <td>40</td>\n",
       "    </tr>\n",
       "    <tr>\n",
       "      <th>3896</th>\n",
       "      <td>03 . I only understood you as far as wanting t...</td>\n",
       "      <td>46</td>\n",
       "      <td>77</td>\n",
       "      <td>northeast home</td>\n",
       "      <td>0.0</td>\n",
       "      <td>0</td>\n",
       "      <td>40</td>\n",
       "    </tr>\n",
       "    <tr>\n",
       "      <th>3897</th>\n",
       "      <td>04 . Outside You are still on the streets. To ...</td>\n",
       "      <td>47</td>\n",
       "      <td>77</td>\n",
       "      <td>look</td>\n",
       "      <td>0.0</td>\n",
       "      <td>0</td>\n",
       "      <td>40</td>\n",
       "    </tr>\n",
       "    <tr>\n",
       "      <th>3898</th>\n",
       "      <td>04 . Restraunt You are about to enter the rest...</td>\n",
       "      <td>48</td>\n",
       "      <td>77</td>\n",
       "      <td>leave north</td>\n",
       "      <td>-48.0</td>\n",
       "      <td>-40</td>\n",
       "      <td>0</td>\n",
       "    </tr>\n",
       "    <tr>\n",
       "      <th>3899</th>\n",
       "      <td>04 . Please give one of the answers above.</td>\n",
       "      <td>49</td>\n",
       "      <td>77</td>\n",
       "      <td>look</td>\n",
       "      <td>0.0</td>\n",
       "      <td>0</td>\n",
       "      <td>0</td>\n",
       "    </tr>\n",
       "  </tbody>\n",
       "</table>\n",
       "</div>"
      ],
      "text/plain": [
       "                                                  State  Population no.  \\\n",
       "3850  70 . I only understood you as far as wanting t...               0   \n",
       "3851  71 . Outside You are still on the streets. To ...               1   \n",
       "3852                        72 . That isn't available.                2   \n",
       "3853  73 . Outside You are still on the streets. To ...               3   \n",
       "3854  74 . You are carrying: a small black pistol a ...               4   \n",
       "3855  75 . Outside You are still on the streets. To ...               5   \n",
       "3856                       76 . You already have that.                6   \n",
       "3857  77 . Outside You are still on the streets. To ...               7   \n",
       "3858  78 . You are carrying: a small black pistol a ...               8   \n",
       "3859  79 . Outside You are still on the streets. To ...               9   \n",
       "3860       80 . Violence isn't the answer to this one.               10   \n",
       "3861  81 . Outside You are still on the streets. To ...              11   \n",
       "3862               81 . That's not a verb I recognise.               12   \n",
       "3863  82 . Outside You are still on the streets. To ...              13   \n",
       "3864                82 . You can't see any such thing.               14   \n",
       "3865  83 . Outside You are still on the streets. To ...              15   \n",
       "3866  84 . You are carrying: a small black pistol a ...              16   \n",
       "3867  85 . Outside You are still on the streets. To ...              17   \n",
       "3868  85 . I only understood you as far as wanting t...              18   \n",
       "3869  86 . Outside You are still on the streets. To ...              19   \n",
       "3870           87 . That's not something you can open.               20   \n",
       "3871  88 . Outside You are still on the streets. To ...              21   \n",
       "3872  88 . I only understood you as far as wanting t...              22   \n",
       "3873  89 . Outside You are still on the streets. To ...              23   \n",
       "3874           90 . That's not something you can open.               24   \n",
       "3875  91 . Outside You are still on the streets. To ...              25   \n",
       "3876  91 . I only understood you as far as wanting t...              26   \n",
       "3877  92 . Outside You are still on the streets. To ...              27   \n",
       "3878                92 . You can't see any such thing.               28   \n",
       "3879  93 . Outside You are still on the streets. To ...              29   \n",
       "3880        94 . (yourself) If you think that'll help.               30   \n",
       "3881  95 . Outside You are still on the streets. To ...              31   \n",
       "3882                95 . You can't see any such thing.               32   \n",
       "3883  96 . Outside You are still on the streets. To ...              33   \n",
       "3884                96 . You can't see any such thing.               34   \n",
       "3885  97 . Outside You are still on the streets. To ...              35   \n",
       "3886  97 . I only understood you as far as wanting t...              36   \n",
       "3887  98 . Outside You are still on the streets. To ...              37   \n",
       "3888   98 . What do you want to put the north wall in?               38   \n",
       "3889  99 . Outside You are still on the streets. To ...              39   \n",
       "3890                99 . You can't see any such thing.               40   \n",
       "3891  00 . Outside You are still on the streets. To ...              41   \n",
       "3892  01 . You are carrying: a small black pistol a ...              42   \n",
       "3893  02 . Outside You are still on the streets. To ...              43   \n",
       "3894                02 . You can't see any such thing.               44   \n",
       "3895  03 . Outside You are still on the streets. To ...              45   \n",
       "3896  03 . I only understood you as far as wanting t...              46   \n",
       "3897  04 . Outside You are still on the streets. To ...              47   \n",
       "3898  04 . Restraunt You are about to enter the rest...              48   \n",
       "3899        04 . Please give one of the answers above.               49   \n",
       "\n",
       "      Generation No.                    Action  Reward to Game Agent  \\\n",
       "3850              77  get north in white paper                   0.0   \n",
       "3851              77                      look                   0.0   \n",
       "3852              77                 get north                   0.0   \n",
       "3853              77                      look                   0.0   \n",
       "3854              77                 inventory                   0.0   \n",
       "3855              77                      look                   0.0   \n",
       "3856              77          get black pistol                   0.0   \n",
       "3857              77                      look                   0.0   \n",
       "3858              77                 inventory                   0.0   \n",
       "3859              77                      look                   0.0   \n",
       "3860              77        fight black pistol                   0.0   \n",
       "3861              77                      look                   0.0   \n",
       "3862              77                        do                   0.0   \n",
       "3863              77                      look                   0.0   \n",
       "3864              77                 get Mayor                   0.0   \n",
       "3865              77                      look                   0.0   \n",
       "3866              77                 inventory                   0.0   \n",
       "3867              77                      look                   0.0   \n",
       "3868              77                think home                   0.0   \n",
       "3869              77                      look                   0.0   \n",
       "3870              77               open pistol                   0.0   \n",
       "3871              77                      look                   0.0   \n",
       "3872              77  get white paper at piece                   0.0   \n",
       "3873              77                      look                   0.0   \n",
       "3874              77                open north                   0.0   \n",
       "3875              77                      look                   0.0   \n",
       "3876              77         down black pistol                   0.0   \n",
       "3877              77                      look                   0.0   \n",
       "3878              77                 put mayor                   0.0   \n",
       "3879              77                      look                   0.0   \n",
       "3880              77                      kiss                   0.0   \n",
       "3881              77                      look                   0.0   \n",
       "3882              77                  open ate                   0.0   \n",
       "3883              77                      look                   0.0   \n",
       "3884              77                open mayor                   0.0   \n",
       "3885              77                      look                   0.0   \n",
       "3886              77        south black pistol                   0.0   \n",
       "3887              77                      look                   0.0   \n",
       "3888              77                 put north                   0.0   \n",
       "3889              77                      look                   0.0   \n",
       "3890              77               get streets                   0.0   \n",
       "3891              77                      look                   0.0   \n",
       "3892              77                 inventory                   0.0   \n",
       "3893              77                      look                   0.0   \n",
       "3894              77                 crack ate                   0.0   \n",
       "3895              77                      look                   0.0   \n",
       "3896              77            northeast home                   0.0   \n",
       "3897              77                      look                   0.0   \n",
       "3898              77               leave north                 -48.0   \n",
       "3899              77                      look                   0.0   \n",
       "\n",
       "      Game Reward  Accumulated Reward  \n",
       "3850            0                  40  \n",
       "3851            0                  40  \n",
       "3852            0                  40  \n",
       "3853            0                  40  \n",
       "3854            0                  40  \n",
       "3855            0                  40  \n",
       "3856            0                  40  \n",
       "3857            0                  40  \n",
       "3858            0                  40  \n",
       "3859            0                  40  \n",
       "3860            0                  40  \n",
       "3861            0                  40  \n",
       "3862            0                  40  \n",
       "3863            0                  40  \n",
       "3864            0                  40  \n",
       "3865            0                  40  \n",
       "3866            0                  40  \n",
       "3867            0                  40  \n",
       "3868            0                  40  \n",
       "3869            0                  40  \n",
       "3870            0                  40  \n",
       "3871            0                  40  \n",
       "3872            0                  40  \n",
       "3873            0                  40  \n",
       "3874            0                  40  \n",
       "3875            0                  40  \n",
       "3876            0                  40  \n",
       "3877            0                  40  \n",
       "3878            0                  40  \n",
       "3879            0                  40  \n",
       "3880            0                  40  \n",
       "3881            0                  40  \n",
       "3882            0                  40  \n",
       "3883            0                  40  \n",
       "3884            0                  40  \n",
       "3885            0                  40  \n",
       "3886            0                  40  \n",
       "3887            0                  40  \n",
       "3888            0                  40  \n",
       "3889            0                  40  \n",
       "3890            0                  40  \n",
       "3891            0                  40  \n",
       "3892            0                  40  \n",
       "3893            0                  40  \n",
       "3894            0                  40  \n",
       "3895            0                  40  \n",
       "3896            0                  40  \n",
       "3897            0                  40  \n",
       "3898          -40                   0  \n",
       "3899            0                   0  "
      ]
     },
     "execution_count": 50,
     "metadata": {},
     "output_type": "execute_result"
    }
   ],
   "source": [
    "#df_3[]\n",
    "df_2.loc[df_2['Generation No.'] == 77]"
   ]
  },
  {
   "cell_type": "code",
   "execution_count": 37,
   "metadata": {},
   "outputs": [
    {
     "data": {
      "text/plain": [
       "500"
      ]
     },
     "execution_count": 37,
     "metadata": {},
     "output_type": "execute_result"
    }
   ],
   "source": [
    "# check how many generations did it finish?\n",
    "df_2['Generation No.'].nunique()"
   ]
  },
  {
   "cell_type": "code",
   "execution_count": 38,
   "metadata": {},
   "outputs": [],
   "source": [
    "# try group by generation no and get max\n",
    "df_2_final = df_2.groupby('Generation No.',as_index=False).agg({'Reward to Game Agent' : 'max','Game Reward' : 'max','Accumulated Reward' : 'max'})"
   ]
  },
  {
   "cell_type": "code",
   "execution_count": 39,
   "metadata": {},
   "outputs": [],
   "source": [
    "## Create another column which says what type of data is this\n",
    "df_2_final['Type'] = 'Run_2'"
   ]
  },
  {
   "cell_type": "code",
   "execution_count": 46,
   "metadata": {},
   "outputs": [
    {
     "data": {
      "text/html": [
       "<div>\n",
       "<style scoped>\n",
       "    .dataframe tbody tr th:only-of-type {\n",
       "        vertical-align: middle;\n",
       "    }\n",
       "\n",
       "    .dataframe tbody tr th {\n",
       "        vertical-align: top;\n",
       "    }\n",
       "\n",
       "    .dataframe thead th {\n",
       "        text-align: right;\n",
       "    }\n",
       "</style>\n",
       "<table border=\"1\" class=\"dataframe\">\n",
       "  <thead>\n",
       "    <tr style=\"text-align: right;\">\n",
       "      <th></th>\n",
       "      <th>Generation No.</th>\n",
       "      <th>Game Reward</th>\n",
       "      <th>Reward to Game Agent</th>\n",
       "      <th>Accumulated Reward</th>\n",
       "      <th>Type</th>\n",
       "    </tr>\n",
       "  </thead>\n",
       "  <tbody>\n",
       "    <tr>\n",
       "      <th>70</th>\n",
       "      <td>70</td>\n",
       "      <td>0</td>\n",
       "      <td>0.0</td>\n",
       "      <td>30</td>\n",
       "      <td>Run_2</td>\n",
       "    </tr>\n",
       "    <tr>\n",
       "      <th>71</th>\n",
       "      <td>71</td>\n",
       "      <td>0</td>\n",
       "      <td>0.0</td>\n",
       "      <td>30</td>\n",
       "      <td>Run_2</td>\n",
       "    </tr>\n",
       "    <tr>\n",
       "      <th>72</th>\n",
       "      <td>72</td>\n",
       "      <td>0</td>\n",
       "      <td>0.0</td>\n",
       "      <td>30</td>\n",
       "      <td>Run_2</td>\n",
       "    </tr>\n",
       "    <tr>\n",
       "      <th>73</th>\n",
       "      <td>73</td>\n",
       "      <td>0</td>\n",
       "      <td>0.0</td>\n",
       "      <td>30</td>\n",
       "      <td>Run_2</td>\n",
       "    </tr>\n",
       "    <tr>\n",
       "      <th>74</th>\n",
       "      <td>74</td>\n",
       "      <td>0</td>\n",
       "      <td>0.0</td>\n",
       "      <td>30</td>\n",
       "      <td>Run_2</td>\n",
       "    </tr>\n",
       "    <tr>\n",
       "      <th>75</th>\n",
       "      <td>75</td>\n",
       "      <td>10</td>\n",
       "      <td>12.0</td>\n",
       "      <td>40</td>\n",
       "      <td>Run_2</td>\n",
       "    </tr>\n",
       "    <tr>\n",
       "      <th>76</th>\n",
       "      <td>76</td>\n",
       "      <td>0</td>\n",
       "      <td>0.0</td>\n",
       "      <td>40</td>\n",
       "      <td>Run_2</td>\n",
       "    </tr>\n",
       "    <tr>\n",
       "      <th>77</th>\n",
       "      <td>77</td>\n",
       "      <td>0</td>\n",
       "      <td>0.0</td>\n",
       "      <td>40</td>\n",
       "      <td>Run_2</td>\n",
       "    </tr>\n",
       "    <tr>\n",
       "      <th>78</th>\n",
       "      <td>78</td>\n",
       "      <td>0</td>\n",
       "      <td>-0.2</td>\n",
       "      <td>0</td>\n",
       "      <td>Run_2</td>\n",
       "    </tr>\n",
       "    <tr>\n",
       "      <th>79</th>\n",
       "      <td>79</td>\n",
       "      <td>0</td>\n",
       "      <td>-0.2</td>\n",
       "      <td>0</td>\n",
       "      <td>Run_2</td>\n",
       "    </tr>\n",
       "  </tbody>\n",
       "</table>\n",
       "</div>"
      ],
      "text/plain": [
       "    Generation No.  Game Reward  Reward to Game Agent  Accumulated Reward  \\\n",
       "70              70            0                   0.0                  30   \n",
       "71              71            0                   0.0                  30   \n",
       "72              72            0                   0.0                  30   \n",
       "73              73            0                   0.0                  30   \n",
       "74              74            0                   0.0                  30   \n",
       "75              75           10                  12.0                  40   \n",
       "76              76            0                   0.0                  40   \n",
       "77              77            0                   0.0                  40   \n",
       "78              78            0                  -0.2                   0   \n",
       "79              79            0                  -0.2                   0   \n",
       "\n",
       "     Type  \n",
       "70  Run_2  \n",
       "71  Run_2  \n",
       "72  Run_2  \n",
       "73  Run_2  \n",
       "74  Run_2  \n",
       "75  Run_2  \n",
       "76  Run_2  \n",
       "77  Run_2  \n",
       "78  Run_2  \n",
       "79  Run_2  "
      ]
     },
     "execution_count": 46,
     "metadata": {},
     "output_type": "execute_result"
    }
   ],
   "source": [
    "df_2_final[70:80]"
   ]
  },
  {
   "cell_type": "code",
   "execution_count": 41,
   "metadata": {},
   "outputs": [
    {
     "data": {
      "text/plain": [
       "array(['Generation No.', 'Game Reward', 'Reward to Game Agent',\n",
       "       'Accumulated Reward', 'Type'], dtype=object)"
      ]
     },
     "execution_count": 41,
     "metadata": {},
     "output_type": "execute_result"
    }
   ],
   "source": [
    "df_2_final.columns.values"
   ]
  },
  {
   "cell_type": "code",
   "execution_count": 42,
   "metadata": {},
   "outputs": [
    {
     "data": {
      "text/plain": [
       "500"
      ]
     },
     "execution_count": 42,
     "metadata": {},
     "output_type": "execute_result"
    }
   ],
   "source": [
    "len(df_2_final)"
   ]
  },
  {
   "cell_type": "code",
   "execution_count": 43,
   "metadata": {},
   "outputs": [],
   "source": [
    "del df_2"
   ]
  },
  {
   "cell_type": "code",
   "execution_count": 44,
   "metadata": {},
   "outputs": [
    {
     "data": {
      "image/png": "[encoded data removed]",
      "text/plain": [
       "<Figure size 432x288 with 1 Axes>"
      ]
     },
     "metadata": {},
     "output_type": "display_data"
    }
   ],
   "source": [
    "plt.ylim(0,80)\n",
    "plt.plot(df_2_final['Generation No.'], df_2_final['Accumulated Reward'])\n",
    "plt.ylabel('Accumulated Reward')\n",
    "plt.xlabel('Generations')\n",
    "#plt.savefig('Evolution - Detective - Mean Accumulated Reward by Generations.png')\n",
    "plt.show()"
   ]
  },
  {
   "cell_type": "code",
   "execution_count": 45,
   "metadata": {},
   "outputs": [
    {
     "data": {
      "image/png": "[encoded data removed]",
      "text/plain": [
       "<Figure size 432x288 with 1 Axes>"
      ]
     },
     "metadata": {},
     "output_type": "display_data"
    }
   ],
   "source": [
    "#plt.ylim(0,80)\n",
    "plt.plot(df_2_final['Generation No.'], df_2_final['Reward to Game Agent'])\n",
    "plt.ylabel('Reward to Game Agent')\n",
    "plt.xlabel('Generations')\n",
    "#plt.savefig('Evolution - Detective - Mean Agent Accumulated Reward by Generations.png')\n",
    "\n",
    "plt.show()"
   ]
  },
  {
   "cell_type": "code",
   "execution_count": null,
   "metadata": {},
   "outputs": [],
   "source": [
    "#plt.ylim(0,80)\n",
    "plt.plot(df_2_final['Generation No.'], df_2_final['Game Reward'])\n",
    "plt.ylabel('Game Reward')\n",
    "plt.xlabel('Generations')\n",
    "#plt.savefig('Evolution - Detective - Mean Agent Accumulated Reward by Generations.png')\n",
    "\n",
    "plt.show()"
   ]
  },
  {
   "cell_type": "markdown",
   "metadata": {},
   "source": [
    "## RUN 3"
   ]
  },
  {
   "cell_type": "code",
   "execution_count": 19,
   "metadata": {},
   "outputs": [],
   "source": [
    "with open('./finalruns/run_3/track_scores_detective_pop50gen500_210818.pkl', 'rb') as i:\n",
    "    x3 = pickle.load(i)"
   ]
  },
  {
   "cell_type": "code",
   "execution_count": 20,
   "metadata": {},
   "outputs": [],
   "source": [
    "df_3 = pd.DataFrame(x3, columns=['State','Population no.','Generation No.','Action','Reward to Game Agent','Game Reward','Accumulated Reward'])"
   ]
  },
  {
   "cell_type": "code",
   "execution_count": 32,
   "metadata": {
    "scrolled": true
   },
   "outputs": [
    {
     "data": {
      "text/html": [
       "<div>\n",
       "<style scoped>\n",
       "    .dataframe tbody tr th:only-of-type {\n",
       "        vertical-align: middle;\n",
       "    }\n",
       "\n",
       "    .dataframe tbody tr th {\n",
       "        vertical-align: top;\n",
       "    }\n",
       "\n",
       "    .dataframe thead th {\n",
       "        text-align: right;\n",
       "    }\n",
       "</style>\n",
       "<table border=\"1\" class=\"dataframe\">\n",
       "  <thead>\n",
       "    <tr style=\"text-align: right;\">\n",
       "      <th></th>\n",
       "      <th>State</th>\n",
       "      <th>Population no.</th>\n",
       "      <th>Generation No.</th>\n",
       "      <th>Action</th>\n",
       "      <th>Reward to Game Agent</th>\n",
       "      <th>Game Reward</th>\n",
       "      <th>Accumulated Reward</th>\n",
       "    </tr>\n",
       "  </thead>\n",
       "  <tbody>\n",
       "    <tr>\n",
       "      <th>7600</th>\n",
       "      <td>78 . Restraunt You are about to enter the rest...</td>\n",
       "      <td>0</td>\n",
       "      <td>152</td>\n",
       "      <td>enter north</td>\n",
       "      <td>-48.0</td>\n",
       "      <td>-40</td>\n",
       "      <td>0</td>\n",
       "    </tr>\n",
       "    <tr>\n",
       "      <th>7601</th>\n",
       "      <td>78 . Please give one of the answers above.</td>\n",
       "      <td>1</td>\n",
       "      <td>152</td>\n",
       "      <td>look</td>\n",
       "      <td>0.0</td>\n",
       "      <td>0</td>\n",
       "      <td>0</td>\n",
       "    </tr>\n",
       "    <tr>\n",
       "      <th>7602</th>\n",
       "      <td>78 . Please give one of the answers above.</td>\n",
       "      <td>2</td>\n",
       "      <td>152</td>\n",
       "      <td>get all</td>\n",
       "      <td>-0.2</td>\n",
       "      <td>0</td>\n",
       "      <td>0</td>\n",
       "    </tr>\n",
       "    <tr>\n",
       "      <th>7603</th>\n",
       "      <td>78 . Please give one of the answers above.</td>\n",
       "      <td>3</td>\n",
       "      <td>152</td>\n",
       "      <td>look</td>\n",
       "      <td>-0.2</td>\n",
       "      <td>0</td>\n",
       "      <td>0</td>\n",
       "    </tr>\n",
       "    <tr>\n",
       "      <th>7604</th>\n",
       "      <td>78 . Please give one of the answers above.</td>\n",
       "      <td>4</td>\n",
       "      <td>152</td>\n",
       "      <td>inventory</td>\n",
       "      <td>-0.2</td>\n",
       "      <td>0</td>\n",
       "      <td>0</td>\n",
       "    </tr>\n",
       "    <tr>\n",
       "      <th>7605</th>\n",
       "      <td>78 . Please give one of the answers above.</td>\n",
       "      <td>5</td>\n",
       "      <td>152</td>\n",
       "      <td>look</td>\n",
       "      <td>-0.2</td>\n",
       "      <td>0</td>\n",
       "      <td>0</td>\n",
       "    </tr>\n",
       "    <tr>\n",
       "      <th>7606</th>\n",
       "      <td>78 . Please give one of the answers above.</td>\n",
       "      <td>6</td>\n",
       "      <td>152</td>\n",
       "      <td>get Please</td>\n",
       "      <td>-0.2</td>\n",
       "      <td>0</td>\n",
       "      <td>0</td>\n",
       "    </tr>\n",
       "    <tr>\n",
       "      <th>7607</th>\n",
       "      <td>78 . Please give one of the answers above.</td>\n",
       "      <td>7</td>\n",
       "      <td>152</td>\n",
       "      <td>look</td>\n",
       "      <td>-0.2</td>\n",
       "      <td>0</td>\n",
       "      <td>0</td>\n",
       "    </tr>\n",
       "    <tr>\n",
       "      <th>7608</th>\n",
       "      <td>78 . Please give one of the answers above.</td>\n",
       "      <td>8</td>\n",
       "      <td>152</td>\n",
       "      <td>inventory</td>\n",
       "      <td>-0.2</td>\n",
       "      <td>0</td>\n",
       "      <td>0</td>\n",
       "    </tr>\n",
       "    <tr>\n",
       "      <th>7609</th>\n",
       "      <td>78 . Please give one of the answers above.</td>\n",
       "      <td>9</td>\n",
       "      <td>152</td>\n",
       "      <td>look</td>\n",
       "      <td>-0.2</td>\n",
       "      <td>0</td>\n",
       "      <td>0</td>\n",
       "    </tr>\n",
       "    <tr>\n",
       "      <th>7610</th>\n",
       "      <td>78 . Please give one of the answers above.</td>\n",
       "      <td>10</td>\n",
       "      <td>152</td>\n",
       "      <td>get</td>\n",
       "      <td>-0.2</td>\n",
       "      <td>0</td>\n",
       "      <td>0</td>\n",
       "    </tr>\n",
       "    <tr>\n",
       "      <th>7611</th>\n",
       "      <td>78 . Please give one of the answers above.</td>\n",
       "      <td>11</td>\n",
       "      <td>152</td>\n",
       "      <td>look</td>\n",
       "      <td>-0.2</td>\n",
       "      <td>0</td>\n",
       "      <td>0</td>\n",
       "    </tr>\n",
       "    <tr>\n",
       "      <th>7612</th>\n",
       "      <td>78 . Please give one of the answers above.</td>\n",
       "      <td>12</td>\n",
       "      <td>152</td>\n",
       "      <td>inventory</td>\n",
       "      <td>-0.2</td>\n",
       "      <td>0</td>\n",
       "      <td>0</td>\n",
       "    </tr>\n",
       "    <tr>\n",
       "      <th>7613</th>\n",
       "      <td>78 . Please give one of the answers above.</td>\n",
       "      <td>13</td>\n",
       "      <td>152</td>\n",
       "      <td>look</td>\n",
       "      <td>-0.2</td>\n",
       "      <td>0</td>\n",
       "      <td>0</td>\n",
       "    </tr>\n",
       "    <tr>\n",
       "      <th>7614</th>\n",
       "      <td>78 . Please give one of the answers above.</td>\n",
       "      <td>14</td>\n",
       "      <td>152</td>\n",
       "      <td>open Please</td>\n",
       "      <td>-0.2</td>\n",
       "      <td>0</td>\n",
       "      <td>0</td>\n",
       "    </tr>\n",
       "    <tr>\n",
       "      <th>7615</th>\n",
       "      <td>78 . Please give one of the answers above.</td>\n",
       "      <td>15</td>\n",
       "      <td>152</td>\n",
       "      <td>look</td>\n",
       "      <td>-0.2</td>\n",
       "      <td>0</td>\n",
       "      <td>0</td>\n",
       "    </tr>\n",
       "    <tr>\n",
       "      <th>7616</th>\n",
       "      <td>78 . Please give one of the answers above.</td>\n",
       "      <td>16</td>\n",
       "      <td>152</td>\n",
       "      <td>put Please</td>\n",
       "      <td>-0.2</td>\n",
       "      <td>0</td>\n",
       "      <td>0</td>\n",
       "    </tr>\n",
       "    <tr>\n",
       "      <th>7617</th>\n",
       "      <td>78 . Please give one of the answers above.</td>\n",
       "      <td>17</td>\n",
       "      <td>152</td>\n",
       "      <td>look</td>\n",
       "      <td>-0.2</td>\n",
       "      <td>0</td>\n",
       "      <td>0</td>\n",
       "    </tr>\n",
       "    <tr>\n",
       "      <th>7618</th>\n",
       "      <td>78 . Please give one of the answers above.</td>\n",
       "      <td>18</td>\n",
       "      <td>152</td>\n",
       "      <td>open</td>\n",
       "      <td>-0.2</td>\n",
       "      <td>0</td>\n",
       "      <td>0</td>\n",
       "    </tr>\n",
       "    <tr>\n",
       "      <th>7619</th>\n",
       "      <td>78 . Please give one of the answers above.</td>\n",
       "      <td>19</td>\n",
       "      <td>152</td>\n",
       "      <td>look</td>\n",
       "      <td>-0.2</td>\n",
       "      <td>0</td>\n",
       "      <td>0</td>\n",
       "    </tr>\n",
       "    <tr>\n",
       "      <th>7620</th>\n",
       "      <td>78 . Please give one of the answers above.</td>\n",
       "      <td>20</td>\n",
       "      <td>152</td>\n",
       "      <td>get answers</td>\n",
       "      <td>-0.2</td>\n",
       "      <td>0</td>\n",
       "      <td>0</td>\n",
       "    </tr>\n",
       "    <tr>\n",
       "      <th>7621</th>\n",
       "      <td>78 . Please give one of the answers above.</td>\n",
       "      <td>21</td>\n",
       "      <td>152</td>\n",
       "      <td>look</td>\n",
       "      <td>-0.2</td>\n",
       "      <td>0</td>\n",
       "      <td>0</td>\n",
       "    </tr>\n",
       "    <tr>\n",
       "      <th>7622</th>\n",
       "      <td>78 . Please give one of the answers above.</td>\n",
       "      <td>22</td>\n",
       "      <td>152</td>\n",
       "      <td>inventory</td>\n",
       "      <td>-0.2</td>\n",
       "      <td>0</td>\n",
       "      <td>0</td>\n",
       "    </tr>\n",
       "    <tr>\n",
       "      <th>7623</th>\n",
       "      <td>78 . Please give one of the answers above.</td>\n",
       "      <td>23</td>\n",
       "      <td>152</td>\n",
       "      <td>look</td>\n",
       "      <td>-0.2</td>\n",
       "      <td>0</td>\n",
       "      <td>0</td>\n",
       "    </tr>\n",
       "    <tr>\n",
       "      <th>7624</th>\n",
       "      <td>78 . Please give one of the answers above.</td>\n",
       "      <td>24</td>\n",
       "      <td>152</td>\n",
       "      <td>switch Please</td>\n",
       "      <td>-0.2</td>\n",
       "      <td>0</td>\n",
       "      <td>0</td>\n",
       "    </tr>\n",
       "    <tr>\n",
       "      <th>7625</th>\n",
       "      <td>78 . Please give one of the answers above.</td>\n",
       "      <td>25</td>\n",
       "      <td>152</td>\n",
       "      <td>look</td>\n",
       "      <td>-0.2</td>\n",
       "      <td>0</td>\n",
       "      <td>0</td>\n",
       "    </tr>\n",
       "    <tr>\n",
       "      <th>7626</th>\n",
       "      <td>78 . Please give one of the answers above.</td>\n",
       "      <td>26</td>\n",
       "      <td>152</td>\n",
       "      <td>put</td>\n",
       "      <td>-0.2</td>\n",
       "      <td>0</td>\n",
       "      <td>0</td>\n",
       "    </tr>\n",
       "    <tr>\n",
       "      <th>7627</th>\n",
       "      <td>78 . Please give one of the answers above.</td>\n",
       "      <td>27</td>\n",
       "      <td>152</td>\n",
       "      <td>look</td>\n",
       "      <td>-0.2</td>\n",
       "      <td>0</td>\n",
       "      <td>0</td>\n",
       "    </tr>\n",
       "    <tr>\n",
       "      <th>7628</th>\n",
       "      <td>78 . Please give one of the answers above.</td>\n",
       "      <td>28</td>\n",
       "      <td>152</td>\n",
       "      <td>open answers</td>\n",
       "      <td>-0.2</td>\n",
       "      <td>0</td>\n",
       "      <td>0</td>\n",
       "    </tr>\n",
       "    <tr>\n",
       "      <th>7629</th>\n",
       "      <td>78 . Please give one of the answers above.</td>\n",
       "      <td>29</td>\n",
       "      <td>152</td>\n",
       "      <td>look</td>\n",
       "      <td>-0.2</td>\n",
       "      <td>0</td>\n",
       "      <td>0</td>\n",
       "    </tr>\n",
       "    <tr>\n",
       "      <th>7630</th>\n",
       "      <td>78 . Please give one of the answers above.</td>\n",
       "      <td>30</td>\n",
       "      <td>152</td>\n",
       "      <td>put answers</td>\n",
       "      <td>-0.2</td>\n",
       "      <td>0</td>\n",
       "      <td>0</td>\n",
       "    </tr>\n",
       "    <tr>\n",
       "      <th>7631</th>\n",
       "      <td>78 . Please give one of the answers above.</td>\n",
       "      <td>31</td>\n",
       "      <td>152</td>\n",
       "      <td>look</td>\n",
       "      <td>-0.2</td>\n",
       "      <td>0</td>\n",
       "      <td>0</td>\n",
       "    </tr>\n",
       "    <tr>\n",
       "      <th>7632</th>\n",
       "      <td>78 . Please give one of the answers above.</td>\n",
       "      <td>32</td>\n",
       "      <td>152</td>\n",
       "      <td>listen Please</td>\n",
       "      <td>-0.2</td>\n",
       "      <td>0</td>\n",
       "      <td>0</td>\n",
       "    </tr>\n",
       "    <tr>\n",
       "      <th>7633</th>\n",
       "      <td>78 . Please give one of the answers above.</td>\n",
       "      <td>33</td>\n",
       "      <td>152</td>\n",
       "      <td>look</td>\n",
       "      <td>-0.2</td>\n",
       "      <td>0</td>\n",
       "      <td>0</td>\n",
       "    </tr>\n",
       "    <tr>\n",
       "      <th>7634</th>\n",
       "      <td>78 . Please give one of the answers above.</td>\n",
       "      <td>34</td>\n",
       "      <td>152</td>\n",
       "      <td>use answers</td>\n",
       "      <td>-0.2</td>\n",
       "      <td>0</td>\n",
       "      <td>0</td>\n",
       "    </tr>\n",
       "    <tr>\n",
       "      <th>7635</th>\n",
       "      <td>78 . Please give one of the answers above.</td>\n",
       "      <td>35</td>\n",
       "      <td>152</td>\n",
       "      <td>look</td>\n",
       "      <td>-0.2</td>\n",
       "      <td>0</td>\n",
       "      <td>0</td>\n",
       "    </tr>\n",
       "    <tr>\n",
       "      <th>7636</th>\n",
       "      <td>78 . Please give one of the answers above.</td>\n",
       "      <td>36</td>\n",
       "      <td>152</td>\n",
       "      <td>light Please</td>\n",
       "      <td>-0.2</td>\n",
       "      <td>0</td>\n",
       "      <td>0</td>\n",
       "    </tr>\n",
       "    <tr>\n",
       "      <th>7637</th>\n",
       "      <td>78 . Please give one of the answers above.</td>\n",
       "      <td>37</td>\n",
       "      <td>152</td>\n",
       "      <td>look</td>\n",
       "      <td>-0.2</td>\n",
       "      <td>0</td>\n",
       "      <td>0</td>\n",
       "    </tr>\n",
       "    <tr>\n",
       "      <th>7638</th>\n",
       "      <td>78 . Please give one of the answers above.</td>\n",
       "      <td>38</td>\n",
       "      <td>152</td>\n",
       "      <td>hug answers</td>\n",
       "      <td>-0.2</td>\n",
       "      <td>0</td>\n",
       "      <td>0</td>\n",
       "    </tr>\n",
       "    <tr>\n",
       "      <th>7639</th>\n",
       "      <td>78 . Please give one of the answers above.</td>\n",
       "      <td>39</td>\n",
       "      <td>152</td>\n",
       "      <td>look</td>\n",
       "      <td>-0.2</td>\n",
       "      <td>0</td>\n",
       "      <td>0</td>\n",
       "    </tr>\n",
       "    <tr>\n",
       "      <th>7640</th>\n",
       "      <td>78 . Please give one of the answers above.</td>\n",
       "      <td>40</td>\n",
       "      <td>152</td>\n",
       "      <td>sit</td>\n",
       "      <td>-0.2</td>\n",
       "      <td>0</td>\n",
       "      <td>0</td>\n",
       "    </tr>\n",
       "    <tr>\n",
       "      <th>7641</th>\n",
       "      <td>78 . Please give one of the answers above.</td>\n",
       "      <td>41</td>\n",
       "      <td>152</td>\n",
       "      <td>look</td>\n",
       "      <td>-0.2</td>\n",
       "      <td>0</td>\n",
       "      <td>0</td>\n",
       "    </tr>\n",
       "    <tr>\n",
       "      <th>7642</th>\n",
       "      <td>78 . Please give one of the answers above.</td>\n",
       "      <td>42</td>\n",
       "      <td>152</td>\n",
       "      <td>lift answers</td>\n",
       "      <td>-0.2</td>\n",
       "      <td>0</td>\n",
       "      <td>0</td>\n",
       "    </tr>\n",
       "    <tr>\n",
       "      <th>7643</th>\n",
       "      <td>78 . Please give one of the answers above.</td>\n",
       "      <td>43</td>\n",
       "      <td>152</td>\n",
       "      <td>look</td>\n",
       "      <td>-0.2</td>\n",
       "      <td>0</td>\n",
       "      <td>0</td>\n",
       "    </tr>\n",
       "    <tr>\n",
       "      <th>7644</th>\n",
       "      <td>78 . Please give one of the answers above.</td>\n",
       "      <td>44</td>\n",
       "      <td>152</td>\n",
       "      <td>read Please</td>\n",
       "      <td>-0.2</td>\n",
       "      <td>0</td>\n",
       "      <td>0</td>\n",
       "    </tr>\n",
       "    <tr>\n",
       "      <th>7645</th>\n",
       "      <td>78 . Please give one of the answers above.</td>\n",
       "      <td>45</td>\n",
       "      <td>152</td>\n",
       "      <td>look</td>\n",
       "      <td>-0.2</td>\n",
       "      <td>0</td>\n",
       "      <td>0</td>\n",
       "    </tr>\n",
       "    <tr>\n",
       "      <th>7646</th>\n",
       "      <td>78 . Please give one of the answers above.</td>\n",
       "      <td>46</td>\n",
       "      <td>152</td>\n",
       "      <td>east Please</td>\n",
       "      <td>-0.2</td>\n",
       "      <td>0</td>\n",
       "      <td>0</td>\n",
       "    </tr>\n",
       "    <tr>\n",
       "      <th>7647</th>\n",
       "      <td>78 . Please give one of the answers above.</td>\n",
       "      <td>47</td>\n",
       "      <td>152</td>\n",
       "      <td>look</td>\n",
       "      <td>-0.2</td>\n",
       "      <td>0</td>\n",
       "      <td>0</td>\n",
       "    </tr>\n",
       "    <tr>\n",
       "      <th>7648</th>\n",
       "      <td>78 . Please give one of the answers above.</td>\n",
       "      <td>48</td>\n",
       "      <td>152</td>\n",
       "      <td>blast Please</td>\n",
       "      <td>-0.2</td>\n",
       "      <td>0</td>\n",
       "      <td>0</td>\n",
       "    </tr>\n",
       "    <tr>\n",
       "      <th>7649</th>\n",
       "      <td>78 . Please give one of the answers above.</td>\n",
       "      <td>49</td>\n",
       "      <td>152</td>\n",
       "      <td>look</td>\n",
       "      <td>-0.2</td>\n",
       "      <td>0</td>\n",
       "      <td>0</td>\n",
       "    </tr>\n",
       "  </tbody>\n",
       "</table>\n",
       "</div>"
      ],
      "text/plain": [
       "                                                  State  Population no.  \\\n",
       "7600  78 . Restraunt You are about to enter the rest...               0   \n",
       "7601        78 . Please give one of the answers above.                1   \n",
       "7602        78 . Please give one of the answers above.                2   \n",
       "7603        78 . Please give one of the answers above.                3   \n",
       "7604        78 . Please give one of the answers above.                4   \n",
       "7605        78 . Please give one of the answers above.                5   \n",
       "7606        78 . Please give one of the answers above.                6   \n",
       "7607        78 . Please give one of the answers above.                7   \n",
       "7608        78 . Please give one of the answers above.                8   \n",
       "7609        78 . Please give one of the answers above.                9   \n",
       "7610        78 . Please give one of the answers above.               10   \n",
       "7611        78 . Please give one of the answers above.               11   \n",
       "7612        78 . Please give one of the answers above.               12   \n",
       "7613        78 . Please give one of the answers above.               13   \n",
       "7614        78 . Please give one of the answers above.               14   \n",
       "7615        78 . Please give one of the answers above.               15   \n",
       "7616        78 . Please give one of the answers above.               16   \n",
       "7617        78 . Please give one of the answers above.               17   \n",
       "7618        78 . Please give one of the answers above.               18   \n",
       "7619        78 . Please give one of the answers above.               19   \n",
       "7620        78 . Please give one of the answers above.               20   \n",
       "7621        78 . Please give one of the answers above.               21   \n",
       "7622        78 . Please give one of the answers above.               22   \n",
       "7623        78 . Please give one of the answers above.               23   \n",
       "7624        78 . Please give one of the answers above.               24   \n",
       "7625        78 . Please give one of the answers above.               25   \n",
       "7626        78 . Please give one of the answers above.               26   \n",
       "7627        78 . Please give one of the answers above.               27   \n",
       "7628        78 . Please give one of the answers above.               28   \n",
       "7629        78 . Please give one of the answers above.               29   \n",
       "7630        78 . Please give one of the answers above.               30   \n",
       "7631        78 . Please give one of the answers above.               31   \n",
       "7632        78 . Please give one of the answers above.               32   \n",
       "7633        78 . Please give one of the answers above.               33   \n",
       "7634        78 . Please give one of the answers above.               34   \n",
       "7635        78 . Please give one of the answers above.               35   \n",
       "7636        78 . Please give one of the answers above.               36   \n",
       "7637        78 . Please give one of the answers above.               37   \n",
       "7638        78 . Please give one of the answers above.               38   \n",
       "7639        78 . Please give one of the answers above.               39   \n",
       "7640        78 . Please give one of the answers above.               40   \n",
       "7641        78 . Please give one of the answers above.               41   \n",
       "7642        78 . Please give one of the answers above.               42   \n",
       "7643        78 . Please give one of the answers above.               43   \n",
       "7644        78 . Please give one of the answers above.               44   \n",
       "7645        78 . Please give one of the answers above.               45   \n",
       "7646        78 . Please give one of the answers above.               46   \n",
       "7647        78 . Please give one of the answers above.               47   \n",
       "7648        78 . Please give one of the answers above.               48   \n",
       "7649        78 . Please give one of the answers above.               49   \n",
       "\n",
       "      Generation No.         Action  Reward to Game Agent  Game Reward  \\\n",
       "7600             152    enter north                 -48.0          -40   \n",
       "7601             152           look                   0.0            0   \n",
       "7602             152        get all                  -0.2            0   \n",
       "7603             152           look                  -0.2            0   \n",
       "7604             152      inventory                  -0.2            0   \n",
       "7605             152           look                  -0.2            0   \n",
       "7606             152     get Please                  -0.2            0   \n",
       "7607             152           look                  -0.2            0   \n",
       "7608             152      inventory                  -0.2            0   \n",
       "7609             152           look                  -0.2            0   \n",
       "7610             152            get                  -0.2            0   \n",
       "7611             152           look                  -0.2            0   \n",
       "7612             152      inventory                  -0.2            0   \n",
       "7613             152           look                  -0.2            0   \n",
       "7614             152    open Please                  -0.2            0   \n",
       "7615             152           look                  -0.2            0   \n",
       "7616             152     put Please                  -0.2            0   \n",
       "7617             152           look                  -0.2            0   \n",
       "7618             152           open                  -0.2            0   \n",
       "7619             152           look                  -0.2            0   \n",
       "7620             152    get answers                  -0.2            0   \n",
       "7621             152           look                  -0.2            0   \n",
       "7622             152      inventory                  -0.2            0   \n",
       "7623             152           look                  -0.2            0   \n",
       "7624             152  switch Please                  -0.2            0   \n",
       "7625             152           look                  -0.2            0   \n",
       "7626             152            put                  -0.2            0   \n",
       "7627             152           look                  -0.2            0   \n",
       "7628             152   open answers                  -0.2            0   \n",
       "7629             152           look                  -0.2            0   \n",
       "7630             152    put answers                  -0.2            0   \n",
       "7631             152           look                  -0.2            0   \n",
       "7632             152  listen Please                  -0.2            0   \n",
       "7633             152           look                  -0.2            0   \n",
       "7634             152    use answers                  -0.2            0   \n",
       "7635             152           look                  -0.2            0   \n",
       "7636             152   light Please                  -0.2            0   \n",
       "7637             152           look                  -0.2            0   \n",
       "7638             152    hug answers                  -0.2            0   \n",
       "7639             152           look                  -0.2            0   \n",
       "7640             152            sit                  -0.2            0   \n",
       "7641             152           look                  -0.2            0   \n",
       "7642             152   lift answers                  -0.2            0   \n",
       "7643             152           look                  -0.2            0   \n",
       "7644             152    read Please                  -0.2            0   \n",
       "7645             152           look                  -0.2            0   \n",
       "7646             152    east Please                  -0.2            0   \n",
       "7647             152           look                  -0.2            0   \n",
       "7648             152   blast Please                  -0.2            0   \n",
       "7649             152           look                  -0.2            0   \n",
       "\n",
       "      Accumulated Reward  \n",
       "7600                   0  \n",
       "7601                   0  \n",
       "7602                   0  \n",
       "7603                   0  \n",
       "7604                   0  \n",
       "7605                   0  \n",
       "7606                   0  \n",
       "7607                   0  \n",
       "7608                   0  \n",
       "7609                   0  \n",
       "7610                   0  \n",
       "7611                   0  \n",
       "7612                   0  \n",
       "7613                   0  \n",
       "7614                   0  \n",
       "7615                   0  \n",
       "7616                   0  \n",
       "7617                   0  \n",
       "7618                   0  \n",
       "7619                   0  \n",
       "7620                   0  \n",
       "7621                   0  \n",
       "7622                   0  \n",
       "7623                   0  \n",
       "7624                   0  \n",
       "7625                   0  \n",
       "7626                   0  \n",
       "7627                   0  \n",
       "7628                   0  \n",
       "7629                   0  \n",
       "7630                   0  \n",
       "7631                   0  \n",
       "7632                   0  \n",
       "7633                   0  \n",
       "7634                   0  \n",
       "7635                   0  \n",
       "7636                   0  \n",
       "7637                   0  \n",
       "7638                   0  \n",
       "7639                   0  \n",
       "7640                   0  \n",
       "7641                   0  \n",
       "7642                   0  \n",
       "7643                   0  \n",
       "7644                   0  \n",
       "7645                   0  \n",
       "7646                   0  \n",
       "7647                   0  \n",
       "7648                   0  \n",
       "7649                   0  "
      ]
     },
     "execution_count": 32,
     "metadata": {},
     "output_type": "execute_result"
    }
   ],
   "source": [
    "#df_3[]\n",
    "df_3.loc[df_3['Generation No.'] == 152]"
   ]
  },
  {
   "cell_type": "code",
   "execution_count": 6,
   "metadata": {},
   "outputs": [
    {
     "data": {
      "text/plain": [
       "500"
      ]
     },
     "execution_count": 6,
     "metadata": {},
     "output_type": "execute_result"
    }
   ],
   "source": [
    "# check how many generations did it finish?\n",
    "df_3['Generation No.'].nunique()"
   ]
  },
  {
   "cell_type": "code",
   "execution_count": 7,
   "metadata": {},
   "outputs": [],
   "source": [
    "# try group by generation no and get max\n",
    "df_3_final = df_3.groupby('Generation No.',as_index=False).agg({'Reward to Game Agent' : 'max','Game Reward' : 'max','Accumulated Reward' : 'max'})"
   ]
  },
  {
   "cell_type": "code",
   "execution_count": 8,
   "metadata": {},
   "outputs": [],
   "source": [
    "## Create another column which says what type of data is this\n",
    "df_3_final['Type'] = 'Run_3'"
   ]
  },
  {
   "cell_type": "code",
   "execution_count": 17,
   "metadata": {},
   "outputs": [
    {
     "data": {
      "text/html": [
       "<div>\n",
       "<style scoped>\n",
       "    .dataframe tbody tr th:only-of-type {\n",
       "        vertical-align: middle;\n",
       "    }\n",
       "\n",
       "    .dataframe tbody tr th {\n",
       "        vertical-align: top;\n",
       "    }\n",
       "\n",
       "    .dataframe thead th {\n",
       "        text-align: right;\n",
       "    }\n",
       "</style>\n",
       "<table border=\"1\" class=\"dataframe\">\n",
       "  <thead>\n",
       "    <tr style=\"text-align: right;\">\n",
       "      <th></th>\n",
       "      <th>Generation No.</th>\n",
       "      <th>Game Reward</th>\n",
       "      <th>Reward to Game Agent</th>\n",
       "      <th>Accumulated Reward</th>\n",
       "      <th>Type</th>\n",
       "    </tr>\n",
       "  </thead>\n",
       "  <tbody>\n",
       "    <tr>\n",
       "      <th>150</th>\n",
       "      <td>150</td>\n",
       "      <td>0</td>\n",
       "      <td>0.0</td>\n",
       "      <td>40</td>\n",
       "      <td>Run_3</td>\n",
       "    </tr>\n",
       "    <tr>\n",
       "      <th>151</th>\n",
       "      <td>151</td>\n",
       "      <td>0</td>\n",
       "      <td>0.0</td>\n",
       "      <td>40</td>\n",
       "      <td>Run_3</td>\n",
       "    </tr>\n",
       "    <tr>\n",
       "      <th>152</th>\n",
       "      <td>152</td>\n",
       "      <td>0</td>\n",
       "      <td>0.0</td>\n",
       "      <td>0</td>\n",
       "      <td>Run_3</td>\n",
       "    </tr>\n",
       "    <tr>\n",
       "      <th>153</th>\n",
       "      <td>153</td>\n",
       "      <td>0</td>\n",
       "      <td>-0.2</td>\n",
       "      <td>0</td>\n",
       "      <td>Run_3</td>\n",
       "    </tr>\n",
       "    <tr>\n",
       "      <th>154</th>\n",
       "      <td>154</td>\n",
       "      <td>0</td>\n",
       "      <td>-0.2</td>\n",
       "      <td>0</td>\n",
       "      <td>Run_3</td>\n",
       "    </tr>\n",
       "    <tr>\n",
       "      <th>155</th>\n",
       "      <td>155</td>\n",
       "      <td>0</td>\n",
       "      <td>-0.2</td>\n",
       "      <td>0</td>\n",
       "      <td>Run_3</td>\n",
       "    </tr>\n",
       "    <tr>\n",
       "      <th>156</th>\n",
       "      <td>156</td>\n",
       "      <td>0</td>\n",
       "      <td>-0.2</td>\n",
       "      <td>0</td>\n",
       "      <td>Run_3</td>\n",
       "    </tr>\n",
       "    <tr>\n",
       "      <th>157</th>\n",
       "      <td>157</td>\n",
       "      <td>0</td>\n",
       "      <td>-0.2</td>\n",
       "      <td>0</td>\n",
       "      <td>Run_3</td>\n",
       "    </tr>\n",
       "    <tr>\n",
       "      <th>158</th>\n",
       "      <td>158</td>\n",
       "      <td>0</td>\n",
       "      <td>-0.2</td>\n",
       "      <td>0</td>\n",
       "      <td>Run_3</td>\n",
       "    </tr>\n",
       "    <tr>\n",
       "      <th>159</th>\n",
       "      <td>159</td>\n",
       "      <td>0</td>\n",
       "      <td>-0.2</td>\n",
       "      <td>0</td>\n",
       "      <td>Run_3</td>\n",
       "    </tr>\n",
       "  </tbody>\n",
       "</table>\n",
       "</div>"
      ],
      "text/plain": [
       "     Generation No.  Game Reward  Reward to Game Agent  Accumulated Reward  \\\n",
       "150             150            0                   0.0                  40   \n",
       "151             151            0                   0.0                  40   \n",
       "152             152            0                   0.0                   0   \n",
       "153             153            0                  -0.2                   0   \n",
       "154             154            0                  -0.2                   0   \n",
       "155             155            0                  -0.2                   0   \n",
       "156             156            0                  -0.2                   0   \n",
       "157             157            0                  -0.2                   0   \n",
       "158             158            0                  -0.2                   0   \n",
       "159             159            0                  -0.2                   0   \n",
       "\n",
       "      Type  \n",
       "150  Run_3  \n",
       "151  Run_3  \n",
       "152  Run_3  \n",
       "153  Run_3  \n",
       "154  Run_3  \n",
       "155  Run_3  \n",
       "156  Run_3  \n",
       "157  Run_3  \n",
       "158  Run_3  \n",
       "159  Run_3  "
      ]
     },
     "execution_count": 17,
     "metadata": {},
     "output_type": "execute_result"
    }
   ],
   "source": [
    "df_3_final[150:160]"
   ]
  },
  {
   "cell_type": "code",
   "execution_count": 10,
   "metadata": {},
   "outputs": [
    {
     "data": {
      "text/plain": [
       "array(['Generation No.', 'Game Reward', 'Reward to Game Agent',\n",
       "       'Accumulated Reward', 'Type'], dtype=object)"
      ]
     },
     "execution_count": 10,
     "metadata": {},
     "output_type": "execute_result"
    }
   ],
   "source": [
    "df_3_final.columns.values"
   ]
  },
  {
   "cell_type": "code",
   "execution_count": 11,
   "metadata": {},
   "outputs": [
    {
     "data": {
      "text/plain": [
       "500"
      ]
     },
     "execution_count": 11,
     "metadata": {},
     "output_type": "execute_result"
    }
   ],
   "source": [
    "len(df_3_final)"
   ]
  },
  {
   "cell_type": "code",
   "execution_count": 12,
   "metadata": {},
   "outputs": [],
   "source": [
    "del df_3"
   ]
  },
  {
   "cell_type": "code",
   "execution_count": 13,
   "metadata": {},
   "outputs": [
    {
     "data": {
      "image/png": "[encoded data removed]",
      "text/plain": [
       "<Figure size 432x288 with 1 Axes>"
      ]
     },
     "metadata": {},
     "output_type": "display_data"
    }
   ],
   "source": [
    "plt.ylim(0,80)\n",
    "plt.plot(df_3_final['Generation No.'], df_3_final['Accumulated Reward'])\n",
    "plt.ylabel('Accumulated Reward')\n",
    "plt.xlabel('Generations')\n",
    "#plt.savefig('Evolution - Detective - Mean Accumulated Reward by Generations.png')\n",
    "\n",
    "plt.show()"
   ]
  },
  {
   "cell_type": "code",
   "execution_count": 14,
   "metadata": {},
   "outputs": [
    {
     "data": {
      "image/png": "[encoded data removed]",
      "text/plain": [
       "<Figure size 432x288 with 1 Axes>"
      ]
     },
     "metadata": {},
     "output_type": "display_data"
    }
   ],
   "source": [
    "#plt.ylim(0,80)\n",
    "plt.plot(df_3_final['Generation No.'], df_3_final['Reward to Game Agent'])\n",
    "plt.ylabel('Reward to Game Agent')\n",
    "plt.xlabel('Generations')\n",
    "#plt.savefig('Evolution - Detective - Mean Agent Accumulated Reward by Generations.png')\n",
    "\n",
    "plt.show()"
   ]
  },
  {
   "cell_type": "code",
   "execution_count": 15,
   "metadata": {},
   "outputs": [
    {
     "data": {
      "image/png": "[encoded data removed]",
      "text/plain": [
       "<Figure size 432x288 with 1 Axes>"
      ]
     },
     "metadata": {},
     "output_type": "display_data"
    }
   ],
   "source": [
    "#plt.ylim(0,80)\n",
    "plt.plot(df_3_final['Generation No.'], df_3_final['Game Reward'])\n",
    "plt.ylabel('Game Reward')\n",
    "plt.xlabel('Generations')\n",
    "#plt.savefig('Evolution - Detective - Mean Agent Accumulated Reward by Generations.png')\n",
    "\n",
    "plt.show()"
   ]
  },
  {
   "cell_type": "markdown",
   "metadata": {},
   "source": [
    "## RUN 4 "
   ]
  },
  {
   "cell_type": "code",
   "execution_count": null,
   "metadata": {},
   "outputs": [],
   "source": [
    "with open('./finalruns/run_4/track_scores_detective_pop50gen500_170818.pkl', 'rb') as i:\n",
    "    x4 = pickle.load(i)"
   ]
  },
  {
   "cell_type": "code",
   "execution_count": null,
   "metadata": {},
   "outputs": [],
   "source": [
    "df_4 = pd.DataFrame(x4, columns=['State','Population no.','Generation No.','Action','Reward to Game Agent','Game Reward','Accumulated Reward'])"
   ]
  },
  {
   "cell_type": "code",
   "execution_count": null,
   "metadata": {
    "scrolled": true
   },
   "outputs": [],
   "source": [
    "df_4[:5]"
   ]
  },
  {
   "cell_type": "code",
   "execution_count": null,
   "metadata": {},
   "outputs": [],
   "source": [
    "# check how many generations did it finish?\n",
    "df_4['Generation No.'].nunique()"
   ]
  },
  {
   "cell_type": "code",
   "execution_count": null,
   "metadata": {},
   "outputs": [],
   "source": [
    "# try group by generation no and get max\n",
    "df_4_final = df_4.groupby('Generation No.',as_index=False).agg({'Reward to Game Agent' : 'max','Game Reward' : 'max','Accumulated Reward' : 'max'})"
   ]
  },
  {
   "cell_type": "code",
   "execution_count": null,
   "metadata": {},
   "outputs": [],
   "source": [
    "## Create another column which says what type of data is this\n",
    "df_4_final['Type'] = 'Run_4'"
   ]
  },
  {
   "cell_type": "code",
   "execution_count": null,
   "metadata": {},
   "outputs": [],
   "source": [
    "df_4_final[:5]"
   ]
  },
  {
   "cell_type": "code",
   "execution_count": null,
   "metadata": {},
   "outputs": [],
   "source": [
    "df_4_final.columns.values"
   ]
  },
  {
   "cell_type": "code",
   "execution_count": null,
   "metadata": {},
   "outputs": [],
   "source": [
    "len(df_4_final)"
   ]
  },
  {
   "cell_type": "code",
   "execution_count": null,
   "metadata": {},
   "outputs": [],
   "source": [
    "del df_4"
   ]
  },
  {
   "cell_type": "code",
   "execution_count": null,
   "metadata": {},
   "outputs": [],
   "source": [
    "plt.ylim(0,80)\n",
    "plt.plot(df_4_final['Generation No.'], df_4_final['Accumulated Reward'])\n",
    "plt.ylabel('Accumulated Reward')\n",
    "plt.xlabel('Generations')\n",
    "#plt.savefig('Evolution - Detective - Mean Accumulated Reward by Generations.png')\n",
    "\n",
    "plt.show()"
   ]
  },
  {
   "cell_type": "code",
   "execution_count": null,
   "metadata": {},
   "outputs": [],
   "source": [
    "#plt.ylim(0,80)\n",
    "plt.plot(df_4_final['Generation No.'], df_4_final['Reward to Game Agent'])\n",
    "plt.ylabel('Reward to Game Agent')\n",
    "plt.xlabel('Generations')\n",
    "#plt.savefig('Evolution - Detective - Mean Agent Accumulated Reward by Generations.png')\n",
    "\n",
    "plt.show()"
   ]
  },
  {
   "cell_type": "code",
   "execution_count": null,
   "metadata": {},
   "outputs": [],
   "source": [
    "#plt.ylim(0,80)\n",
    "plt.plot(df_4_final['Generation No.'], df_4_final['Game Reward'])\n",
    "plt.ylabel('Game Reward')\n",
    "plt.xlabel('Generations')\n",
    "#plt.savefig('Evolution - Detective - Mean Agent Accumulated Reward by Generations.png')\n",
    "\n",
    "plt.show()"
   ]
  },
  {
   "cell_type": "markdown",
   "metadata": {},
   "source": [
    "## RUN 5 "
   ]
  },
  {
   "cell_type": "code",
   "execution_count": null,
   "metadata": {},
   "outputs": [],
   "source": [
    "with open('./finalruns/run_5/track_scores_detective_pop50gen500_170818.pkl', 'rb') as i:\n",
    "    x5 = pickle.load(i)"
   ]
  },
  {
   "cell_type": "code",
   "execution_count": null,
   "metadata": {},
   "outputs": [],
   "source": [
    "df_5 = pd.DataFrame(x5, columns=['State','Population no.','Generation No.','Action','Reward to Game Agent','Game Reward','Accumulated Reward'])"
   ]
  },
  {
   "cell_type": "code",
   "execution_count": null,
   "metadata": {
    "scrolled": true
   },
   "outputs": [],
   "source": [
    "df_5[:5]"
   ]
  },
  {
   "cell_type": "code",
   "execution_count": null,
   "metadata": {},
   "outputs": [],
   "source": [
    "# check how many generations did it finish?\n",
    "df_5['Generation No.'].nunique()"
   ]
  },
  {
   "cell_type": "code",
   "execution_count": null,
   "metadata": {},
   "outputs": [],
   "source": [
    "# try group by generation no and get mean\n",
    "df_5_final = df_5.groupby('Generation No.',as_index=False).agg({'Reward to Game Agent' : 'max','Game Reward' : 'max','Accumulated Reward' : 'max'})"
   ]
  },
  {
   "cell_type": "code",
   "execution_count": null,
   "metadata": {},
   "outputs": [],
   "source": [
    "## Create another column which says what type of data is this\n",
    "df_5_final['Type'] = 'Run_5'"
   ]
  },
  {
   "cell_type": "code",
   "execution_count": null,
   "metadata": {},
   "outputs": [],
   "source": [
    "df_5_final[:5]"
   ]
  },
  {
   "cell_type": "code",
   "execution_count": null,
   "metadata": {},
   "outputs": [],
   "source": [
    "df_5_final.columns.values"
   ]
  },
  {
   "cell_type": "code",
   "execution_count": null,
   "metadata": {},
   "outputs": [],
   "source": [
    "len(df_5_final)"
   ]
  },
  {
   "cell_type": "code",
   "execution_count": null,
   "metadata": {},
   "outputs": [],
   "source": [
    "del df_5"
   ]
  },
  {
   "cell_type": "code",
   "execution_count": null,
   "metadata": {},
   "outputs": [],
   "source": [
    "plt.ylim(0,80)\n",
    "plt.plot(df_5_final['Generation No.'], df_5_final['Accumulated Reward'])\n",
    "plt.ylabel('Accumulated Reward')\n",
    "plt.xlabel('Generations')\n",
    "#plt.savefig('Evolution - Detective - Mean Accumulated Reward by Generations.png')\n",
    "\n",
    "plt.show()"
   ]
  },
  {
   "cell_type": "code",
   "execution_count": null,
   "metadata": {},
   "outputs": [],
   "source": [
    "#plt.ylim(0,80)\n",
    "plt.plot(df_5_final['Generation No.'], df_5_final['Reward to Game Agent'])\n",
    "plt.ylabel('Reward to Game Agent')\n",
    "plt.xlabel('Generations')\n",
    "#plt.savefig('Evolution - Detective - Mean Agent Accumulated Reward by Generations.png')\n",
    "\n",
    "plt.show()"
   ]
  },
  {
   "cell_type": "code",
   "execution_count": null,
   "metadata": {},
   "outputs": [],
   "source": [
    "#plt.ylim(0,80)\n",
    "plt.plot(df_5_final['Generation No.'], df_5_final['Game Reward'])\n",
    "plt.ylabel('Game Reward')\n",
    "plt.xlabel('Generations')\n",
    "#plt.savefig('Evolution - Detective - Mean Agent Accumulated Reward by Generations.png')\n",
    "\n",
    "plt.show()"
   ]
  },
  {
   "cell_type": "markdown",
   "metadata": {},
   "source": [
    "# Merge All Statistics for the Runs"
   ]
  },
  {
   "cell_type": "code",
   "execution_count": null,
   "metadata": {},
   "outputs": [],
   "source": [
    "dfs = [df_1_final, df_2_final,df_3_final,df_4_final,df_5_final]"
   ]
  },
  {
   "cell_type": "code",
   "execution_count": null,
   "metadata": {},
   "outputs": [],
   "source": [
    "df_merged = pd.concat(dfs, ignore_index=True)"
   ]
  },
  {
   "cell_type": "code",
   "execution_count": null,
   "metadata": {},
   "outputs": [],
   "source": [
    "df_merged[:5]"
   ]
  },
  {
   "cell_type": "markdown",
   "metadata": {},
   "source": [
    "# Analyzing Results for the runs by neuroagents"
   ]
  },
  {
   "cell_type": "markdown",
   "metadata": {},
   "source": [
    "## plot of accumulated reward by runs - no confidence interval"
   ]
  },
  {
   "cell_type": "code",
   "execution_count": null,
   "metadata": {},
   "outputs": [],
   "source": [
    "## Without confidence interval\n",
    "\n",
    "# Plot the responses for different events and regions\n",
    "sns_plot = sns.lineplot(x=\"Generation No.\", y=\"Accumulated Reward\",\n",
    "           #  hue=\"Type\",\n",
    "             data=df_merged).set_title(\"detective\")\n",
    "fig = sns_plot.get_figure()\n",
    "fig.savefig('Scores by NeuroAgent - Errorband Plot by Runs.png',bbox_inches='tight')\n",
    "#sns_plot.savefig(\"detective_plot_seaborn_neuro.png\",bbox_inches='tight')"
   ]
  },
  {
   "cell_type": "markdown",
   "metadata": {},
   "source": [
    "## plot of accumulated reward by runs - with confidence interval"
   ]
  },
  {
   "cell_type": "code",
   "execution_count": null,
   "metadata": {},
   "outputs": [],
   "source": [
    "#sns.set(style=\"darkgrid\")\n",
    "\n",
    "# With confidence interval\n",
    "# Plot the responses for different events and regions\n",
    "sns_plot = sns.lineplot(x=\"Generation No.\", y=\"Accumulated Reward\",\n",
    "             hue=\"Type\",ci=99.5,\n",
    "             data=df_merged).set_title(\"detective\")\n",
    "fig = sns_plot.get_figure()\n",
    "fig.savefig('Scores by NeuroAgent - Errorband Plot by Runs with 99.5 confidence interval.png',bbox_inches='tight')\n",
    "#sns_plot.savefig(\"detective_plot_seaborn_neuro.png\",bbox_inches='tight')"
   ]
  },
  {
   "cell_type": "markdown",
   "metadata": {},
   "source": [
    "## plot of reward to game agent by runs"
   ]
  },
  {
   "cell_type": "code",
   "execution_count": null,
   "metadata": {},
   "outputs": [],
   "source": [
    "#sns.set(style=\"darkgrid\")\n",
    "# Plot the responses for different events and regions\n",
    "sns_plot = sns.lineplot(x=\"Generation No.\", y=\"Reward to Game Agent\",\n",
    "             hue=\"Type\",\n",
    "             data=df_merged).set_title(\"detective\")\n",
    "fig = sns_plot.get_figure()\n",
    "#fig.savefig('Detective - Errorband Plot by Population.png',bbox_inches='tight')\n",
    "#sns_plot.savefig(\"detective_plot_seaborn_neuro.png\",bbox_inches='tight')"
   ]
  },
  {
   "cell_type": "markdown",
   "metadata": {},
   "source": [
    "# Baseline Result  - We perform 3 runs of the game with baseline agent using settings of 25,000 generations."
   ]
  },
  {
   "cell_type": "code",
   "execution_count": null,
   "metadata": {},
   "outputs": [],
   "source": [
    "with open('./Baseline/baseline_track_scores_computer_play_110818_run_1_detective.pkl', 'rb') as j:\n",
    "    y_1 = pickle.load(j)"
   ]
  },
  {
   "cell_type": "code",
   "execution_count": null,
   "metadata": {},
   "outputs": [],
   "source": [
    "with open('./Baseline/baseline_track_scores_computer_play_110818_run_2_detective.pkl', 'rb') as j:\n",
    "    y_2 = pickle.load(j)"
   ]
  },
  {
   "cell_type": "code",
   "execution_count": null,
   "metadata": {},
   "outputs": [],
   "source": [
    "with open('./Baseline/baseline_track_scores_computer_play_110818_run_3_detective.pkl', 'rb') as j:\n",
    "    y_3 = pickle.load(j)"
   ]
  },
  {
   "cell_type": "code",
   "execution_count": null,
   "metadata": {
    "scrolled": true
   },
   "outputs": [],
   "source": [
    "y_1[:2]"
   ]
  },
  {
   "cell_type": "code",
   "execution_count": null,
   "metadata": {},
   "outputs": [],
   "source": [
    "columns=['Counter','Game State','Action','Game Reward','Accumulated Reward']"
   ]
  },
  {
   "cell_type": "code",
   "execution_count": null,
   "metadata": {},
   "outputs": [],
   "source": [
    "df_baseline_run_1 = pd.DataFrame(y_1, columns=columns)"
   ]
  },
  {
   "cell_type": "code",
   "execution_count": null,
   "metadata": {},
   "outputs": [],
   "source": [
    "## Create another column which says what type of data is this\n",
    "df_baseline_run_1['Type'] = 'Run_1'"
   ]
  },
  {
   "cell_type": "code",
   "execution_count": null,
   "metadata": {},
   "outputs": [],
   "source": [
    "df_baseline_run_2 = pd.DataFrame(y_2, columns=columns)"
   ]
  },
  {
   "cell_type": "code",
   "execution_count": null,
   "metadata": {},
   "outputs": [],
   "source": [
    "## Create another column which says what type of data is this\n",
    "df_baseline_run_2['Type'] = 'Run_2'"
   ]
  },
  {
   "cell_type": "code",
   "execution_count": null,
   "metadata": {},
   "outputs": [],
   "source": [
    "df_baseline_run_3 = pd.DataFrame(y_3, columns=columns)"
   ]
  },
  {
   "cell_type": "code",
   "execution_count": null,
   "metadata": {},
   "outputs": [],
   "source": [
    "## Create another column which says what type of data is this\n",
    "df_baseline_run_3['Type'] = 'Run_3'"
   ]
  },
  {
   "cell_type": "code",
   "execution_count": null,
   "metadata": {},
   "outputs": [],
   "source": [
    "len(df_baseline_run_1)"
   ]
  },
  {
   "cell_type": "code",
   "execution_count": null,
   "metadata": {},
   "outputs": [],
   "source": [
    "len(df_baseline_run_2)"
   ]
  },
  {
   "cell_type": "code",
   "execution_count": null,
   "metadata": {},
   "outputs": [],
   "source": [
    "len(df_baseline_run_3)"
   ]
  },
  {
   "cell_type": "code",
   "execution_count": null,
   "metadata": {},
   "outputs": [],
   "source": [
    "df_baseline_run_1[:3]"
   ]
  },
  {
   "cell_type": "markdown",
   "metadata": {},
   "source": [
    "# Merge all results for baseline agent runs"
   ]
  },
  {
   "cell_type": "code",
   "execution_count": null,
   "metadata": {},
   "outputs": [],
   "source": [
    "dfs_baseline = [df_baseline_run_1,df_baseline_run_2,df_baseline_run_3]"
   ]
  },
  {
   "cell_type": "code",
   "execution_count": null,
   "metadata": {},
   "outputs": [],
   "source": [
    "df_baseline_merged = pd.concat(dfs_baseline, ignore_index=True)"
   ]
  },
  {
   "cell_type": "code",
   "execution_count": null,
   "metadata": {},
   "outputs": [],
   "source": [
    "len(df_baseline_merged)"
   ]
  },
  {
   "cell_type": "markdown",
   "metadata": {},
   "source": [
    "## Groupby counter and get the max of the column values for each run"
   ]
  },
  {
   "cell_type": "code",
   "execution_count": null,
   "metadata": {},
   "outputs": [],
   "source": [
    "# try group by generation no and get max\n",
    "df_baseline_merged_final = df_baseline_merged.groupby('Counter',as_index=False).agg({'Game Reward' : 'max','Accumulated Reward' : 'max'})"
   ]
  },
  {
   "cell_type": "code",
   "execution_count": null,
   "metadata": {},
   "outputs": [],
   "source": [
    "len(df_baseline_merged_final)"
   ]
  },
  {
   "cell_type": "code",
   "execution_count": null,
   "metadata": {},
   "outputs": [],
   "source": [
    "df_baseline_merged_final[:11]"
   ]
  },
  {
   "cell_type": "code",
   "execution_count": null,
   "metadata": {},
   "outputs": [],
   "source": [
    "# new column to group by intervals of 50\n",
    "df_baseline_merged_final['Generation No.'] = df_baseline_merged_final['Counter'] // 50"
   ]
  },
  {
   "cell_type": "code",
   "execution_count": null,
   "metadata": {},
   "outputs": [],
   "source": [
    "df_baseline_merged_final[35:55]"
   ]
  },
  {
   "cell_type": "code",
   "execution_count": null,
   "metadata": {},
   "outputs": [],
   "source": [
    "# try group by generation no and get max\n",
    "df_baseline_merged_final_final = df_baseline_merged_final.groupby('Generation No.',as_index=False).agg({'Game Reward' : 'max','Accumulated Reward' : 'max'})"
   ]
  },
  {
   "cell_type": "code",
   "execution_count": null,
   "metadata": {},
   "outputs": [],
   "source": [
    "df_baseline_merged_final_final[:10]"
   ]
  },
  {
   "cell_type": "code",
   "execution_count": null,
   "metadata": {},
   "outputs": [],
   "source": [
    "len(df_baseline_merged_final_final)"
   ]
  },
  {
   "cell_type": "markdown",
   "metadata": {},
   "source": [
    "## Plot scores for baseline agents"
   ]
  },
  {
   "cell_type": "code",
   "execution_count": null,
   "metadata": {},
   "outputs": [],
   "source": [
    "#sns.set(style=\"darkgrid\")\n",
    "\n",
    "## Without confidence interval\n",
    "\n",
    "# Plot the responses for different events and regions\n",
    "sns_plot = sns.lineplot(x=\"Generation No.\", y=\"Accumulated Reward\",\n",
    "             data=df_baseline_merged_final_final).set_title(\"detective\")\n",
    "fig = sns_plot.get_figure()\n",
    "#fig.savefig('Detective - Errorband Plot by Population.png',bbox_inches='tight')\n",
    "#sns_plot.savefig(\"detective_plot_seaborn_neuro.png\",bbox_inches='tight')"
   ]
  },
  {
   "cell_type": "markdown",
   "metadata": {},
   "source": [
    "# Compare scores to baselines and neuro evolution"
   ]
  },
  {
   "cell_type": "code",
   "execution_count": null,
   "metadata": {},
   "outputs": [],
   "source": [
    "df_merged[:5]"
   ]
  },
  {
   "cell_type": "code",
   "execution_count": null,
   "metadata": {},
   "outputs": [],
   "source": [
    "len(df_merged)"
   ]
  },
  {
   "cell_type": "code",
   "execution_count": null,
   "metadata": {},
   "outputs": [],
   "source": [
    "df_baseline_merged_final_final[:5]"
   ]
  },
  {
   "cell_type": "code",
   "execution_count": null,
   "metadata": {},
   "outputs": [],
   "source": [
    "len(df_baseline_merged_final_final)"
   ]
  },
  {
   "cell_type": "markdown",
   "metadata": {},
   "source": [
    "# add type to baselines merged"
   ]
  },
  {
   "cell_type": "code",
   "execution_count": null,
   "metadata": {},
   "outputs": [],
   "source": [
    "## Create another column which says what type of data is this\n",
    "df_baseline_merged_final_final['Type'] = 'Baseline'"
   ]
  },
  {
   "cell_type": "code",
   "execution_count": null,
   "metadata": {},
   "outputs": [],
   "source": [
    "df_baseline_merged_final_final[:5]"
   ]
  },
  {
   "cell_type": "markdown",
   "metadata": {},
   "source": [
    "# merging both baseline and neuro agent results"
   ]
  },
  {
   "cell_type": "code",
   "execution_count": null,
   "metadata": {},
   "outputs": [],
   "source": [
    "#df_combined_merged = pd.concat([df_merged, df_baseline_merged_final_final]).fillna(0)\n",
    "df_combined_merged = pd.concat([df_merged, df_baseline_merged_final_final])"
   ]
  },
  {
   "cell_type": "code",
   "execution_count": null,
   "metadata": {},
   "outputs": [],
   "source": [
    "len(df_combined_merged)"
   ]
  },
  {
   "cell_type": "code",
   "execution_count": null,
   "metadata": {},
   "outputs": [],
   "source": [
    "df_combined_merged[:10]"
   ]
  },
  {
   "cell_type": "code",
   "execution_count": null,
   "metadata": {},
   "outputs": [],
   "source": [
    "#sns.set(style=\"darkgrid\")\n",
    "\n",
    "## Without confidence interval\n",
    "\n",
    "# Plot the responses for different events and regions\n",
    "sns_plot = sns.lineplot(x=\"Generation No.\", y=\"Accumulated Reward\",\n",
    "             hue=\"Type\",\n",
    "             data=df_combined_merged).set_title(\"detective\")\n",
    "fig = sns_plot.get_figure()\n",
    "fig.savefig('Comparison of scores by NeuroAgenty by runs and Baseline.png',bbox_inches='tight')\n",
    "#sns_plot.savefig(\"detective_plot_seaborn_neuro.png\",bbox_inches='tight')"
   ]
  },
  {
   "cell_type": "markdown",
   "metadata": {},
   "source": [
    "## Try grouping by all the scores of the neuro agents"
   ]
  },
  {
   "cell_type": "code",
   "execution_count": null,
   "metadata": {},
   "outputs": [],
   "source": [
    "# try group by generation no and get mean\n",
    "df_agents_merged = df_merged.groupby('Generation No.',as_index=False).agg({'Game Reward' : 'max','Accumulated Reward' : 'max'})"
   ]
  },
  {
   "cell_type": "code",
   "execution_count": null,
   "metadata": {},
   "outputs": [],
   "source": [
    "len(df_agents_merged)"
   ]
  },
  {
   "cell_type": "code",
   "execution_count": null,
   "metadata": {},
   "outputs": [],
   "source": [
    "## Create another column which says what type of data is this\n",
    "df_agents_merged['Type'] = 'SNS'"
   ]
  },
  {
   "cell_type": "code",
   "execution_count": null,
   "metadata": {},
   "outputs": [],
   "source": [
    "df_agents_merged[:5]"
   ]
  },
  {
   "cell_type": "markdown",
   "metadata": {},
   "source": [
    "# Concate with baseline"
   ]
  },
  {
   "cell_type": "code",
   "execution_count": null,
   "metadata": {},
   "outputs": [],
   "source": [
    "df_combined_agents_merged = pd.concat([df_agents_merged, df_baseline_merged_final_final])"
   ]
  },
  {
   "cell_type": "code",
   "execution_count": null,
   "metadata": {},
   "outputs": [],
   "source": [
    "len(df_combined_agents_merged)"
   ]
  },
  {
   "cell_type": "code",
   "execution_count": null,
   "metadata": {},
   "outputs": [],
   "source": [
    "#sns.set(style=\"darkgrid\")\n",
    "\n",
    "## Without confidence interval\n",
    "\n",
    "# Plot the responses for different events and regions\n",
    "sns_plot = sns.lineplot(x=\"Generation No.\", y=\"Accumulated Reward\",\n",
    "             hue=\"Type\",\n",
    "             data=df_combined_agents_merged).set_title(\"Comparison of scores by NeuroAgent and Baseline\")\n",
    "fig = sns_plot.get_figure()\n",
    "fig.savefig('Comparison of scores by NeuroAgent and Baseline.png')\n",
    "#sns_plot.savefig(\"detective_plot_seaborn_neuro.png\",bbox_inches='tight')"
   ]
  }
 ],
 "metadata": {
  "kernelspec": {
   "display_name": "Python 2",
   "language": "python",
   "name": "python2"
  },
  "language_info": {
   "codemirror_mode": {
    "name": "ipython",
    "version": 2
   },
   "file_extension": ".py",
   "mimetype": "text/x-python",
   "name": "python",
   "nbconvert_exporter": "python",
   "pygments_lexer": "ipython2",
   "version": "2.7.15"
  }
 },
 "nbformat": 4,
 "nbformat_minor": 2
}
