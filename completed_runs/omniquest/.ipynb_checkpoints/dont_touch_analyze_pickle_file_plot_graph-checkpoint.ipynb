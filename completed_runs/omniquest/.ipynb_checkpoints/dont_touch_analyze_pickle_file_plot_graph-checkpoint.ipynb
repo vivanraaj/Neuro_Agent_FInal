{
 "cells": [
  {
   "cell_type": "markdown",
   "metadata": {},
   "source": [
    "## Neuroevolution Strategy"
   ]
  },
  {
   "cell_type": "code",
   "execution_count": 1,
   "metadata": {},
   "outputs": [],
   "source": [
    "import pickle\n",
    "import sys\n",
    "import pandas as pd\n",
    "import matplotlib.pyplot as plt\n",
    "import seaborn as sns"
   ]
  },
  {
   "cell_type": "markdown",
   "metadata": {},
   "source": [
    "# Game Chosen - Balances Game"
   ]
  },
  {
   "cell_type": "markdown",
   "metadata": {},
   "source": [
    "## Neuro Agent Strategy - We perform 5 runs of the game with settings of 50 population and 500 generations. Below are the results for each run "
   ]
  },
  {
   "cell_type": "markdown",
   "metadata": {},
   "source": [
    "## RUN 1"
   ]
  },
  {
   "cell_type": "code",
   "execution_count": 2,
   "metadata": {},
   "outputs": [],
   "source": [
    "with open('./finalruns/run_1/track_scores_omniquest_pop50gen500_210818.pkl', 'rb') as i:\n",
    "    x1 = pickle.load(i)"
   ]
  },
  {
   "cell_type": "code",
   "execution_count": 3,
   "metadata": {},
   "outputs": [],
   "source": [
    "df_1 = pd.DataFrame(x1, columns=['State','Population no.','Generation No.','Action','Agent Reward','Game Reward','Score'])"
   ]
  },
  {
   "cell_type": "code",
   "execution_count": 4,
   "metadata": {
    "scrolled": false
   },
   "outputs": [
    {
     "data": {
      "text/html": [
       "<div>\n",
       "<style scoped>\n",
       "    .dataframe tbody tr th:only-of-type {\n",
       "        vertical-align: middle;\n",
       "    }\n",
       "\n",
       "    .dataframe tbody tr th {\n",
       "        vertical-align: top;\n",
       "    }\n",
       "\n",
       "    .dataframe thead th {\n",
       "        text-align: right;\n",
       "    }\n",
       "</style>\n",
       "<table border=\"1\" class=\"dataframe\">\n",
       "  <thead>\n",
       "    <tr style=\"text-align: right;\">\n",
       "      <th></th>\n",
       "      <th>State</th>\n",
       "      <th>Population no.</th>\n",
       "      <th>Generation No.</th>\n",
       "      <th>Action</th>\n",
       "      <th>Agent Reward</th>\n",
       "      <th>Game Reward</th>\n",
       "      <th>Score</th>\n",
       "    </tr>\n",
       "  </thead>\n",
       "  <tbody>\n",
       "    <tr>\n",
       "      <th>0</th>\n",
       "      <td>SD Large Clearing ***MORE*** Large Clearing 0...</td>\n",
       "      <td>0</td>\n",
       "      <td>0</td>\n",
       "      <td>get all</td>\n",
       "      <td>0.0</td>\n",
       "      <td>0</td>\n",
       "      <td>0</td>\n",
       "    </tr>\n",
       "    <tr>\n",
       "      <th>1</th>\n",
       "      <td>. Large Clearing You are standing in a large c...</td>\n",
       "      <td>1</td>\n",
       "      <td>0</td>\n",
       "      <td>look</td>\n",
       "      <td>0.0</td>\n",
       "      <td>0</td>\n",
       "      <td>0</td>\n",
       "    </tr>\n",
       "    <tr>\n",
       "      <th>2</th>\n",
       "      <td>. You are carrying nothing.</td>\n",
       "      <td>2</td>\n",
       "      <td>0</td>\n",
       "      <td>inventory</td>\n",
       "      <td>0.0</td>\n",
       "      <td>0</td>\n",
       "      <td>0</td>\n",
       "    </tr>\n",
       "    <tr>\n",
       "      <th>3</th>\n",
       "      <td>. Large Clearing You are standing in a large c...</td>\n",
       "      <td>3</td>\n",
       "      <td>0</td>\n",
       "      <td>look</td>\n",
       "      <td>0.0</td>\n",
       "      <td>0</td>\n",
       "      <td>0</td>\n",
       "    </tr>\n",
       "    <tr>\n",
       "      <th>4</th>\n",
       "      <td>. tree: That's fixed in place. path: You don't...</td>\n",
       "      <td>4</td>\n",
       "      <td>0</td>\n",
       "      <td>get all</td>\n",
       "      <td>0.0</td>\n",
       "      <td>0</td>\n",
       "      <td>0</td>\n",
       "    </tr>\n",
       "  </tbody>\n",
       "</table>\n",
       "</div>"
      ],
      "text/plain": [
       "                                               State  Population no.  \\\n",
       "0   SD Large Clearing ***MORE*** Large Clearing 0...               0   \n",
       "1  . Large Clearing You are standing in a large c...               1   \n",
       "2                       . You are carrying nothing.                2   \n",
       "3  . Large Clearing You are standing in a large c...               3   \n",
       "4  . tree: That's fixed in place. path: You don't...               4   \n",
       "\n",
       "   Generation No.     Action  Agent Reward  Game Reward  Score  \n",
       "0               0    get all           0.0            0      0  \n",
       "1               0       look           0.0            0      0  \n",
       "2               0  inventory           0.0            0      0  \n",
       "3               0       look           0.0            0      0  \n",
       "4               0    get all           0.0            0      0  "
      ]
     },
     "execution_count": 4,
     "metadata": {},
     "output_type": "execute_result"
    }
   ],
   "source": [
    "df_1[:5]"
   ]
  },
  {
   "cell_type": "code",
   "execution_count": 5,
   "metadata": {},
   "outputs": [
    {
     "data": {
      "text/plain": [
       "500"
      ]
     },
     "execution_count": 5,
     "metadata": {},
     "output_type": "execute_result"
    }
   ],
   "source": [
    "# check how many generations did it finish.\n",
    "df_1['Generation No.'].nunique()"
   ]
  },
  {
   "cell_type": "code",
   "execution_count": 6,
   "metadata": {},
   "outputs": [
    {
     "data": {
      "text/plain": [
       "2"
      ]
     },
     "execution_count": 6,
     "metadata": {},
     "output_type": "execute_result"
    }
   ],
   "source": [
    "df_1['Game Reward'].nunique()"
   ]
  },
  {
   "cell_type": "code",
   "execution_count": 7,
   "metadata": {},
   "outputs": [
    {
     "data": {
      "text/html": [
       "<div>\n",
       "<style scoped>\n",
       "    .dataframe tbody tr th:only-of-type {\n",
       "        vertical-align: middle;\n",
       "    }\n",
       "\n",
       "    .dataframe tbody tr th {\n",
       "        vertical-align: top;\n",
       "    }\n",
       "\n",
       "    .dataframe thead th {\n",
       "        text-align: right;\n",
       "    }\n",
       "</style>\n",
       "<table border=\"1\" class=\"dataframe\">\n",
       "  <thead>\n",
       "    <tr style=\"text-align: right;\">\n",
       "      <th></th>\n",
       "      <th>State</th>\n",
       "      <th>Population no.</th>\n",
       "      <th>Generation No.</th>\n",
       "      <th>Action</th>\n",
       "      <th>Agent Reward</th>\n",
       "      <th>Game Reward</th>\n",
       "      <th>Score</th>\n",
       "    </tr>\n",
       "  </thead>\n",
       "  <tbody>\n",
       "  </tbody>\n",
       "</table>\n",
       "</div>"
      ],
      "text/plain": [
       "Empty DataFrame\n",
       "Columns: [State, Population no., Generation No., Action, Agent Reward, Game Reward, Score]\n",
       "Index: []"
      ]
     },
     "execution_count": 7,
     "metadata": {},
     "output_type": "execute_result"
    }
   ],
   "source": [
    "df_1.loc[df_1['Game Reward'] == 10]"
   ]
  },
  {
   "cell_type": "code",
   "execution_count": 8,
   "metadata": {},
   "outputs": [
    {
     "data": {
      "text/plain": [
       "\"277 . You don't need to worry about the path. \""
      ]
     },
     "execution_count": 8,
     "metadata": {},
     "output_type": "execute_result"
    }
   ],
   "source": [
    "df_1.loc[18160]['State']"
   ]
  },
  {
   "cell_type": "code",
   "execution_count": null,
   "metadata": {},
   "outputs": [],
   "source": []
  },
  {
   "cell_type": "code",
   "execution_count": 9,
   "metadata": {},
   "outputs": [],
   "source": [
    "# try group by generation no and get max\n",
    "#df_1_final = df_1.groupby('Generation No.',as_index=False).agg({'Reward to Game Agent' : 'max','Game Reward' : 'max','Accumulated Reward' : 'max'})"
   ]
  },
  {
   "cell_type": "code",
   "execution_count": 10,
   "metadata": {},
   "outputs": [],
   "source": [
    "## Create another column which says what type of data is this\n",
    "#df_1_final['Type'] = 'Run_1'"
   ]
  },
  {
   "cell_type": "code",
   "execution_count": 11,
   "metadata": {},
   "outputs": [],
   "source": [
    "#df_1_final[:5]"
   ]
  },
  {
   "cell_type": "code",
   "execution_count": 12,
   "metadata": {},
   "outputs": [],
   "source": [
    "#len(df_1_final)"
   ]
  },
  {
   "cell_type": "code",
   "execution_count": 13,
   "metadata": {},
   "outputs": [
    {
     "data": {
      "text/plain": [
       "\"plt.ylim(0,80)\\nplt.plot(df_1_final['Generation No.'], df_1_final['Accumulated Reward'])\\nplt.ylabel('Accumulated Reward')\\nplt.xlabel('Generations')\\n#plt.savefig('Evolution - Detective - Mean Accumulated Reward by Generations.png')\\nplt.show()\""
      ]
     },
     "execution_count": 13,
     "metadata": {},
     "output_type": "execute_result"
    }
   ],
   "source": [
    "'''plt.ylim(0,80)\n",
    "plt.plot(df_1_final['Generation No.'], df_1_final['Accumulated Reward'])\n",
    "plt.ylabel('Accumulated Reward')\n",
    "plt.xlabel('Generations')\n",
    "#plt.savefig('Evolution - Detective - Mean Accumulated Reward by Generations.png')\n",
    "plt.show()'''"
   ]
  },
  {
   "cell_type": "code",
   "execution_count": 14,
   "metadata": {},
   "outputs": [
    {
     "data": {
      "text/plain": [
       "\"#plt.ylim(0,80)\\nplt.plot(df_1_final['Generation No.'], df_1_final['Reward to Game Agent'])\\nplt.ylabel('Reward to Game Agent')\\nplt.xlabel('Generations')\\n#plt.savefig('Evolution - Detective - Mean Agent Accumulated Reward by Generations.png')\\nplt.show()\""
      ]
     },
     "execution_count": 14,
     "metadata": {},
     "output_type": "execute_result"
    }
   ],
   "source": [
    "'''#plt.ylim(0,80)\n",
    "plt.plot(df_1_final['Generation No.'], df_1_final['Reward to Game Agent'])\n",
    "plt.ylabel('Reward to Game Agent')\n",
    "plt.xlabel('Generations')\n",
    "#plt.savefig('Evolution - Detective - Mean Agent Accumulated Reward by Generations.png')\n",
    "plt.show()'''"
   ]
  },
  {
   "cell_type": "code",
   "execution_count": 16,
   "metadata": {},
   "outputs": [
    {
     "data": {
      "text/plain": [
       "\"#plt.ylim(0,80)\\nplt.plot(df_1_final['Generation No.'], df_1_final['Game Reward'])\\nplt.ylabel('Game Reward')\\nplt.xlabel('Generations')\\n#plt.savefig('Evolution - Detective - Mean Agent Accumulated Reward by Generations.png')\\nplt.show()\""
      ]
     },
     "execution_count": 16,
     "metadata": {},
     "output_type": "execute_result"
    }
   ],
   "source": [
    "'''#plt.ylim(0,80)\n",
    "plt.plot(df_1_final['Generation No.'], df_1_final['Game Reward'])\n",
    "plt.ylabel('Game Reward')\n",
    "plt.xlabel('Generations')\n",
    "#plt.savefig('Evolution - Detective - Mean Agent Accumulated Reward by Generations.png')\n",
    "plt.show()'''"
   ]
  },
  {
   "cell_type": "markdown",
   "metadata": {},
   "source": [
    "## RUN 2"
   ]
  },
  {
   "cell_type": "code",
   "execution_count": 10,
   "metadata": {},
   "outputs": [],
   "source": [
    "with open('./finalruns/run_2/track_scores_omniquest_pop50gen500_220818.pkl', 'rb') as i:\n",
    "    x2 = pickle.load(i)"
   ]
  },
  {
   "cell_type": "code",
   "execution_count": 11,
   "metadata": {},
   "outputs": [],
   "source": [
    "df_2 = pd.DataFrame(x2, columns=['State','Population no.','Generation No.','Action','Agent Reward','Game Reward','Score'])"
   ]
  },
  {
   "cell_type": "code",
   "execution_count": 12,
   "metadata": {},
   "outputs": [
    {
     "data": {
      "text/html": [
       "<div>\n",
       "<style scoped>\n",
       "    .dataframe tbody tr th:only-of-type {\n",
       "        vertical-align: middle;\n",
       "    }\n",
       "\n",
       "    .dataframe tbody tr th {\n",
       "        vertical-align: top;\n",
       "    }\n",
       "\n",
       "    .dataframe thead th {\n",
       "        text-align: right;\n",
       "    }\n",
       "</style>\n",
       "<table border=\"1\" class=\"dataframe\">\n",
       "  <thead>\n",
       "    <tr style=\"text-align: right;\">\n",
       "      <th></th>\n",
       "      <th>State</th>\n",
       "      <th>Population no.</th>\n",
       "      <th>Generation No.</th>\n",
       "      <th>Action</th>\n",
       "      <th>Agent Reward</th>\n",
       "      <th>Game Reward</th>\n",
       "      <th>Score</th>\n",
       "    </tr>\n",
       "  </thead>\n",
       "  <tbody>\n",
       "    <tr>\n",
       "      <th>0</th>\n",
       "      <td>SD Large Clearing ***MORE*** Large Clearing 0...</td>\n",
       "      <td>0</td>\n",
       "      <td>0</td>\n",
       "      <td>get all</td>\n",
       "      <td>0.0</td>\n",
       "      <td>0</td>\n",
       "      <td>0</td>\n",
       "    </tr>\n",
       "    <tr>\n",
       "      <th>1</th>\n",
       "      <td>. Large Clearing You are standing in a large c...</td>\n",
       "      <td>1</td>\n",
       "      <td>0</td>\n",
       "      <td>look</td>\n",
       "      <td>0.0</td>\n",
       "      <td>0</td>\n",
       "      <td>0</td>\n",
       "    </tr>\n",
       "    <tr>\n",
       "      <th>2</th>\n",
       "      <td>. You are carrying nothing.</td>\n",
       "      <td>2</td>\n",
       "      <td>0</td>\n",
       "      <td>inventory</td>\n",
       "      <td>0.0</td>\n",
       "      <td>0</td>\n",
       "      <td>0</td>\n",
       "    </tr>\n",
       "    <tr>\n",
       "      <th>3</th>\n",
       "      <td>. Large Clearing You are standing in a large c...</td>\n",
       "      <td>3</td>\n",
       "      <td>0</td>\n",
       "      <td>look</td>\n",
       "      <td>0.0</td>\n",
       "      <td>0</td>\n",
       "      <td>0</td>\n",
       "    </tr>\n",
       "    <tr>\n",
       "      <th>4</th>\n",
       "      <td>. tree: That's fixed in place. path: You don't...</td>\n",
       "      <td>4</td>\n",
       "      <td>0</td>\n",
       "      <td>get all</td>\n",
       "      <td>0.0</td>\n",
       "      <td>0</td>\n",
       "      <td>0</td>\n",
       "    </tr>\n",
       "  </tbody>\n",
       "</table>\n",
       "</div>"
      ],
      "text/plain": [
       "                                               State  Population no.  \\\n",
       "0   SD Large Clearing ***MORE*** Large Clearing 0...               0   \n",
       "1  . Large Clearing You are standing in a large c...               1   \n",
       "2                       . You are carrying nothing.                2   \n",
       "3  . Large Clearing You are standing in a large c...               3   \n",
       "4  . tree: That's fixed in place. path: You don't...               4   \n",
       "\n",
       "   Generation No.     Action  Agent Reward  Game Reward  Score  \n",
       "0               0    get all           0.0            0      0  \n",
       "1               0       look           0.0            0      0  \n",
       "2               0  inventory           0.0            0      0  \n",
       "3               0       look           0.0            0      0  \n",
       "4               0    get all           0.0            0      0  "
      ]
     },
     "execution_count": 12,
     "metadata": {},
     "output_type": "execute_result"
    }
   ],
   "source": [
    "df_2[:5]"
   ]
  },
  {
   "cell_type": "code",
   "execution_count": 13,
   "metadata": {},
   "outputs": [
    {
     "data": {
      "text/plain": [
       "500"
      ]
     },
     "execution_count": 13,
     "metadata": {},
     "output_type": "execute_result"
    }
   ],
   "source": [
    "# check how many generations did it finish?\n",
    "df_2['Generation No.'].nunique()"
   ]
  },
  {
   "cell_type": "code",
   "execution_count": 14,
   "metadata": {},
   "outputs": [
    {
     "data": {
      "text/html": [
       "<div>\n",
       "<style scoped>\n",
       "    .dataframe tbody tr th:only-of-type {\n",
       "        vertical-align: middle;\n",
       "    }\n",
       "\n",
       "    .dataframe tbody tr th {\n",
       "        vertical-align: top;\n",
       "    }\n",
       "\n",
       "    .dataframe thead th {\n",
       "        text-align: right;\n",
       "    }\n",
       "</style>\n",
       "<table border=\"1\" class=\"dataframe\">\n",
       "  <thead>\n",
       "    <tr style=\"text-align: right;\">\n",
       "      <th></th>\n",
       "      <th>State</th>\n",
       "      <th>Population no.</th>\n",
       "      <th>Generation No.</th>\n",
       "      <th>Action</th>\n",
       "      <th>Agent Reward</th>\n",
       "      <th>Game Reward</th>\n",
       "      <th>Score</th>\n",
       "    </tr>\n",
       "  </thead>\n",
       "  <tbody>\n",
       "  </tbody>\n",
       "</table>\n",
       "</div>"
      ],
      "text/plain": [
       "Empty DataFrame\n",
       "Columns: [State, Population no., Generation No., Action, Agent Reward, Game Reward, Score]\n",
       "Index: []"
      ]
     },
     "execution_count": 14,
     "metadata": {},
     "output_type": "execute_result"
    }
   ],
   "source": [
    "df_2.loc[df_2['Game Reward'] == -40]"
   ]
  },
  {
   "cell_type": "code",
   "execution_count": 15,
   "metadata": {},
   "outputs": [
    {
     "data": {
      "text/plain": [
       "'41 . Small Clearing This clearing is apparently a brief widening of some ancient river. There are various small passages winding around two large boulders. These are to the north, south, and west. '"
      ]
     },
     "execution_count": 15,
     "metadata": {},
     "output_type": "execute_result"
    }
   ],
   "source": [
    "df_2.loc[3897]['State']"
   ]
  },
  {
   "cell_type": "code",
   "execution_count": null,
   "metadata": {},
   "outputs": [],
   "source": []
  },
  {
   "cell_type": "code",
   "execution_count": null,
   "metadata": {},
   "outputs": [],
   "source": []
  },
  {
   "cell_type": "code",
   "execution_count": null,
   "metadata": {},
   "outputs": [],
   "source": []
  },
  {
   "cell_type": "code",
   "execution_count": null,
   "metadata": {},
   "outputs": [],
   "source": [
    "# try group by generation no and get max\n",
    "#df_2_final = df_2.groupby('Generation No.',as_index=False).agg({'Reward to Game Agent' : 'max','Game Reward' : 'max','Accumulated Reward' : 'max'})"
   ]
  },
  {
   "cell_type": "code",
   "execution_count": null,
   "metadata": {},
   "outputs": [],
   "source": []
  },
  {
   "cell_type": "code",
   "execution_count": null,
   "metadata": {},
   "outputs": [],
   "source": []
  },
  {
   "cell_type": "code",
   "execution_count": null,
   "metadata": {},
   "outputs": [],
   "source": []
  },
  {
   "cell_type": "code",
   "execution_count": null,
   "metadata": {},
   "outputs": [],
   "source": []
  },
  {
   "cell_type": "code",
   "execution_count": null,
   "metadata": {},
   "outputs": [],
   "source": [
    "## Create another column which says what type of data is this\n",
    "#df_2_final['Type'] = 'Run_2'"
   ]
  },
  {
   "cell_type": "code",
   "execution_count": null,
   "metadata": {},
   "outputs": [],
   "source": [
    "#df_2_final[:5]"
   ]
  },
  {
   "cell_type": "code",
   "execution_count": null,
   "metadata": {},
   "outputs": [],
   "source": [
    "#df_2_final.columns.values"
   ]
  },
  {
   "cell_type": "code",
   "execution_count": null,
   "metadata": {},
   "outputs": [],
   "source": [
    "#len(df_2_final)"
   ]
  },
  {
   "cell_type": "code",
   "execution_count": null,
   "metadata": {},
   "outputs": [],
   "source": [
    "'''plt.ylim(0,80)\n",
    "plt.plot(df_2_final['Generation No.'], df_2_final['Accumulated Reward'])\n",
    "plt.ylabel('Accumulated Reward')\n",
    "plt.xlabel('Generations')\n",
    "#plt.savefig('Evolution - Detective - Mean Accumulated Reward by Generations.png')\n",
    "plt.show()'''"
   ]
  },
  {
   "cell_type": "code",
   "execution_count": null,
   "metadata": {},
   "outputs": [],
   "source": [
    "'''#plt.ylim(0,80)\n",
    "plt.plot(df_2_final['Generation No.'], df_2_final['Reward to Game Agent'])\n",
    "plt.ylabel('Reward to Game Agent')\n",
    "plt.xlabel('Generations')\n",
    "#plt.savefig('Evolution - Detective - Mean Agent Accumulated Reward by Generations.png')\n",
    "\n",
    "plt.show()'''"
   ]
  },
  {
   "cell_type": "code",
   "execution_count": null,
   "metadata": {},
   "outputs": [],
   "source": [
    "'''#plt.ylim(0,80)\n",
    "plt.plot(df_2_final['Generation No.'], df_2_final['Game Reward'])\n",
    "plt.ylabel('Game Reward')\n",
    "plt.xlabel('Generations')\n",
    "#plt.savefig('Evolution - Detective - Mean Agent Accumulated Reward by Generations.png')\n",
    "\n",
    "plt.show()'''"
   ]
  },
  {
   "cell_type": "markdown",
   "metadata": {},
   "source": [
    "## RUN 3"
   ]
  },
  {
   "cell_type": "code",
   "execution_count": 16,
   "metadata": {},
   "outputs": [],
   "source": [
    "with open('./finalruns/run_3/track_scores_omniquest_pop50gen500_220818.pkl', 'rb') as i:\n",
    "    x3 = pickle.load(i)"
   ]
  },
  {
   "cell_type": "code",
   "execution_count": 17,
   "metadata": {},
   "outputs": [],
   "source": [
    "df_3 = pd.DataFrame(x3, columns=['State','Population no.','Generation No.','Action','Agent Reward','Game Reward','Score'])"
   ]
  },
  {
   "cell_type": "code",
   "execution_count": 18,
   "metadata": {
    "scrolled": true
   },
   "outputs": [
    {
     "data": {
      "text/html": [
       "<div>\n",
       "<style scoped>\n",
       "    .dataframe tbody tr th:only-of-type {\n",
       "        vertical-align: middle;\n",
       "    }\n",
       "\n",
       "    .dataframe tbody tr th {\n",
       "        vertical-align: top;\n",
       "    }\n",
       "\n",
       "    .dataframe thead th {\n",
       "        text-align: right;\n",
       "    }\n",
       "</style>\n",
       "<table border=\"1\" class=\"dataframe\">\n",
       "  <thead>\n",
       "    <tr style=\"text-align: right;\">\n",
       "      <th></th>\n",
       "      <th>State</th>\n",
       "      <th>Population no.</th>\n",
       "      <th>Generation No.</th>\n",
       "      <th>Action</th>\n",
       "      <th>Agent Reward</th>\n",
       "      <th>Game Reward</th>\n",
       "      <th>Score</th>\n",
       "    </tr>\n",
       "  </thead>\n",
       "  <tbody>\n",
       "    <tr>\n",
       "      <th>0</th>\n",
       "      <td>. You are standing in a large clearing surroun...</td>\n",
       "      <td>0</td>\n",
       "      <td>0</td>\n",
       "      <td>get all</td>\n",
       "      <td>0.0</td>\n",
       "      <td>0</td>\n",
       "      <td>0</td>\n",
       "    </tr>\n",
       "    <tr>\n",
       "      <th>1</th>\n",
       "      <td>. Large Clearing You are standing in a large c...</td>\n",
       "      <td>1</td>\n",
       "      <td>0</td>\n",
       "      <td>look</td>\n",
       "      <td>0.0</td>\n",
       "      <td>0</td>\n",
       "      <td>0</td>\n",
       "    </tr>\n",
       "    <tr>\n",
       "      <th>2</th>\n",
       "      <td>. You are carrying nothing.</td>\n",
       "      <td>2</td>\n",
       "      <td>0</td>\n",
       "      <td>inventory</td>\n",
       "      <td>0.0</td>\n",
       "      <td>0</td>\n",
       "      <td>0</td>\n",
       "    </tr>\n",
       "    <tr>\n",
       "      <th>3</th>\n",
       "      <td>. Large Clearing You are standing in a large c...</td>\n",
       "      <td>3</td>\n",
       "      <td>0</td>\n",
       "      <td>look</td>\n",
       "      <td>0.0</td>\n",
       "      <td>0</td>\n",
       "      <td>0</td>\n",
       "    </tr>\n",
       "    <tr>\n",
       "      <th>4</th>\n",
       "      <td>. tree: That's fixed in place. path: You don't...</td>\n",
       "      <td>4</td>\n",
       "      <td>0</td>\n",
       "      <td>get all</td>\n",
       "      <td>0.0</td>\n",
       "      <td>0</td>\n",
       "      <td>0</td>\n",
       "    </tr>\n",
       "  </tbody>\n",
       "</table>\n",
       "</div>"
      ],
      "text/plain": [
       "                                               State  Population no.  \\\n",
       "0  . You are standing in a large clearing surroun...               0   \n",
       "1  . Large Clearing You are standing in a large c...               1   \n",
       "2                       . You are carrying nothing.                2   \n",
       "3  . Large Clearing You are standing in a large c...               3   \n",
       "4  . tree: That's fixed in place. path: You don't...               4   \n",
       "\n",
       "   Generation No.     Action  Agent Reward  Game Reward  Score  \n",
       "0               0    get all           0.0            0      0  \n",
       "1               0       look           0.0            0      0  \n",
       "2               0  inventory           0.0            0      0  \n",
       "3               0       look           0.0            0      0  \n",
       "4               0    get all           0.0            0      0  "
      ]
     },
     "execution_count": 18,
     "metadata": {},
     "output_type": "execute_result"
    }
   ],
   "source": [
    "df_3[:5]"
   ]
  },
  {
   "cell_type": "code",
   "execution_count": 19,
   "metadata": {},
   "outputs": [
    {
     "data": {
      "text/plain": [
       "350"
      ]
     },
     "execution_count": 19,
     "metadata": {},
     "output_type": "execute_result"
    }
   ],
   "source": [
    "# check how many generations did it finish?\n",
    "df_3['Generation No.'].nunique()"
   ]
  },
  {
   "cell_type": "code",
   "execution_count": 20,
   "metadata": {},
   "outputs": [],
   "source": [
    "# try group by generation no and get max\n",
    "#df_3_final = df_3.groupby('Generation No.',as_index=False).agg({'Reward to Game Agent' : 'max','Game Reward' : 'max','Accumulated Reward' : 'max'})"
   ]
  },
  {
   "cell_type": "code",
   "execution_count": null,
   "metadata": {},
   "outputs": [],
   "source": [
    "## Create another column which says what type of data is this\n",
    "#df_3_final['Type'] = 'Run_3'"
   ]
  },
  {
   "cell_type": "code",
   "execution_count": null,
   "metadata": {},
   "outputs": [],
   "source": [
    "#df_3_final[:5]"
   ]
  },
  {
   "cell_type": "code",
   "execution_count": null,
   "metadata": {},
   "outputs": [],
   "source": [
    "#df_3_final.columns.values"
   ]
  },
  {
   "cell_type": "code",
   "execution_count": null,
   "metadata": {},
   "outputs": [],
   "source": [
    "#len(df_3_final)"
   ]
  },
  {
   "cell_type": "code",
   "execution_count": null,
   "metadata": {},
   "outputs": [],
   "source": [
    "'''plt.ylim(0,80)\n",
    "plt.plot(df_3_final['Generation No.'], df_3_final['Accumulated Reward'])\n",
    "plt.ylabel('Accumulated Reward')\n",
    "plt.xlabel('Generations')\n",
    "#plt.savefig('Evolution - Detective - Mean Accumulated Reward by Generations.png')\n",
    "\n",
    "plt.show()'''"
   ]
  },
  {
   "cell_type": "code",
   "execution_count": null,
   "metadata": {},
   "outputs": [],
   "source": [
    "'''#plt.ylim(0,80)\n",
    "plt.plot(df_3_final['Generation No.'], df_3_final['Reward to Game Agent'])\n",
    "plt.ylabel('Reward to Game Agent')\n",
    "plt.xlabel('Generations')\n",
    "#plt.savefig('Evolution - Detective - Mean Agent Accumulated Reward by Generations.png')\n",
    "\n",
    "plt.show()'''"
   ]
  },
  {
   "cell_type": "code",
   "execution_count": null,
   "metadata": {},
   "outputs": [],
   "source": [
    "'''#plt.ylim(0,80)\n",
    "plt.plot(df_3_final['Generation No.'], df_3_final['Game Reward'])\n",
    "plt.ylabel('Game Reward')\n",
    "plt.xlabel('Generations')\n",
    "#plt.savefig('Evolution - Detective - Mean Agent Accumulated Reward by Generations.png')\n",
    "\n",
    "plt.show()'''"
   ]
  },
  {
   "cell_type": "markdown",
   "metadata": {},
   "source": [
    "## RUN 4 "
   ]
  },
  {
   "cell_type": "code",
   "execution_count": 20,
   "metadata": {},
   "outputs": [],
   "source": [
    "with open('./finalruns/run_4/track_scores_omniquest_pop50gen500_220818.pkl', 'rb') as i:\n",
    "    x4 = pickle.load(i)"
   ]
  },
  {
   "cell_type": "code",
   "execution_count": 21,
   "metadata": {},
   "outputs": [],
   "source": [
    "df_4 = pd.DataFrame(x4, columns=['State','Population no.','Generation No.','Action','Agent Reward','Game Reward','Score'])"
   ]
  },
  {
   "cell_type": "code",
   "execution_count": 22,
   "metadata": {
    "scrolled": true
   },
   "outputs": [
    {
     "data": {
      "text/html": [
       "<div>\n",
       "<style scoped>\n",
       "    .dataframe tbody tr th:only-of-type {\n",
       "        vertical-align: middle;\n",
       "    }\n",
       "\n",
       "    .dataframe tbody tr th {\n",
       "        vertical-align: top;\n",
       "    }\n",
       "\n",
       "    .dataframe thead th {\n",
       "        text-align: right;\n",
       "    }\n",
       "</style>\n",
       "<table border=\"1\" class=\"dataframe\">\n",
       "  <thead>\n",
       "    <tr style=\"text-align: right;\">\n",
       "      <th></th>\n",
       "      <th>State</th>\n",
       "      <th>Population no.</th>\n",
       "      <th>Generation No.</th>\n",
       "      <th>Action</th>\n",
       "      <th>Agent Reward</th>\n",
       "      <th>Game Reward</th>\n",
       "      <th>Score</th>\n",
       "    </tr>\n",
       "  </thead>\n",
       "  <tbody>\n",
       "    <tr>\n",
       "      <th>0</th>\n",
       "      <td>SD Large Clearing ***MORE*** Large Clearing 0...</td>\n",
       "      <td>0</td>\n",
       "      <td>0</td>\n",
       "      <td>get all</td>\n",
       "      <td>0.0</td>\n",
       "      <td>0</td>\n",
       "      <td>0</td>\n",
       "    </tr>\n",
       "    <tr>\n",
       "      <th>1</th>\n",
       "      <td>. Large Clearing You are standing in a large c...</td>\n",
       "      <td>1</td>\n",
       "      <td>0</td>\n",
       "      <td>look</td>\n",
       "      <td>0.0</td>\n",
       "      <td>0</td>\n",
       "      <td>0</td>\n",
       "    </tr>\n",
       "    <tr>\n",
       "      <th>2</th>\n",
       "      <td>. You are carrying nothing.</td>\n",
       "      <td>2</td>\n",
       "      <td>0</td>\n",
       "      <td>inventory</td>\n",
       "      <td>0.0</td>\n",
       "      <td>0</td>\n",
       "      <td>0</td>\n",
       "    </tr>\n",
       "    <tr>\n",
       "      <th>3</th>\n",
       "      <td>. Large Clearing You are standing in a large c...</td>\n",
       "      <td>3</td>\n",
       "      <td>0</td>\n",
       "      <td>look</td>\n",
       "      <td>0.0</td>\n",
       "      <td>0</td>\n",
       "      <td>0</td>\n",
       "    </tr>\n",
       "    <tr>\n",
       "      <th>4</th>\n",
       "      <td>. tree: That's fixed in place. path: You don't...</td>\n",
       "      <td>4</td>\n",
       "      <td>0</td>\n",
       "      <td>get all</td>\n",
       "      <td>0.0</td>\n",
       "      <td>0</td>\n",
       "      <td>0</td>\n",
       "    </tr>\n",
       "  </tbody>\n",
       "</table>\n",
       "</div>"
      ],
      "text/plain": [
       "                                               State  Population no.  \\\n",
       "0   SD Large Clearing ***MORE*** Large Clearing 0...               0   \n",
       "1  . Large Clearing You are standing in a large c...               1   \n",
       "2                       . You are carrying nothing.                2   \n",
       "3  . Large Clearing You are standing in a large c...               3   \n",
       "4  . tree: That's fixed in place. path: You don't...               4   \n",
       "\n",
       "   Generation No.     Action  Agent Reward  Game Reward  Score  \n",
       "0               0    get all           0.0            0      0  \n",
       "1               0       look           0.0            0      0  \n",
       "2               0  inventory           0.0            0      0  \n",
       "3               0       look           0.0            0      0  \n",
       "4               0    get all           0.0            0      0  "
      ]
     },
     "execution_count": 22,
     "metadata": {},
     "output_type": "execute_result"
    }
   ],
   "source": [
    "df_4[:5]"
   ]
  },
  {
   "cell_type": "code",
   "execution_count": 23,
   "metadata": {},
   "outputs": [
    {
     "data": {
      "text/plain": [
       "150"
      ]
     },
     "execution_count": 23,
     "metadata": {},
     "output_type": "execute_result"
    }
   ],
   "source": [
    "# check how many generations did it finish?\n",
    "df_4['Generation No.'].nunique()"
   ]
  },
  {
   "cell_type": "markdown",
   "metadata": {},
   "source": [
    "## RUN 5 "
   ]
  },
  {
   "cell_type": "code",
   "execution_count": 24,
   "metadata": {},
   "outputs": [],
   "source": [
    "with open('./finalruns/run_5/track_scores_omniquest_pop50gen500_220818.pkl', 'rb') as i:\n",
    "    x5 = pickle.load(i)"
   ]
  },
  {
   "cell_type": "code",
   "execution_count": 25,
   "metadata": {},
   "outputs": [],
   "source": [
    "df_5 = pd.DataFrame(x5, columns=['State','Population no.','Generation No.','Action','Agent Reward','Game Reward','Score'])"
   ]
  },
  {
   "cell_type": "code",
   "execution_count": 26,
   "metadata": {
    "scrolled": true
   },
   "outputs": [
    {
     "data": {
      "text/html": [
       "<div>\n",
       "<style scoped>\n",
       "    .dataframe tbody tr th:only-of-type {\n",
       "        vertical-align: middle;\n",
       "    }\n",
       "\n",
       "    .dataframe tbody tr th {\n",
       "        vertical-align: top;\n",
       "    }\n",
       "\n",
       "    .dataframe thead th {\n",
       "        text-align: right;\n",
       "    }\n",
       "</style>\n",
       "<table border=\"1\" class=\"dataframe\">\n",
       "  <thead>\n",
       "    <tr style=\"text-align: right;\">\n",
       "      <th></th>\n",
       "      <th>State</th>\n",
       "      <th>Population no.</th>\n",
       "      <th>Generation No.</th>\n",
       "      <th>Action</th>\n",
       "      <th>Agent Reward</th>\n",
       "      <th>Game Reward</th>\n",
       "      <th>Score</th>\n",
       "    </tr>\n",
       "  </thead>\n",
       "  <tbody>\n",
       "    <tr>\n",
       "      <th>0</th>\n",
       "      <td>. You are standing in a large clearing surroun...</td>\n",
       "      <td>0</td>\n",
       "      <td>0</td>\n",
       "      <td>get all</td>\n",
       "      <td>0.0</td>\n",
       "      <td>0</td>\n",
       "      <td>0</td>\n",
       "    </tr>\n",
       "    <tr>\n",
       "      <th>1</th>\n",
       "      <td>. Large Clearing You are standing in a large c...</td>\n",
       "      <td>1</td>\n",
       "      <td>0</td>\n",
       "      <td>look</td>\n",
       "      <td>0.0</td>\n",
       "      <td>0</td>\n",
       "      <td>0</td>\n",
       "    </tr>\n",
       "    <tr>\n",
       "      <th>2</th>\n",
       "      <td>. You are carrying nothing.</td>\n",
       "      <td>2</td>\n",
       "      <td>0</td>\n",
       "      <td>inventory</td>\n",
       "      <td>0.0</td>\n",
       "      <td>0</td>\n",
       "      <td>0</td>\n",
       "    </tr>\n",
       "    <tr>\n",
       "      <th>3</th>\n",
       "      <td>. Large Clearing You are standing in a large c...</td>\n",
       "      <td>3</td>\n",
       "      <td>0</td>\n",
       "      <td>look</td>\n",
       "      <td>0.0</td>\n",
       "      <td>0</td>\n",
       "      <td>0</td>\n",
       "    </tr>\n",
       "    <tr>\n",
       "      <th>4</th>\n",
       "      <td>. tree: That's fixed in place. path: You don't...</td>\n",
       "      <td>4</td>\n",
       "      <td>0</td>\n",
       "      <td>get all</td>\n",
       "      <td>0.0</td>\n",
       "      <td>0</td>\n",
       "      <td>0</td>\n",
       "    </tr>\n",
       "  </tbody>\n",
       "</table>\n",
       "</div>"
      ],
      "text/plain": [
       "                                               State  Population no.  \\\n",
       "0  . You are standing in a large clearing surroun...               0   \n",
       "1  . Large Clearing You are standing in a large c...               1   \n",
       "2                       . You are carrying nothing.                2   \n",
       "3  . Large Clearing You are standing in a large c...               3   \n",
       "4  . tree: That's fixed in place. path: You don't...               4   \n",
       "\n",
       "   Generation No.     Action  Agent Reward  Game Reward  Score  \n",
       "0               0    get all           0.0            0      0  \n",
       "1               0       look           0.0            0      0  \n",
       "2               0  inventory           0.0            0      0  \n",
       "3               0       look           0.0            0      0  \n",
       "4               0    get all           0.0            0      0  "
      ]
     },
     "execution_count": 26,
     "metadata": {},
     "output_type": "execute_result"
    }
   ],
   "source": [
    "df_5[:5]"
   ]
  },
  {
   "cell_type": "code",
   "execution_count": 27,
   "metadata": {},
   "outputs": [
    {
     "data": {
      "text/plain": [
       "500"
      ]
     },
     "execution_count": 27,
     "metadata": {},
     "output_type": "execute_result"
    }
   ],
   "source": [
    "# check how many generations did it finish?\n",
    "df_5['Generation No.'].nunique()"
   ]
  },
  {
   "cell_type": "code",
   "execution_count": 35,
   "metadata": {},
   "outputs": [],
   "source": [
    "# try group by generation no and get mean\n",
    "#df_5_final = df_5.groupby('Generation No.',as_index=False).agg({'Reward to Game Agent' : 'max','Game Reward' : 'max','Accumulated Reward' : 'max'})"
   ]
  },
  {
   "cell_type": "code",
   "execution_count": 36,
   "metadata": {},
   "outputs": [],
   "source": [
    "## Create another column which says what type of data is this\n",
    "#df_5_final['Type'] = 'Run_5'"
   ]
  },
  {
   "cell_type": "code",
   "execution_count": 37,
   "metadata": {},
   "outputs": [],
   "source": [
    "#df_5_final[:5]"
   ]
  },
  {
   "cell_type": "code",
   "execution_count": 38,
   "metadata": {},
   "outputs": [],
   "source": [
    "#df_5_final.columns.values"
   ]
  },
  {
   "cell_type": "code",
   "execution_count": null,
   "metadata": {},
   "outputs": [],
   "source": [
    "#len(df_5_final)"
   ]
  },
  {
   "cell_type": "code",
   "execution_count": null,
   "metadata": {},
   "outputs": [],
   "source": [
    "'''plt.ylim(0,80)\n",
    "plt.plot(df_5_final['Generation No.'], df_5_final['Accumulated Reward'])\n",
    "plt.ylabel('Accumulated Reward')\n",
    "plt.xlabel('Generations')\n",
    "#plt.savefig('Evolution - Detective - Mean Accumulated Reward by Generations.png')\n",
    "\n",
    "plt.show()'''"
   ]
  },
  {
   "cell_type": "code",
   "execution_count": null,
   "metadata": {},
   "outputs": [],
   "source": [
    "'''#plt.ylim(0,80)\n",
    "plt.plot(df_5_final['Generation No.'], df_5_final['Reward to Game Agent'])\n",
    "plt.ylabel('Reward to Game Agent')\n",
    "plt.xlabel('Generations')\n",
    "#plt.savefig('Evolution - Detective - Mean Agent Accumulated Reward by Generations.png')\n",
    "\n",
    "plt.show()'''"
   ]
  },
  {
   "cell_type": "code",
   "execution_count": null,
   "metadata": {},
   "outputs": [],
   "source": [
    "'''#plt.ylim(0,80)\n",
    "plt.plot(df_5_final['Generation No.'], df_5_final['Game Reward'])\n",
    "plt.ylabel('Game Reward')\n",
    "plt.xlabel('Generations')\n",
    "#plt.savefig('Evolution - Detective - Mean Agent Accumulated Reward by Generations.png')\n",
    "\n",
    "plt.show()'''"
   ]
  },
  {
   "cell_type": "markdown",
   "metadata": {},
   "source": [
    "# USE BELOW FOR STATISTICS"
   ]
  },
  {
   "cell_type": "code",
   "execution_count": 28,
   "metadata": {},
   "outputs": [],
   "source": [
    "dfs_ci = [df_1, df_2,df_3,df_4,df_5]"
   ]
  },
  {
   "cell_type": "code",
   "execution_count": 29,
   "metadata": {},
   "outputs": [],
   "source": [
    "df_merged_ci= pd.concat(dfs_ci, ignore_index=True)"
   ]
  },
  {
   "cell_type": "code",
   "execution_count": 30,
   "metadata": {},
   "outputs": [
    {
     "data": {
      "text/html": [
       "<div>\n",
       "<style scoped>\n",
       "    .dataframe tbody tr th:only-of-type {\n",
       "        vertical-align: middle;\n",
       "    }\n",
       "\n",
       "    .dataframe tbody tr th {\n",
       "        vertical-align: top;\n",
       "    }\n",
       "\n",
       "    .dataframe thead th {\n",
       "        text-align: right;\n",
       "    }\n",
       "</style>\n",
       "<table border=\"1\" class=\"dataframe\">\n",
       "  <thead>\n",
       "    <tr style=\"text-align: right;\">\n",
       "      <th></th>\n",
       "      <th>State</th>\n",
       "      <th>Population no.</th>\n",
       "      <th>Generation No.</th>\n",
       "      <th>Action</th>\n",
       "      <th>Agent Reward</th>\n",
       "      <th>Game Reward</th>\n",
       "      <th>Score</th>\n",
       "    </tr>\n",
       "  </thead>\n",
       "  <tbody>\n",
       "    <tr>\n",
       "      <th>0</th>\n",
       "      <td>SD Large Clearing ***MORE*** Large Clearing 0...</td>\n",
       "      <td>0</td>\n",
       "      <td>0</td>\n",
       "      <td>get all</td>\n",
       "      <td>0.0</td>\n",
       "      <td>0</td>\n",
       "      <td>0</td>\n",
       "    </tr>\n",
       "    <tr>\n",
       "      <th>1</th>\n",
       "      <td>. Large Clearing You are standing in a large c...</td>\n",
       "      <td>1</td>\n",
       "      <td>0</td>\n",
       "      <td>look</td>\n",
       "      <td>0.0</td>\n",
       "      <td>0</td>\n",
       "      <td>0</td>\n",
       "    </tr>\n",
       "    <tr>\n",
       "      <th>2</th>\n",
       "      <td>. You are carrying nothing.</td>\n",
       "      <td>2</td>\n",
       "      <td>0</td>\n",
       "      <td>inventory</td>\n",
       "      <td>0.0</td>\n",
       "      <td>0</td>\n",
       "      <td>0</td>\n",
       "    </tr>\n",
       "    <tr>\n",
       "      <th>3</th>\n",
       "      <td>. Large Clearing You are standing in a large c...</td>\n",
       "      <td>3</td>\n",
       "      <td>0</td>\n",
       "      <td>look</td>\n",
       "      <td>0.0</td>\n",
       "      <td>0</td>\n",
       "      <td>0</td>\n",
       "    </tr>\n",
       "    <tr>\n",
       "      <th>4</th>\n",
       "      <td>. tree: That's fixed in place. path: You don't...</td>\n",
       "      <td>4</td>\n",
       "      <td>0</td>\n",
       "      <td>get all</td>\n",
       "      <td>0.0</td>\n",
       "      <td>0</td>\n",
       "      <td>0</td>\n",
       "    </tr>\n",
       "    <tr>\n",
       "      <th>5</th>\n",
       "      <td>. Large Clearing You are standing in a large c...</td>\n",
       "      <td>5</td>\n",
       "      <td>0</td>\n",
       "      <td>look</td>\n",
       "      <td>0.0</td>\n",
       "      <td>0</td>\n",
       "      <td>0</td>\n",
       "    </tr>\n",
       "    <tr>\n",
       "      <th>6</th>\n",
       "      <td>. You are carrying nothing.</td>\n",
       "      <td>6</td>\n",
       "      <td>0</td>\n",
       "      <td>inventory</td>\n",
       "      <td>0.0</td>\n",
       "      <td>0</td>\n",
       "      <td>0</td>\n",
       "    </tr>\n",
       "    <tr>\n",
       "      <th>7</th>\n",
       "      <td>. Large Clearing You are standing in a large c...</td>\n",
       "      <td>7</td>\n",
       "      <td>0</td>\n",
       "      <td>look</td>\n",
       "      <td>0.0</td>\n",
       "      <td>0</td>\n",
       "      <td>0</td>\n",
       "    </tr>\n",
       "    <tr>\n",
       "      <th>8</th>\n",
       "      <td>. I only understood you as far as wanting to g...</td>\n",
       "      <td>8</td>\n",
       "      <td>0</td>\n",
       "      <td>get east above Clearing</td>\n",
       "      <td>0.0</td>\n",
       "      <td>0</td>\n",
       "      <td>0</td>\n",
       "    </tr>\n",
       "    <tr>\n",
       "      <th>9</th>\n",
       "      <td>. Large Clearing You are standing in a large c...</td>\n",
       "      <td>9</td>\n",
       "      <td>0</td>\n",
       "      <td>look</td>\n",
       "      <td>0.0</td>\n",
       "      <td>0</td>\n",
       "      <td>0</td>\n",
       "    </tr>\n",
       "  </tbody>\n",
       "</table>\n",
       "</div>"
      ],
      "text/plain": [
       "                                               State  Population no.  \\\n",
       "0   SD Large Clearing ***MORE*** Large Clearing 0...               0   \n",
       "1  . Large Clearing You are standing in a large c...               1   \n",
       "2                       . You are carrying nothing.                2   \n",
       "3  . Large Clearing You are standing in a large c...               3   \n",
       "4  . tree: That's fixed in place. path: You don't...               4   \n",
       "5  . Large Clearing You are standing in a large c...               5   \n",
       "6                       . You are carrying nothing.                6   \n",
       "7  . Large Clearing You are standing in a large c...               7   \n",
       "8  . I only understood you as far as wanting to g...               8   \n",
       "9  . Large Clearing You are standing in a large c...               9   \n",
       "\n",
       "   Generation No.                   Action  Agent Reward  Game Reward  Score  \n",
       "0               0                  get all           0.0            0      0  \n",
       "1               0                     look           0.0            0      0  \n",
       "2               0                inventory           0.0            0      0  \n",
       "3               0                     look           0.0            0      0  \n",
       "4               0                  get all           0.0            0      0  \n",
       "5               0                     look           0.0            0      0  \n",
       "6               0                inventory           0.0            0      0  \n",
       "7               0                     look           0.0            0      0  \n",
       "8               0  get east above Clearing           0.0            0      0  \n",
       "9               0                     look           0.0            0      0  "
      ]
     },
     "execution_count": 30,
     "metadata": {},
     "output_type": "execute_result"
    }
   ],
   "source": [
    "df_merged_ci[:10]"
   ]
  },
  {
   "cell_type": "code",
   "execution_count": 31,
   "metadata": {},
   "outputs": [
    {
     "data": {
      "text/plain": [
       "State             59 . With a great effort you move the rock. Yo...\n",
       "Population no.                                                   46\n",
       "Generation No.                                                  158\n",
       "Action                                                    move rock\n",
       "Agent Reward                                                      6\n",
       "Game Reward                                                       5\n",
       "Score                                                            10\n",
       "Name: 32946, dtype: object"
      ]
     },
     "execution_count": 31,
     "metadata": {},
     "output_type": "execute_result"
    }
   ],
   "source": [
    "# Max Accumulated Reward\n",
    "df_merged_ci.loc[df_merged_ci['Score'].idxmax()]"
   ]
  },
  {
   "cell_type": "markdown",
   "metadata": {},
   "source": [
    "# Analyzing Results for the runs by neuroagents"
   ]
  },
  {
   "cell_type": "markdown",
   "metadata": {},
   "source": [
    "## plot of accumulated reward by runs - no confidence interval"
   ]
  },
  {
   "cell_type": "code",
   "execution_count": 31,
   "metadata": {},
   "outputs": [
    {
     "data": {
      "text/plain": [
       "'## Without confidence interval\\n\\n# Plot the responses for different events and regions\\nsns_plot = sns.lineplot(x=\"Generation No.\", y=\"Accumulated Reward\",\\n             hue=\"Type\",\\n             data=df_merged).set_title(\"Scores by NeuroAgent - Errorband Plot by Runs\")\\nfig = sns_plot.get_figure()\\nfig.savefig(\\'Scores by NeuroAgent - Errorband Plot by Runs.png\\',bbox_inches=\\'tight\\')\\n#sns_plot.savefig(\"detective_plot_seaborn_neuro.png\",bbox_inches=\\'tight\\')'"
      ]
     },
     "execution_count": 31,
     "metadata": {},
     "output_type": "execute_result"
    }
   ],
   "source": [
    "'''## Without confidence interval\n",
    "\n",
    "# Plot the responses for different events and regions\n",
    "sns_plot = sns.lineplot(x=\"Generation No.\", y=\"Accumulated Reward\",\n",
    "             hue=\"Type\",\n",
    "             data=df_merged).set_title(\"Scores by NeuroAgent - Errorband Plot by Runs\")\n",
    "fig = sns_plot.get_figure()\n",
    "fig.savefig('Scores by NeuroAgent - Errorband Plot by Runs.png',bbox_inches='tight')\n",
    "#sns_plot.savefig(\"detective_plot_seaborn_neuro.png\",bbox_inches='tight')'''"
   ]
  },
  {
   "cell_type": "markdown",
   "metadata": {},
   "source": [
    "# plot of accumulated reward by runs - with confidence interval"
   ]
  },
  {
   "cell_type": "code",
   "execution_count": 32,
   "metadata": {
    "scrolled": false
   },
   "outputs": [
    {
     "data": {
      "image/png": "[encoded data removed]",
      "text/plain": [
       "<Figure size 432x288 with 1 Axes>"
      ]
     },
     "metadata": {},
     "output_type": "display_data"
    }
   ],
   "source": [
    "#sns.set(style=\"darkgrid\")\n",
    "\n",
    "# With confidence interval\n",
    "# Plot the responses for different events and regions\n",
    "sns_plot = sns.lineplot(x=\"Generation No.\", y=\"Score\",\n",
    "             #hue=\"Type\",\n",
    "            ci=99.5,\n",
    "             data=df_merged_ci).set_title(\"omniquest\")\n",
    "fig = sns_plot.get_figure()\n",
    "fig.savefig('Neuroagent- Generation No. vs Score.png',bbox_inches='tight')\n",
    "#sns_plot.savefig(\"detective_plot_seaborn_neuro.png\",bbox_inches='tight')"
   ]
  },
  {
   "cell_type": "markdown",
   "metadata": {},
   "source": [
    "## plot of REWARD TO AGENT by runs - with confidence interval"
   ]
  },
  {
   "cell_type": "code",
   "execution_count": 33,
   "metadata": {},
   "outputs": [
    {
     "data": {
      "image/png": "[encoded data removed]",
      "text/plain": [
       "<Figure size 432x288 with 1 Axes>"
      ]
     },
     "metadata": {},
     "output_type": "display_data"
    }
   ],
   "source": [
    "#sns.set(style=\"darkgrid\")\n",
    "\n",
    "# With confidence interval\n",
    "# Plot the responses for different events and regions\n",
    "sns_plot = sns.lineplot(x=\"Generation No.\", y=\"Agent Reward\",\n",
    "             #hue=\"Type\",\n",
    "            ci=99.5,\n",
    "             data=df_merged_ci).set_title(\"omniquest\")\n",
    "fig = sns_plot.get_figure()\n",
    "fig.savefig('Neuroagent- Generation No. vs Agent Reward.png',bbox_inches='tight')\n",
    "#sns_plot.savefig(\"detective_plot_seaborn_neuro.png\",bbox_inches='tight')"
   ]
  },
  {
   "cell_type": "markdown",
   "metadata": {},
   "source": [
    "# Baseline Result  - We perform 3 runs of the game with baseline agent using settings of 25,000 generations."
   ]
  },
  {
   "cell_type": "code",
   "execution_count": 34,
   "metadata": {},
   "outputs": [],
   "source": [
    "with open('./Baseline/baseline_track_scores_computer_play_220818_run_1_omniquest.pkl', 'rb') as j:\n",
    "    y_1 = pickle.load(j)"
   ]
  },
  {
   "cell_type": "code",
   "execution_count": 35,
   "metadata": {},
   "outputs": [],
   "source": [
    "with open('./Baseline/baseline_track_scores_computer_play_260818_run_2_omniquest.pkl', 'rb') as j:\n",
    "    y_2 = pickle.load(j)"
   ]
  },
  {
   "cell_type": "code",
   "execution_count": 38,
   "metadata": {},
   "outputs": [
    {
     "ename": "IOError",
     "evalue": "[Errno 2] No such file or directory: './Baseline/baseline_track_scores_computer_play_240818_run_4_Balances.pkl'",
     "output_type": "error",
     "traceback": [
      "\u001b[0;31m---------------------------------------------------------------------------\u001b[0m",
      "\u001b[0;31mIOError\u001b[0m                                   Traceback (most recent call last)",
      "\u001b[0;32m<ipython-input-38-f107168da086>\u001b[0m in \u001b[0;36m<module>\u001b[0;34m()\u001b[0m\n\u001b[0;32m----> 1\u001b[0;31m \u001b[0;32mwith\u001b[0m \u001b[0mopen\u001b[0m\u001b[0;34m(\u001b[0m\u001b[0;34m'./Baseline/baseline_track_scores_computer_play_240818_run_4_Balances.pkl'\u001b[0m\u001b[0;34m,\u001b[0m \u001b[0;34m'rb'\u001b[0m\u001b[0;34m)\u001b[0m \u001b[0;32mas\u001b[0m \u001b[0mj\u001b[0m\u001b[0;34m:\u001b[0m\u001b[0;34m\u001b[0m\u001b[0m\n\u001b[0m\u001b[1;32m      2\u001b[0m     \u001b[0my_4\u001b[0m \u001b[0;34m=\u001b[0m \u001b[0mpickle\u001b[0m\u001b[0;34m.\u001b[0m\u001b[0mload\u001b[0m\u001b[0;34m(\u001b[0m\u001b[0mj\u001b[0m\u001b[0;34m)\u001b[0m\u001b[0;34m\u001b[0m\u001b[0m\n",
      "\u001b[0;31mIOError\u001b[0m: [Errno 2] No such file or directory: './Baseline/baseline_track_scores_computer_play_240818_run_4_Balances.pkl'"
     ]
    }
   ],
   "source": [
    "with open('./Baseline/baseline_track_scores_computer_play_240818_run_4_Balances.pkl', 'rb') as j:\n",
    "    y_4 = pickle.load(j)"
   ]
  },
  {
   "cell_type": "code",
   "execution_count": 39,
   "metadata": {},
   "outputs": [
    {
     "ename": "IOError",
     "evalue": "[Errno 2] No such file or directory: './Baseline/baseline_track_scores_computer_play_240818_run_5_Balances.pkl'",
     "output_type": "error",
     "traceback": [
      "\u001b[0;31m---------------------------------------------------------------------------\u001b[0m",
      "\u001b[0;31mIOError\u001b[0m                                   Traceback (most recent call last)",
      "\u001b[0;32m<ipython-input-39-f6691b67a1b5>\u001b[0m in \u001b[0;36m<module>\u001b[0;34m()\u001b[0m\n\u001b[0;32m----> 1\u001b[0;31m \u001b[0;32mwith\u001b[0m \u001b[0mopen\u001b[0m\u001b[0;34m(\u001b[0m\u001b[0;34m'./Baseline/baseline_track_scores_computer_play_240818_run_5_Balances.pkl'\u001b[0m\u001b[0;34m,\u001b[0m \u001b[0;34m'rb'\u001b[0m\u001b[0;34m)\u001b[0m \u001b[0;32mas\u001b[0m \u001b[0mj\u001b[0m\u001b[0;34m:\u001b[0m\u001b[0;34m\u001b[0m\u001b[0m\n\u001b[0m\u001b[1;32m      2\u001b[0m     \u001b[0my_5\u001b[0m \u001b[0;34m=\u001b[0m \u001b[0mpickle\u001b[0m\u001b[0;34m.\u001b[0m\u001b[0mload\u001b[0m\u001b[0;34m(\u001b[0m\u001b[0mj\u001b[0m\u001b[0;34m)\u001b[0m\u001b[0;34m\u001b[0m\u001b[0m\n",
      "\u001b[0;31mIOError\u001b[0m: [Errno 2] No such file or directory: './Baseline/baseline_track_scores_computer_play_240818_run_5_Balances.pkl'"
     ]
    }
   ],
   "source": [
    "with open('./Baseline/baseline_track_scores_computer_play_240818_run_5_Balances.pkl', 'rb') as j:\n",
    "    y_5 = pickle.load(j)"
   ]
  },
  {
   "cell_type": "code",
   "execution_count": 40,
   "metadata": {
    "scrolled": true
   },
   "outputs": [
    {
     "data": {
      "text/plain": [
       "[(0, '', 'get all', 0, 0),\n",
       " (1,\n",
       "  ' SD Large Clearing ***MORE*** Large Clearing 0/1 . You are standing in a large clearing surrounded by a dense forest. There is a path to the east. You can see a tree here. Large Clearing 0/1 . You have so far scored 0 out of a possible 50, in 1 turn, which gives you the rank of brain-dead adventurer. Large Clearing 0/2 . Large Clearing You are standing in a large clearing surrounded by a dense forest. There is a path to the east. You can see a tree here. ',\n",
       "  'look',\n",
       "  0,\n",
       "  0)]"
      ]
     },
     "execution_count": 40,
     "metadata": {},
     "output_type": "execute_result"
    }
   ],
   "source": [
    "y_1[:2]"
   ]
  },
  {
   "cell_type": "code",
   "execution_count": 36,
   "metadata": {},
   "outputs": [],
   "source": [
    "columns=['Counter','Game State','Action','Game Reward','Score']"
   ]
  },
  {
   "cell_type": "code",
   "execution_count": 37,
   "metadata": {},
   "outputs": [],
   "source": [
    "df_baseline_run_1 = pd.DataFrame(y_1, columns=columns)"
   ]
  },
  {
   "cell_type": "code",
   "execution_count": 38,
   "metadata": {},
   "outputs": [],
   "source": [
    "## Create another column which says what type of data is this\n",
    "#df_baseline_run_1['Type'] = 'Baseline_Run_1'"
   ]
  },
  {
   "cell_type": "code",
   "execution_count": 39,
   "metadata": {},
   "outputs": [
    {
     "data": {
      "text/plain": [
       "2"
      ]
     },
     "execution_count": 39,
     "metadata": {},
     "output_type": "execute_result"
    }
   ],
   "source": [
    "# check how many generations did it finish.\n",
    "df_baseline_run_1['Game Reward'].nunique()"
   ]
  },
  {
   "cell_type": "code",
   "execution_count": 40,
   "metadata": {},
   "outputs": [
    {
     "data": {
      "text/html": [
       "<div>\n",
       "<style scoped>\n",
       "    .dataframe tbody tr th:only-of-type {\n",
       "        vertical-align: middle;\n",
       "    }\n",
       "\n",
       "    .dataframe tbody tr th {\n",
       "        vertical-align: top;\n",
       "    }\n",
       "\n",
       "    .dataframe thead th {\n",
       "        text-align: right;\n",
       "    }\n",
       "</style>\n",
       "<table border=\"1\" class=\"dataframe\">\n",
       "  <thead>\n",
       "    <tr style=\"text-align: right;\">\n",
       "      <th></th>\n",
       "      <th>Counter</th>\n",
       "      <th>Game State</th>\n",
       "      <th>Action</th>\n",
       "      <th>Game Reward</th>\n",
       "      <th>Score</th>\n",
       "    </tr>\n",
       "  </thead>\n",
       "  <tbody>\n",
       "  </tbody>\n",
       "</table>\n",
       "</div>"
      ],
      "text/plain": [
       "Empty DataFrame\n",
       "Columns: [Counter, Game State, Action, Game Reward, Score]\n",
       "Index: []"
      ]
     },
     "execution_count": 40,
     "metadata": {},
     "output_type": "execute_result"
    }
   ],
   "source": [
    "df_baseline_run_1.loc[df_baseline_run_1['Game Reward'] == -40]"
   ]
  },
  {
   "cell_type": "code",
   "execution_count": 39,
   "metadata": {
    "scrolled": true
   },
   "outputs": [
    {
     "data": {
      "text/plain": [
       "\"058 . You don't need to worry about the path. \""
      ]
     },
     "execution_count": 39,
     "metadata": {},
     "output_type": "execute_result"
    }
   ],
   "source": [
    "df_baseline_run_1.loc[20770]['Game State']"
   ]
  },
  {
   "cell_type": "code",
   "execution_count": 40,
   "metadata": {},
   "outputs": [
    {
     "data": {
      "image/png": "[encoded data removed]",
      "text/plain": [
       "<Figure size 432x288 with 1 Axes>"
      ]
     },
     "metadata": {},
     "output_type": "display_data"
    }
   ],
   "source": [
    "plt.ylim(0,80)\n",
    "plt.plot(df_baseline_run_1['Counter'],df_baseline_run_1['Score'])\n",
    "plt.ylabel('Score')\n",
    "plt.xlabel('Counter')\n",
    "#plt.savefig('Evolution - Detective - Mean Accumulated Reward by Generations.png')\n",
    "plt.show()"
   ]
  },
  {
   "cell_type": "code",
   "execution_count": 41,
   "metadata": {},
   "outputs": [],
   "source": [
    "df_baseline_run_2 = pd.DataFrame(y_2, columns=columns)"
   ]
  },
  {
   "cell_type": "code",
   "execution_count": 42,
   "metadata": {},
   "outputs": [],
   "source": [
    "## Create another column which says what type of data is this\n",
    "#df_baseline_run_2['Type'] = 'Baseline_Run_2'"
   ]
  },
  {
   "cell_type": "code",
   "execution_count": 43,
   "metadata": {},
   "outputs": [
    {
     "data": {
      "text/plain": [
       "2"
      ]
     },
     "execution_count": 43,
     "metadata": {},
     "output_type": "execute_result"
    }
   ],
   "source": [
    "df_baseline_run_2['Game Reward'].nunique()"
   ]
  },
  {
   "cell_type": "code",
   "execution_count": 44,
   "metadata": {},
   "outputs": [
    {
     "data": {
      "text/html": [
       "<div>\n",
       "<style scoped>\n",
       "    .dataframe tbody tr th:only-of-type {\n",
       "        vertical-align: middle;\n",
       "    }\n",
       "\n",
       "    .dataframe tbody tr th {\n",
       "        vertical-align: top;\n",
       "    }\n",
       "\n",
       "    .dataframe thead th {\n",
       "        text-align: right;\n",
       "    }\n",
       "</style>\n",
       "<table border=\"1\" class=\"dataframe\">\n",
       "  <thead>\n",
       "    <tr style=\"text-align: right;\">\n",
       "      <th></th>\n",
       "      <th>Counter</th>\n",
       "      <th>Game State</th>\n",
       "      <th>Action</th>\n",
       "      <th>Game Reward</th>\n",
       "      <th>Score</th>\n",
       "    </tr>\n",
       "  </thead>\n",
       "  <tbody>\n",
       "  </tbody>\n",
       "</table>\n",
       "</div>"
      ],
      "text/plain": [
       "Empty DataFrame\n",
       "Columns: [Counter, Game State, Action, Game Reward, Score]\n",
       "Index: []"
      ]
     },
     "execution_count": 44,
     "metadata": {},
     "output_type": "execute_result"
    }
   ],
   "source": [
    "df_baseline_run_2.loc[df_baseline_run_2['Game Reward'] == 20]"
   ]
  },
  {
   "cell_type": "code",
   "execution_count": 45,
   "metadata": {},
   "outputs": [
    {
     "data": {
      "text/plain": [
       "\"16 . You don't need to worry about the large clearing. \""
      ]
     },
     "execution_count": 45,
     "metadata": {},
     "output_type": "execute_result"
    }
   ],
   "source": [
    "df_baseline_run_2.loc[2814]['Game State']"
   ]
  },
  {
   "cell_type": "code",
   "execution_count": 46,
   "metadata": {},
   "outputs": [
    {
     "data": {
      "image/png": "[encoded data removed]",
      "text/plain": [
       "<Figure size 432x288 with 1 Axes>"
      ]
     },
     "metadata": {},
     "output_type": "display_data"
    }
   ],
   "source": [
    "#plt.ylim(0,80)\n",
    "plt.plot(df_baseline_run_2['Counter'],df_baseline_run_2['Score'])\n",
    "plt.ylabel('Accumulated Reward')\n",
    "plt.xlabel('Counter')\n",
    "#plt.savefig('Evolution - Detective - Mean Accumulated Reward by Generations.png')\n",
    "plt.show()"
   ]
  },
  {
   "cell_type": "code",
   "execution_count": null,
   "metadata": {},
   "outputs": [],
   "source": []
  },
  {
   "cell_type": "code",
   "execution_count": null,
   "metadata": {},
   "outputs": [],
   "source": []
  },
  {
   "cell_type": "code",
   "execution_count": null,
   "metadata": {},
   "outputs": [],
   "source": []
  },
  {
   "cell_type": "code",
   "execution_count": null,
   "metadata": {},
   "outputs": [],
   "source": []
  },
  {
   "cell_type": "code",
   "execution_count": 55,
   "metadata": {},
   "outputs": [],
   "source": [
    "df_baseline_run_4 = pd.DataFrame(y_4, columns=columns)"
   ]
  },
  {
   "cell_type": "code",
   "execution_count": null,
   "metadata": {},
   "outputs": [],
   "source": [
    "## Create another column which says what type of data is this\n",
    "#df_baseline_run_3['Type'] = 'Baseline_Run_3'"
   ]
  },
  {
   "cell_type": "code",
   "execution_count": 56,
   "metadata": {},
   "outputs": [
    {
     "data": {
      "text/plain": [
       "2"
      ]
     },
     "execution_count": 56,
     "metadata": {},
     "output_type": "execute_result"
    }
   ],
   "source": [
    "df_baseline_run_4['Game Reward'].nunique()"
   ]
  },
  {
   "cell_type": "code",
   "execution_count": 57,
   "metadata": {},
   "outputs": [],
   "source": [
    "df_baseline_run_5 = pd.DataFrame(y_5, columns=columns)"
   ]
  },
  {
   "cell_type": "code",
   "execution_count": null,
   "metadata": {},
   "outputs": [],
   "source": []
  },
  {
   "cell_type": "code",
   "execution_count": null,
   "metadata": {},
   "outputs": [],
   "source": [
    "#plt.ylim(0,80)\n",
    "plt.plot(df_baseline_run_3['Counter'],df_baseline_run_3['Score'])\n",
    "plt.ylabel('Accumulated Reward')\n",
    "plt.xlabel('Counter')\n",
    "#plt.savefig('Evolution - Detective - Mean Accumulated Reward by Generations.png')\n",
    "plt.show()"
   ]
  },
  {
   "cell_type": "code",
   "execution_count": null,
   "metadata": {},
   "outputs": [],
   "source": [
    "df_baseline_run_3.loc[df_baseline_run_3['Game Reward'] == -30]"
   ]
  },
  {
   "cell_type": "code",
   "execution_count": null,
   "metadata": {},
   "outputs": [],
   "source": [
    "df_baseline_run_3.loc[2618]['Game State']"
   ]
  },
  {
   "cell_type": "code",
   "execution_count": null,
   "metadata": {},
   "outputs": [],
   "source": []
  },
  {
   "cell_type": "code",
   "execution_count": null,
   "metadata": {},
   "outputs": [],
   "source": []
  },
  {
   "cell_type": "code",
   "execution_count": null,
   "metadata": {},
   "outputs": [],
   "source": []
  },
  {
   "cell_type": "code",
   "execution_count": 51,
   "metadata": {},
   "outputs": [
    {
     "data": {
      "text/plain": [
       "25000"
      ]
     },
     "execution_count": 51,
     "metadata": {},
     "output_type": "execute_result"
    }
   ],
   "source": [
    "len(df_baseline_run_1)"
   ]
  },
  {
   "cell_type": "code",
   "execution_count": 59,
   "metadata": {},
   "outputs": [
    {
     "data": {
      "text/plain": [
       "25000"
      ]
     },
     "execution_count": 59,
     "metadata": {},
     "output_type": "execute_result"
    }
   ],
   "source": [
    "len(df_baseline_run_2)"
   ]
  },
  {
   "cell_type": "code",
   "execution_count": 61,
   "metadata": {},
   "outputs": [
    {
     "data": {
      "text/plain": [
       "25000"
      ]
     },
     "execution_count": 61,
     "metadata": {},
     "output_type": "execute_result"
    }
   ],
   "source": [
    "len(df_baseline_run_4)"
   ]
  },
  {
   "cell_type": "code",
   "execution_count": 62,
   "metadata": {},
   "outputs": [
    {
     "data": {
      "text/plain": [
       "25000"
      ]
     },
     "execution_count": 62,
     "metadata": {},
     "output_type": "execute_result"
    }
   ],
   "source": [
    "len(df_baseline_run_5)"
   ]
  },
  {
   "cell_type": "code",
   "execution_count": null,
   "metadata": {},
   "outputs": [],
   "source": [
    "df_baseline_run_1[:3]"
   ]
  },
  {
   "cell_type": "markdown",
   "metadata": {},
   "source": [
    "# Merge all results for baseline agent runs"
   ]
  },
  {
   "cell_type": "code",
   "execution_count": 47,
   "metadata": {},
   "outputs": [],
   "source": [
    "#dfs_baseline = [df_baseline_run_1,df_baseline_run_2,df_baseline_run_4,df_baseline_run_5]\n",
    "dfs_baseline = [df_baseline_run_1,df_baseline_run_2]"
   ]
  },
  {
   "cell_type": "code",
   "execution_count": 48,
   "metadata": {},
   "outputs": [],
   "source": [
    "df_baseline_merged = pd.concat(dfs_baseline, ignore_index=True)"
   ]
  },
  {
   "cell_type": "code",
   "execution_count": 49,
   "metadata": {},
   "outputs": [
    {
     "data": {
      "text/plain": [
       "50000"
      ]
     },
     "execution_count": 49,
     "metadata": {},
     "output_type": "execute_result"
    }
   ],
   "source": [
    "len(df_baseline_merged)"
   ]
  },
  {
   "cell_type": "code",
   "execution_count": 50,
   "metadata": {},
   "outputs": [
    {
     "data": {
      "text/html": [
       "<div>\n",
       "<style scoped>\n",
       "    .dataframe tbody tr th:only-of-type {\n",
       "        vertical-align: middle;\n",
       "    }\n",
       "\n",
       "    .dataframe tbody tr th {\n",
       "        vertical-align: top;\n",
       "    }\n",
       "\n",
       "    .dataframe thead th {\n",
       "        text-align: right;\n",
       "    }\n",
       "</style>\n",
       "<table border=\"1\" class=\"dataframe\">\n",
       "  <thead>\n",
       "    <tr style=\"text-align: right;\">\n",
       "      <th></th>\n",
       "      <th>Counter</th>\n",
       "      <th>Game State</th>\n",
       "      <th>Action</th>\n",
       "      <th>Game Reward</th>\n",
       "      <th>Score</th>\n",
       "    </tr>\n",
       "  </thead>\n",
       "  <tbody>\n",
       "    <tr>\n",
       "      <th>0</th>\n",
       "      <td>0</td>\n",
       "      <td></td>\n",
       "      <td>get all</td>\n",
       "      <td>0</td>\n",
       "      <td>0</td>\n",
       "    </tr>\n",
       "    <tr>\n",
       "      <th>1</th>\n",
       "      <td>1</td>\n",
       "      <td>SD Large Clearing ***MORE*** Large Clearing 0...</td>\n",
       "      <td>look</td>\n",
       "      <td>0</td>\n",
       "      <td>0</td>\n",
       "    </tr>\n",
       "    <tr>\n",
       "      <th>2</th>\n",
       "      <td>2</td>\n",
       "      <td>. You are carrying nothing.</td>\n",
       "      <td>inventory</td>\n",
       "      <td>0</td>\n",
       "      <td>0</td>\n",
       "    </tr>\n",
       "    <tr>\n",
       "      <th>3</th>\n",
       "      <td>3</td>\n",
       "      <td>. Large Clearing You are standing in a large c...</td>\n",
       "      <td>look</td>\n",
       "      <td>0</td>\n",
       "      <td>0</td>\n",
       "    </tr>\n",
       "    <tr>\n",
       "      <th>4</th>\n",
       "      <td>4</td>\n",
       "      <td>. tree: That's fixed in place. path: You don't...</td>\n",
       "      <td>get all</td>\n",
       "      <td>0</td>\n",
       "      <td>0</td>\n",
       "    </tr>\n",
       "  </tbody>\n",
       "</table>\n",
       "</div>"
      ],
      "text/plain": [
       "   Counter                                         Game State     Action  \\\n",
       "0        0                                                       get all   \n",
       "1        1   SD Large Clearing ***MORE*** Large Clearing 0...       look   \n",
       "2        2                       . You are carrying nothing.   inventory   \n",
       "3        3  . Large Clearing You are standing in a large c...       look   \n",
       "4        4  . tree: That's fixed in place. path: You don't...    get all   \n",
       "\n",
       "   Game Reward  Score  \n",
       "0            0      0  \n",
       "1            0      0  \n",
       "2            0      0  \n",
       "3            0      0  \n",
       "4            0      0  "
      ]
     },
     "execution_count": 50,
     "metadata": {},
     "output_type": "execute_result"
    }
   ],
   "source": [
    "df_baseline_merged[:5]"
   ]
  },
  {
   "cell_type": "code",
   "execution_count": 51,
   "metadata": {},
   "outputs": [
    {
     "data": {
      "text/plain": [
       "Counter                                                      110\n",
       "Game State     0 . There is a snorkel hanging from the tree. ...\n",
       "Action                                                climb tree\n",
       "Game Reward                                                    5\n",
       "Score                                                          5\n",
       "Name: 110, dtype: object"
      ]
     },
     "execution_count": 51,
     "metadata": {},
     "output_type": "execute_result"
    }
   ],
   "source": [
    "df_baseline_merged.loc[df_baseline_merged['Score'].idxmax()]"
   ]
  },
  {
   "cell_type": "markdown",
   "metadata": {},
   "source": [
    "## DONT USE"
   ]
  },
  {
   "cell_type": "code",
   "execution_count": null,
   "metadata": {},
   "outputs": [],
   "source": [
    "# try group by generation no and get max\n",
    "#df_baseline_merged_final = df_baseline_merged.groupby('Counter',as_index=False).agg({'Game Reward' : 'max','Accumulated Reward' : 'max'})"
   ]
  },
  {
   "cell_type": "code",
   "execution_count": null,
   "metadata": {},
   "outputs": [],
   "source": [
    "len(df_baseline_merged_final)"
   ]
  },
  {
   "cell_type": "code",
   "execution_count": null,
   "metadata": {},
   "outputs": [],
   "source": [
    "df_baseline_merged_final[:11]"
   ]
  },
  {
   "cell_type": "code",
   "execution_count": null,
   "metadata": {},
   "outputs": [],
   "source": [
    "df_baseline_merged_final.loc[df_baseline_merged_final['Counter']==986]"
   ]
  },
  {
   "cell_type": "markdown",
   "metadata": {},
   "source": [
    "# USE THIS "
   ]
  },
  {
   "cell_type": "code",
   "execution_count": null,
   "metadata": {},
   "outputs": [],
   "source": [
    "# new column to group by intervals of 50\n",
    "#df_baseline_merged_final['Generation No.'] = df_baseline_merged_final['Counter'] // 50"
   ]
  },
  {
   "cell_type": "code",
   "execution_count": 52,
   "metadata": {},
   "outputs": [],
   "source": [
    "df_baseline_merged['Generation No.'] = df_baseline_merged['Counter'] // 50"
   ]
  },
  {
   "cell_type": "code",
   "execution_count": 53,
   "metadata": {},
   "outputs": [
    {
     "data": {
      "text/html": [
       "<div>\n",
       "<style scoped>\n",
       "    .dataframe tbody tr th:only-of-type {\n",
       "        vertical-align: middle;\n",
       "    }\n",
       "\n",
       "    .dataframe tbody tr th {\n",
       "        vertical-align: top;\n",
       "    }\n",
       "\n",
       "    .dataframe thead th {\n",
       "        text-align: right;\n",
       "    }\n",
       "</style>\n",
       "<table border=\"1\" class=\"dataframe\">\n",
       "  <thead>\n",
       "    <tr style=\"text-align: right;\">\n",
       "      <th></th>\n",
       "      <th>Counter</th>\n",
       "      <th>Game State</th>\n",
       "      <th>Action</th>\n",
       "      <th>Game Reward</th>\n",
       "      <th>Score</th>\n",
       "      <th>Generation No.</th>\n",
       "    </tr>\n",
       "  </thead>\n",
       "  <tbody>\n",
       "    <tr>\n",
       "      <th>0</th>\n",
       "      <td>0</td>\n",
       "      <td></td>\n",
       "      <td>get all</td>\n",
       "      <td>0</td>\n",
       "      <td>0</td>\n",
       "      <td>0</td>\n",
       "    </tr>\n",
       "    <tr>\n",
       "      <th>1</th>\n",
       "      <td>1</td>\n",
       "      <td>SD Large Clearing ***MORE*** Large Clearing 0...</td>\n",
       "      <td>look</td>\n",
       "      <td>0</td>\n",
       "      <td>0</td>\n",
       "      <td>0</td>\n",
       "    </tr>\n",
       "    <tr>\n",
       "      <th>2</th>\n",
       "      <td>2</td>\n",
       "      <td>. You are carrying nothing.</td>\n",
       "      <td>inventory</td>\n",
       "      <td>0</td>\n",
       "      <td>0</td>\n",
       "      <td>0</td>\n",
       "    </tr>\n",
       "  </tbody>\n",
       "</table>\n",
       "</div>"
      ],
      "text/plain": [
       "   Counter                                         Game State     Action  \\\n",
       "0        0                                                       get all   \n",
       "1        1   SD Large Clearing ***MORE*** Large Clearing 0...       look   \n",
       "2        2                       . You are carrying nothing.   inventory   \n",
       "\n",
       "   Game Reward  Score  Generation No.  \n",
       "0            0      0               0  \n",
       "1            0      0               0  \n",
       "2            0      0               0  "
      ]
     },
     "execution_count": 53,
     "metadata": {},
     "output_type": "execute_result"
    }
   ],
   "source": [
    "df_baseline_merged[:3]"
   ]
  },
  {
   "cell_type": "code",
   "execution_count": null,
   "metadata": {},
   "outputs": [],
   "source": []
  },
  {
   "cell_type": "code",
   "execution_count": null,
   "metadata": {},
   "outputs": [],
   "source": []
  },
  {
   "cell_type": "markdown",
   "metadata": {},
   "source": [
    "# DONT USE THIS"
   ]
  },
  {
   "cell_type": "code",
   "execution_count": null,
   "metadata": {},
   "outputs": [],
   "source": [
    "# try group by generation no and get max\n",
    "df_baseline_merged_final_final = df_baseline_merged_final.groupby('Generation No.',as_index=False).agg({'Game Reward' : 'max','Accumulated Reward' : 'max'})"
   ]
  },
  {
   "cell_type": "code",
   "execution_count": null,
   "metadata": {},
   "outputs": [],
   "source": [
    "df_baseline_merged_final_final[:30]"
   ]
  },
  {
   "cell_type": "code",
   "execution_count": null,
   "metadata": {},
   "outputs": [],
   "source": [
    "len(df_baseline_merged_final_final)"
   ]
  },
  {
   "cell_type": "markdown",
   "metadata": {},
   "source": [
    "## Plot scores for baseline agents"
   ]
  },
  {
   "cell_type": "code",
   "execution_count": 54,
   "metadata": {},
   "outputs": [
    {
     "data": {
      "image/png": "[encoded data removed]",
      "text/plain": [
       "<Figure size 432x288 with 1 Axes>"
      ]
     },
     "metadata": {},
     "output_type": "display_data"
    }
   ],
   "source": [
    "#sns.set(style=\"darkgrid\")\n",
    "\n",
    "# With confidence interval\n",
    "# Plot the responses for different events and regions\n",
    "sns_plot = sns.lineplot(x=\"Generation No.\", y=\"Score\",\n",
    "             #hue=\"Type\",\n",
    "            ci=99.5,\n",
    "             data=df_baseline_merged).set_title(\"omniquest\")\n",
    "fig = sns_plot.get_figure()\n",
    "fig.savefig('Baseline- Generation No. vs Score.png',bbox_inches='tight')\n",
    "#sns_plot.savefig(\"detective_plot_seaborn_neuro.png\",bbox_inches='tight')"
   ]
  },
  {
   "cell_type": "code",
   "execution_count": 55,
   "metadata": {},
   "outputs": [
    {
     "data": {
      "image/png": "[encoded data removed]",
      "text/plain": [
       "<Figure size 432x288 with 1 Axes>"
      ]
     },
     "metadata": {},
     "output_type": "display_data"
    }
   ],
   "source": [
    "#sns.set(style=\"darkgrid\")\n",
    "\n",
    "# With confidence interval\n",
    "# Plot the responses for different events and regions\n",
    "sns_plot = sns.lineplot(x=\"Generation No.\", y=\"Game Reward\",\n",
    "             #hue=\"Type\",\n",
    "            ci=99.5,\n",
    "             data=df_baseline_merged).set_title(\"omniquest\")\n",
    "fig = sns_plot.get_figure()\n",
    "fig.savefig('Baseline- Generation No. vs Game Reward.png',bbox_inches='tight')\n",
    "#sns_plot.savefig(\"detective_plot_seaborn_neuro.png\",bbox_inches='tight')"
   ]
  },
  {
   "cell_type": "markdown",
   "metadata": {},
   "source": [
    "# Compare scores to baselines and neuro evolution"
   ]
  },
  {
   "cell_type": "code",
   "execution_count": 56,
   "metadata": {},
   "outputs": [
    {
     "data": {
      "text/html": [
       "<div>\n",
       "<style scoped>\n",
       "    .dataframe tbody tr th:only-of-type {\n",
       "        vertical-align: middle;\n",
       "    }\n",
       "\n",
       "    .dataframe tbody tr th {\n",
       "        vertical-align: top;\n",
       "    }\n",
       "\n",
       "    .dataframe thead th {\n",
       "        text-align: right;\n",
       "    }\n",
       "</style>\n",
       "<table border=\"1\" class=\"dataframe\">\n",
       "  <thead>\n",
       "    <tr style=\"text-align: right;\">\n",
       "      <th></th>\n",
       "      <th>State</th>\n",
       "      <th>Population no.</th>\n",
       "      <th>Generation No.</th>\n",
       "      <th>Action</th>\n",
       "      <th>Agent Reward</th>\n",
       "      <th>Game Reward</th>\n",
       "      <th>Score</th>\n",
       "    </tr>\n",
       "  </thead>\n",
       "  <tbody>\n",
       "    <tr>\n",
       "      <th>0</th>\n",
       "      <td>SD Large Clearing ***MORE*** Large Clearing 0...</td>\n",
       "      <td>0</td>\n",
       "      <td>0</td>\n",
       "      <td>get all</td>\n",
       "      <td>0.0</td>\n",
       "      <td>0</td>\n",
       "      <td>0</td>\n",
       "    </tr>\n",
       "    <tr>\n",
       "      <th>1</th>\n",
       "      <td>. Large Clearing You are standing in a large c...</td>\n",
       "      <td>1</td>\n",
       "      <td>0</td>\n",
       "      <td>look</td>\n",
       "      <td>0.0</td>\n",
       "      <td>0</td>\n",
       "      <td>0</td>\n",
       "    </tr>\n",
       "    <tr>\n",
       "      <th>2</th>\n",
       "      <td>. You are carrying nothing.</td>\n",
       "      <td>2</td>\n",
       "      <td>0</td>\n",
       "      <td>inventory</td>\n",
       "      <td>0.0</td>\n",
       "      <td>0</td>\n",
       "      <td>0</td>\n",
       "    </tr>\n",
       "    <tr>\n",
       "      <th>3</th>\n",
       "      <td>. Large Clearing You are standing in a large c...</td>\n",
       "      <td>3</td>\n",
       "      <td>0</td>\n",
       "      <td>look</td>\n",
       "      <td>0.0</td>\n",
       "      <td>0</td>\n",
       "      <td>0</td>\n",
       "    </tr>\n",
       "    <tr>\n",
       "      <th>4</th>\n",
       "      <td>. tree: That's fixed in place. path: You don't...</td>\n",
       "      <td>4</td>\n",
       "      <td>0</td>\n",
       "      <td>get all</td>\n",
       "      <td>0.0</td>\n",
       "      <td>0</td>\n",
       "      <td>0</td>\n",
       "    </tr>\n",
       "  </tbody>\n",
       "</table>\n",
       "</div>"
      ],
      "text/plain": [
       "                                               State  Population no.  \\\n",
       "0   SD Large Clearing ***MORE*** Large Clearing 0...               0   \n",
       "1  . Large Clearing You are standing in a large c...               1   \n",
       "2                       . You are carrying nothing.                2   \n",
       "3  . Large Clearing You are standing in a large c...               3   \n",
       "4  . tree: That's fixed in place. path: You don't...               4   \n",
       "\n",
       "   Generation No.     Action  Agent Reward  Game Reward  Score  \n",
       "0               0    get all           0.0            0      0  \n",
       "1               0       look           0.0            0      0  \n",
       "2               0  inventory           0.0            0      0  \n",
       "3               0       look           0.0            0      0  \n",
       "4               0    get all           0.0            0      0  "
      ]
     },
     "execution_count": 56,
     "metadata": {},
     "output_type": "execute_result"
    }
   ],
   "source": [
    "df_merged_ci[:5]"
   ]
  },
  {
   "cell_type": "code",
   "execution_count": 57,
   "metadata": {},
   "outputs": [
    {
     "data": {
      "text/plain": [
       "100000"
      ]
     },
     "execution_count": 57,
     "metadata": {},
     "output_type": "execute_result"
    }
   ],
   "source": [
    "len(df_merged_ci)"
   ]
  },
  {
   "cell_type": "code",
   "execution_count": 58,
   "metadata": {},
   "outputs": [
    {
     "data": {
      "text/html": [
       "<div>\n",
       "<style scoped>\n",
       "    .dataframe tbody tr th:only-of-type {\n",
       "        vertical-align: middle;\n",
       "    }\n",
       "\n",
       "    .dataframe tbody tr th {\n",
       "        vertical-align: top;\n",
       "    }\n",
       "\n",
       "    .dataframe thead th {\n",
       "        text-align: right;\n",
       "    }\n",
       "</style>\n",
       "<table border=\"1\" class=\"dataframe\">\n",
       "  <thead>\n",
       "    <tr style=\"text-align: right;\">\n",
       "      <th></th>\n",
       "      <th>Counter</th>\n",
       "      <th>Game State</th>\n",
       "      <th>Action</th>\n",
       "      <th>Game Reward</th>\n",
       "      <th>Score</th>\n",
       "      <th>Generation No.</th>\n",
       "    </tr>\n",
       "  </thead>\n",
       "  <tbody>\n",
       "    <tr>\n",
       "      <th>0</th>\n",
       "      <td>0</td>\n",
       "      <td></td>\n",
       "      <td>get all</td>\n",
       "      <td>0</td>\n",
       "      <td>0</td>\n",
       "      <td>0</td>\n",
       "    </tr>\n",
       "    <tr>\n",
       "      <th>1</th>\n",
       "      <td>1</td>\n",
       "      <td>SD Large Clearing ***MORE*** Large Clearing 0...</td>\n",
       "      <td>look</td>\n",
       "      <td>0</td>\n",
       "      <td>0</td>\n",
       "      <td>0</td>\n",
       "    </tr>\n",
       "    <tr>\n",
       "      <th>2</th>\n",
       "      <td>2</td>\n",
       "      <td>. You are carrying nothing.</td>\n",
       "      <td>inventory</td>\n",
       "      <td>0</td>\n",
       "      <td>0</td>\n",
       "      <td>0</td>\n",
       "    </tr>\n",
       "    <tr>\n",
       "      <th>3</th>\n",
       "      <td>3</td>\n",
       "      <td>. Large Clearing You are standing in a large c...</td>\n",
       "      <td>look</td>\n",
       "      <td>0</td>\n",
       "      <td>0</td>\n",
       "      <td>0</td>\n",
       "    </tr>\n",
       "    <tr>\n",
       "      <th>4</th>\n",
       "      <td>4</td>\n",
       "      <td>. tree: That's fixed in place. path: You don't...</td>\n",
       "      <td>get all</td>\n",
       "      <td>0</td>\n",
       "      <td>0</td>\n",
       "      <td>0</td>\n",
       "    </tr>\n",
       "  </tbody>\n",
       "</table>\n",
       "</div>"
      ],
      "text/plain": [
       "   Counter                                         Game State     Action  \\\n",
       "0        0                                                       get all   \n",
       "1        1   SD Large Clearing ***MORE*** Large Clearing 0...       look   \n",
       "2        2                       . You are carrying nothing.   inventory   \n",
       "3        3  . Large Clearing You are standing in a large c...       look   \n",
       "4        4  . tree: That's fixed in place. path: You don't...    get all   \n",
       "\n",
       "   Game Reward  Score  Generation No.  \n",
       "0            0      0               0  \n",
       "1            0      0               0  \n",
       "2            0      0               0  \n",
       "3            0      0               0  \n",
       "4            0      0               0  "
      ]
     },
     "execution_count": 58,
     "metadata": {},
     "output_type": "execute_result"
    }
   ],
   "source": [
    "df_baseline_merged[:5]"
   ]
  },
  {
   "cell_type": "code",
   "execution_count": 59,
   "metadata": {},
   "outputs": [
    {
     "data": {
      "text/plain": [
       "50000"
      ]
     },
     "execution_count": 59,
     "metadata": {},
     "output_type": "execute_result"
    }
   ],
   "source": [
    "len(df_baseline_merged)"
   ]
  },
  {
   "cell_type": "markdown",
   "metadata": {},
   "source": [
    "# add type to baselines merged"
   ]
  },
  {
   "cell_type": "code",
   "execution_count": 60,
   "metadata": {},
   "outputs": [],
   "source": [
    "## Create another column which says what type of data is this\n",
    "df_baseline_merged['Type'] = 'Baseline'"
   ]
  },
  {
   "cell_type": "code",
   "execution_count": 61,
   "metadata": {},
   "outputs": [
    {
     "data": {
      "text/html": [
       "<div>\n",
       "<style scoped>\n",
       "    .dataframe tbody tr th:only-of-type {\n",
       "        vertical-align: middle;\n",
       "    }\n",
       "\n",
       "    .dataframe tbody tr th {\n",
       "        vertical-align: top;\n",
       "    }\n",
       "\n",
       "    .dataframe thead th {\n",
       "        text-align: right;\n",
       "    }\n",
       "</style>\n",
       "<table border=\"1\" class=\"dataframe\">\n",
       "  <thead>\n",
       "    <tr style=\"text-align: right;\">\n",
       "      <th></th>\n",
       "      <th>Counter</th>\n",
       "      <th>Game State</th>\n",
       "      <th>Action</th>\n",
       "      <th>Game Reward</th>\n",
       "      <th>Score</th>\n",
       "      <th>Generation No.</th>\n",
       "      <th>Type</th>\n",
       "    </tr>\n",
       "  </thead>\n",
       "  <tbody>\n",
       "    <tr>\n",
       "      <th>0</th>\n",
       "      <td>0</td>\n",
       "      <td></td>\n",
       "      <td>get all</td>\n",
       "      <td>0</td>\n",
       "      <td>0</td>\n",
       "      <td>0</td>\n",
       "      <td>Baseline</td>\n",
       "    </tr>\n",
       "    <tr>\n",
       "      <th>1</th>\n",
       "      <td>1</td>\n",
       "      <td>SD Large Clearing ***MORE*** Large Clearing 0...</td>\n",
       "      <td>look</td>\n",
       "      <td>0</td>\n",
       "      <td>0</td>\n",
       "      <td>0</td>\n",
       "      <td>Baseline</td>\n",
       "    </tr>\n",
       "    <tr>\n",
       "      <th>2</th>\n",
       "      <td>2</td>\n",
       "      <td>. You are carrying nothing.</td>\n",
       "      <td>inventory</td>\n",
       "      <td>0</td>\n",
       "      <td>0</td>\n",
       "      <td>0</td>\n",
       "      <td>Baseline</td>\n",
       "    </tr>\n",
       "    <tr>\n",
       "      <th>3</th>\n",
       "      <td>3</td>\n",
       "      <td>. Large Clearing You are standing in a large c...</td>\n",
       "      <td>look</td>\n",
       "      <td>0</td>\n",
       "      <td>0</td>\n",
       "      <td>0</td>\n",
       "      <td>Baseline</td>\n",
       "    </tr>\n",
       "    <tr>\n",
       "      <th>4</th>\n",
       "      <td>4</td>\n",
       "      <td>. tree: That's fixed in place. path: You don't...</td>\n",
       "      <td>get all</td>\n",
       "      <td>0</td>\n",
       "      <td>0</td>\n",
       "      <td>0</td>\n",
       "      <td>Baseline</td>\n",
       "    </tr>\n",
       "  </tbody>\n",
       "</table>\n",
       "</div>"
      ],
      "text/plain": [
       "   Counter                                         Game State     Action  \\\n",
       "0        0                                                       get all   \n",
       "1        1   SD Large Clearing ***MORE*** Large Clearing 0...       look   \n",
       "2        2                       . You are carrying nothing.   inventory   \n",
       "3        3  . Large Clearing You are standing in a large c...       look   \n",
       "4        4  . tree: That's fixed in place. path: You don't...    get all   \n",
       "\n",
       "   Game Reward  Score  Generation No.      Type  \n",
       "0            0      0               0  Baseline  \n",
       "1            0      0               0  Baseline  \n",
       "2            0      0               0  Baseline  \n",
       "3            0      0               0  Baseline  \n",
       "4            0      0               0  Baseline  "
      ]
     },
     "execution_count": 61,
     "metadata": {},
     "output_type": "execute_result"
    }
   ],
   "source": [
    "df_baseline_merged[:5]"
   ]
  },
  {
   "cell_type": "code",
   "execution_count": 62,
   "metadata": {},
   "outputs": [],
   "source": [
    "df_merged_ci['Type'] = 'Neuroagent'"
   ]
  },
  {
   "cell_type": "code",
   "execution_count": 63,
   "metadata": {},
   "outputs": [
    {
     "data": {
      "text/html": [
       "<div>\n",
       "<style scoped>\n",
       "    .dataframe tbody tr th:only-of-type {\n",
       "        vertical-align: middle;\n",
       "    }\n",
       "\n",
       "    .dataframe tbody tr th {\n",
       "        vertical-align: top;\n",
       "    }\n",
       "\n",
       "    .dataframe thead th {\n",
       "        text-align: right;\n",
       "    }\n",
       "</style>\n",
       "<table border=\"1\" class=\"dataframe\">\n",
       "  <thead>\n",
       "    <tr style=\"text-align: right;\">\n",
       "      <th></th>\n",
       "      <th>State</th>\n",
       "      <th>Population no.</th>\n",
       "      <th>Generation No.</th>\n",
       "      <th>Action</th>\n",
       "      <th>Agent Reward</th>\n",
       "      <th>Game Reward</th>\n",
       "      <th>Score</th>\n",
       "      <th>Type</th>\n",
       "    </tr>\n",
       "  </thead>\n",
       "  <tbody>\n",
       "    <tr>\n",
       "      <th>0</th>\n",
       "      <td>SD Large Clearing ***MORE*** Large Clearing 0...</td>\n",
       "      <td>0</td>\n",
       "      <td>0</td>\n",
       "      <td>get all</td>\n",
       "      <td>0.0</td>\n",
       "      <td>0</td>\n",
       "      <td>0</td>\n",
       "      <td>Neuroagent</td>\n",
       "    </tr>\n",
       "    <tr>\n",
       "      <th>1</th>\n",
       "      <td>. Large Clearing You are standing in a large c...</td>\n",
       "      <td>1</td>\n",
       "      <td>0</td>\n",
       "      <td>look</td>\n",
       "      <td>0.0</td>\n",
       "      <td>0</td>\n",
       "      <td>0</td>\n",
       "      <td>Neuroagent</td>\n",
       "    </tr>\n",
       "    <tr>\n",
       "      <th>2</th>\n",
       "      <td>. You are carrying nothing.</td>\n",
       "      <td>2</td>\n",
       "      <td>0</td>\n",
       "      <td>inventory</td>\n",
       "      <td>0.0</td>\n",
       "      <td>0</td>\n",
       "      <td>0</td>\n",
       "      <td>Neuroagent</td>\n",
       "    </tr>\n",
       "    <tr>\n",
       "      <th>3</th>\n",
       "      <td>. Large Clearing You are standing in a large c...</td>\n",
       "      <td>3</td>\n",
       "      <td>0</td>\n",
       "      <td>look</td>\n",
       "      <td>0.0</td>\n",
       "      <td>0</td>\n",
       "      <td>0</td>\n",
       "      <td>Neuroagent</td>\n",
       "    </tr>\n",
       "    <tr>\n",
       "      <th>4</th>\n",
       "      <td>. tree: That's fixed in place. path: You don't...</td>\n",
       "      <td>4</td>\n",
       "      <td>0</td>\n",
       "      <td>get all</td>\n",
       "      <td>0.0</td>\n",
       "      <td>0</td>\n",
       "      <td>0</td>\n",
       "      <td>Neuroagent</td>\n",
       "    </tr>\n",
       "  </tbody>\n",
       "</table>\n",
       "</div>"
      ],
      "text/plain": [
       "                                               State  Population no.  \\\n",
       "0   SD Large Clearing ***MORE*** Large Clearing 0...               0   \n",
       "1  . Large Clearing You are standing in a large c...               1   \n",
       "2                       . You are carrying nothing.                2   \n",
       "3  . Large Clearing You are standing in a large c...               3   \n",
       "4  . tree: That's fixed in place. path: You don't...               4   \n",
       "\n",
       "   Generation No.     Action  Agent Reward  Game Reward  Score        Type  \n",
       "0               0    get all           0.0            0      0  Neuroagent  \n",
       "1               0       look           0.0            0      0  Neuroagent  \n",
       "2               0  inventory           0.0            0      0  Neuroagent  \n",
       "3               0       look           0.0            0      0  Neuroagent  \n",
       "4               0    get all           0.0            0      0  Neuroagent  "
      ]
     },
     "execution_count": 63,
     "metadata": {},
     "output_type": "execute_result"
    }
   ],
   "source": [
    "df_merged_ci[:5]"
   ]
  },
  {
   "cell_type": "markdown",
   "metadata": {},
   "source": [
    "# merging both baseline and neuro agent results"
   ]
  },
  {
   "cell_type": "code",
   "execution_count": 64,
   "metadata": {},
   "outputs": [
    {
     "name": "stderr",
     "output_type": "stream",
     "text": [
      "/home/mrmad/anaconda3/envs/ori_autoplay/lib/python2.7/site-packages/ipykernel_launcher.py:2: FutureWarning: Sorting because non-concatenation axis is not aligned. A future version\n",
      "of pandas will change to not sort by default.\n",
      "\n",
      "To accept the future behavior, pass 'sort=False'.\n",
      "\n",
      "To retain the current behavior and silence the warning, pass 'sort=True'.\n",
      "\n",
      "  \n"
     ]
    }
   ],
   "source": [
    "#df_combined_merged = pd.concat([df_merged, df_baseline_merged_final_final]).fillna(0)\n",
    "df_combined_merged = pd.concat([df_merged_ci, df_baseline_merged])"
   ]
  },
  {
   "cell_type": "code",
   "execution_count": 65,
   "metadata": {},
   "outputs": [
    {
     "data": {
      "text/plain": [
       "150000"
      ]
     },
     "execution_count": 65,
     "metadata": {},
     "output_type": "execute_result"
    }
   ],
   "source": [
    "len(df_combined_merged)"
   ]
  },
  {
   "cell_type": "code",
   "execution_count": 66,
   "metadata": {},
   "outputs": [
    {
     "data": {
      "text/html": [
       "<div>\n",
       "<style scoped>\n",
       "    .dataframe tbody tr th:only-of-type {\n",
       "        vertical-align: middle;\n",
       "    }\n",
       "\n",
       "    .dataframe tbody tr th {\n",
       "        vertical-align: top;\n",
       "    }\n",
       "\n",
       "    .dataframe thead th {\n",
       "        text-align: right;\n",
       "    }\n",
       "</style>\n",
       "<table border=\"1\" class=\"dataframe\">\n",
       "  <thead>\n",
       "    <tr style=\"text-align: right;\">\n",
       "      <th></th>\n",
       "      <th>Action</th>\n",
       "      <th>Agent Reward</th>\n",
       "      <th>Counter</th>\n",
       "      <th>Game Reward</th>\n",
       "      <th>Game State</th>\n",
       "      <th>Generation No.</th>\n",
       "      <th>Population no.</th>\n",
       "      <th>Score</th>\n",
       "      <th>State</th>\n",
       "      <th>Type</th>\n",
       "    </tr>\n",
       "  </thead>\n",
       "  <tbody>\n",
       "    <tr>\n",
       "      <th>0</th>\n",
       "      <td>get all</td>\n",
       "      <td>0.0</td>\n",
       "      <td>NaN</td>\n",
       "      <td>0</td>\n",
       "      <td>NaN</td>\n",
       "      <td>0</td>\n",
       "      <td>0.0</td>\n",
       "      <td>0</td>\n",
       "      <td>SD Large Clearing ***MORE*** Large Clearing 0...</td>\n",
       "      <td>Neuroagent</td>\n",
       "    </tr>\n",
       "    <tr>\n",
       "      <th>1</th>\n",
       "      <td>look</td>\n",
       "      <td>0.0</td>\n",
       "      <td>NaN</td>\n",
       "      <td>0</td>\n",
       "      <td>NaN</td>\n",
       "      <td>0</td>\n",
       "      <td>1.0</td>\n",
       "      <td>0</td>\n",
       "      <td>. Large Clearing You are standing in a large c...</td>\n",
       "      <td>Neuroagent</td>\n",
       "    </tr>\n",
       "    <tr>\n",
       "      <th>2</th>\n",
       "      <td>inventory</td>\n",
       "      <td>0.0</td>\n",
       "      <td>NaN</td>\n",
       "      <td>0</td>\n",
       "      <td>NaN</td>\n",
       "      <td>0</td>\n",
       "      <td>2.0</td>\n",
       "      <td>0</td>\n",
       "      <td>. You are carrying nothing.</td>\n",
       "      <td>Neuroagent</td>\n",
       "    </tr>\n",
       "    <tr>\n",
       "      <th>3</th>\n",
       "      <td>look</td>\n",
       "      <td>0.0</td>\n",
       "      <td>NaN</td>\n",
       "      <td>0</td>\n",
       "      <td>NaN</td>\n",
       "      <td>0</td>\n",
       "      <td>3.0</td>\n",
       "      <td>0</td>\n",
       "      <td>. Large Clearing You are standing in a large c...</td>\n",
       "      <td>Neuroagent</td>\n",
       "    </tr>\n",
       "    <tr>\n",
       "      <th>4</th>\n",
       "      <td>get all</td>\n",
       "      <td>0.0</td>\n",
       "      <td>NaN</td>\n",
       "      <td>0</td>\n",
       "      <td>NaN</td>\n",
       "      <td>0</td>\n",
       "      <td>4.0</td>\n",
       "      <td>0</td>\n",
       "      <td>. tree: That's fixed in place. path: You don't...</td>\n",
       "      <td>Neuroagent</td>\n",
       "    </tr>\n",
       "    <tr>\n",
       "      <th>5</th>\n",
       "      <td>look</td>\n",
       "      <td>0.0</td>\n",
       "      <td>NaN</td>\n",
       "      <td>0</td>\n",
       "      <td>NaN</td>\n",
       "      <td>0</td>\n",
       "      <td>5.0</td>\n",
       "      <td>0</td>\n",
       "      <td>. Large Clearing You are standing in a large c...</td>\n",
       "      <td>Neuroagent</td>\n",
       "    </tr>\n",
       "    <tr>\n",
       "      <th>6</th>\n",
       "      <td>inventory</td>\n",
       "      <td>0.0</td>\n",
       "      <td>NaN</td>\n",
       "      <td>0</td>\n",
       "      <td>NaN</td>\n",
       "      <td>0</td>\n",
       "      <td>6.0</td>\n",
       "      <td>0</td>\n",
       "      <td>. You are carrying nothing.</td>\n",
       "      <td>Neuroagent</td>\n",
       "    </tr>\n",
       "    <tr>\n",
       "      <th>7</th>\n",
       "      <td>look</td>\n",
       "      <td>0.0</td>\n",
       "      <td>NaN</td>\n",
       "      <td>0</td>\n",
       "      <td>NaN</td>\n",
       "      <td>0</td>\n",
       "      <td>7.0</td>\n",
       "      <td>0</td>\n",
       "      <td>. Large Clearing You are standing in a large c...</td>\n",
       "      <td>Neuroagent</td>\n",
       "    </tr>\n",
       "    <tr>\n",
       "      <th>8</th>\n",
       "      <td>get east above Clearing</td>\n",
       "      <td>0.0</td>\n",
       "      <td>NaN</td>\n",
       "      <td>0</td>\n",
       "      <td>NaN</td>\n",
       "      <td>0</td>\n",
       "      <td>8.0</td>\n",
       "      <td>0</td>\n",
       "      <td>. I only understood you as far as wanting to g...</td>\n",
       "      <td>Neuroagent</td>\n",
       "    </tr>\n",
       "    <tr>\n",
       "      <th>9</th>\n",
       "      <td>look</td>\n",
       "      <td>0.0</td>\n",
       "      <td>NaN</td>\n",
       "      <td>0</td>\n",
       "      <td>NaN</td>\n",
       "      <td>0</td>\n",
       "      <td>9.0</td>\n",
       "      <td>0</td>\n",
       "      <td>. Large Clearing You are standing in a large c...</td>\n",
       "      <td>Neuroagent</td>\n",
       "    </tr>\n",
       "  </tbody>\n",
       "</table>\n",
       "</div>"
      ],
      "text/plain": [
       "                    Action  Agent Reward  Counter  Game Reward Game State  \\\n",
       "0                  get all           0.0      NaN            0        NaN   \n",
       "1                     look           0.0      NaN            0        NaN   \n",
       "2                inventory           0.0      NaN            0        NaN   \n",
       "3                     look           0.0      NaN            0        NaN   \n",
       "4                  get all           0.0      NaN            0        NaN   \n",
       "5                     look           0.0      NaN            0        NaN   \n",
       "6                inventory           0.0      NaN            0        NaN   \n",
       "7                     look           0.0      NaN            0        NaN   \n",
       "8  get east above Clearing           0.0      NaN            0        NaN   \n",
       "9                     look           0.0      NaN            0        NaN   \n",
       "\n",
       "   Generation No.  Population no.  Score  \\\n",
       "0               0             0.0      0   \n",
       "1               0             1.0      0   \n",
       "2               0             2.0      0   \n",
       "3               0             3.0      0   \n",
       "4               0             4.0      0   \n",
       "5               0             5.0      0   \n",
       "6               0             6.0      0   \n",
       "7               0             7.0      0   \n",
       "8               0             8.0      0   \n",
       "9               0             9.0      0   \n",
       "\n",
       "                                               State        Type  \n",
       "0   SD Large Clearing ***MORE*** Large Clearing 0...  Neuroagent  \n",
       "1  . Large Clearing You are standing in a large c...  Neuroagent  \n",
       "2                       . You are carrying nothing.   Neuroagent  \n",
       "3  . Large Clearing You are standing in a large c...  Neuroagent  \n",
       "4  . tree: That's fixed in place. path: You don't...  Neuroagent  \n",
       "5  . Large Clearing You are standing in a large c...  Neuroagent  \n",
       "6                       . You are carrying nothing.   Neuroagent  \n",
       "7  . Large Clearing You are standing in a large c...  Neuroagent  \n",
       "8  . I only understood you as far as wanting to g...  Neuroagent  \n",
       "9  . Large Clearing You are standing in a large c...  Neuroagent  "
      ]
     },
     "execution_count": 66,
     "metadata": {},
     "output_type": "execute_result"
    }
   ],
   "source": [
    "df_combined_merged[:10]"
   ]
  },
  {
   "cell_type": "code",
   "execution_count": 67,
   "metadata": {},
   "outputs": [
    {
     "data": {
      "image/png": "[encoded data removed]",
      "text/plain": [
       "<Figure size 432x288 with 1 Axes>"
      ]
     },
     "metadata": {},
     "output_type": "display_data"
    }
   ],
   "source": [
    "#sns.set(style=\"darkgrid\")\n",
    "\n",
    "# With confidence interval\n",
    "# Plot the responses for different events and regions\n",
    "sns_plot = sns.lineplot(x=\"Generation No.\", y=\"Score\",\n",
    "             hue=\"Type\",\n",
    "            ci=99.5,\n",
    "             data=df_combined_merged).set_title(\"omniquest\")\n",
    "fig = sns_plot.get_figure()\n",
    "fig.savefig('Comparison of scores- Generation No. vs Score.png')\n",
    "#sns_plot.savefig(\"detective_plot_seaborn_neuro.png\",bbox_inches='tight')"
   ]
  },
  {
   "cell_type": "code",
   "execution_count": 68,
   "metadata": {},
   "outputs": [
    {
     "data": {
      "image/png": "[encoded data removed]",
      "text/plain": [
       "<Figure size 432x288 with 1 Axes>"
      ]
     },
     "metadata": {},
     "output_type": "display_data"
    }
   ],
   "source": [
    "#sns.set(style=\"darkgrid\")\n",
    "\n",
    "# With confidence interval\n",
    "# Plot the responses for different events and regions\n",
    "sns_plot = sns.lineplot(x=\"Generation No.\", y=\"Game Reward\",\n",
    "             hue=\"Type\",\n",
    "            ci=99.5,\n",
    "             data=df_combined_merged).set_title(\"omniquest\")\n",
    "fig = sns_plot.get_figure()\n",
    "fig.savefig('Comparison of scores- Generation No. vs Game Reward.png')\n",
    "#sns_plot.savefig(\"detective_plot_seaborn_neuro.png\",bbox_inches='tight')"
   ]
  },
  {
   "cell_type": "markdown",
   "metadata": {},
   "source": [
    "## Try grouping by all the scores of the neuro agents"
   ]
  },
  {
   "cell_type": "code",
   "execution_count": null,
   "metadata": {},
   "outputs": [],
   "source": [
    "# try group by generation no and get mean\n",
    "#df_agents_merged = df_merged.groupby('Generation No.',as_index=False).agg({'Game Reward' : 'max','Accumulated Reward' : 'max'})"
   ]
  },
  {
   "cell_type": "code",
   "execution_count": null,
   "metadata": {},
   "outputs": [],
   "source": [
    "#len(df_agents_merged)"
   ]
  },
  {
   "cell_type": "code",
   "execution_count": null,
   "metadata": {},
   "outputs": [],
   "source": [
    "## Create another column which says what type of data is this\n",
    "#df_agents_merged['Type'] = 'SNS'"
   ]
  },
  {
   "cell_type": "code",
   "execution_count": null,
   "metadata": {},
   "outputs": [],
   "source": [
    "#df_agents_merged[:5]"
   ]
  },
  {
   "cell_type": "markdown",
   "metadata": {},
   "source": [
    "# Concate with baseline"
   ]
  },
  {
   "cell_type": "code",
   "execution_count": null,
   "metadata": {},
   "outputs": [],
   "source": [
    "#df_combined_agents_merged = pd.concat([df_agents_merged, df_baseline_merged_final_final])"
   ]
  },
  {
   "cell_type": "code",
   "execution_count": null,
   "metadata": {},
   "outputs": [],
   "source": [
    "#len(df_combined_agents_merged)"
   ]
  },
  {
   "cell_type": "code",
   "execution_count": null,
   "metadata": {},
   "outputs": [],
   "source": [
    "#sns.set(style=\"darkgrid\")\n",
    "\n",
    "## Without confidence interval\n",
    "\n",
    "# Plot the responses for different events and regions\n",
    "#sns_plot = sns.lineplot(x=\"Generation No.\", y=\"Accumulated Reward\",\n",
    "#             hue=\"Type\",\n",
    "#             data=df_combined_agents_merged).set_title(\"Comparison of scores by NeuroAgent and Baseline\")\n",
    "#fig = sns_plot.get_figure()\n",
    "#fig.savefig('Comparison of scores by NeuroAgent and Baseline.png')\n",
    "#sns_plot.savefig(\"detective_plot_seaborn_neuro.png\",bbox_inches='tight')"
   ]
  }
 ],
 "metadata": {
  "kernelspec": {
   "display_name": "Python 2",
   "language": "python",
   "name": "python2"
  },
  "language_info": {
   "codemirror_mode": {
    "name": "ipython",
    "version": 2
   },
   "file_extension": ".py",
   "mimetype": "text/x-python",
   "name": "python",
   "nbconvert_exporter": "python",
   "pygments_lexer": "ipython2",
   "version": "2.7.15"
  }
 },
 "nbformat": 4,
 "nbformat_minor": 2
}
